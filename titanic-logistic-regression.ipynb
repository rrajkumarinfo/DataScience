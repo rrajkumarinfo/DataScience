{
 "cells": [
  {
   "cell_type": "code",
   "execution_count": 1,
   "id": "7035411a",
   "metadata": {
    "_cell_guid": "b1076dfc-b9ad-4769-8c92-a6c4dae69d19",
    "_uuid": "8f2839f25d086af736a60e9eeb907d3b93b6e0e5",
    "execution": {
     "iopub.execute_input": "2021-08-06T20:43:12.279885Z",
     "iopub.status.busy": "2021-08-06T20:43:12.279034Z",
     "iopub.status.idle": "2021-08-06T20:43:12.285069Z",
     "shell.execute_reply": "2021-08-06T20:43:12.284378Z",
     "shell.execute_reply.started": "2021-08-06T20:26:12.557385Z"
    },
    "papermill": {
     "duration": 0.127819,
     "end_time": "2021-08-06T20:43:12.285244",
     "exception": false,
     "start_time": "2021-08-06T20:43:12.157425",
     "status": "completed"
    },
    "tags": []
   },
   "outputs": [
    {
     "name": "stdout",
     "output_type": "stream",
     "text": [
      "/kaggle/input/titanic/train.csv\n",
      "/kaggle/input/titanic/test.csv\n",
      "/kaggle/input/titanic/gender_submission.csv\n"
     ]
    }
   ],
   "source": [
    "# This Python 3 environment comes with many helpful analytics libraries installed\n",
    "# It is defined by the kaggle/python Docker image: https://github.com/kaggle/docker-python\n",
    "# For example, here's several helpful packages to load\n",
    "\n",
    "import numpy as np # linear algebra\n",
    "import pandas as pd # data processing, CSV file I/O (e.g. pd.read_csv)\n",
    "\n",
    "# Input data files are available in the read-only \"../input/\" directory\n",
    "# For example, running this (by clicking run or pressing Shift+Enter) will list all files under the input directory\n",
    "\n",
    "import os\n",
    "for dirname, _, filenames in os.walk('/kaggle/input'):\n",
    "    for filename in filenames:\n",
    "        print(os.path.join(dirname, filename))\n",
    "\n",
    "# You can write up to 20GB to the current directory (/kaggle/working/) that gets preserved as output when you create a version using \"Save & Run All\" \n",
    "# You can also write temporary files to /kaggle/temp/, but they won't be saved outside of the current session"
   ]
  },
  {
   "cell_type": "code",
   "execution_count": 2,
   "id": "975ef11b",
   "metadata": {
    "execution": {
     "iopub.execute_input": "2021-08-06T20:43:12.507624Z",
     "iopub.status.busy": "2021-08-06T20:43:12.506941Z",
     "iopub.status.idle": "2021-08-06T20:43:13.867062Z",
     "shell.execute_reply": "2021-08-06T20:43:13.866345Z",
     "shell.execute_reply.started": "2021-08-06T20:26:12.571091Z"
    },
    "papermill": {
     "duration": 1.47371,
     "end_time": "2021-08-06T20:43:13.867205",
     "exception": false,
     "start_time": "2021-08-06T20:43:12.393495",
     "status": "completed"
    },
    "tags": []
   },
   "outputs": [],
   "source": [
    "import matplotlib.pyplot as plt\n",
    "import seaborn as sns\n",
    "\n",
    "from sklearn.preprocessing import StandardScaler\n",
    "from sklearn.linear_model import LinearRegression, Ridge, Lasso, ElasticNet,LogisticRegression\n",
    "from sklearn.metrics import mean_squared_error,r2_score,mean_absolute_error,accuracy_score, confusion_matrix\n",
    "from scipy.stats import mode\n"
   ]
  },
  {
   "cell_type": "code",
   "execution_count": 3,
   "id": "c9540c78",
   "metadata": {
    "execution": {
     "iopub.execute_input": "2021-08-06T20:43:14.089101Z",
     "iopub.status.busy": "2021-08-06T20:43:14.088335Z",
     "iopub.status.idle": "2021-08-06T20:43:14.126333Z",
     "shell.execute_reply": "2021-08-06T20:43:14.125795Z",
     "shell.execute_reply.started": "2021-08-06T20:26:12.603737Z"
    },
    "papermill": {
     "duration": 0.151837,
     "end_time": "2021-08-06T20:43:14.126492",
     "exception": false,
     "start_time": "2021-08-06T20:43:13.974655",
     "status": "completed"
    },
    "tags": []
   },
   "outputs": [],
   "source": [
    "train=pd.read_csv(\"/kaggle/input/titanic/train.csv\")\n",
    "test=pd.read_csv(\"/kaggle/input/titanic/test.csv\")\n",
    "sample_submission=pd.read_csv(\"/kaggle/input/titanic/gender_submission.csv\")"
   ]
  },
  {
   "cell_type": "code",
   "execution_count": 4,
   "id": "47b4f431",
   "metadata": {
    "execution": {
     "iopub.execute_input": "2021-08-06T20:43:14.351412Z",
     "iopub.status.busy": "2021-08-06T20:43:14.350751Z",
     "iopub.status.idle": "2021-08-06T20:43:14.379578Z",
     "shell.execute_reply": "2021-08-06T20:43:14.379059Z",
     "shell.execute_reply.started": "2021-08-06T20:26:12.675914Z"
    },
    "papermill": {
     "duration": 0.14615,
     "end_time": "2021-08-06T20:43:14.379741",
     "exception": false,
     "start_time": "2021-08-06T20:43:14.233591",
     "status": "completed"
    },
    "tags": []
   },
   "outputs": [
    {
     "data": {
      "text/html": [
       "<div>\n",
       "<style scoped>\n",
       "    .dataframe tbody tr th:only-of-type {\n",
       "        vertical-align: middle;\n",
       "    }\n",
       "\n",
       "    .dataframe tbody tr th {\n",
       "        vertical-align: top;\n",
       "    }\n",
       "\n",
       "    .dataframe thead th {\n",
       "        text-align: right;\n",
       "    }\n",
       "</style>\n",
       "<table border=\"1\" class=\"dataframe\">\n",
       "  <thead>\n",
       "    <tr style=\"text-align: right;\">\n",
       "      <th></th>\n",
       "      <th>PassengerId</th>\n",
       "      <th>Pclass</th>\n",
       "      <th>Name</th>\n",
       "      <th>Sex</th>\n",
       "      <th>Age</th>\n",
       "      <th>SibSp</th>\n",
       "      <th>Parch</th>\n",
       "      <th>Ticket</th>\n",
       "      <th>Fare</th>\n",
       "      <th>Cabin</th>\n",
       "      <th>Embarked</th>\n",
       "    </tr>\n",
       "  </thead>\n",
       "  <tbody>\n",
       "    <tr>\n",
       "      <th>0</th>\n",
       "      <td>892</td>\n",
       "      <td>3</td>\n",
       "      <td>Kelly, Mr. James</td>\n",
       "      <td>male</td>\n",
       "      <td>34.5</td>\n",
       "      <td>0</td>\n",
       "      <td>0</td>\n",
       "      <td>330911</td>\n",
       "      <td>7.8292</td>\n",
       "      <td>NaN</td>\n",
       "      <td>Q</td>\n",
       "    </tr>\n",
       "    <tr>\n",
       "      <th>1</th>\n",
       "      <td>893</td>\n",
       "      <td>3</td>\n",
       "      <td>Wilkes, Mrs. James (Ellen Needs)</td>\n",
       "      <td>female</td>\n",
       "      <td>47.0</td>\n",
       "      <td>1</td>\n",
       "      <td>0</td>\n",
       "      <td>363272</td>\n",
       "      <td>7.0000</td>\n",
       "      <td>NaN</td>\n",
       "      <td>S</td>\n",
       "    </tr>\n",
       "    <tr>\n",
       "      <th>2</th>\n",
       "      <td>894</td>\n",
       "      <td>2</td>\n",
       "      <td>Myles, Mr. Thomas Francis</td>\n",
       "      <td>male</td>\n",
       "      <td>62.0</td>\n",
       "      <td>0</td>\n",
       "      <td>0</td>\n",
       "      <td>240276</td>\n",
       "      <td>9.6875</td>\n",
       "      <td>NaN</td>\n",
       "      <td>Q</td>\n",
       "    </tr>\n",
       "    <tr>\n",
       "      <th>3</th>\n",
       "      <td>895</td>\n",
       "      <td>3</td>\n",
       "      <td>Wirz, Mr. Albert</td>\n",
       "      <td>male</td>\n",
       "      <td>27.0</td>\n",
       "      <td>0</td>\n",
       "      <td>0</td>\n",
       "      <td>315154</td>\n",
       "      <td>8.6625</td>\n",
       "      <td>NaN</td>\n",
       "      <td>S</td>\n",
       "    </tr>\n",
       "    <tr>\n",
       "      <th>4</th>\n",
       "      <td>896</td>\n",
       "      <td>3</td>\n",
       "      <td>Hirvonen, Mrs. Alexander (Helga E Lindqvist)</td>\n",
       "      <td>female</td>\n",
       "      <td>22.0</td>\n",
       "      <td>1</td>\n",
       "      <td>1</td>\n",
       "      <td>3101298</td>\n",
       "      <td>12.2875</td>\n",
       "      <td>NaN</td>\n",
       "      <td>S</td>\n",
       "    </tr>\n",
       "    <tr>\n",
       "      <th>5</th>\n",
       "      <td>897</td>\n",
       "      <td>3</td>\n",
       "      <td>Svensson, Mr. Johan Cervin</td>\n",
       "      <td>male</td>\n",
       "      <td>14.0</td>\n",
       "      <td>0</td>\n",
       "      <td>0</td>\n",
       "      <td>7538</td>\n",
       "      <td>9.2250</td>\n",
       "      <td>NaN</td>\n",
       "      <td>S</td>\n",
       "    </tr>\n",
       "    <tr>\n",
       "      <th>6</th>\n",
       "      <td>898</td>\n",
       "      <td>3</td>\n",
       "      <td>Connolly, Miss. Kate</td>\n",
       "      <td>female</td>\n",
       "      <td>30.0</td>\n",
       "      <td>0</td>\n",
       "      <td>0</td>\n",
       "      <td>330972</td>\n",
       "      <td>7.6292</td>\n",
       "      <td>NaN</td>\n",
       "      <td>Q</td>\n",
       "    </tr>\n",
       "    <tr>\n",
       "      <th>7</th>\n",
       "      <td>899</td>\n",
       "      <td>2</td>\n",
       "      <td>Caldwell, Mr. Albert Francis</td>\n",
       "      <td>male</td>\n",
       "      <td>26.0</td>\n",
       "      <td>1</td>\n",
       "      <td>1</td>\n",
       "      <td>248738</td>\n",
       "      <td>29.0000</td>\n",
       "      <td>NaN</td>\n",
       "      <td>S</td>\n",
       "    </tr>\n",
       "    <tr>\n",
       "      <th>8</th>\n",
       "      <td>900</td>\n",
       "      <td>3</td>\n",
       "      <td>Abrahim, Mrs. Joseph (Sophie Halaut Easu)</td>\n",
       "      <td>female</td>\n",
       "      <td>18.0</td>\n",
       "      <td>0</td>\n",
       "      <td>0</td>\n",
       "      <td>2657</td>\n",
       "      <td>7.2292</td>\n",
       "      <td>NaN</td>\n",
       "      <td>C</td>\n",
       "    </tr>\n",
       "    <tr>\n",
       "      <th>9</th>\n",
       "      <td>901</td>\n",
       "      <td>3</td>\n",
       "      <td>Davies, Mr. John Samuel</td>\n",
       "      <td>male</td>\n",
       "      <td>21.0</td>\n",
       "      <td>2</td>\n",
       "      <td>0</td>\n",
       "      <td>A/4 48871</td>\n",
       "      <td>24.1500</td>\n",
       "      <td>NaN</td>\n",
       "      <td>S</td>\n",
       "    </tr>\n",
       "  </tbody>\n",
       "</table>\n",
       "</div>"
      ],
      "text/plain": [
       "   PassengerId  Pclass                                          Name     Sex  \\\n",
       "0          892       3                              Kelly, Mr. James    male   \n",
       "1          893       3              Wilkes, Mrs. James (Ellen Needs)  female   \n",
       "2          894       2                     Myles, Mr. Thomas Francis    male   \n",
       "3          895       3                              Wirz, Mr. Albert    male   \n",
       "4          896       3  Hirvonen, Mrs. Alexander (Helga E Lindqvist)  female   \n",
       "5          897       3                    Svensson, Mr. Johan Cervin    male   \n",
       "6          898       3                          Connolly, Miss. Kate  female   \n",
       "7          899       2                  Caldwell, Mr. Albert Francis    male   \n",
       "8          900       3     Abrahim, Mrs. Joseph (Sophie Halaut Easu)  female   \n",
       "9          901       3                       Davies, Mr. John Samuel    male   \n",
       "\n",
       "    Age  SibSp  Parch     Ticket     Fare Cabin Embarked  \n",
       "0  34.5      0      0     330911   7.8292   NaN        Q  \n",
       "1  47.0      1      0     363272   7.0000   NaN        S  \n",
       "2  62.0      0      0     240276   9.6875   NaN        Q  \n",
       "3  27.0      0      0     315154   8.6625   NaN        S  \n",
       "4  22.0      1      1    3101298  12.2875   NaN        S  \n",
       "5  14.0      0      0       7538   9.2250   NaN        S  \n",
       "6  30.0      0      0     330972   7.6292   NaN        Q  \n",
       "7  26.0      1      1     248738  29.0000   NaN        S  \n",
       "8  18.0      0      0       2657   7.2292   NaN        C  \n",
       "9  21.0      2      0  A/4 48871  24.1500   NaN        S  "
      ]
     },
     "execution_count": 4,
     "metadata": {},
     "output_type": "execute_result"
    }
   ],
   "source": [
    "test.head(10)"
   ]
  },
  {
   "cell_type": "code",
   "execution_count": 5,
   "id": "f37c88bc",
   "metadata": {
    "execution": {
     "iopub.execute_input": "2021-08-06T20:43:14.614675Z",
     "iopub.status.busy": "2021-08-06T20:43:14.597478Z",
     "iopub.status.idle": "2021-08-06T20:43:14.618995Z",
     "shell.execute_reply": "2021-08-06T20:43:14.618342Z",
     "shell.execute_reply.started": "2021-08-06T20:26:12.708535Z"
    },
    "papermill": {
     "duration": 0.130257,
     "end_time": "2021-08-06T20:43:14.619137",
     "exception": false,
     "start_time": "2021-08-06T20:43:14.488880",
     "status": "completed"
    },
    "tags": []
   },
   "outputs": [
    {
     "data": {
      "text/html": [
       "<div>\n",
       "<style scoped>\n",
       "    .dataframe tbody tr th:only-of-type {\n",
       "        vertical-align: middle;\n",
       "    }\n",
       "\n",
       "    .dataframe tbody tr th {\n",
       "        vertical-align: top;\n",
       "    }\n",
       "\n",
       "    .dataframe thead th {\n",
       "        text-align: right;\n",
       "    }\n",
       "</style>\n",
       "<table border=\"1\" class=\"dataframe\">\n",
       "  <thead>\n",
       "    <tr style=\"text-align: right;\">\n",
       "      <th></th>\n",
       "      <th>PassengerId</th>\n",
       "      <th>Survived</th>\n",
       "      <th>Pclass</th>\n",
       "      <th>Name</th>\n",
       "      <th>Sex</th>\n",
       "      <th>Age</th>\n",
       "      <th>SibSp</th>\n",
       "      <th>Parch</th>\n",
       "      <th>Ticket</th>\n",
       "      <th>Fare</th>\n",
       "      <th>Cabin</th>\n",
       "      <th>Embarked</th>\n",
       "    </tr>\n",
       "  </thead>\n",
       "  <tbody>\n",
       "    <tr>\n",
       "      <th>0</th>\n",
       "      <td>1</td>\n",
       "      <td>0</td>\n",
       "      <td>3</td>\n",
       "      <td>Braund, Mr. Owen Harris</td>\n",
       "      <td>male</td>\n",
       "      <td>22.0</td>\n",
       "      <td>1</td>\n",
       "      <td>0</td>\n",
       "      <td>A/5 21171</td>\n",
       "      <td>7.2500</td>\n",
       "      <td>NaN</td>\n",
       "      <td>S</td>\n",
       "    </tr>\n",
       "    <tr>\n",
       "      <th>1</th>\n",
       "      <td>2</td>\n",
       "      <td>1</td>\n",
       "      <td>1</td>\n",
       "      <td>Cumings, Mrs. John Bradley (Florence Briggs Th...</td>\n",
       "      <td>female</td>\n",
       "      <td>38.0</td>\n",
       "      <td>1</td>\n",
       "      <td>0</td>\n",
       "      <td>PC 17599</td>\n",
       "      <td>71.2833</td>\n",
       "      <td>C85</td>\n",
       "      <td>C</td>\n",
       "    </tr>\n",
       "    <tr>\n",
       "      <th>2</th>\n",
       "      <td>3</td>\n",
       "      <td>1</td>\n",
       "      <td>3</td>\n",
       "      <td>Heikkinen, Miss. Laina</td>\n",
       "      <td>female</td>\n",
       "      <td>26.0</td>\n",
       "      <td>0</td>\n",
       "      <td>0</td>\n",
       "      <td>STON/O2. 3101282</td>\n",
       "      <td>7.9250</td>\n",
       "      <td>NaN</td>\n",
       "      <td>S</td>\n",
       "    </tr>\n",
       "    <tr>\n",
       "      <th>3</th>\n",
       "      <td>4</td>\n",
       "      <td>1</td>\n",
       "      <td>1</td>\n",
       "      <td>Futrelle, Mrs. Jacques Heath (Lily May Peel)</td>\n",
       "      <td>female</td>\n",
       "      <td>35.0</td>\n",
       "      <td>1</td>\n",
       "      <td>0</td>\n",
       "      <td>113803</td>\n",
       "      <td>53.1000</td>\n",
       "      <td>C123</td>\n",
       "      <td>S</td>\n",
       "    </tr>\n",
       "    <tr>\n",
       "      <th>4</th>\n",
       "      <td>5</td>\n",
       "      <td>0</td>\n",
       "      <td>3</td>\n",
       "      <td>Allen, Mr. William Henry</td>\n",
       "      <td>male</td>\n",
       "      <td>35.0</td>\n",
       "      <td>0</td>\n",
       "      <td>0</td>\n",
       "      <td>373450</td>\n",
       "      <td>8.0500</td>\n",
       "      <td>NaN</td>\n",
       "      <td>S</td>\n",
       "    </tr>\n",
       "    <tr>\n",
       "      <th>5</th>\n",
       "      <td>6</td>\n",
       "      <td>0</td>\n",
       "      <td>3</td>\n",
       "      <td>Moran, Mr. James</td>\n",
       "      <td>male</td>\n",
       "      <td>NaN</td>\n",
       "      <td>0</td>\n",
       "      <td>0</td>\n",
       "      <td>330877</td>\n",
       "      <td>8.4583</td>\n",
       "      <td>NaN</td>\n",
       "      <td>Q</td>\n",
       "    </tr>\n",
       "    <tr>\n",
       "      <th>6</th>\n",
       "      <td>7</td>\n",
       "      <td>0</td>\n",
       "      <td>1</td>\n",
       "      <td>McCarthy, Mr. Timothy J</td>\n",
       "      <td>male</td>\n",
       "      <td>54.0</td>\n",
       "      <td>0</td>\n",
       "      <td>0</td>\n",
       "      <td>17463</td>\n",
       "      <td>51.8625</td>\n",
       "      <td>E46</td>\n",
       "      <td>S</td>\n",
       "    </tr>\n",
       "    <tr>\n",
       "      <th>7</th>\n",
       "      <td>8</td>\n",
       "      <td>0</td>\n",
       "      <td>3</td>\n",
       "      <td>Palsson, Master. Gosta Leonard</td>\n",
       "      <td>male</td>\n",
       "      <td>2.0</td>\n",
       "      <td>3</td>\n",
       "      <td>1</td>\n",
       "      <td>349909</td>\n",
       "      <td>21.0750</td>\n",
       "      <td>NaN</td>\n",
       "      <td>S</td>\n",
       "    </tr>\n",
       "    <tr>\n",
       "      <th>8</th>\n",
       "      <td>9</td>\n",
       "      <td>1</td>\n",
       "      <td>3</td>\n",
       "      <td>Johnson, Mrs. Oscar W (Elisabeth Vilhelmina Berg)</td>\n",
       "      <td>female</td>\n",
       "      <td>27.0</td>\n",
       "      <td>0</td>\n",
       "      <td>2</td>\n",
       "      <td>347742</td>\n",
       "      <td>11.1333</td>\n",
       "      <td>NaN</td>\n",
       "      <td>S</td>\n",
       "    </tr>\n",
       "    <tr>\n",
       "      <th>9</th>\n",
       "      <td>10</td>\n",
       "      <td>1</td>\n",
       "      <td>2</td>\n",
       "      <td>Nasser, Mrs. Nicholas (Adele Achem)</td>\n",
       "      <td>female</td>\n",
       "      <td>14.0</td>\n",
       "      <td>1</td>\n",
       "      <td>0</td>\n",
       "      <td>237736</td>\n",
       "      <td>30.0708</td>\n",
       "      <td>NaN</td>\n",
       "      <td>C</td>\n",
       "    </tr>\n",
       "  </tbody>\n",
       "</table>\n",
       "</div>"
      ],
      "text/plain": [
       "   PassengerId  Survived  Pclass  \\\n",
       "0            1         0       3   \n",
       "1            2         1       1   \n",
       "2            3         1       3   \n",
       "3            4         1       1   \n",
       "4            5         0       3   \n",
       "5            6         0       3   \n",
       "6            7         0       1   \n",
       "7            8         0       3   \n",
       "8            9         1       3   \n",
       "9           10         1       2   \n",
       "\n",
       "                                                Name     Sex   Age  SibSp  \\\n",
       "0                            Braund, Mr. Owen Harris    male  22.0      1   \n",
       "1  Cumings, Mrs. John Bradley (Florence Briggs Th...  female  38.0      1   \n",
       "2                             Heikkinen, Miss. Laina  female  26.0      0   \n",
       "3       Futrelle, Mrs. Jacques Heath (Lily May Peel)  female  35.0      1   \n",
       "4                           Allen, Mr. William Henry    male  35.0      0   \n",
       "5                                   Moran, Mr. James    male   NaN      0   \n",
       "6                            McCarthy, Mr. Timothy J    male  54.0      0   \n",
       "7                     Palsson, Master. Gosta Leonard    male   2.0      3   \n",
       "8  Johnson, Mrs. Oscar W (Elisabeth Vilhelmina Berg)  female  27.0      0   \n",
       "9                Nasser, Mrs. Nicholas (Adele Achem)  female  14.0      1   \n",
       "\n",
       "   Parch            Ticket     Fare Cabin Embarked  \n",
       "0      0         A/5 21171   7.2500   NaN        S  \n",
       "1      0          PC 17599  71.2833   C85        C  \n",
       "2      0  STON/O2. 3101282   7.9250   NaN        S  \n",
       "3      0            113803  53.1000  C123        S  \n",
       "4      0            373450   8.0500   NaN        S  \n",
       "5      0            330877   8.4583   NaN        Q  \n",
       "6      0             17463  51.8625   E46        S  \n",
       "7      1            349909  21.0750   NaN        S  \n",
       "8      2            347742  11.1333   NaN        S  \n",
       "9      0            237736  30.0708   NaN        C  "
      ]
     },
     "execution_count": 5,
     "metadata": {},
     "output_type": "execute_result"
    }
   ],
   "source": [
    "train.head(10)"
   ]
  },
  {
   "cell_type": "code",
   "execution_count": 6,
   "id": "a38ecea4",
   "metadata": {
    "execution": {
     "iopub.execute_input": "2021-08-06T20:43:14.840216Z",
     "iopub.status.busy": "2021-08-06T20:43:14.839410Z",
     "iopub.status.idle": "2021-08-06T20:43:14.849860Z",
     "shell.execute_reply": "2021-08-06T20:43:14.850335Z",
     "shell.execute_reply.started": "2021-08-06T20:26:12.745526Z"
    },
    "papermill": {
     "duration": 0.12119,
     "end_time": "2021-08-06T20:43:14.850509",
     "exception": false,
     "start_time": "2021-08-06T20:43:14.729319",
     "status": "completed"
    },
    "tags": []
   },
   "outputs": [
    {
     "data": {
      "text/html": [
       "<div>\n",
       "<style scoped>\n",
       "    .dataframe tbody tr th:only-of-type {\n",
       "        vertical-align: middle;\n",
       "    }\n",
       "\n",
       "    .dataframe tbody tr th {\n",
       "        vertical-align: top;\n",
       "    }\n",
       "\n",
       "    .dataframe thead th {\n",
       "        text-align: right;\n",
       "    }\n",
       "</style>\n",
       "<table border=\"1\" class=\"dataframe\">\n",
       "  <thead>\n",
       "    <tr style=\"text-align: right;\">\n",
       "      <th></th>\n",
       "      <th>PassengerId</th>\n",
       "      <th>Survived</th>\n",
       "    </tr>\n",
       "  </thead>\n",
       "  <tbody>\n",
       "    <tr>\n",
       "      <th>0</th>\n",
       "      <td>892</td>\n",
       "      <td>0</td>\n",
       "    </tr>\n",
       "    <tr>\n",
       "      <th>1</th>\n",
       "      <td>893</td>\n",
       "      <td>1</td>\n",
       "    </tr>\n",
       "    <tr>\n",
       "      <th>2</th>\n",
       "      <td>894</td>\n",
       "      <td>0</td>\n",
       "    </tr>\n",
       "    <tr>\n",
       "      <th>3</th>\n",
       "      <td>895</td>\n",
       "      <td>0</td>\n",
       "    </tr>\n",
       "    <tr>\n",
       "      <th>4</th>\n",
       "      <td>896</td>\n",
       "      <td>1</td>\n",
       "    </tr>\n",
       "    <tr>\n",
       "      <th>...</th>\n",
       "      <td>...</td>\n",
       "      <td>...</td>\n",
       "    </tr>\n",
       "    <tr>\n",
       "      <th>413</th>\n",
       "      <td>1305</td>\n",
       "      <td>0</td>\n",
       "    </tr>\n",
       "    <tr>\n",
       "      <th>414</th>\n",
       "      <td>1306</td>\n",
       "      <td>1</td>\n",
       "    </tr>\n",
       "    <tr>\n",
       "      <th>415</th>\n",
       "      <td>1307</td>\n",
       "      <td>0</td>\n",
       "    </tr>\n",
       "    <tr>\n",
       "      <th>416</th>\n",
       "      <td>1308</td>\n",
       "      <td>0</td>\n",
       "    </tr>\n",
       "    <tr>\n",
       "      <th>417</th>\n",
       "      <td>1309</td>\n",
       "      <td>0</td>\n",
       "    </tr>\n",
       "  </tbody>\n",
       "</table>\n",
       "<p>418 rows × 2 columns</p>\n",
       "</div>"
      ],
      "text/plain": [
       "     PassengerId  Survived\n",
       "0            892         0\n",
       "1            893         1\n",
       "2            894         0\n",
       "3            895         0\n",
       "4            896         1\n",
       "..           ...       ...\n",
       "413         1305         0\n",
       "414         1306         1\n",
       "415         1307         0\n",
       "416         1308         0\n",
       "417         1309         0\n",
       "\n",
       "[418 rows x 2 columns]"
      ]
     },
     "execution_count": 6,
     "metadata": {},
     "output_type": "execute_result"
    }
   ],
   "source": [
    "sample_submission"
   ]
  },
  {
   "cell_type": "code",
   "execution_count": 7,
   "id": "af13fbd1",
   "metadata": {
    "execution": {
     "iopub.execute_input": "2021-08-06T20:43:15.074977Z",
     "iopub.status.busy": "2021-08-06T20:43:15.074190Z",
     "iopub.status.idle": "2021-08-06T20:43:15.079162Z",
     "shell.execute_reply": "2021-08-06T20:43:15.079653Z",
     "shell.execute_reply.started": "2021-08-06T20:26:12.763372Z"
    },
    "papermill": {
     "duration": 0.119671,
     "end_time": "2021-08-06T20:43:15.079902",
     "exception": false,
     "start_time": "2021-08-06T20:43:14.960231",
     "status": "completed"
    },
    "tags": []
   },
   "outputs": [
    {
     "data": {
      "text/plain": [
       "(891, 12)"
      ]
     },
     "execution_count": 7,
     "metadata": {},
     "output_type": "execute_result"
    }
   ],
   "source": [
    "train.shape"
   ]
  },
  {
   "cell_type": "code",
   "execution_count": 8,
   "id": "2b3ad3f9",
   "metadata": {
    "execution": {
     "iopub.execute_input": "2021-08-06T20:43:15.303133Z",
     "iopub.status.busy": "2021-08-06T20:43:15.302482Z",
     "iopub.status.idle": "2021-08-06T20:43:15.308742Z",
     "shell.execute_reply": "2021-08-06T20:43:15.308108Z",
     "shell.execute_reply.started": "2021-08-06T20:26:12.778809Z"
    },
    "papermill": {
     "duration": 0.1183,
     "end_time": "2021-08-06T20:43:15.308913",
     "exception": false,
     "start_time": "2021-08-06T20:43:15.190613",
     "status": "completed"
    },
    "tags": []
   },
   "outputs": [
    {
     "data": {
      "text/plain": [
       "(418, 11)"
      ]
     },
     "execution_count": 8,
     "metadata": {},
     "output_type": "execute_result"
    }
   ],
   "source": [
    "test.shape"
   ]
  },
  {
   "cell_type": "code",
   "execution_count": 9,
   "id": "a0c3ed2f",
   "metadata": {
    "execution": {
     "iopub.execute_input": "2021-08-06T20:43:15.534936Z",
     "iopub.status.busy": "2021-08-06T20:43:15.534214Z",
     "iopub.status.idle": "2021-08-06T20:43:15.537171Z",
     "shell.execute_reply": "2021-08-06T20:43:15.536657Z",
     "shell.execute_reply.started": "2021-08-06T20:26:12.807598Z"
    },
    "papermill": {
     "duration": 0.119156,
     "end_time": "2021-08-06T20:43:15.537309",
     "exception": false,
     "start_time": "2021-08-06T20:43:15.418153",
     "status": "completed"
    },
    "tags": []
   },
   "outputs": [],
   "source": [
    "test[\"data\"]=\"test\"\n",
    "train[\"data\"]=\"train\""
   ]
  },
  {
   "cell_type": "code",
   "execution_count": 10,
   "id": "7c1b3449",
   "metadata": {
    "execution": {
     "iopub.execute_input": "2021-08-06T20:43:15.774295Z",
     "iopub.status.busy": "2021-08-06T20:43:15.767780Z",
     "iopub.status.idle": "2021-08-06T20:43:15.778286Z",
     "shell.execute_reply": "2021-08-06T20:43:15.777568Z",
     "shell.execute_reply.started": "2021-08-06T20:26:12.869448Z"
    },
    "papermill": {
     "duration": 0.130483,
     "end_time": "2021-08-06T20:43:15.778430",
     "exception": false,
     "start_time": "2021-08-06T20:43:15.647947",
     "status": "completed"
    },
    "tags": []
   },
   "outputs": [
    {
     "data": {
      "text/html": [
       "<div>\n",
       "<style scoped>\n",
       "    .dataframe tbody tr th:only-of-type {\n",
       "        vertical-align: middle;\n",
       "    }\n",
       "\n",
       "    .dataframe tbody tr th {\n",
       "        vertical-align: top;\n",
       "    }\n",
       "\n",
       "    .dataframe thead th {\n",
       "        text-align: right;\n",
       "    }\n",
       "</style>\n",
       "<table border=\"1\" class=\"dataframe\">\n",
       "  <thead>\n",
       "    <tr style=\"text-align: right;\">\n",
       "      <th></th>\n",
       "      <th>PassengerId</th>\n",
       "      <th>Pclass</th>\n",
       "      <th>Name</th>\n",
       "      <th>Sex</th>\n",
       "      <th>Age</th>\n",
       "      <th>SibSp</th>\n",
       "      <th>Parch</th>\n",
       "      <th>Ticket</th>\n",
       "      <th>Fare</th>\n",
       "      <th>Cabin</th>\n",
       "      <th>Embarked</th>\n",
       "      <th>data</th>\n",
       "    </tr>\n",
       "  </thead>\n",
       "  <tbody>\n",
       "    <tr>\n",
       "      <th>0</th>\n",
       "      <td>892</td>\n",
       "      <td>3</td>\n",
       "      <td>Kelly, Mr. James</td>\n",
       "      <td>male</td>\n",
       "      <td>34.5</td>\n",
       "      <td>0</td>\n",
       "      <td>0</td>\n",
       "      <td>330911</td>\n",
       "      <td>7.8292</td>\n",
       "      <td>NaN</td>\n",
       "      <td>Q</td>\n",
       "      <td>test</td>\n",
       "    </tr>\n",
       "    <tr>\n",
       "      <th>1</th>\n",
       "      <td>893</td>\n",
       "      <td>3</td>\n",
       "      <td>Wilkes, Mrs. James (Ellen Needs)</td>\n",
       "      <td>female</td>\n",
       "      <td>47.0</td>\n",
       "      <td>1</td>\n",
       "      <td>0</td>\n",
       "      <td>363272</td>\n",
       "      <td>7.0000</td>\n",
       "      <td>NaN</td>\n",
       "      <td>S</td>\n",
       "      <td>test</td>\n",
       "    </tr>\n",
       "  </tbody>\n",
       "</table>\n",
       "</div>"
      ],
      "text/plain": [
       "   PassengerId  Pclass                              Name     Sex   Age  SibSp  \\\n",
       "0          892       3                  Kelly, Mr. James    male  34.5      0   \n",
       "1          893       3  Wilkes, Mrs. James (Ellen Needs)  female  47.0      1   \n",
       "\n",
       "   Parch  Ticket    Fare Cabin Embarked  data  \n",
       "0      0  330911  7.8292   NaN        Q  test  \n",
       "1      0  363272  7.0000   NaN        S  test  "
      ]
     },
     "execution_count": 10,
     "metadata": {},
     "output_type": "execute_result"
    }
   ],
   "source": [
    "test.head(2)"
   ]
  },
  {
   "cell_type": "code",
   "execution_count": 11,
   "id": "f7f7e8c1",
   "metadata": {
    "execution": {
     "iopub.execute_input": "2021-08-06T20:43:16.015446Z",
     "iopub.status.busy": "2021-08-06T20:43:16.014482Z",
     "iopub.status.idle": "2021-08-06T20:43:16.019495Z",
     "shell.execute_reply": "2021-08-06T20:43:16.018858Z",
     "shell.execute_reply.started": "2021-08-06T20:26:12.902617Z"
    },
    "papermill": {
     "duration": 0.130294,
     "end_time": "2021-08-06T20:43:16.019638",
     "exception": false,
     "start_time": "2021-08-06T20:43:15.889344",
     "status": "completed"
    },
    "tags": []
   },
   "outputs": [
    {
     "data": {
      "text/html": [
       "<div>\n",
       "<style scoped>\n",
       "    .dataframe tbody tr th:only-of-type {\n",
       "        vertical-align: middle;\n",
       "    }\n",
       "\n",
       "    .dataframe tbody tr th {\n",
       "        vertical-align: top;\n",
       "    }\n",
       "\n",
       "    .dataframe thead th {\n",
       "        text-align: right;\n",
       "    }\n",
       "</style>\n",
       "<table border=\"1\" class=\"dataframe\">\n",
       "  <thead>\n",
       "    <tr style=\"text-align: right;\">\n",
       "      <th></th>\n",
       "      <th>PassengerId</th>\n",
       "      <th>Survived</th>\n",
       "      <th>Pclass</th>\n",
       "      <th>Name</th>\n",
       "      <th>Sex</th>\n",
       "      <th>Age</th>\n",
       "      <th>SibSp</th>\n",
       "      <th>Parch</th>\n",
       "      <th>Ticket</th>\n",
       "      <th>Fare</th>\n",
       "      <th>Cabin</th>\n",
       "      <th>Embarked</th>\n",
       "      <th>data</th>\n",
       "    </tr>\n",
       "  </thead>\n",
       "  <tbody>\n",
       "    <tr>\n",
       "      <th>0</th>\n",
       "      <td>1</td>\n",
       "      <td>0</td>\n",
       "      <td>3</td>\n",
       "      <td>Braund, Mr. Owen Harris</td>\n",
       "      <td>male</td>\n",
       "      <td>22.0</td>\n",
       "      <td>1</td>\n",
       "      <td>0</td>\n",
       "      <td>A/5 21171</td>\n",
       "      <td>7.2500</td>\n",
       "      <td>NaN</td>\n",
       "      <td>S</td>\n",
       "      <td>train</td>\n",
       "    </tr>\n",
       "    <tr>\n",
       "      <th>1</th>\n",
       "      <td>2</td>\n",
       "      <td>1</td>\n",
       "      <td>1</td>\n",
       "      <td>Cumings, Mrs. John Bradley (Florence Briggs Th...</td>\n",
       "      <td>female</td>\n",
       "      <td>38.0</td>\n",
       "      <td>1</td>\n",
       "      <td>0</td>\n",
       "      <td>PC 17599</td>\n",
       "      <td>71.2833</td>\n",
       "      <td>C85</td>\n",
       "      <td>C</td>\n",
       "      <td>train</td>\n",
       "    </tr>\n",
       "  </tbody>\n",
       "</table>\n",
       "</div>"
      ],
      "text/plain": [
       "   PassengerId  Survived  Pclass  \\\n",
       "0            1         0       3   \n",
       "1            2         1       1   \n",
       "\n",
       "                                                Name     Sex   Age  SibSp  \\\n",
       "0                            Braund, Mr. Owen Harris    male  22.0      1   \n",
       "1  Cumings, Mrs. John Bradley (Florence Briggs Th...  female  38.0      1   \n",
       "\n",
       "   Parch     Ticket     Fare Cabin Embarked   data  \n",
       "0      0  A/5 21171   7.2500   NaN        S  train  \n",
       "1      0   PC 17599  71.2833   C85        C  train  "
      ]
     },
     "execution_count": 11,
     "metadata": {},
     "output_type": "execute_result"
    }
   ],
   "source": [
    "train.head(2)"
   ]
  },
  {
   "cell_type": "markdown",
   "id": "149f72fa",
   "metadata": {
    "papermill": {
     "duration": 0.109923,
     "end_time": "2021-08-06T20:43:16.241436",
     "exception": false,
     "start_time": "2021-08-06T20:43:16.131513",
     "status": "completed"
    },
    "tags": []
   },
   "source": [
    "#Decriptive Analytics\n",
    "--------------------------\n"
   ]
  },
  {
   "cell_type": "code",
   "execution_count": 12,
   "id": "f1f128bb",
   "metadata": {
    "execution": {
     "iopub.execute_input": "2021-08-06T20:43:16.470382Z",
     "iopub.status.busy": "2021-08-06T20:43:16.468369Z",
     "iopub.status.idle": "2021-08-06T20:43:16.474493Z",
     "shell.execute_reply": "2021-08-06T20:43:16.473823Z",
     "shell.execute_reply.started": "2021-08-06T20:26:12.923749Z"
    },
    "papermill": {
     "duration": 0.123292,
     "end_time": "2021-08-06T20:43:16.474631",
     "exception": false,
     "start_time": "2021-08-06T20:43:16.351339",
     "status": "completed"
    },
    "tags": []
   },
   "outputs": [],
   "source": [
    "data=pd.concat([train,test])"
   ]
  },
  {
   "cell_type": "code",
   "execution_count": 13,
   "id": "83aa1005",
   "metadata": {
    "execution": {
     "iopub.execute_input": "2021-08-06T20:43:16.700550Z",
     "iopub.status.busy": "2021-08-06T20:43:16.699359Z",
     "iopub.status.idle": "2021-08-06T20:43:16.729742Z",
     "shell.execute_reply": "2021-08-06T20:43:16.729132Z",
     "shell.execute_reply.started": "2021-08-06T20:26:12.948009Z"
    },
    "papermill": {
     "duration": 0.147814,
     "end_time": "2021-08-06T20:43:16.729948",
     "exception": false,
     "start_time": "2021-08-06T20:43:16.582134",
     "status": "completed"
    },
    "tags": []
   },
   "outputs": [
    {
     "data": {
      "text/html": [
       "<div>\n",
       "<style scoped>\n",
       "    .dataframe tbody tr th:only-of-type {\n",
       "        vertical-align: middle;\n",
       "    }\n",
       "\n",
       "    .dataframe tbody tr th {\n",
       "        vertical-align: top;\n",
       "    }\n",
       "\n",
       "    .dataframe thead th {\n",
       "        text-align: right;\n",
       "    }\n",
       "</style>\n",
       "<table border=\"1\" class=\"dataframe\">\n",
       "  <thead>\n",
       "    <tr style=\"text-align: right;\">\n",
       "      <th></th>\n",
       "      <th>PassengerId</th>\n",
       "      <th>Survived</th>\n",
       "      <th>Pclass</th>\n",
       "      <th>Name</th>\n",
       "      <th>Sex</th>\n",
       "      <th>Age</th>\n",
       "      <th>SibSp</th>\n",
       "      <th>Parch</th>\n",
       "      <th>Ticket</th>\n",
       "      <th>Fare</th>\n",
       "      <th>Cabin</th>\n",
       "      <th>Embarked</th>\n",
       "      <th>data</th>\n",
       "    </tr>\n",
       "  </thead>\n",
       "  <tbody>\n",
       "    <tr>\n",
       "      <th>0</th>\n",
       "      <td>1</td>\n",
       "      <td>0.0</td>\n",
       "      <td>3</td>\n",
       "      <td>Braund, Mr. Owen Harris</td>\n",
       "      <td>male</td>\n",
       "      <td>22.0</td>\n",
       "      <td>1</td>\n",
       "      <td>0</td>\n",
       "      <td>A/5 21171</td>\n",
       "      <td>7.2500</td>\n",
       "      <td>NaN</td>\n",
       "      <td>S</td>\n",
       "      <td>train</td>\n",
       "    </tr>\n",
       "    <tr>\n",
       "      <th>1</th>\n",
       "      <td>2</td>\n",
       "      <td>1.0</td>\n",
       "      <td>1</td>\n",
       "      <td>Cumings, Mrs. John Bradley (Florence Briggs Th...</td>\n",
       "      <td>female</td>\n",
       "      <td>38.0</td>\n",
       "      <td>1</td>\n",
       "      <td>0</td>\n",
       "      <td>PC 17599</td>\n",
       "      <td>71.2833</td>\n",
       "      <td>C85</td>\n",
       "      <td>C</td>\n",
       "      <td>train</td>\n",
       "    </tr>\n",
       "    <tr>\n",
       "      <th>2</th>\n",
       "      <td>3</td>\n",
       "      <td>1.0</td>\n",
       "      <td>3</td>\n",
       "      <td>Heikkinen, Miss. Laina</td>\n",
       "      <td>female</td>\n",
       "      <td>26.0</td>\n",
       "      <td>0</td>\n",
       "      <td>0</td>\n",
       "      <td>STON/O2. 3101282</td>\n",
       "      <td>7.9250</td>\n",
       "      <td>NaN</td>\n",
       "      <td>S</td>\n",
       "      <td>train</td>\n",
       "    </tr>\n",
       "    <tr>\n",
       "      <th>3</th>\n",
       "      <td>4</td>\n",
       "      <td>1.0</td>\n",
       "      <td>1</td>\n",
       "      <td>Futrelle, Mrs. Jacques Heath (Lily May Peel)</td>\n",
       "      <td>female</td>\n",
       "      <td>35.0</td>\n",
       "      <td>1</td>\n",
       "      <td>0</td>\n",
       "      <td>113803</td>\n",
       "      <td>53.1000</td>\n",
       "      <td>C123</td>\n",
       "      <td>S</td>\n",
       "      <td>train</td>\n",
       "    </tr>\n",
       "    <tr>\n",
       "      <th>4</th>\n",
       "      <td>5</td>\n",
       "      <td>0.0</td>\n",
       "      <td>3</td>\n",
       "      <td>Allen, Mr. William Henry</td>\n",
       "      <td>male</td>\n",
       "      <td>35.0</td>\n",
       "      <td>0</td>\n",
       "      <td>0</td>\n",
       "      <td>373450</td>\n",
       "      <td>8.0500</td>\n",
       "      <td>NaN</td>\n",
       "      <td>S</td>\n",
       "      <td>train</td>\n",
       "    </tr>\n",
       "    <tr>\n",
       "      <th>...</th>\n",
       "      <td>...</td>\n",
       "      <td>...</td>\n",
       "      <td>...</td>\n",
       "      <td>...</td>\n",
       "      <td>...</td>\n",
       "      <td>...</td>\n",
       "      <td>...</td>\n",
       "      <td>...</td>\n",
       "      <td>...</td>\n",
       "      <td>...</td>\n",
       "      <td>...</td>\n",
       "      <td>...</td>\n",
       "      <td>...</td>\n",
       "    </tr>\n",
       "    <tr>\n",
       "      <th>413</th>\n",
       "      <td>1305</td>\n",
       "      <td>NaN</td>\n",
       "      <td>3</td>\n",
       "      <td>Spector, Mr. Woolf</td>\n",
       "      <td>male</td>\n",
       "      <td>NaN</td>\n",
       "      <td>0</td>\n",
       "      <td>0</td>\n",
       "      <td>A.5. 3236</td>\n",
       "      <td>8.0500</td>\n",
       "      <td>NaN</td>\n",
       "      <td>S</td>\n",
       "      <td>test</td>\n",
       "    </tr>\n",
       "    <tr>\n",
       "      <th>414</th>\n",
       "      <td>1306</td>\n",
       "      <td>NaN</td>\n",
       "      <td>1</td>\n",
       "      <td>Oliva y Ocana, Dona. Fermina</td>\n",
       "      <td>female</td>\n",
       "      <td>39.0</td>\n",
       "      <td>0</td>\n",
       "      <td>0</td>\n",
       "      <td>PC 17758</td>\n",
       "      <td>108.9000</td>\n",
       "      <td>C105</td>\n",
       "      <td>C</td>\n",
       "      <td>test</td>\n",
       "    </tr>\n",
       "    <tr>\n",
       "      <th>415</th>\n",
       "      <td>1307</td>\n",
       "      <td>NaN</td>\n",
       "      <td>3</td>\n",
       "      <td>Saether, Mr. Simon Sivertsen</td>\n",
       "      <td>male</td>\n",
       "      <td>38.5</td>\n",
       "      <td>0</td>\n",
       "      <td>0</td>\n",
       "      <td>SOTON/O.Q. 3101262</td>\n",
       "      <td>7.2500</td>\n",
       "      <td>NaN</td>\n",
       "      <td>S</td>\n",
       "      <td>test</td>\n",
       "    </tr>\n",
       "    <tr>\n",
       "      <th>416</th>\n",
       "      <td>1308</td>\n",
       "      <td>NaN</td>\n",
       "      <td>3</td>\n",
       "      <td>Ware, Mr. Frederick</td>\n",
       "      <td>male</td>\n",
       "      <td>NaN</td>\n",
       "      <td>0</td>\n",
       "      <td>0</td>\n",
       "      <td>359309</td>\n",
       "      <td>8.0500</td>\n",
       "      <td>NaN</td>\n",
       "      <td>S</td>\n",
       "      <td>test</td>\n",
       "    </tr>\n",
       "    <tr>\n",
       "      <th>417</th>\n",
       "      <td>1309</td>\n",
       "      <td>NaN</td>\n",
       "      <td>3</td>\n",
       "      <td>Peter, Master. Michael J</td>\n",
       "      <td>male</td>\n",
       "      <td>NaN</td>\n",
       "      <td>1</td>\n",
       "      <td>1</td>\n",
       "      <td>2668</td>\n",
       "      <td>22.3583</td>\n",
       "      <td>NaN</td>\n",
       "      <td>C</td>\n",
       "      <td>test</td>\n",
       "    </tr>\n",
       "  </tbody>\n",
       "</table>\n",
       "<p>1309 rows × 13 columns</p>\n",
       "</div>"
      ],
      "text/plain": [
       "     PassengerId  Survived  Pclass  \\\n",
       "0              1       0.0       3   \n",
       "1              2       1.0       1   \n",
       "2              3       1.0       3   \n",
       "3              4       1.0       1   \n",
       "4              5       0.0       3   \n",
       "..           ...       ...     ...   \n",
       "413         1305       NaN       3   \n",
       "414         1306       NaN       1   \n",
       "415         1307       NaN       3   \n",
       "416         1308       NaN       3   \n",
       "417         1309       NaN       3   \n",
       "\n",
       "                                                  Name     Sex   Age  SibSp  \\\n",
       "0                              Braund, Mr. Owen Harris    male  22.0      1   \n",
       "1    Cumings, Mrs. John Bradley (Florence Briggs Th...  female  38.0      1   \n",
       "2                               Heikkinen, Miss. Laina  female  26.0      0   \n",
       "3         Futrelle, Mrs. Jacques Heath (Lily May Peel)  female  35.0      1   \n",
       "4                             Allen, Mr. William Henry    male  35.0      0   \n",
       "..                                                 ...     ...   ...    ...   \n",
       "413                                 Spector, Mr. Woolf    male   NaN      0   \n",
       "414                       Oliva y Ocana, Dona. Fermina  female  39.0      0   \n",
       "415                       Saether, Mr. Simon Sivertsen    male  38.5      0   \n",
       "416                                Ware, Mr. Frederick    male   NaN      0   \n",
       "417                           Peter, Master. Michael J    male   NaN      1   \n",
       "\n",
       "     Parch              Ticket      Fare Cabin Embarked   data  \n",
       "0        0           A/5 21171    7.2500   NaN        S  train  \n",
       "1        0            PC 17599   71.2833   C85        C  train  \n",
       "2        0    STON/O2. 3101282    7.9250   NaN        S  train  \n",
       "3        0              113803   53.1000  C123        S  train  \n",
       "4        0              373450    8.0500   NaN        S  train  \n",
       "..     ...                 ...       ...   ...      ...    ...  \n",
       "413      0           A.5. 3236    8.0500   NaN        S   test  \n",
       "414      0            PC 17758  108.9000  C105        C   test  \n",
       "415      0  SOTON/O.Q. 3101262    7.2500   NaN        S   test  \n",
       "416      0              359309    8.0500   NaN        S   test  \n",
       "417      1                2668   22.3583   NaN        C   test  \n",
       "\n",
       "[1309 rows x 13 columns]"
      ]
     },
     "execution_count": 13,
     "metadata": {},
     "output_type": "execute_result"
    }
   ],
   "source": [
    "data"
   ]
  },
  {
   "cell_type": "markdown",
   "id": "c4b086ec",
   "metadata": {
    "papermill": {
     "duration": 0.110146,
     "end_time": "2021-08-06T20:43:16.951331",
     "exception": false,
     "start_time": "2021-08-06T20:43:16.841185",
     "status": "completed"
    },
    "tags": []
   },
   "source": [
    "#Assumption or Intuition\n",
    "----------------------------"
   ]
  },
  {
   "cell_type": "markdown",
   "id": "95df9fc2",
   "metadata": {
    "papermill": {
     "duration": 0.110937,
     "end_time": "2021-08-06T20:43:17.174375",
     "exception": false,
     "start_time": "2021-08-06T20:43:17.063438",
     "status": "completed"
    },
    "tags": []
   },
   "source": [
    "•\tUnderstand the data\n",
    "•\tPassenger name  - Yes\n",
    "•\tGender- Yes\n",
    "•\tAge- Yes\n",
    "•\tAddress- No\n",
    "•\tTicker number (id) - Yes\n",
    "•\tPassenger class - Yes\n",
    "•\tCabin (seat Type) - Yes\n",
    "•\tTicket Fare- Yes\n",
    "•\tNumber of people travel along with them\n",
    "o\tSpouse- Yes\n",
    "o\tSibling- Yes\n",
    "o\tKids- Yes\n",
    "o\tFriends\n",
    "•\twhere are they from? - Yes\n",
    "•\tWhere are they going ? - No\n",
    "•\tSafe to reach destination - Yes\n"
   ]
  },
  {
   "cell_type": "code",
   "execution_count": 14,
   "id": "2762e043",
   "metadata": {
    "execution": {
     "iopub.execute_input": "2021-08-06T20:43:17.420501Z",
     "iopub.status.busy": "2021-08-06T20:43:17.419698Z",
     "iopub.status.idle": "2021-08-06T20:43:17.423880Z",
     "shell.execute_reply": "2021-08-06T20:43:17.423235Z",
     "shell.execute_reply.started": "2021-08-06T20:26:12.984094Z"
    },
    "papermill": {
     "duration": 0.137687,
     "end_time": "2021-08-06T20:43:17.424020",
     "exception": false,
     "start_time": "2021-08-06T20:43:17.286333",
     "status": "completed"
    },
    "tags": []
   },
   "outputs": [
    {
     "name": "stdout",
     "output_type": "stream",
     "text": [
      "<class 'pandas.core.frame.DataFrame'>\n",
      "Int64Index: 1309 entries, 0 to 417\n",
      "Data columns (total 13 columns):\n",
      " #   Column       Non-Null Count  Dtype  \n",
      "---  ------       --------------  -----  \n",
      " 0   PassengerId  1309 non-null   int64  \n",
      " 1   Survived     891 non-null    float64\n",
      " 2   Pclass       1309 non-null   int64  \n",
      " 3   Name         1309 non-null   object \n",
      " 4   Sex          1309 non-null   object \n",
      " 5   Age          1046 non-null   float64\n",
      " 6   SibSp        1309 non-null   int64  \n",
      " 7   Parch        1309 non-null   int64  \n",
      " 8   Ticket       1309 non-null   object \n",
      " 9   Fare         1308 non-null   float64\n",
      " 10  Cabin        295 non-null    object \n",
      " 11  Embarked     1307 non-null   object \n",
      " 12  data         1309 non-null   object \n",
      "dtypes: float64(3), int64(4), object(6)\n",
      "memory usage: 143.2+ KB\n"
     ]
    }
   ],
   "source": [
    "data.info()"
   ]
  },
  {
   "cell_type": "code",
   "execution_count": 15,
   "id": "6ad21722",
   "metadata": {
    "execution": {
     "iopub.execute_input": "2021-08-06T20:43:17.652586Z",
     "iopub.status.busy": "2021-08-06T20:43:17.651894Z",
     "iopub.status.idle": "2021-08-06T20:43:17.685942Z",
     "shell.execute_reply": "2021-08-06T20:43:17.685249Z",
     "shell.execute_reply.started": "2021-08-06T20:26:13.014326Z"
    },
    "papermill": {
     "duration": 0.150464,
     "end_time": "2021-08-06T20:43:17.686087",
     "exception": false,
     "start_time": "2021-08-06T20:43:17.535623",
     "status": "completed"
    },
    "tags": []
   },
   "outputs": [
    {
     "data": {
      "text/html": [
       "<div>\n",
       "<style scoped>\n",
       "    .dataframe tbody tr th:only-of-type {\n",
       "        vertical-align: middle;\n",
       "    }\n",
       "\n",
       "    .dataframe tbody tr th {\n",
       "        vertical-align: top;\n",
       "    }\n",
       "\n",
       "    .dataframe thead th {\n",
       "        text-align: right;\n",
       "    }\n",
       "</style>\n",
       "<table border=\"1\" class=\"dataframe\">\n",
       "  <thead>\n",
       "    <tr style=\"text-align: right;\">\n",
       "      <th></th>\n",
       "      <th>count</th>\n",
       "      <th>mean</th>\n",
       "      <th>std</th>\n",
       "      <th>min</th>\n",
       "      <th>25%</th>\n",
       "      <th>50%</th>\n",
       "      <th>75%</th>\n",
       "      <th>max</th>\n",
       "    </tr>\n",
       "  </thead>\n",
       "  <tbody>\n",
       "    <tr>\n",
       "      <th>PassengerId</th>\n",
       "      <td>1309.0</td>\n",
       "      <td>655.000000</td>\n",
       "      <td>378.020061</td>\n",
       "      <td>1.00</td>\n",
       "      <td>328.0000</td>\n",
       "      <td>655.0000</td>\n",
       "      <td>982.000</td>\n",
       "      <td>1309.0000</td>\n",
       "    </tr>\n",
       "    <tr>\n",
       "      <th>Survived</th>\n",
       "      <td>891.0</td>\n",
       "      <td>0.383838</td>\n",
       "      <td>0.486592</td>\n",
       "      <td>0.00</td>\n",
       "      <td>0.0000</td>\n",
       "      <td>0.0000</td>\n",
       "      <td>1.000</td>\n",
       "      <td>1.0000</td>\n",
       "    </tr>\n",
       "    <tr>\n",
       "      <th>Pclass</th>\n",
       "      <td>1309.0</td>\n",
       "      <td>2.294882</td>\n",
       "      <td>0.837836</td>\n",
       "      <td>1.00</td>\n",
       "      <td>2.0000</td>\n",
       "      <td>3.0000</td>\n",
       "      <td>3.000</td>\n",
       "      <td>3.0000</td>\n",
       "    </tr>\n",
       "    <tr>\n",
       "      <th>Age</th>\n",
       "      <td>1046.0</td>\n",
       "      <td>29.881138</td>\n",
       "      <td>14.413493</td>\n",
       "      <td>0.17</td>\n",
       "      <td>21.0000</td>\n",
       "      <td>28.0000</td>\n",
       "      <td>39.000</td>\n",
       "      <td>80.0000</td>\n",
       "    </tr>\n",
       "    <tr>\n",
       "      <th>SibSp</th>\n",
       "      <td>1309.0</td>\n",
       "      <td>0.498854</td>\n",
       "      <td>1.041658</td>\n",
       "      <td>0.00</td>\n",
       "      <td>0.0000</td>\n",
       "      <td>0.0000</td>\n",
       "      <td>1.000</td>\n",
       "      <td>8.0000</td>\n",
       "    </tr>\n",
       "    <tr>\n",
       "      <th>Parch</th>\n",
       "      <td>1309.0</td>\n",
       "      <td>0.385027</td>\n",
       "      <td>0.865560</td>\n",
       "      <td>0.00</td>\n",
       "      <td>0.0000</td>\n",
       "      <td>0.0000</td>\n",
       "      <td>0.000</td>\n",
       "      <td>9.0000</td>\n",
       "    </tr>\n",
       "    <tr>\n",
       "      <th>Fare</th>\n",
       "      <td>1308.0</td>\n",
       "      <td>33.295479</td>\n",
       "      <td>51.758668</td>\n",
       "      <td>0.00</td>\n",
       "      <td>7.8958</td>\n",
       "      <td>14.4542</td>\n",
       "      <td>31.275</td>\n",
       "      <td>512.3292</td>\n",
       "    </tr>\n",
       "  </tbody>\n",
       "</table>\n",
       "</div>"
      ],
      "text/plain": [
       "              count        mean         std   min       25%       50%  \\\n",
       "PassengerId  1309.0  655.000000  378.020061  1.00  328.0000  655.0000   \n",
       "Survived      891.0    0.383838    0.486592  0.00    0.0000    0.0000   \n",
       "Pclass       1309.0    2.294882    0.837836  1.00    2.0000    3.0000   \n",
       "Age          1046.0   29.881138   14.413493  0.17   21.0000   28.0000   \n",
       "SibSp        1309.0    0.498854    1.041658  0.00    0.0000    0.0000   \n",
       "Parch        1309.0    0.385027    0.865560  0.00    0.0000    0.0000   \n",
       "Fare         1308.0   33.295479   51.758668  0.00    7.8958   14.4542   \n",
       "\n",
       "                 75%        max  \n",
       "PassengerId  982.000  1309.0000  \n",
       "Survived       1.000     1.0000  \n",
       "Pclass         3.000     3.0000  \n",
       "Age           39.000    80.0000  \n",
       "SibSp          1.000     8.0000  \n",
       "Parch          0.000     9.0000  \n",
       "Fare          31.275   512.3292  "
      ]
     },
     "execution_count": 15,
     "metadata": {},
     "output_type": "execute_result"
    }
   ],
   "source": [
    "data.describe().T"
   ]
  },
  {
   "cell_type": "code",
   "execution_count": 16,
   "id": "cbc23589",
   "metadata": {
    "execution": {
     "iopub.execute_input": "2021-08-06T20:43:17.916327Z",
     "iopub.status.busy": "2021-08-06T20:43:17.913150Z",
     "iopub.status.idle": "2021-08-06T20:43:17.928653Z",
     "shell.execute_reply": "2021-08-06T20:43:17.928148Z",
     "shell.execute_reply.started": "2021-08-06T20:26:13.054123Z"
    },
    "papermill": {
     "duration": 0.132129,
     "end_time": "2021-08-06T20:43:17.928824",
     "exception": false,
     "start_time": "2021-08-06T20:43:17.796695",
     "status": "completed"
    },
    "tags": []
   },
   "outputs": [
    {
     "data": {
      "text/plain": [
       "PassengerId    0.0\n",
       "Survived       0.0\n",
       "Pclass         0.0\n",
       "Name           0.0\n",
       "Sex            0.0\n",
       "Age            0.0\n",
       "SibSp          0.0\n",
       "Parch          0.0\n",
       "Ticket         0.0\n",
       "Fare           0.0\n",
       "Cabin          0.0\n",
       "Embarked       0.0\n",
       "data           0.0\n",
       "dtype: float64"
      ]
     },
     "execution_count": 16,
     "metadata": {},
     "output_type": "execute_result"
    }
   ],
   "source": [
    "data[data.duplicated()].sum()"
   ]
  },
  {
   "cell_type": "code",
   "execution_count": 17,
   "id": "4fd5c0fe",
   "metadata": {
    "execution": {
     "iopub.execute_input": "2021-08-06T20:43:18.211624Z",
     "iopub.status.busy": "2021-08-06T20:43:18.210890Z",
     "iopub.status.idle": "2021-08-06T20:43:18.214199Z",
     "shell.execute_reply": "2021-08-06T20:43:18.213546Z",
     "shell.execute_reply.started": "2021-08-06T20:26:13.073179Z"
    },
    "papermill": {
     "duration": 0.174324,
     "end_time": "2021-08-06T20:43:18.214338",
     "exception": false,
     "start_time": "2021-08-06T20:43:18.040014",
     "status": "completed"
    },
    "tags": []
   },
   "outputs": [
    {
     "data": {
      "text/plain": [
       "PassengerId       0\n",
       "Survived        418\n",
       "Pclass            0\n",
       "Name              0\n",
       "Sex               0\n",
       "Age             263\n",
       "SibSp             0\n",
       "Parch             0\n",
       "Ticket            0\n",
       "Fare              1\n",
       "Cabin          1014\n",
       "Embarked          2\n",
       "data              0\n",
       "dtype: int64"
      ]
     },
     "execution_count": 17,
     "metadata": {},
     "output_type": "execute_result"
    }
   ],
   "source": [
    "data.isna().sum()"
   ]
  },
  {
   "cell_type": "code",
   "execution_count": 18,
   "id": "55b9b7c0",
   "metadata": {
    "execution": {
     "iopub.execute_input": "2021-08-06T20:43:18.464952Z",
     "iopub.status.busy": "2021-08-06T20:43:18.464259Z",
     "iopub.status.idle": "2021-08-06T20:43:18.468221Z",
     "shell.execute_reply": "2021-08-06T20:43:18.467651Z",
     "shell.execute_reply.started": "2021-08-06T20:26:13.102871Z"
    },
    "papermill": {
     "duration": 0.142872,
     "end_time": "2021-08-06T20:43:18.468372",
     "exception": false,
     "start_time": "2021-08-06T20:43:18.325500",
     "status": "completed"
    },
    "tags": []
   },
   "outputs": [
    {
     "data": {
      "text/html": [
       "<div>\n",
       "<style scoped>\n",
       "    .dataframe tbody tr th:only-of-type {\n",
       "        vertical-align: middle;\n",
       "    }\n",
       "\n",
       "    .dataframe tbody tr th {\n",
       "        vertical-align: top;\n",
       "    }\n",
       "\n",
       "    .dataframe thead th {\n",
       "        text-align: right;\n",
       "    }\n",
       "</style>\n",
       "<table border=\"1\" class=\"dataframe\">\n",
       "  <thead>\n",
       "    <tr style=\"text-align: right;\">\n",
       "      <th></th>\n",
       "      <th>PassengerId</th>\n",
       "      <th>Survived</th>\n",
       "      <th>Pclass</th>\n",
       "      <th>Name</th>\n",
       "      <th>Sex</th>\n",
       "      <th>Age</th>\n",
       "      <th>SibSp</th>\n",
       "      <th>Parch</th>\n",
       "      <th>Ticket</th>\n",
       "      <th>Fare</th>\n",
       "      <th>Cabin</th>\n",
       "      <th>Embarked</th>\n",
       "      <th>data</th>\n",
       "    </tr>\n",
       "  </thead>\n",
       "  <tbody>\n",
       "    <tr>\n",
       "      <th>5</th>\n",
       "      <td>6</td>\n",
       "      <td>0.0</td>\n",
       "      <td>3</td>\n",
       "      <td>Moran, Mr. James</td>\n",
       "      <td>male</td>\n",
       "      <td>NaN</td>\n",
       "      <td>0</td>\n",
       "      <td>0</td>\n",
       "      <td>330877</td>\n",
       "      <td>8.4583</td>\n",
       "      <td>NaN</td>\n",
       "      <td>Q</td>\n",
       "      <td>train</td>\n",
       "    </tr>\n",
       "    <tr>\n",
       "      <th>17</th>\n",
       "      <td>18</td>\n",
       "      <td>1.0</td>\n",
       "      <td>2</td>\n",
       "      <td>Williams, Mr. Charles Eugene</td>\n",
       "      <td>male</td>\n",
       "      <td>NaN</td>\n",
       "      <td>0</td>\n",
       "      <td>0</td>\n",
       "      <td>244373</td>\n",
       "      <td>13.0000</td>\n",
       "      <td>NaN</td>\n",
       "      <td>S</td>\n",
       "      <td>train</td>\n",
       "    </tr>\n",
       "    <tr>\n",
       "      <th>19</th>\n",
       "      <td>20</td>\n",
       "      <td>1.0</td>\n",
       "      <td>3</td>\n",
       "      <td>Masselmani, Mrs. Fatima</td>\n",
       "      <td>female</td>\n",
       "      <td>NaN</td>\n",
       "      <td>0</td>\n",
       "      <td>0</td>\n",
       "      <td>2649</td>\n",
       "      <td>7.2250</td>\n",
       "      <td>NaN</td>\n",
       "      <td>C</td>\n",
       "      <td>train</td>\n",
       "    </tr>\n",
       "    <tr>\n",
       "      <th>26</th>\n",
       "      <td>27</td>\n",
       "      <td>0.0</td>\n",
       "      <td>3</td>\n",
       "      <td>Emir, Mr. Farred Chehab</td>\n",
       "      <td>male</td>\n",
       "      <td>NaN</td>\n",
       "      <td>0</td>\n",
       "      <td>0</td>\n",
       "      <td>2631</td>\n",
       "      <td>7.2250</td>\n",
       "      <td>NaN</td>\n",
       "      <td>C</td>\n",
       "      <td>train</td>\n",
       "    </tr>\n",
       "    <tr>\n",
       "      <th>28</th>\n",
       "      <td>29</td>\n",
       "      <td>1.0</td>\n",
       "      <td>3</td>\n",
       "      <td>O'Dwyer, Miss. Ellen \"Nellie\"</td>\n",
       "      <td>female</td>\n",
       "      <td>NaN</td>\n",
       "      <td>0</td>\n",
       "      <td>0</td>\n",
       "      <td>330959</td>\n",
       "      <td>7.8792</td>\n",
       "      <td>NaN</td>\n",
       "      <td>Q</td>\n",
       "      <td>train</td>\n",
       "    </tr>\n",
       "    <tr>\n",
       "      <th>...</th>\n",
       "      <td>...</td>\n",
       "      <td>...</td>\n",
       "      <td>...</td>\n",
       "      <td>...</td>\n",
       "      <td>...</td>\n",
       "      <td>...</td>\n",
       "      <td>...</td>\n",
       "      <td>...</td>\n",
       "      <td>...</td>\n",
       "      <td>...</td>\n",
       "      <td>...</td>\n",
       "      <td>...</td>\n",
       "      <td>...</td>\n",
       "    </tr>\n",
       "    <tr>\n",
       "      <th>408</th>\n",
       "      <td>1300</td>\n",
       "      <td>NaN</td>\n",
       "      <td>3</td>\n",
       "      <td>Riordan, Miss. Johanna Hannah\"\"</td>\n",
       "      <td>female</td>\n",
       "      <td>NaN</td>\n",
       "      <td>0</td>\n",
       "      <td>0</td>\n",
       "      <td>334915</td>\n",
       "      <td>7.7208</td>\n",
       "      <td>NaN</td>\n",
       "      <td>Q</td>\n",
       "      <td>test</td>\n",
       "    </tr>\n",
       "    <tr>\n",
       "      <th>410</th>\n",
       "      <td>1302</td>\n",
       "      <td>NaN</td>\n",
       "      <td>3</td>\n",
       "      <td>Naughton, Miss. Hannah</td>\n",
       "      <td>female</td>\n",
       "      <td>NaN</td>\n",
       "      <td>0</td>\n",
       "      <td>0</td>\n",
       "      <td>365237</td>\n",
       "      <td>7.7500</td>\n",
       "      <td>NaN</td>\n",
       "      <td>Q</td>\n",
       "      <td>test</td>\n",
       "    </tr>\n",
       "    <tr>\n",
       "      <th>413</th>\n",
       "      <td>1305</td>\n",
       "      <td>NaN</td>\n",
       "      <td>3</td>\n",
       "      <td>Spector, Mr. Woolf</td>\n",
       "      <td>male</td>\n",
       "      <td>NaN</td>\n",
       "      <td>0</td>\n",
       "      <td>0</td>\n",
       "      <td>A.5. 3236</td>\n",
       "      <td>8.0500</td>\n",
       "      <td>NaN</td>\n",
       "      <td>S</td>\n",
       "      <td>test</td>\n",
       "    </tr>\n",
       "    <tr>\n",
       "      <th>416</th>\n",
       "      <td>1308</td>\n",
       "      <td>NaN</td>\n",
       "      <td>3</td>\n",
       "      <td>Ware, Mr. Frederick</td>\n",
       "      <td>male</td>\n",
       "      <td>NaN</td>\n",
       "      <td>0</td>\n",
       "      <td>0</td>\n",
       "      <td>359309</td>\n",
       "      <td>8.0500</td>\n",
       "      <td>NaN</td>\n",
       "      <td>S</td>\n",
       "      <td>test</td>\n",
       "    </tr>\n",
       "    <tr>\n",
       "      <th>417</th>\n",
       "      <td>1309</td>\n",
       "      <td>NaN</td>\n",
       "      <td>3</td>\n",
       "      <td>Peter, Master. Michael J</td>\n",
       "      <td>male</td>\n",
       "      <td>NaN</td>\n",
       "      <td>1</td>\n",
       "      <td>1</td>\n",
       "      <td>2668</td>\n",
       "      <td>22.3583</td>\n",
       "      <td>NaN</td>\n",
       "      <td>C</td>\n",
       "      <td>test</td>\n",
       "    </tr>\n",
       "  </tbody>\n",
       "</table>\n",
       "<p>263 rows × 13 columns</p>\n",
       "</div>"
      ],
      "text/plain": [
       "     PassengerId  Survived  Pclass                             Name     Sex  \\\n",
       "5              6       0.0       3                 Moran, Mr. James    male   \n",
       "17            18       1.0       2     Williams, Mr. Charles Eugene    male   \n",
       "19            20       1.0       3          Masselmani, Mrs. Fatima  female   \n",
       "26            27       0.0       3          Emir, Mr. Farred Chehab    male   \n",
       "28            29       1.0       3    O'Dwyer, Miss. Ellen \"Nellie\"  female   \n",
       "..           ...       ...     ...                              ...     ...   \n",
       "408         1300       NaN       3  Riordan, Miss. Johanna Hannah\"\"  female   \n",
       "410         1302       NaN       3           Naughton, Miss. Hannah  female   \n",
       "413         1305       NaN       3               Spector, Mr. Woolf    male   \n",
       "416         1308       NaN       3              Ware, Mr. Frederick    male   \n",
       "417         1309       NaN       3         Peter, Master. Michael J    male   \n",
       "\n",
       "     Age  SibSp  Parch     Ticket     Fare Cabin Embarked   data  \n",
       "5    NaN      0      0     330877   8.4583   NaN        Q  train  \n",
       "17   NaN      0      0     244373  13.0000   NaN        S  train  \n",
       "19   NaN      0      0       2649   7.2250   NaN        C  train  \n",
       "26   NaN      0      0       2631   7.2250   NaN        C  train  \n",
       "28   NaN      0      0     330959   7.8792   NaN        Q  train  \n",
       "..   ...    ...    ...        ...      ...   ...      ...    ...  \n",
       "408  NaN      0      0     334915   7.7208   NaN        Q   test  \n",
       "410  NaN      0      0     365237   7.7500   NaN        Q   test  \n",
       "413  NaN      0      0  A.5. 3236   8.0500   NaN        S   test  \n",
       "416  NaN      0      0     359309   8.0500   NaN        S   test  \n",
       "417  NaN      1      1       2668  22.3583   NaN        C   test  \n",
       "\n",
       "[263 rows x 13 columns]"
      ]
     },
     "execution_count": 18,
     "metadata": {},
     "output_type": "execute_result"
    }
   ],
   "source": [
    "data[data[\"Age\"].isna()]"
   ]
  },
  {
   "cell_type": "markdown",
   "id": "2f5bd35a",
   "metadata": {
    "papermill": {
     "duration": 0.11228,
     "end_time": "2021-08-06T20:43:18.692934",
     "exception": false,
     "start_time": "2021-08-06T20:43:18.580654",
     "status": "completed"
    },
    "tags": []
   },
   "source": [
    "# Exploratory Data Analysis\n",
    "---------------------------------"
   ]
  },
  {
   "cell_type": "markdown",
   "id": "544b35fb",
   "metadata": {
    "execution": {
     "iopub.execute_input": "2021-08-06T15:18:05.577298Z",
     "iopub.status.busy": "2021-08-06T15:18:05.57691Z",
     "iopub.status.idle": "2021-08-06T15:18:05.581424Z",
     "shell.execute_reply": "2021-08-06T15:18:05.580088Z",
     "shell.execute_reply.started": "2021-08-06T15:18:05.577264Z"
    },
    "papermill": {
     "duration": 0.110733,
     "end_time": "2021-08-06T20:43:18.915367",
     "exception": false,
     "start_time": "2021-08-06T20:43:18.804634",
     "status": "completed"
    },
    "tags": []
   },
   "source": [
    "### Univariate Analysis\n",
    "------------------------------"
   ]
  },
  {
   "cell_type": "code",
   "execution_count": 19,
   "id": "b2da6e45",
   "metadata": {
    "execution": {
     "iopub.execute_input": "2021-08-06T20:43:19.145135Z",
     "iopub.status.busy": "2021-08-06T20:43:19.144274Z",
     "iopub.status.idle": "2021-08-06T20:43:20.700744Z",
     "shell.execute_reply": "2021-08-06T20:43:20.699797Z",
     "shell.execute_reply.started": "2021-08-06T20:26:13.140211Z"
    },
    "papermill": {
     "duration": 1.673078,
     "end_time": "2021-08-06T20:43:20.700980",
     "exception": false,
     "start_time": "2021-08-06T20:43:19.027902",
     "status": "completed"
    },
    "tags": []
   },
   "outputs": [
    {
     "data": {
      "text/plain": [
       "<AxesSubplot:>"
      ]
     },
     "execution_count": 19,
     "metadata": {},
     "output_type": "execute_result"
    },
    {
     "data": {
      "image/png": "[encoded data removed]",
      "text/plain": [
       "<Figure size 432x288 with 1 Axes>"
      ]
     },
     "metadata": {
      "needs_background": "light"
     },
     "output_type": "display_data"
    }
   ],
   "source": [
    "data['Age'].value_counts().plot(kind='bar')"
   ]
  },
  {
   "cell_type": "code",
   "execution_count": 20,
   "id": "938dbafd",
   "metadata": {
    "execution": {
     "iopub.execute_input": "2021-08-06T20:43:20.959293Z",
     "iopub.status.busy": "2021-08-06T20:43:20.958580Z",
     "iopub.status.idle": "2021-08-06T20:43:21.081568Z",
     "shell.execute_reply": "2021-08-06T20:43:21.081048Z",
     "shell.execute_reply.started": "2021-08-06T20:26:14.711112Z"
    },
    "papermill": {
     "duration": 0.267096,
     "end_time": "2021-08-06T20:43:21.081712",
     "exception": false,
     "start_time": "2021-08-06T20:43:20.814616",
     "status": "completed"
    },
    "tags": []
   },
   "outputs": [
    {
     "data": {
      "text/plain": [
       "<AxesSubplot:>"
      ]
     },
     "execution_count": 20,
     "metadata": {},
     "output_type": "execute_result"
    },
    {
     "data": {
      "image/png": "[encoded data removed]",
      "text/plain": [
       "<Figure size 432x288 with 1 Axes>"
      ]
     },
     "metadata": {
      "needs_background": "light"
     },
     "output_type": "display_data"
    }
   ],
   "source": [
    "data['Sex'].value_counts().plot(kind='bar')"
   ]
  },
  {
   "cell_type": "code",
   "execution_count": 21,
   "id": "4a29f970",
   "metadata": {
    "execution": {
     "iopub.execute_input": "2021-08-06T20:43:21.333150Z",
     "iopub.status.busy": "2021-08-06T20:43:21.332445Z",
     "iopub.status.idle": "2021-08-06T20:43:21.453353Z",
     "shell.execute_reply": "2021-08-06T20:43:21.453936Z",
     "shell.execute_reply.started": "2021-08-06T20:26:14.875104Z"
    },
    "papermill": {
     "duration": 0.257934,
     "end_time": "2021-08-06T20:43:21.454112",
     "exception": false,
     "start_time": "2021-08-06T20:43:21.196178",
     "status": "completed"
    },
    "tags": []
   },
   "outputs": [
    {
     "data": {
      "text/plain": [
       "<AxesSubplot:>"
      ]
     },
     "execution_count": 21,
     "metadata": {},
     "output_type": "execute_result"
    },
    {
     "data": {
      "image/png": "[encoded data removed]",
      "text/plain": [
       "<Figure size 432x288 with 1 Axes>"
      ]
     },
     "metadata": {
      "needs_background": "light"
     },
     "output_type": "display_data"
    }
   ],
   "source": [
    "data[\"Pclass\"].value_counts().plot(kind='bar')"
   ]
  },
  {
   "cell_type": "code",
   "execution_count": 22,
   "id": "1cae984d",
   "metadata": {
    "execution": {
     "iopub.execute_input": "2021-08-06T20:43:21.686147Z",
     "iopub.status.busy": "2021-08-06T20:43:21.685434Z",
     "iopub.status.idle": "2021-08-06T20:43:21.833534Z",
     "shell.execute_reply": "2021-08-06T20:43:21.834107Z",
     "shell.execute_reply.started": "2021-08-06T20:26:15.025012Z"
    },
    "papermill": {
     "duration": 0.266218,
     "end_time": "2021-08-06T20:43:21.834287",
     "exception": false,
     "start_time": "2021-08-06T20:43:21.568069",
     "status": "completed"
    },
    "tags": []
   },
   "outputs": [
    {
     "data": {
      "text/plain": [
       "<AxesSubplot:>"
      ]
     },
     "execution_count": 22,
     "metadata": {},
     "output_type": "execute_result"
    },
    {
     "data": {
      "image/png": "[encoded data removed]",
      "text/plain": [
       "<Figure size 432x288 with 1 Axes>"
      ]
     },
     "metadata": {
      "needs_background": "light"
     },
     "output_type": "display_data"
    }
   ],
   "source": [
    "data[\"SibSp\"].value_counts().plot(kind='bar')"
   ]
  },
  {
   "cell_type": "code",
   "execution_count": 23,
   "id": "830e39bf",
   "metadata": {
    "execution": {
     "iopub.execute_input": "2021-08-06T20:43:22.069135Z",
     "iopub.status.busy": "2021-08-06T20:43:22.068388Z",
     "iopub.status.idle": "2021-08-06T20:43:22.237317Z",
     "shell.execute_reply": "2021-08-06T20:43:22.237790Z",
     "shell.execute_reply.started": "2021-08-06T20:26:15.196257Z"
    },
    "papermill": {
     "duration": 0.288293,
     "end_time": "2021-08-06T20:43:22.237968",
     "exception": false,
     "start_time": "2021-08-06T20:43:21.949675",
     "status": "completed"
    },
    "tags": []
   },
   "outputs": [
    {
     "data": {
      "text/plain": [
       "<AxesSubplot:>"
      ]
     },
     "execution_count": 23,
     "metadata": {},
     "output_type": "execute_result"
    },
    {
     "data": {
      "image/png": "[encoded data removed]",
      "text/plain": [
       "<Figure size 432x288 with 1 Axes>"
      ]
     },
     "metadata": {
      "needs_background": "light"
     },
     "output_type": "display_data"
    }
   ],
   "source": [
    "data[\"Parch\"].value_counts().plot(kind='bar')"
   ]
  },
  {
   "cell_type": "code",
   "execution_count": 24,
   "id": "2ec24763",
   "metadata": {
    "execution": {
     "iopub.execute_input": "2021-08-06T20:43:22.479570Z",
     "iopub.status.busy": "2021-08-06T20:43:22.478528Z",
     "iopub.status.idle": "2021-08-06T20:43:22.735904Z",
     "shell.execute_reply": "2021-08-06T20:43:22.736426Z",
     "shell.execute_reply.started": "2021-08-06T20:26:15.366241Z"
    },
    "papermill": {
     "duration": 0.38299,
     "end_time": "2021-08-06T20:43:22.736609",
     "exception": false,
     "start_time": "2021-08-06T20:43:22.353619",
     "status": "completed"
    },
    "tags": []
   },
   "outputs": [
    {
     "data": {
      "text/plain": [
       "<AxesSubplot:>"
      ]
     },
     "execution_count": 24,
     "metadata": {},
     "output_type": "execute_result"
    },
    {
     "data": {
      "image/png": "[encoded data removed]",
      "text/plain": [
       "<Figure size 432x288 with 1 Axes>"
      ]
     },
     "metadata": {
      "needs_background": "light"
     },
     "output_type": "display_data"
    }
   ],
   "source": [
    "data[\"Ticket\"].value_counts().sort_values().head(15).plot(kind='bar')"
   ]
  },
  {
   "cell_type": "code",
   "execution_count": 25,
   "id": "47a9f696",
   "metadata": {
    "execution": {
     "iopub.execute_input": "2021-08-06T20:43:22.994597Z",
     "iopub.status.busy": "2021-08-06T20:43:22.993443Z",
     "iopub.status.idle": "2021-08-06T20:43:22.998127Z",
     "shell.execute_reply": "2021-08-06T20:43:22.998622Z",
     "shell.execute_reply.started": "2021-08-06T20:26:15.602754Z"
    },
    "papermill": {
     "duration": 0.128358,
     "end_time": "2021-08-06T20:43:22.998823",
     "exception": false,
     "start_time": "2021-08-06T20:43:22.870465",
     "status": "completed"
    },
    "tags": []
   },
   "outputs": [
    {
     "data": {
      "text/plain": [
       "929"
      ]
     },
     "execution_count": 25,
     "metadata": {},
     "output_type": "execute_result"
    }
   ],
   "source": [
    "data[\"Ticket\"].nunique()"
   ]
  },
  {
   "cell_type": "code",
   "execution_count": 26,
   "id": "73370c21",
   "metadata": {
    "execution": {
     "iopub.execute_input": "2021-08-06T20:43:23.242173Z",
     "iopub.status.busy": "2021-08-06T20:43:23.241195Z",
     "iopub.status.idle": "2021-08-06T20:43:27.391603Z",
     "shell.execute_reply": "2021-08-06T20:43:27.390983Z",
     "shell.execute_reply.started": "2021-08-06T20:26:15.610747Z"
    },
    "papermill": {
     "duration": 4.272478,
     "end_time": "2021-08-06T20:43:27.391763",
     "exception": false,
     "start_time": "2021-08-06T20:43:23.119285",
     "status": "completed"
    },
    "tags": []
   },
   "outputs": [
    {
     "data": {
      "text/plain": [
       "<AxesSubplot:>"
      ]
     },
     "execution_count": 26,
     "metadata": {},
     "output_type": "execute_result"
    },
    {
     "data": {
      "image/png": "[encoded data removed]",
      "text/plain": [
       "<Figure size 432x288 with 1 Axes>"
      ]
     },
     "metadata": {
      "needs_background": "light"
     },
     "output_type": "display_data"
    }
   ],
   "source": [
    "data[\"Fare\"].value_counts().plot(kind='bar')"
   ]
  },
  {
   "cell_type": "code",
   "execution_count": 27,
   "id": "e9512258",
   "metadata": {
    "execution": {
     "iopub.execute_input": "2021-08-06T20:43:27.652321Z",
     "iopub.status.busy": "2021-08-06T20:43:27.651423Z",
     "iopub.status.idle": "2021-08-06T20:43:27.655055Z",
     "shell.execute_reply": "2021-08-06T20:43:27.655599Z",
     "shell.execute_reply.started": "2021-08-06T20:26:19.763025Z"
    },
    "papermill": {
     "duration": 0.143279,
     "end_time": "2021-08-06T20:43:27.655804",
     "exception": false,
     "start_time": "2021-08-06T20:43:27.512525",
     "status": "completed"
    },
    "tags": []
   },
   "outputs": [
    {
     "data": {
      "text/html": [
       "<div>\n",
       "<style scoped>\n",
       "    .dataframe tbody tr th:only-of-type {\n",
       "        vertical-align: middle;\n",
       "    }\n",
       "\n",
       "    .dataframe tbody tr th {\n",
       "        vertical-align: top;\n",
       "    }\n",
       "\n",
       "    .dataframe thead th {\n",
       "        text-align: right;\n",
       "    }\n",
       "</style>\n",
       "<table border=\"1\" class=\"dataframe\">\n",
       "  <thead>\n",
       "    <tr style=\"text-align: right;\">\n",
       "      <th></th>\n",
       "      <th>PassengerId</th>\n",
       "      <th>Survived</th>\n",
       "      <th>Pclass</th>\n",
       "      <th>Name</th>\n",
       "      <th>Sex</th>\n",
       "      <th>Age</th>\n",
       "      <th>SibSp</th>\n",
       "      <th>Parch</th>\n",
       "      <th>Ticket</th>\n",
       "      <th>Fare</th>\n",
       "      <th>Cabin</th>\n",
       "      <th>Embarked</th>\n",
       "      <th>data</th>\n",
       "    </tr>\n",
       "  </thead>\n",
       "  <tbody>\n",
       "    <tr>\n",
       "      <th>152</th>\n",
       "      <td>1044</td>\n",
       "      <td>NaN</td>\n",
       "      <td>3</td>\n",
       "      <td>Storey, Mr. Thomas</td>\n",
       "      <td>male</td>\n",
       "      <td>60.5</td>\n",
       "      <td>0</td>\n",
       "      <td>0</td>\n",
       "      <td>3701</td>\n",
       "      <td>NaN</td>\n",
       "      <td>NaN</td>\n",
       "      <td>S</td>\n",
       "      <td>test</td>\n",
       "    </tr>\n",
       "  </tbody>\n",
       "</table>\n",
       "</div>"
      ],
      "text/plain": [
       "     PassengerId  Survived  Pclass                Name   Sex   Age  SibSp  \\\n",
       "152         1044       NaN       3  Storey, Mr. Thomas  male  60.5      0   \n",
       "\n",
       "     Parch Ticket  Fare Cabin Embarked  data  \n",
       "152      0   3701   NaN   NaN        S  test  "
      ]
     },
     "execution_count": 27,
     "metadata": {},
     "output_type": "execute_result"
    }
   ],
   "source": [
    "data[data[\"Fare\"].isna()]"
   ]
  },
  {
   "cell_type": "code",
   "execution_count": 28,
   "id": "0a6bb015",
   "metadata": {
    "execution": {
     "iopub.execute_input": "2021-08-06T20:43:27.904929Z",
     "iopub.status.busy": "2021-08-06T20:43:27.904214Z",
     "iopub.status.idle": "2021-08-06T20:43:27.914009Z",
     "shell.execute_reply": "2021-08-06T20:43:27.914486Z",
     "shell.execute_reply.started": "2021-08-06T20:26:19.782233Z"
    },
    "papermill": {
     "duration": 0.135401,
     "end_time": "2021-08-06T20:43:27.914670",
     "exception": false,
     "start_time": "2021-08-06T20:43:27.779269",
     "status": "completed"
    },
    "tags": []
   },
   "outputs": [
    {
     "data": {
      "text/plain": [
       "C23 C25 C27        6\n",
       "G6                 5\n",
       "B57 B59 B63 B66    5\n",
       "B96 B98            4\n",
       "F33                4\n",
       "                  ..\n",
       "E17                1\n",
       "C28                1\n",
       "B37                1\n",
       "C132               1\n",
       "C118               1\n",
       "Name: Cabin, Length: 186, dtype: int64"
      ]
     },
     "execution_count": 28,
     "metadata": {},
     "output_type": "execute_result"
    }
   ],
   "source": [
    "data[\"Cabin\"].value_counts()\n"
   ]
  },
  {
   "cell_type": "code",
   "execution_count": 29,
   "id": "d93557fa",
   "metadata": {
    "execution": {
     "iopub.execute_input": "2021-08-06T20:43:28.179713Z",
     "iopub.status.busy": "2021-08-06T20:43:28.178611Z",
     "iopub.status.idle": "2021-08-06T20:43:28.183791Z",
     "shell.execute_reply": "2021-08-06T20:43:28.184262Z",
     "shell.execute_reply.started": "2021-08-06T20:26:19.798797Z"
    },
    "papermill": {
     "duration": 0.147401,
     "end_time": "2021-08-06T20:43:28.184441",
     "exception": false,
     "start_time": "2021-08-06T20:43:28.037040",
     "status": "completed"
    },
    "tags": []
   },
   "outputs": [
    {
     "data": {
      "text/html": [
       "<div>\n",
       "<style scoped>\n",
       "    .dataframe tbody tr th:only-of-type {\n",
       "        vertical-align: middle;\n",
       "    }\n",
       "\n",
       "    .dataframe tbody tr th {\n",
       "        vertical-align: top;\n",
       "    }\n",
       "\n",
       "    .dataframe thead th {\n",
       "        text-align: right;\n",
       "    }\n",
       "</style>\n",
       "<table border=\"1\" class=\"dataframe\">\n",
       "  <thead>\n",
       "    <tr style=\"text-align: right;\">\n",
       "      <th></th>\n",
       "      <th>PassengerId</th>\n",
       "      <th>Survived</th>\n",
       "      <th>Pclass</th>\n",
       "      <th>Name</th>\n",
       "      <th>Sex</th>\n",
       "      <th>Age</th>\n",
       "      <th>SibSp</th>\n",
       "      <th>Parch</th>\n",
       "      <th>Ticket</th>\n",
       "      <th>Fare</th>\n",
       "      <th>Cabin</th>\n",
       "      <th>Embarked</th>\n",
       "      <th>data</th>\n",
       "    </tr>\n",
       "  </thead>\n",
       "  <tbody>\n",
       "    <tr>\n",
       "      <th>27</th>\n",
       "      <td>28</td>\n",
       "      <td>0.0</td>\n",
       "      <td>1</td>\n",
       "      <td>Fortune, Mr. Charles Alexander</td>\n",
       "      <td>male</td>\n",
       "      <td>19.0</td>\n",
       "      <td>3</td>\n",
       "      <td>2</td>\n",
       "      <td>19950</td>\n",
       "      <td>263.0</td>\n",
       "      <td>C23 C25 C27</td>\n",
       "      <td>S</td>\n",
       "      <td>train</td>\n",
       "    </tr>\n",
       "    <tr>\n",
       "      <th>88</th>\n",
       "      <td>89</td>\n",
       "      <td>1.0</td>\n",
       "      <td>1</td>\n",
       "      <td>Fortune, Miss. Mabel Helen</td>\n",
       "      <td>female</td>\n",
       "      <td>23.0</td>\n",
       "      <td>3</td>\n",
       "      <td>2</td>\n",
       "      <td>19950</td>\n",
       "      <td>263.0</td>\n",
       "      <td>C23 C25 C27</td>\n",
       "      <td>S</td>\n",
       "      <td>train</td>\n",
       "    </tr>\n",
       "    <tr>\n",
       "      <th>341</th>\n",
       "      <td>342</td>\n",
       "      <td>1.0</td>\n",
       "      <td>1</td>\n",
       "      <td>Fortune, Miss. Alice Elizabeth</td>\n",
       "      <td>female</td>\n",
       "      <td>24.0</td>\n",
       "      <td>3</td>\n",
       "      <td>2</td>\n",
       "      <td>19950</td>\n",
       "      <td>263.0</td>\n",
       "      <td>C23 C25 C27</td>\n",
       "      <td>S</td>\n",
       "      <td>train</td>\n",
       "    </tr>\n",
       "    <tr>\n",
       "      <th>438</th>\n",
       "      <td>439</td>\n",
       "      <td>0.0</td>\n",
       "      <td>1</td>\n",
       "      <td>Fortune, Mr. Mark</td>\n",
       "      <td>male</td>\n",
       "      <td>64.0</td>\n",
       "      <td>1</td>\n",
       "      <td>4</td>\n",
       "      <td>19950</td>\n",
       "      <td>263.0</td>\n",
       "      <td>C23 C25 C27</td>\n",
       "      <td>S</td>\n",
       "      <td>train</td>\n",
       "    </tr>\n",
       "    <tr>\n",
       "      <th>53</th>\n",
       "      <td>945</td>\n",
       "      <td>NaN</td>\n",
       "      <td>1</td>\n",
       "      <td>Fortune, Miss. Ethel Flora</td>\n",
       "      <td>female</td>\n",
       "      <td>28.0</td>\n",
       "      <td>3</td>\n",
       "      <td>2</td>\n",
       "      <td>19950</td>\n",
       "      <td>263.0</td>\n",
       "      <td>C23 C25 C27</td>\n",
       "      <td>S</td>\n",
       "      <td>test</td>\n",
       "    </tr>\n",
       "    <tr>\n",
       "      <th>69</th>\n",
       "      <td>961</td>\n",
       "      <td>NaN</td>\n",
       "      <td>1</td>\n",
       "      <td>Fortune, Mrs. Mark (Mary McDougald)</td>\n",
       "      <td>female</td>\n",
       "      <td>60.0</td>\n",
       "      <td>1</td>\n",
       "      <td>4</td>\n",
       "      <td>19950</td>\n",
       "      <td>263.0</td>\n",
       "      <td>C23 C25 C27</td>\n",
       "      <td>S</td>\n",
       "      <td>test</td>\n",
       "    </tr>\n",
       "  </tbody>\n",
       "</table>\n",
       "</div>"
      ],
      "text/plain": [
       "     PassengerId  Survived  Pclass                                 Name  \\\n",
       "27            28       0.0       1       Fortune, Mr. Charles Alexander   \n",
       "88            89       1.0       1           Fortune, Miss. Mabel Helen   \n",
       "341          342       1.0       1       Fortune, Miss. Alice Elizabeth   \n",
       "438          439       0.0       1                    Fortune, Mr. Mark   \n",
       "53           945       NaN       1           Fortune, Miss. Ethel Flora   \n",
       "69           961       NaN       1  Fortune, Mrs. Mark (Mary McDougald)   \n",
       "\n",
       "        Sex   Age  SibSp  Parch Ticket   Fare        Cabin Embarked   data  \n",
       "27     male  19.0      3      2  19950  263.0  C23 C25 C27        S  train  \n",
       "88   female  23.0      3      2  19950  263.0  C23 C25 C27        S  train  \n",
       "341  female  24.0      3      2  19950  263.0  C23 C25 C27        S  train  \n",
       "438    male  64.0      1      4  19950  263.0  C23 C25 C27        S  train  \n",
       "53   female  28.0      3      2  19950  263.0  C23 C25 C27        S   test  \n",
       "69   female  60.0      1      4  19950  263.0  C23 C25 C27        S   test  "
      ]
     },
     "execution_count": 29,
     "metadata": {},
     "output_type": "execute_result"
    }
   ],
   "source": [
    "data[data[\"Cabin\"]==\"C23 C25 C27\"]"
   ]
  },
  {
   "cell_type": "code",
   "execution_count": 30,
   "id": "23269e7e",
   "metadata": {
    "execution": {
     "iopub.execute_input": "2021-08-06T20:43:28.433641Z",
     "iopub.status.busy": "2021-08-06T20:43:28.432580Z",
     "iopub.status.idle": "2021-08-06T20:43:28.461485Z",
     "shell.execute_reply": "2021-08-06T20:43:28.460985Z",
     "shell.execute_reply.started": "2021-08-06T20:26:19.829094Z"
    },
    "papermill": {
     "duration": 0.156659,
     "end_time": "2021-08-06T20:43:28.461628",
     "exception": false,
     "start_time": "2021-08-06T20:43:28.304969",
     "status": "completed"
    },
    "tags": []
   },
   "outputs": [
    {
     "data": {
      "text/html": [
       "<div>\n",
       "<style scoped>\n",
       "    .dataframe tbody tr th:only-of-type {\n",
       "        vertical-align: middle;\n",
       "    }\n",
       "\n",
       "    .dataframe tbody tr th {\n",
       "        vertical-align: top;\n",
       "    }\n",
       "\n",
       "    .dataframe thead th {\n",
       "        text-align: right;\n",
       "    }\n",
       "</style>\n",
       "<table border=\"1\" class=\"dataframe\">\n",
       "  <thead>\n",
       "    <tr style=\"text-align: right;\">\n",
       "      <th></th>\n",
       "      <th>PassengerId</th>\n",
       "      <th>Survived</th>\n",
       "      <th>Pclass</th>\n",
       "      <th>Name</th>\n",
       "      <th>Sex</th>\n",
       "      <th>Age</th>\n",
       "      <th>SibSp</th>\n",
       "      <th>Parch</th>\n",
       "      <th>Ticket</th>\n",
       "      <th>Fare</th>\n",
       "      <th>Cabin</th>\n",
       "      <th>Embarked</th>\n",
       "      <th>data</th>\n",
       "    </tr>\n",
       "  </thead>\n",
       "  <tbody>\n",
       "    <tr>\n",
       "      <th>0</th>\n",
       "      <td>1</td>\n",
       "      <td>0.0</td>\n",
       "      <td>3</td>\n",
       "      <td>Braund, Mr. Owen Harris</td>\n",
       "      <td>male</td>\n",
       "      <td>22.0</td>\n",
       "      <td>1</td>\n",
       "      <td>0</td>\n",
       "      <td>A/5 21171</td>\n",
       "      <td>7.2500</td>\n",
       "      <td>NaN</td>\n",
       "      <td>S</td>\n",
       "      <td>train</td>\n",
       "    </tr>\n",
       "    <tr>\n",
       "      <th>2</th>\n",
       "      <td>3</td>\n",
       "      <td>1.0</td>\n",
       "      <td>3</td>\n",
       "      <td>Heikkinen, Miss. Laina</td>\n",
       "      <td>female</td>\n",
       "      <td>26.0</td>\n",
       "      <td>0</td>\n",
       "      <td>0</td>\n",
       "      <td>STON/O2. 3101282</td>\n",
       "      <td>7.9250</td>\n",
       "      <td>NaN</td>\n",
       "      <td>S</td>\n",
       "      <td>train</td>\n",
       "    </tr>\n",
       "    <tr>\n",
       "      <th>4</th>\n",
       "      <td>5</td>\n",
       "      <td>0.0</td>\n",
       "      <td>3</td>\n",
       "      <td>Allen, Mr. William Henry</td>\n",
       "      <td>male</td>\n",
       "      <td>35.0</td>\n",
       "      <td>0</td>\n",
       "      <td>0</td>\n",
       "      <td>373450</td>\n",
       "      <td>8.0500</td>\n",
       "      <td>NaN</td>\n",
       "      <td>S</td>\n",
       "      <td>train</td>\n",
       "    </tr>\n",
       "    <tr>\n",
       "      <th>5</th>\n",
       "      <td>6</td>\n",
       "      <td>0.0</td>\n",
       "      <td>3</td>\n",
       "      <td>Moran, Mr. James</td>\n",
       "      <td>male</td>\n",
       "      <td>NaN</td>\n",
       "      <td>0</td>\n",
       "      <td>0</td>\n",
       "      <td>330877</td>\n",
       "      <td>8.4583</td>\n",
       "      <td>NaN</td>\n",
       "      <td>Q</td>\n",
       "      <td>train</td>\n",
       "    </tr>\n",
       "    <tr>\n",
       "      <th>7</th>\n",
       "      <td>8</td>\n",
       "      <td>0.0</td>\n",
       "      <td>3</td>\n",
       "      <td>Palsson, Master. Gosta Leonard</td>\n",
       "      <td>male</td>\n",
       "      <td>2.0</td>\n",
       "      <td>3</td>\n",
       "      <td>1</td>\n",
       "      <td>349909</td>\n",
       "      <td>21.0750</td>\n",
       "      <td>NaN</td>\n",
       "      <td>S</td>\n",
       "      <td>train</td>\n",
       "    </tr>\n",
       "    <tr>\n",
       "      <th>...</th>\n",
       "      <td>...</td>\n",
       "      <td>...</td>\n",
       "      <td>...</td>\n",
       "      <td>...</td>\n",
       "      <td>...</td>\n",
       "      <td>...</td>\n",
       "      <td>...</td>\n",
       "      <td>...</td>\n",
       "      <td>...</td>\n",
       "      <td>...</td>\n",
       "      <td>...</td>\n",
       "      <td>...</td>\n",
       "      <td>...</td>\n",
       "    </tr>\n",
       "    <tr>\n",
       "      <th>412</th>\n",
       "      <td>1304</td>\n",
       "      <td>NaN</td>\n",
       "      <td>3</td>\n",
       "      <td>Henriksson, Miss. Jenny Lovisa</td>\n",
       "      <td>female</td>\n",
       "      <td>28.0</td>\n",
       "      <td>0</td>\n",
       "      <td>0</td>\n",
       "      <td>347086</td>\n",
       "      <td>7.7750</td>\n",
       "      <td>NaN</td>\n",
       "      <td>S</td>\n",
       "      <td>test</td>\n",
       "    </tr>\n",
       "    <tr>\n",
       "      <th>413</th>\n",
       "      <td>1305</td>\n",
       "      <td>NaN</td>\n",
       "      <td>3</td>\n",
       "      <td>Spector, Mr. Woolf</td>\n",
       "      <td>male</td>\n",
       "      <td>NaN</td>\n",
       "      <td>0</td>\n",
       "      <td>0</td>\n",
       "      <td>A.5. 3236</td>\n",
       "      <td>8.0500</td>\n",
       "      <td>NaN</td>\n",
       "      <td>S</td>\n",
       "      <td>test</td>\n",
       "    </tr>\n",
       "    <tr>\n",
       "      <th>415</th>\n",
       "      <td>1307</td>\n",
       "      <td>NaN</td>\n",
       "      <td>3</td>\n",
       "      <td>Saether, Mr. Simon Sivertsen</td>\n",
       "      <td>male</td>\n",
       "      <td>38.5</td>\n",
       "      <td>0</td>\n",
       "      <td>0</td>\n",
       "      <td>SOTON/O.Q. 3101262</td>\n",
       "      <td>7.2500</td>\n",
       "      <td>NaN</td>\n",
       "      <td>S</td>\n",
       "      <td>test</td>\n",
       "    </tr>\n",
       "    <tr>\n",
       "      <th>416</th>\n",
       "      <td>1308</td>\n",
       "      <td>NaN</td>\n",
       "      <td>3</td>\n",
       "      <td>Ware, Mr. Frederick</td>\n",
       "      <td>male</td>\n",
       "      <td>NaN</td>\n",
       "      <td>0</td>\n",
       "      <td>0</td>\n",
       "      <td>359309</td>\n",
       "      <td>8.0500</td>\n",
       "      <td>NaN</td>\n",
       "      <td>S</td>\n",
       "      <td>test</td>\n",
       "    </tr>\n",
       "    <tr>\n",
       "      <th>417</th>\n",
       "      <td>1309</td>\n",
       "      <td>NaN</td>\n",
       "      <td>3</td>\n",
       "      <td>Peter, Master. Michael J</td>\n",
       "      <td>male</td>\n",
       "      <td>NaN</td>\n",
       "      <td>1</td>\n",
       "      <td>1</td>\n",
       "      <td>2668</td>\n",
       "      <td>22.3583</td>\n",
       "      <td>NaN</td>\n",
       "      <td>C</td>\n",
       "      <td>test</td>\n",
       "    </tr>\n",
       "  </tbody>\n",
       "</table>\n",
       "<p>1014 rows × 13 columns</p>\n",
       "</div>"
      ],
      "text/plain": [
       "     PassengerId  Survived  Pclass                            Name     Sex  \\\n",
       "0              1       0.0       3         Braund, Mr. Owen Harris    male   \n",
       "2              3       1.0       3          Heikkinen, Miss. Laina  female   \n",
       "4              5       0.0       3        Allen, Mr. William Henry    male   \n",
       "5              6       0.0       3                Moran, Mr. James    male   \n",
       "7              8       0.0       3  Palsson, Master. Gosta Leonard    male   \n",
       "..           ...       ...     ...                             ...     ...   \n",
       "412         1304       NaN       3  Henriksson, Miss. Jenny Lovisa  female   \n",
       "413         1305       NaN       3              Spector, Mr. Woolf    male   \n",
       "415         1307       NaN       3    Saether, Mr. Simon Sivertsen    male   \n",
       "416         1308       NaN       3             Ware, Mr. Frederick    male   \n",
       "417         1309       NaN       3        Peter, Master. Michael J    male   \n",
       "\n",
       "      Age  SibSp  Parch              Ticket     Fare Cabin Embarked   data  \n",
       "0    22.0      1      0           A/5 21171   7.2500   NaN        S  train  \n",
       "2    26.0      0      0    STON/O2. 3101282   7.9250   NaN        S  train  \n",
       "4    35.0      0      0              373450   8.0500   NaN        S  train  \n",
       "5     NaN      0      0              330877   8.4583   NaN        Q  train  \n",
       "7     2.0      3      1              349909  21.0750   NaN        S  train  \n",
       "..    ...    ...    ...                 ...      ...   ...      ...    ...  \n",
       "412  28.0      0      0              347086   7.7750   NaN        S   test  \n",
       "413   NaN      0      0           A.5. 3236   8.0500   NaN        S   test  \n",
       "415  38.5      0      0  SOTON/O.Q. 3101262   7.2500   NaN        S   test  \n",
       "416   NaN      0      0              359309   8.0500   NaN        S   test  \n",
       "417   NaN      1      1                2668  22.3583   NaN        C   test  \n",
       "\n",
       "[1014 rows x 13 columns]"
      ]
     },
     "execution_count": 30,
     "metadata": {},
     "output_type": "execute_result"
    }
   ],
   "source": [
    "data[data[\"Cabin\"].isna()]"
   ]
  },
  {
   "cell_type": "code",
   "execution_count": 31,
   "id": "224defcd",
   "metadata": {
    "execution": {
     "iopub.execute_input": "2021-08-06T20:43:28.709598Z",
     "iopub.status.busy": "2021-08-06T20:43:28.708928Z",
     "iopub.status.idle": "2021-08-06T20:43:28.729170Z",
     "shell.execute_reply": "2021-08-06T20:43:28.728598Z",
     "shell.execute_reply.started": "2021-08-06T20:26:19.867971Z"
    },
    "papermill": {
     "duration": 0.145675,
     "end_time": "2021-08-06T20:43:28.729338",
     "exception": false,
     "start_time": "2021-08-06T20:43:28.583663",
     "status": "completed"
    },
    "tags": []
   },
   "outputs": [
    {
     "data": {
      "text/html": [
       "<div>\n",
       "<style scoped>\n",
       "    .dataframe tbody tr th:only-of-type {\n",
       "        vertical-align: middle;\n",
       "    }\n",
       "\n",
       "    .dataframe tbody tr th {\n",
       "        vertical-align: top;\n",
       "    }\n",
       "\n",
       "    .dataframe thead th {\n",
       "        text-align: right;\n",
       "    }\n",
       "</style>\n",
       "<table border=\"1\" class=\"dataframe\">\n",
       "  <thead>\n",
       "    <tr style=\"text-align: right;\">\n",
       "      <th></th>\n",
       "      <th>PassengerId</th>\n",
       "      <th>Survived</th>\n",
       "      <th>Pclass</th>\n",
       "      <th>Name</th>\n",
       "      <th>Sex</th>\n",
       "      <th>Age</th>\n",
       "      <th>SibSp</th>\n",
       "      <th>Parch</th>\n",
       "      <th>Ticket</th>\n",
       "      <th>Fare</th>\n",
       "      <th>Cabin</th>\n",
       "      <th>Embarked</th>\n",
       "      <th>data</th>\n",
       "    </tr>\n",
       "  </thead>\n",
       "  <tbody>\n",
       "    <tr>\n",
       "      <th>7</th>\n",
       "      <td>8</td>\n",
       "      <td>0.0</td>\n",
       "      <td>3</td>\n",
       "      <td>Palsson, Master. Gosta Leonard</td>\n",
       "      <td>male</td>\n",
       "      <td>2.0</td>\n",
       "      <td>3</td>\n",
       "      <td>1</td>\n",
       "      <td>349909</td>\n",
       "      <td>21.075</td>\n",
       "      <td>NaN</td>\n",
       "      <td>S</td>\n",
       "      <td>train</td>\n",
       "    </tr>\n",
       "    <tr>\n",
       "      <th>24</th>\n",
       "      <td>25</td>\n",
       "      <td>0.0</td>\n",
       "      <td>3</td>\n",
       "      <td>Palsson, Miss. Torborg Danira</td>\n",
       "      <td>female</td>\n",
       "      <td>8.0</td>\n",
       "      <td>3</td>\n",
       "      <td>1</td>\n",
       "      <td>349909</td>\n",
       "      <td>21.075</td>\n",
       "      <td>NaN</td>\n",
       "      <td>S</td>\n",
       "      <td>train</td>\n",
       "    </tr>\n",
       "    <tr>\n",
       "      <th>374</th>\n",
       "      <td>375</td>\n",
       "      <td>0.0</td>\n",
       "      <td>3</td>\n",
       "      <td>Palsson, Miss. Stina Viola</td>\n",
       "      <td>female</td>\n",
       "      <td>3.0</td>\n",
       "      <td>3</td>\n",
       "      <td>1</td>\n",
       "      <td>349909</td>\n",
       "      <td>21.075</td>\n",
       "      <td>NaN</td>\n",
       "      <td>S</td>\n",
       "      <td>train</td>\n",
       "    </tr>\n",
       "    <tr>\n",
       "      <th>567</th>\n",
       "      <td>568</td>\n",
       "      <td>0.0</td>\n",
       "      <td>3</td>\n",
       "      <td>Palsson, Mrs. Nils (Alma Cornelia Berglund)</td>\n",
       "      <td>female</td>\n",
       "      <td>29.0</td>\n",
       "      <td>0</td>\n",
       "      <td>4</td>\n",
       "      <td>349909</td>\n",
       "      <td>21.075</td>\n",
       "      <td>NaN</td>\n",
       "      <td>S</td>\n",
       "      <td>train</td>\n",
       "    </tr>\n",
       "    <tr>\n",
       "      <th>389</th>\n",
       "      <td>1281</td>\n",
       "      <td>NaN</td>\n",
       "      <td>3</td>\n",
       "      <td>Palsson, Master. Paul Folke</td>\n",
       "      <td>male</td>\n",
       "      <td>6.0</td>\n",
       "      <td>3</td>\n",
       "      <td>1</td>\n",
       "      <td>349909</td>\n",
       "      <td>21.075</td>\n",
       "      <td>NaN</td>\n",
       "      <td>S</td>\n",
       "      <td>test</td>\n",
       "    </tr>\n",
       "  </tbody>\n",
       "</table>\n",
       "</div>"
      ],
      "text/plain": [
       "     PassengerId  Survived  Pclass  \\\n",
       "7              8       0.0       3   \n",
       "24            25       0.0       3   \n",
       "374          375       0.0       3   \n",
       "567          568       0.0       3   \n",
       "389         1281       NaN       3   \n",
       "\n",
       "                                            Name     Sex   Age  SibSp  Parch  \\\n",
       "7                 Palsson, Master. Gosta Leonard    male   2.0      3      1   \n",
       "24                 Palsson, Miss. Torborg Danira  female   8.0      3      1   \n",
       "374                   Palsson, Miss. Stina Viola  female   3.0      3      1   \n",
       "567  Palsson, Mrs. Nils (Alma Cornelia Berglund)  female  29.0      0      4   \n",
       "389                  Palsson, Master. Paul Folke    male   6.0      3      1   \n",
       "\n",
       "     Ticket    Fare Cabin Embarked   data  \n",
       "7    349909  21.075   NaN        S  train  \n",
       "24   349909  21.075   NaN        S  train  \n",
       "374  349909  21.075   NaN        S  train  \n",
       "567  349909  21.075   NaN        S  train  \n",
       "389  349909  21.075   NaN        S   test  "
      ]
     },
     "execution_count": 31,
     "metadata": {},
     "output_type": "execute_result"
    }
   ],
   "source": [
    "data[data[\"Ticket\"]==\"349909\"]"
   ]
  },
  {
   "cell_type": "code",
   "execution_count": 32,
   "id": "77aad3c2",
   "metadata": {
    "execution": {
     "iopub.execute_input": "2021-08-06T20:43:28.983576Z",
     "iopub.status.busy": "2021-08-06T20:43:28.982671Z",
     "iopub.status.idle": "2021-08-06T20:43:28.986946Z",
     "shell.execute_reply": "2021-08-06T20:43:28.986418Z",
     "shell.execute_reply.started": "2021-08-06T20:26:19.891184Z"
    },
    "papermill": {
     "duration": 0.135158,
     "end_time": "2021-08-06T20:43:28.987097",
     "exception": false,
     "start_time": "2021-08-06T20:43:28.851939",
     "status": "completed"
    },
    "tags": []
   },
   "outputs": [
    {
     "data": {
      "text/plain": [
       "S    914\n",
       "C    270\n",
       "Q    123\n",
       "Name: Embarked, dtype: int64"
      ]
     },
     "execution_count": 32,
     "metadata": {},
     "output_type": "execute_result"
    }
   ],
   "source": [
    "data[\"Embarked\"].value_counts()"
   ]
  },
  {
   "cell_type": "code",
   "execution_count": 33,
   "id": "88049b47",
   "metadata": {
    "execution": {
     "iopub.execute_input": "2021-08-06T20:43:29.392172Z",
     "iopub.status.busy": "2021-08-06T20:43:29.379131Z",
     "iopub.status.idle": "2021-08-06T20:43:29.496750Z",
     "shell.execute_reply": "2021-08-06T20:43:29.496207Z",
     "shell.execute_reply.started": "2021-08-06T20:26:19.907901Z"
    },
    "papermill": {
     "duration": 0.387827,
     "end_time": "2021-08-06T20:43:29.496899",
     "exception": false,
     "start_time": "2021-08-06T20:43:29.109072",
     "status": "completed"
    },
    "tags": []
   },
   "outputs": [
    {
     "data": {
      "text/plain": [
       "<AxesSubplot:>"
      ]
     },
     "execution_count": 33,
     "metadata": {},
     "output_type": "execute_result"
    },
    {
     "data": {
      "image/png": "[encoded data removed]",
      "text/plain": [
       "<Figure size 432x288 with 1 Axes>"
      ]
     },
     "metadata": {
      "needs_background": "light"
     },
     "output_type": "display_data"
    }
   ],
   "source": [
    "data[\"Embarked\"].value_counts().plot(kind='bar')"
   ]
  },
  {
   "cell_type": "code",
   "execution_count": 34,
   "id": "0a9eaf70",
   "metadata": {
    "execution": {
     "iopub.execute_input": "2021-08-06T20:43:29.761213Z",
     "iopub.status.busy": "2021-08-06T20:43:29.760273Z",
     "iopub.status.idle": "2021-08-06T20:43:29.764300Z",
     "shell.execute_reply": "2021-08-06T20:43:29.763657Z",
     "shell.execute_reply.started": "2021-08-06T20:26:20.052415Z"
    },
    "papermill": {
     "duration": 0.144582,
     "end_time": "2021-08-06T20:43:29.764442",
     "exception": false,
     "start_time": "2021-08-06T20:43:29.619860",
     "status": "completed"
    },
    "tags": []
   },
   "outputs": [
    {
     "data": {
      "text/html": [
       "<div>\n",
       "<style scoped>\n",
       "    .dataframe tbody tr th:only-of-type {\n",
       "        vertical-align: middle;\n",
       "    }\n",
       "\n",
       "    .dataframe tbody tr th {\n",
       "        vertical-align: top;\n",
       "    }\n",
       "\n",
       "    .dataframe thead th {\n",
       "        text-align: right;\n",
       "    }\n",
       "</style>\n",
       "<table border=\"1\" class=\"dataframe\">\n",
       "  <thead>\n",
       "    <tr style=\"text-align: right;\">\n",
       "      <th></th>\n",
       "      <th>PassengerId</th>\n",
       "      <th>Survived</th>\n",
       "      <th>Pclass</th>\n",
       "      <th>Name</th>\n",
       "      <th>Sex</th>\n",
       "      <th>Age</th>\n",
       "      <th>SibSp</th>\n",
       "      <th>Parch</th>\n",
       "      <th>Ticket</th>\n",
       "      <th>Fare</th>\n",
       "      <th>Cabin</th>\n",
       "      <th>Embarked</th>\n",
       "      <th>data</th>\n",
       "    </tr>\n",
       "  </thead>\n",
       "  <tbody>\n",
       "    <tr>\n",
       "      <th>61</th>\n",
       "      <td>62</td>\n",
       "      <td>1.0</td>\n",
       "      <td>1</td>\n",
       "      <td>Icard, Miss. Amelie</td>\n",
       "      <td>female</td>\n",
       "      <td>38.0</td>\n",
       "      <td>0</td>\n",
       "      <td>0</td>\n",
       "      <td>113572</td>\n",
       "      <td>80.0</td>\n",
       "      <td>B28</td>\n",
       "      <td>NaN</td>\n",
       "      <td>train</td>\n",
       "    </tr>\n",
       "    <tr>\n",
       "      <th>829</th>\n",
       "      <td>830</td>\n",
       "      <td>1.0</td>\n",
       "      <td>1</td>\n",
       "      <td>Stone, Mrs. George Nelson (Martha Evelyn)</td>\n",
       "      <td>female</td>\n",
       "      <td>62.0</td>\n",
       "      <td>0</td>\n",
       "      <td>0</td>\n",
       "      <td>113572</td>\n",
       "      <td>80.0</td>\n",
       "      <td>B28</td>\n",
       "      <td>NaN</td>\n",
       "      <td>train</td>\n",
       "    </tr>\n",
       "  </tbody>\n",
       "</table>\n",
       "</div>"
      ],
      "text/plain": [
       "     PassengerId  Survived  Pclass                                       Name  \\\n",
       "61            62       1.0       1                        Icard, Miss. Amelie   \n",
       "829          830       1.0       1  Stone, Mrs. George Nelson (Martha Evelyn)   \n",
       "\n",
       "        Sex   Age  SibSp  Parch  Ticket  Fare Cabin Embarked   data  \n",
       "61   female  38.0      0      0  113572  80.0   B28      NaN  train  \n",
       "829  female  62.0      0      0  113572  80.0   B28      NaN  train  "
      ]
     },
     "execution_count": 34,
     "metadata": {},
     "output_type": "execute_result"
    }
   ],
   "source": [
    "data[data[\"Embarked\"].isna()]"
   ]
  },
  {
   "cell_type": "code",
   "execution_count": 35,
   "id": "1bbc0694",
   "metadata": {
    "execution": {
     "iopub.execute_input": "2021-08-06T20:43:30.031131Z",
     "iopub.status.busy": "2021-08-06T20:43:30.030150Z",
     "iopub.status.idle": "2021-08-06T20:43:30.034669Z",
     "shell.execute_reply": "2021-08-06T20:43:30.034036Z",
     "shell.execute_reply.started": "2021-08-06T20:26:20.0726Z"
    },
    "papermill": {
     "duration": 0.146613,
     "end_time": "2021-08-06T20:43:30.034832",
     "exception": false,
     "start_time": "2021-08-06T20:43:29.888219",
     "status": "completed"
    },
    "tags": []
   },
   "outputs": [
    {
     "data": {
      "text/html": [
       "<div>\n",
       "<style scoped>\n",
       "    .dataframe tbody tr th:only-of-type {\n",
       "        vertical-align: middle;\n",
       "    }\n",
       "\n",
       "    .dataframe tbody tr th {\n",
       "        vertical-align: top;\n",
       "    }\n",
       "\n",
       "    .dataframe thead th {\n",
       "        text-align: right;\n",
       "    }\n",
       "</style>\n",
       "<table border=\"1\" class=\"dataframe\">\n",
       "  <thead>\n",
       "    <tr style=\"text-align: right;\">\n",
       "      <th></th>\n",
       "      <th>PassengerId</th>\n",
       "      <th>Survived</th>\n",
       "      <th>Pclass</th>\n",
       "      <th>Name</th>\n",
       "      <th>Sex</th>\n",
       "      <th>Age</th>\n",
       "      <th>SibSp</th>\n",
       "      <th>Parch</th>\n",
       "      <th>Ticket</th>\n",
       "      <th>Fare</th>\n",
       "      <th>Cabin</th>\n",
       "      <th>Embarked</th>\n",
       "      <th>data</th>\n",
       "    </tr>\n",
       "  </thead>\n",
       "  <tbody>\n",
       "    <tr>\n",
       "      <th>61</th>\n",
       "      <td>62</td>\n",
       "      <td>1.0</td>\n",
       "      <td>1</td>\n",
       "      <td>Icard, Miss. Amelie</td>\n",
       "      <td>female</td>\n",
       "      <td>38.0</td>\n",
       "      <td>0</td>\n",
       "      <td>0</td>\n",
       "      <td>113572</td>\n",
       "      <td>80.0</td>\n",
       "      <td>B28</td>\n",
       "      <td>NaN</td>\n",
       "      <td>train</td>\n",
       "    </tr>\n",
       "    <tr>\n",
       "      <th>829</th>\n",
       "      <td>830</td>\n",
       "      <td>1.0</td>\n",
       "      <td>1</td>\n",
       "      <td>Stone, Mrs. George Nelson (Martha Evelyn)</td>\n",
       "      <td>female</td>\n",
       "      <td>62.0</td>\n",
       "      <td>0</td>\n",
       "      <td>0</td>\n",
       "      <td>113572</td>\n",
       "      <td>80.0</td>\n",
       "      <td>B28</td>\n",
       "      <td>NaN</td>\n",
       "      <td>train</td>\n",
       "    </tr>\n",
       "  </tbody>\n",
       "</table>\n",
       "</div>"
      ],
      "text/plain": [
       "     PassengerId  Survived  Pclass                                       Name  \\\n",
       "61            62       1.0       1                        Icard, Miss. Amelie   \n",
       "829          830       1.0       1  Stone, Mrs. George Nelson (Martha Evelyn)   \n",
       "\n",
       "        Sex   Age  SibSp  Parch  Ticket  Fare Cabin Embarked   data  \n",
       "61   female  38.0      0      0  113572  80.0   B28      NaN  train  \n",
       "829  female  62.0      0      0  113572  80.0   B28      NaN  train  "
      ]
     },
     "execution_count": 35,
     "metadata": {},
     "output_type": "execute_result"
    }
   ],
   "source": [
    "data[data[\"Ticket\"]==\"113572\"]"
   ]
  },
  {
   "cell_type": "markdown",
   "id": "f420e59a",
   "metadata": {
    "papermill": {
     "duration": 0.125308,
     "end_time": "2021-08-06T20:43:30.287321",
     "exception": false,
     "start_time": "2021-08-06T20:43:30.162013",
     "status": "completed"
    },
    "tags": []
   },
   "source": [
    "#Bivariant \n",
    "------------------------\n"
   ]
  },
  {
   "cell_type": "code",
   "execution_count": 36,
   "id": "d0f36c50",
   "metadata": {
    "execution": {
     "iopub.execute_input": "2021-08-06T20:43:30.540846Z",
     "iopub.status.busy": "2021-08-06T20:43:30.540063Z",
     "iopub.status.idle": "2021-08-06T20:43:30.544502Z",
     "shell.execute_reply": "2021-08-06T20:43:30.543968Z",
     "shell.execute_reply.started": "2021-08-06T20:26:20.100673Z"
    },
    "papermill": {
     "duration": 0.13372,
     "end_time": "2021-08-06T20:43:30.544652",
     "exception": false,
     "start_time": "2021-08-06T20:43:30.410932",
     "status": "completed"
    },
    "tags": []
   },
   "outputs": [
    {
     "data": {
      "text/plain": [
       "Index(['PassengerId', 'Survived', 'Pclass', 'Name', 'Sex', 'Age', 'SibSp',\n",
       "       'Parch', 'Ticket', 'Fare', 'Cabin', 'Embarked', 'data'],\n",
       "      dtype='object')"
      ]
     },
     "execution_count": 36,
     "metadata": {},
     "output_type": "execute_result"
    }
   ],
   "source": [
    "data.columns"
   ]
  },
  {
   "cell_type": "code",
   "execution_count": 37,
   "id": "aec0917a",
   "metadata": {
    "execution": {
     "iopub.execute_input": "2021-08-06T20:43:30.819918Z",
     "iopub.status.busy": "2021-08-06T20:43:30.810142Z",
     "iopub.status.idle": "2021-08-06T20:43:30.833480Z",
     "shell.execute_reply": "2021-08-06T20:43:30.832895Z",
     "shell.execute_reply.started": "2021-08-06T20:26:20.116722Z"
    },
    "papermill": {
     "duration": 0.159124,
     "end_time": "2021-08-06T20:43:30.833621",
     "exception": false,
     "start_time": "2021-08-06T20:43:30.674497",
     "status": "completed"
    },
    "tags": []
   },
   "outputs": [
    {
     "data": {
      "text/html": [
       "<div>\n",
       "<style scoped>\n",
       "    .dataframe tbody tr th:only-of-type {\n",
       "        vertical-align: middle;\n",
       "    }\n",
       "\n",
       "    .dataframe tbody tr th {\n",
       "        vertical-align: top;\n",
       "    }\n",
       "\n",
       "    .dataframe thead th {\n",
       "        text-align: right;\n",
       "    }\n",
       "</style>\n",
       "<table border=\"1\" class=\"dataframe\">\n",
       "  <thead>\n",
       "    <tr style=\"text-align: right;\">\n",
       "      <th></th>\n",
       "      <th>PassengerId</th>\n",
       "      <th>Survived</th>\n",
       "      <th>Pclass</th>\n",
       "      <th>Name</th>\n",
       "      <th>Sex</th>\n",
       "      <th>Age</th>\n",
       "      <th>SibSp</th>\n",
       "      <th>Parch</th>\n",
       "      <th>Ticket</th>\n",
       "      <th>Fare</th>\n",
       "      <th>Cabin</th>\n",
       "      <th>Embarked</th>\n",
       "      <th>data</th>\n",
       "    </tr>\n",
       "  </thead>\n",
       "  <tbody>\n",
       "    <tr>\n",
       "      <th>5</th>\n",
       "      <td>6</td>\n",
       "      <td>0.0</td>\n",
       "      <td>3</td>\n",
       "      <td>Moran, Mr. James</td>\n",
       "      <td>male</td>\n",
       "      <td>NaN</td>\n",
       "      <td>0</td>\n",
       "      <td>0</td>\n",
       "      <td>330877</td>\n",
       "      <td>8.4583</td>\n",
       "      <td>NaN</td>\n",
       "      <td>Q</td>\n",
       "      <td>train</td>\n",
       "    </tr>\n",
       "    <tr>\n",
       "      <th>17</th>\n",
       "      <td>18</td>\n",
       "      <td>1.0</td>\n",
       "      <td>2</td>\n",
       "      <td>Williams, Mr. Charles Eugene</td>\n",
       "      <td>male</td>\n",
       "      <td>NaN</td>\n",
       "      <td>0</td>\n",
       "      <td>0</td>\n",
       "      <td>244373</td>\n",
       "      <td>13.0000</td>\n",
       "      <td>NaN</td>\n",
       "      <td>S</td>\n",
       "      <td>train</td>\n",
       "    </tr>\n",
       "    <tr>\n",
       "      <th>19</th>\n",
       "      <td>20</td>\n",
       "      <td>1.0</td>\n",
       "      <td>3</td>\n",
       "      <td>Masselmani, Mrs. Fatima</td>\n",
       "      <td>female</td>\n",
       "      <td>NaN</td>\n",
       "      <td>0</td>\n",
       "      <td>0</td>\n",
       "      <td>2649</td>\n",
       "      <td>7.2250</td>\n",
       "      <td>NaN</td>\n",
       "      <td>C</td>\n",
       "      <td>train</td>\n",
       "    </tr>\n",
       "    <tr>\n",
       "      <th>26</th>\n",
       "      <td>27</td>\n",
       "      <td>0.0</td>\n",
       "      <td>3</td>\n",
       "      <td>Emir, Mr. Farred Chehab</td>\n",
       "      <td>male</td>\n",
       "      <td>NaN</td>\n",
       "      <td>0</td>\n",
       "      <td>0</td>\n",
       "      <td>2631</td>\n",
       "      <td>7.2250</td>\n",
       "      <td>NaN</td>\n",
       "      <td>C</td>\n",
       "      <td>train</td>\n",
       "    </tr>\n",
       "    <tr>\n",
       "      <th>28</th>\n",
       "      <td>29</td>\n",
       "      <td>1.0</td>\n",
       "      <td>3</td>\n",
       "      <td>O'Dwyer, Miss. Ellen \"Nellie\"</td>\n",
       "      <td>female</td>\n",
       "      <td>NaN</td>\n",
       "      <td>0</td>\n",
       "      <td>0</td>\n",
       "      <td>330959</td>\n",
       "      <td>7.8792</td>\n",
       "      <td>NaN</td>\n",
       "      <td>Q</td>\n",
       "      <td>train</td>\n",
       "    </tr>\n",
       "    <tr>\n",
       "      <th>...</th>\n",
       "      <td>...</td>\n",
       "      <td>...</td>\n",
       "      <td>...</td>\n",
       "      <td>...</td>\n",
       "      <td>...</td>\n",
       "      <td>...</td>\n",
       "      <td>...</td>\n",
       "      <td>...</td>\n",
       "      <td>...</td>\n",
       "      <td>...</td>\n",
       "      <td>...</td>\n",
       "      <td>...</td>\n",
       "      <td>...</td>\n",
       "    </tr>\n",
       "    <tr>\n",
       "      <th>408</th>\n",
       "      <td>1300</td>\n",
       "      <td>NaN</td>\n",
       "      <td>3</td>\n",
       "      <td>Riordan, Miss. Johanna Hannah\"\"</td>\n",
       "      <td>female</td>\n",
       "      <td>NaN</td>\n",
       "      <td>0</td>\n",
       "      <td>0</td>\n",
       "      <td>334915</td>\n",
       "      <td>7.7208</td>\n",
       "      <td>NaN</td>\n",
       "      <td>Q</td>\n",
       "      <td>test</td>\n",
       "    </tr>\n",
       "    <tr>\n",
       "      <th>410</th>\n",
       "      <td>1302</td>\n",
       "      <td>NaN</td>\n",
       "      <td>3</td>\n",
       "      <td>Naughton, Miss. Hannah</td>\n",
       "      <td>female</td>\n",
       "      <td>NaN</td>\n",
       "      <td>0</td>\n",
       "      <td>0</td>\n",
       "      <td>365237</td>\n",
       "      <td>7.7500</td>\n",
       "      <td>NaN</td>\n",
       "      <td>Q</td>\n",
       "      <td>test</td>\n",
       "    </tr>\n",
       "    <tr>\n",
       "      <th>413</th>\n",
       "      <td>1305</td>\n",
       "      <td>NaN</td>\n",
       "      <td>3</td>\n",
       "      <td>Spector, Mr. Woolf</td>\n",
       "      <td>male</td>\n",
       "      <td>NaN</td>\n",
       "      <td>0</td>\n",
       "      <td>0</td>\n",
       "      <td>A.5. 3236</td>\n",
       "      <td>8.0500</td>\n",
       "      <td>NaN</td>\n",
       "      <td>S</td>\n",
       "      <td>test</td>\n",
       "    </tr>\n",
       "    <tr>\n",
       "      <th>416</th>\n",
       "      <td>1308</td>\n",
       "      <td>NaN</td>\n",
       "      <td>3</td>\n",
       "      <td>Ware, Mr. Frederick</td>\n",
       "      <td>male</td>\n",
       "      <td>NaN</td>\n",
       "      <td>0</td>\n",
       "      <td>0</td>\n",
       "      <td>359309</td>\n",
       "      <td>8.0500</td>\n",
       "      <td>NaN</td>\n",
       "      <td>S</td>\n",
       "      <td>test</td>\n",
       "    </tr>\n",
       "    <tr>\n",
       "      <th>417</th>\n",
       "      <td>1309</td>\n",
       "      <td>NaN</td>\n",
       "      <td>3</td>\n",
       "      <td>Peter, Master. Michael J</td>\n",
       "      <td>male</td>\n",
       "      <td>NaN</td>\n",
       "      <td>1</td>\n",
       "      <td>1</td>\n",
       "      <td>2668</td>\n",
       "      <td>22.3583</td>\n",
       "      <td>NaN</td>\n",
       "      <td>C</td>\n",
       "      <td>test</td>\n",
       "    </tr>\n",
       "  </tbody>\n",
       "</table>\n",
       "<p>263 rows × 13 columns</p>\n",
       "</div>"
      ],
      "text/plain": [
       "     PassengerId  Survived  Pclass                             Name     Sex  \\\n",
       "5              6       0.0       3                 Moran, Mr. James    male   \n",
       "17            18       1.0       2     Williams, Mr. Charles Eugene    male   \n",
       "19            20       1.0       3          Masselmani, Mrs. Fatima  female   \n",
       "26            27       0.0       3          Emir, Mr. Farred Chehab    male   \n",
       "28            29       1.0       3    O'Dwyer, Miss. Ellen \"Nellie\"  female   \n",
       "..           ...       ...     ...                              ...     ...   \n",
       "408         1300       NaN       3  Riordan, Miss. Johanna Hannah\"\"  female   \n",
       "410         1302       NaN       3           Naughton, Miss. Hannah  female   \n",
       "413         1305       NaN       3               Spector, Mr. Woolf    male   \n",
       "416         1308       NaN       3              Ware, Mr. Frederick    male   \n",
       "417         1309       NaN       3         Peter, Master. Michael J    male   \n",
       "\n",
       "     Age  SibSp  Parch     Ticket     Fare Cabin Embarked   data  \n",
       "5    NaN      0      0     330877   8.4583   NaN        Q  train  \n",
       "17   NaN      0      0     244373  13.0000   NaN        S  train  \n",
       "19   NaN      0      0       2649   7.2250   NaN        C  train  \n",
       "26   NaN      0      0       2631   7.2250   NaN        C  train  \n",
       "28   NaN      0      0     330959   7.8792   NaN        Q  train  \n",
       "..   ...    ...    ...        ...      ...   ...      ...    ...  \n",
       "408  NaN      0      0     334915   7.7208   NaN        Q   test  \n",
       "410  NaN      0      0     365237   7.7500   NaN        Q   test  \n",
       "413  NaN      0      0  A.5. 3236   8.0500   NaN        S   test  \n",
       "416  NaN      0      0     359309   8.0500   NaN        S   test  \n",
       "417  NaN      1      1       2668  22.3583   NaN        C   test  \n",
       "\n",
       "[263 rows x 13 columns]"
      ]
     },
     "execution_count": 37,
     "metadata": {},
     "output_type": "execute_result"
    }
   ],
   "source": [
    "data[data[\"Age\"].isna()]"
   ]
  },
  {
   "cell_type": "code",
   "execution_count": 38,
   "id": "7b6c65cd",
   "metadata": {
    "execution": {
     "iopub.execute_input": "2021-08-06T20:43:31.101345Z",
     "iopub.status.busy": "2021-08-06T20:43:31.100658Z",
     "iopub.status.idle": "2021-08-06T20:43:36.883908Z",
     "shell.execute_reply": "2021-08-06T20:43:36.884385Z",
     "shell.execute_reply.started": "2021-08-06T20:26:20.156887Z"
    },
    "papermill": {
     "duration": 5.923764,
     "end_time": "2021-08-06T20:43:36.884561",
     "exception": false,
     "start_time": "2021-08-06T20:43:30.960797",
     "status": "completed"
    },
    "tags": []
   },
   "outputs": [
    {
     "data": {
      "text/plain": [
       "<AxesSubplot:xlabel='Fare'>"
      ]
     },
     "execution_count": 38,
     "metadata": {},
     "output_type": "execute_result"
    },
    {
     "data": {
      "image/png": "[encoded data removed]",
      "text/plain": [
       "<Figure size 432x288 with 1 Axes>"
      ]
     },
     "metadata": {
      "needs_background": "light"
     },
     "output_type": "display_data"
    }
   ],
   "source": [
    "data.pivot_table(values=\"Age\", index = \"Fare\", columns = \"Pclass\").plot(kind='bar')"
   ]
  },
  {
   "cell_type": "code",
   "execution_count": 39,
   "id": "48712e7d",
   "metadata": {
    "execution": {
     "iopub.execute_input": "2021-08-06T20:43:37.144317Z",
     "iopub.status.busy": "2021-08-06T20:43:37.143589Z",
     "iopub.status.idle": "2021-08-06T20:43:37.887391Z",
     "shell.execute_reply": "2021-08-06T20:43:37.887941Z",
     "shell.execute_reply.started": "2021-08-06T20:26:26.122303Z"
    },
    "papermill": {
     "duration": 0.877014,
     "end_time": "2021-08-06T20:43:37.888122",
     "exception": false,
     "start_time": "2021-08-06T20:43:37.011108",
     "status": "completed"
    },
    "tags": []
   },
   "outputs": [
    {
     "data": {
      "text/plain": [
       "<AxesSubplot:>"
      ]
     },
     "execution_count": 39,
     "metadata": {},
     "output_type": "execute_result"
    },
    {
     "data": {
      "image/png": "[encoded data removed]",
      "text/plain": [
       "<Figure size 432x288 with 2 Axes>"
      ]
     },
     "metadata": {
      "needs_background": "light"
     },
     "output_type": "display_data"
    }
   ],
   "source": [
    "sns.heatmap(data.corr(),annot=True)"
   ]
  },
  {
   "cell_type": "markdown",
   "id": "58cb9461",
   "metadata": {
    "papermill": {
     "duration": 0.129227,
     "end_time": "2021-08-06T20:43:38.146555",
     "exception": false,
     "start_time": "2021-08-06T20:43:38.017328",
     "status": "completed"
    },
    "tags": []
   },
   "source": [
    "#Data Pre-Proessing\n",
    "----------------------------"
   ]
  },
  {
   "cell_type": "markdown",
   "id": "cff5d6b4",
   "metadata": {
    "papermill": {
     "duration": 0.128856,
     "end_time": "2021-08-06T20:43:38.405065",
     "exception": false,
     "start_time": "2021-08-06T20:43:38.276209",
     "status": "completed"
    },
    "tags": []
   },
   "source": [
    "#•\tFare – 1 null: - Check train or test and then remove if required. Else update fare group by age—we couldn’t remove as this is test data and "
   ]
  },
  {
   "cell_type": "code",
   "execution_count": 40,
   "id": "3e7a218f",
   "metadata": {
    "execution": {
     "iopub.execute_input": "2021-08-06T20:43:38.680775Z",
     "iopub.status.busy": "2021-08-06T20:43:38.679769Z",
     "iopub.status.idle": "2021-08-06T20:43:38.684769Z",
     "shell.execute_reply": "2021-08-06T20:43:38.684251Z",
     "shell.execute_reply.started": "2021-08-06T20:26:26.714066Z"
    },
    "papermill": {
     "duration": 0.150844,
     "end_time": "2021-08-06T20:43:38.684928",
     "exception": false,
     "start_time": "2021-08-06T20:43:38.534084",
     "status": "completed"
    },
    "tags": []
   },
   "outputs": [
    {
     "data": {
      "text/html": [
       "<div>\n",
       "<style scoped>\n",
       "    .dataframe tbody tr th:only-of-type {\n",
       "        vertical-align: middle;\n",
       "    }\n",
       "\n",
       "    .dataframe tbody tr th {\n",
       "        vertical-align: top;\n",
       "    }\n",
       "\n",
       "    .dataframe thead th {\n",
       "        text-align: right;\n",
       "    }\n",
       "</style>\n",
       "<table border=\"1\" class=\"dataframe\">\n",
       "  <thead>\n",
       "    <tr style=\"text-align: right;\">\n",
       "      <th></th>\n",
       "      <th>PassengerId</th>\n",
       "      <th>Survived</th>\n",
       "      <th>Pclass</th>\n",
       "      <th>Name</th>\n",
       "      <th>Sex</th>\n",
       "      <th>Age</th>\n",
       "      <th>SibSp</th>\n",
       "      <th>Parch</th>\n",
       "      <th>Ticket</th>\n",
       "      <th>Fare</th>\n",
       "      <th>Cabin</th>\n",
       "      <th>Embarked</th>\n",
       "      <th>data</th>\n",
       "    </tr>\n",
       "  </thead>\n",
       "  <tbody>\n",
       "    <tr>\n",
       "      <th>152</th>\n",
       "      <td>1044</td>\n",
       "      <td>NaN</td>\n",
       "      <td>3</td>\n",
       "      <td>Storey, Mr. Thomas</td>\n",
       "      <td>male</td>\n",
       "      <td>60.5</td>\n",
       "      <td>0</td>\n",
       "      <td>0</td>\n",
       "      <td>3701</td>\n",
       "      <td>NaN</td>\n",
       "      <td>NaN</td>\n",
       "      <td>S</td>\n",
       "      <td>test</td>\n",
       "    </tr>\n",
       "  </tbody>\n",
       "</table>\n",
       "</div>"
      ],
      "text/plain": [
       "     PassengerId  Survived  Pclass                Name   Sex   Age  SibSp  \\\n",
       "152         1044       NaN       3  Storey, Mr. Thomas  male  60.5      0   \n",
       "\n",
       "     Parch Ticket  Fare Cabin Embarked  data  \n",
       "152      0   3701   NaN   NaN        S  test  "
      ]
     },
     "execution_count": 40,
     "metadata": {},
     "output_type": "execute_result"
    }
   ],
   "source": [
    "data[data[\"Fare\"].isna()]"
   ]
  },
  {
   "cell_type": "code",
   "execution_count": 41,
   "id": "b220c154",
   "metadata": {
    "execution": {
     "iopub.execute_input": "2021-08-06T20:43:38.960972Z",
     "iopub.status.busy": "2021-08-06T20:43:38.960224Z",
     "iopub.status.idle": "2021-08-06T20:43:38.964895Z",
     "shell.execute_reply": "2021-08-06T20:43:38.964324Z",
     "shell.execute_reply.started": "2021-08-06T20:26:26.734658Z"
    },
    "papermill": {
     "duration": 0.150482,
     "end_time": "2021-08-06T20:43:38.965047",
     "exception": false,
     "start_time": "2021-08-06T20:43:38.814565",
     "status": "completed"
    },
    "tags": []
   },
   "outputs": [
    {
     "data": {
      "text/html": [
       "<div>\n",
       "<style scoped>\n",
       "    .dataframe tbody tr th:only-of-type {\n",
       "        vertical-align: middle;\n",
       "    }\n",
       "\n",
       "    .dataframe tbody tr th {\n",
       "        vertical-align: top;\n",
       "    }\n",
       "\n",
       "    .dataframe thead th {\n",
       "        text-align: right;\n",
       "    }\n",
       "</style>\n",
       "<table border=\"1\" class=\"dataframe\">\n",
       "  <thead>\n",
       "    <tr style=\"text-align: right;\">\n",
       "      <th></th>\n",
       "      <th>PassengerId</th>\n",
       "      <th>Survived</th>\n",
       "      <th>Pclass</th>\n",
       "      <th>Name</th>\n",
       "      <th>Sex</th>\n",
       "      <th>Age</th>\n",
       "      <th>SibSp</th>\n",
       "      <th>Parch</th>\n",
       "      <th>Ticket</th>\n",
       "      <th>Fare</th>\n",
       "      <th>Cabin</th>\n",
       "      <th>Embarked</th>\n",
       "      <th>data</th>\n",
       "    </tr>\n",
       "  </thead>\n",
       "  <tbody>\n",
       "    <tr>\n",
       "      <th>152</th>\n",
       "      <td>1044</td>\n",
       "      <td>NaN</td>\n",
       "      <td>3</td>\n",
       "      <td>Storey, Mr. Thomas</td>\n",
       "      <td>male</td>\n",
       "      <td>60.5</td>\n",
       "      <td>0</td>\n",
       "      <td>0</td>\n",
       "      <td>3701</td>\n",
       "      <td>NaN</td>\n",
       "      <td>NaN</td>\n",
       "      <td>S</td>\n",
       "      <td>test</td>\n",
       "    </tr>\n",
       "  </tbody>\n",
       "</table>\n",
       "</div>"
      ],
      "text/plain": [
       "     PassengerId  Survived  Pclass                Name   Sex   Age  SibSp  \\\n",
       "152         1044       NaN       3  Storey, Mr. Thomas  male  60.5      0   \n",
       "\n",
       "     Parch Ticket  Fare Cabin Embarked  data  \n",
       "152      0   3701   NaN   NaN        S  test  "
      ]
     },
     "execution_count": 41,
     "metadata": {},
     "output_type": "execute_result"
    }
   ],
   "source": [
    "data[data[\"Ticket\"]==\"3701\"]"
   ]
  },
  {
   "cell_type": "code",
   "execution_count": 42,
   "id": "0feea6ff",
   "metadata": {
    "execution": {
     "iopub.execute_input": "2021-08-06T20:43:39.242480Z",
     "iopub.status.busy": "2021-08-06T20:43:39.241707Z",
     "iopub.status.idle": "2021-08-06T20:43:39.246487Z",
     "shell.execute_reply": "2021-08-06T20:43:39.245811Z",
     "shell.execute_reply.started": "2021-08-06T20:26:26.761537Z"
    },
    "papermill": {
     "duration": 0.149448,
     "end_time": "2021-08-06T20:43:39.246626",
     "exception": false,
     "start_time": "2021-08-06T20:43:39.097178",
     "status": "completed"
    },
    "tags": []
   },
   "outputs": [
    {
     "data": {
      "text/html": [
       "<div>\n",
       "<style scoped>\n",
       "    .dataframe tbody tr th:only-of-type {\n",
       "        vertical-align: middle;\n",
       "    }\n",
       "\n",
       "    .dataframe tbody tr th {\n",
       "        vertical-align: top;\n",
       "    }\n",
       "\n",
       "    .dataframe thead th {\n",
       "        text-align: right;\n",
       "    }\n",
       "</style>\n",
       "<table border=\"1\" class=\"dataframe\">\n",
       "  <thead>\n",
       "    <tr style=\"text-align: right;\">\n",
       "      <th></th>\n",
       "      <th>Fare</th>\n",
       "    </tr>\n",
       "    <tr>\n",
       "      <th>Pclass</th>\n",
       "      <th></th>\n",
       "    </tr>\n",
       "  </thead>\n",
       "  <tbody>\n",
       "    <tr>\n",
       "      <th>1</th>\n",
       "      <td>87.508992</td>\n",
       "    </tr>\n",
       "    <tr>\n",
       "      <th>2</th>\n",
       "      <td>21.179196</td>\n",
       "    </tr>\n",
       "    <tr>\n",
       "      <th>3</th>\n",
       "      <td>13.302889</td>\n",
       "    </tr>\n",
       "  </tbody>\n",
       "</table>\n",
       "</div>"
      ],
      "text/plain": [
       "             Fare\n",
       "Pclass           \n",
       "1       87.508992\n",
       "2       21.179196\n",
       "3       13.302889"
      ]
     },
     "execution_count": 42,
     "metadata": {},
     "output_type": "execute_result"
    }
   ],
   "source": [
    " data.pivot_table(values=\"Fare\", index = \"Pclass\",aggfunc='mean')"
   ]
  },
  {
   "cell_type": "code",
   "execution_count": 43,
   "id": "b9e83bac",
   "metadata": {
    "execution": {
     "iopub.execute_input": "2021-08-06T20:43:39.510570Z",
     "iopub.status.busy": "2021-08-06T20:43:39.509840Z",
     "iopub.status.idle": "2021-08-06T20:43:39.548081Z",
     "shell.execute_reply": "2021-08-06T20:43:39.548621Z",
     "shell.execute_reply.started": "2021-08-06T20:26:26.788597Z"
    },
    "papermill": {
     "duration": 0.171559,
     "end_time": "2021-08-06T20:43:39.548812",
     "exception": false,
     "start_time": "2021-08-06T20:43:39.377253",
     "status": "completed"
    },
    "tags": []
   },
   "outputs": [
    {
     "data": {
      "text/html": [
       "<div>\n",
       "<style scoped>\n",
       "    .dataframe tbody tr th:only-of-type {\n",
       "        vertical-align: middle;\n",
       "    }\n",
       "\n",
       "    .dataframe tbody tr th {\n",
       "        vertical-align: top;\n",
       "    }\n",
       "\n",
       "    .dataframe thead th {\n",
       "        text-align: right;\n",
       "    }\n",
       "</style>\n",
       "<table border=\"1\" class=\"dataframe\">\n",
       "  <thead>\n",
       "    <tr style=\"text-align: right;\">\n",
       "      <th>Age</th>\n",
       "      <th>0.17</th>\n",
       "      <th>0.33</th>\n",
       "      <th>0.42</th>\n",
       "      <th>0.67</th>\n",
       "      <th>0.75</th>\n",
       "      <th>0.83</th>\n",
       "      <th>0.92</th>\n",
       "      <th>1.00</th>\n",
       "      <th>2.00</th>\n",
       "      <th>3.00</th>\n",
       "      <th>...</th>\n",
       "      <th>64.00</th>\n",
       "      <th>65.00</th>\n",
       "      <th>66.00</th>\n",
       "      <th>67.00</th>\n",
       "      <th>70.00</th>\n",
       "      <th>70.50</th>\n",
       "      <th>71.00</th>\n",
       "      <th>74.00</th>\n",
       "      <th>76.00</th>\n",
       "      <th>80.00</th>\n",
       "    </tr>\n",
       "    <tr>\n",
       "      <th>Pclass</th>\n",
       "      <th></th>\n",
       "      <th></th>\n",
       "      <th></th>\n",
       "      <th></th>\n",
       "      <th></th>\n",
       "      <th></th>\n",
       "      <th></th>\n",
       "      <th></th>\n",
       "      <th></th>\n",
       "      <th></th>\n",
       "      <th></th>\n",
       "      <th></th>\n",
       "      <th></th>\n",
       "      <th></th>\n",
       "      <th></th>\n",
       "      <th></th>\n",
       "      <th></th>\n",
       "      <th></th>\n",
       "      <th></th>\n",
       "      <th></th>\n",
       "      <th></th>\n",
       "    </tr>\n",
       "  </thead>\n",
       "  <tbody>\n",
       "    <tr>\n",
       "      <th>1</th>\n",
       "      <td>NaN</td>\n",
       "      <td>NaN</td>\n",
       "      <td>NaN</td>\n",
       "      <td>NaN</td>\n",
       "      <td>NaN</td>\n",
       "      <td>NaN</td>\n",
       "      <td>151.55</td>\n",
       "      <td>NaN</td>\n",
       "      <td>151.550000</td>\n",
       "      <td>NaN</td>\n",
       "      <td>...</td>\n",
       "      <td>94.79166</td>\n",
       "      <td>44.2646</td>\n",
       "      <td>NaN</td>\n",
       "      <td>221.7792</td>\n",
       "      <td>71.0</td>\n",
       "      <td>NaN</td>\n",
       "      <td>42.0792</td>\n",
       "      <td>NaN</td>\n",
       "      <td>78.85</td>\n",
       "      <td>30.0</td>\n",
       "    </tr>\n",
       "    <tr>\n",
       "      <th>2</th>\n",
       "      <td>NaN</td>\n",
       "      <td>NaN</td>\n",
       "      <td>NaN</td>\n",
       "      <td>14.5</td>\n",
       "      <td>NaN</td>\n",
       "      <td>23.875</td>\n",
       "      <td>27.75</td>\n",
       "      <td>39.194467</td>\n",
       "      <td>25.000000</td>\n",
       "      <td>28.776400</td>\n",
       "      <td>...</td>\n",
       "      <td>NaN</td>\n",
       "      <td>NaN</td>\n",
       "      <td>10.5</td>\n",
       "      <td>NaN</td>\n",
       "      <td>10.5</td>\n",
       "      <td>NaN</td>\n",
       "      <td>NaN</td>\n",
       "      <td>NaN</td>\n",
       "      <td>NaN</td>\n",
       "      <td>NaN</td>\n",
       "    </tr>\n",
       "    <tr>\n",
       "      <th>3</th>\n",
       "      <td>20.575</td>\n",
       "      <td>14.4</td>\n",
       "      <td>8.5167</td>\n",
       "      <td>NaN</td>\n",
       "      <td>17.430533</td>\n",
       "      <td>9.350</td>\n",
       "      <td>NaN</td>\n",
       "      <td>23.274400</td>\n",
       "      <td>24.003125</td>\n",
       "      <td>20.534375</td>\n",
       "      <td>...</td>\n",
       "      <td>NaN</td>\n",
       "      <td>7.7500</td>\n",
       "      <td>NaN</td>\n",
       "      <td>NaN</td>\n",
       "      <td>NaN</td>\n",
       "      <td>7.75</td>\n",
       "      <td>NaN</td>\n",
       "      <td>7.775</td>\n",
       "      <td>NaN</td>\n",
       "      <td>NaN</td>\n",
       "    </tr>\n",
       "  </tbody>\n",
       "</table>\n",
       "<p>3 rows × 97 columns</p>\n",
       "</div>"
      ],
      "text/plain": [
       "Age      0.17   0.33    0.42   0.67       0.75    0.83    0.92       1.00   \\\n",
       "Pclass                                                                       \n",
       "1          NaN    NaN     NaN    NaN        NaN     NaN  151.55        NaN   \n",
       "2          NaN    NaN     NaN   14.5        NaN  23.875   27.75  39.194467   \n",
       "3       20.575   14.4  8.5167    NaN  17.430533   9.350     NaN  23.274400   \n",
       "\n",
       "Age          2.00       3.00   ...     64.00    65.00  66.00     67.00  70.00  \\\n",
       "Pclass                         ...                                              \n",
       "1       151.550000        NaN  ...  94.79166  44.2646    NaN  221.7792   71.0   \n",
       "2        25.000000  28.776400  ...       NaN      NaN   10.5       NaN   10.5   \n",
       "3        24.003125  20.534375  ...       NaN   7.7500    NaN       NaN    NaN   \n",
       "\n",
       "Age     70.50    71.00  74.00  76.00  80.00  \n",
       "Pclass                                       \n",
       "1         NaN  42.0792    NaN  78.85   30.0  \n",
       "2         NaN      NaN    NaN    NaN    NaN  \n",
       "3        7.75      NaN  7.775    NaN    NaN  \n",
       "\n",
       "[3 rows x 97 columns]"
      ]
     },
     "execution_count": 43,
     "metadata": {},
     "output_type": "execute_result"
    }
   ],
   "source": [
    " data.pivot_table(values=\"Fare\", index = \"Pclass\",columns=\"Age\",aggfunc='mean')"
   ]
  },
  {
   "cell_type": "code",
   "execution_count": 44,
   "id": "0d592df8",
   "metadata": {
    "execution": {
     "iopub.execute_input": "2021-08-06T20:43:39.815391Z",
     "iopub.status.busy": "2021-08-06T20:43:39.814570Z",
     "iopub.status.idle": "2021-08-06T20:43:39.834289Z",
     "shell.execute_reply": "2021-08-06T20:43:39.834842Z",
     "shell.execute_reply.started": "2021-08-06T20:26:26.837962Z"
    },
    "papermill": {
     "duration": 0.154363,
     "end_time": "2021-08-06T20:43:39.835051",
     "exception": false,
     "start_time": "2021-08-06T20:43:39.680688",
     "status": "completed"
    },
    "tags": []
   },
   "outputs": [
    {
     "data": {
      "text/html": [
       "<div>\n",
       "<style scoped>\n",
       "    .dataframe tbody tr th:only-of-type {\n",
       "        vertical-align: middle;\n",
       "    }\n",
       "\n",
       "    .dataframe tbody tr th {\n",
       "        vertical-align: top;\n",
       "    }\n",
       "\n",
       "    .dataframe thead th {\n",
       "        text-align: right;\n",
       "    }\n",
       "</style>\n",
       "<table border=\"1\" class=\"dataframe\">\n",
       "  <thead>\n",
       "    <tr style=\"text-align: right;\">\n",
       "      <th></th>\n",
       "      <th>Fare</th>\n",
       "    </tr>\n",
       "    <tr>\n",
       "      <th>Pclass</th>\n",
       "      <th></th>\n",
       "    </tr>\n",
       "  </thead>\n",
       "  <tbody>\n",
       "    <tr>\n",
       "      <th>1</th>\n",
       "      <td>26.55</td>\n",
       "    </tr>\n",
       "    <tr>\n",
       "      <th>2</th>\n",
       "      <td>13.00</td>\n",
       "    </tr>\n",
       "    <tr>\n",
       "      <th>3</th>\n",
       "      <td>8.05</td>\n",
       "    </tr>\n",
       "  </tbody>\n",
       "</table>\n",
       "</div>"
      ],
      "text/plain": [
       "         Fare\n",
       "Pclass       \n",
       "1       26.55\n",
       "2       13.00\n",
       "3        8.05"
      ]
     },
     "execution_count": 44,
     "metadata": {},
     "output_type": "execute_result"
    }
   ],
   "source": [
    "data.pivot_table(values=\"Fare\", index = \"Pclass\", aggfunc=(lambda x: mode(x).mode[0]))"
   ]
  },
  {
   "cell_type": "code",
   "execution_count": 45,
   "id": "f226cec4",
   "metadata": {
    "execution": {
     "iopub.execute_input": "2021-08-06T20:43:40.113493Z",
     "iopub.status.busy": "2021-08-06T20:43:40.112809Z",
     "iopub.status.idle": "2021-08-06T20:43:40.182240Z",
     "shell.execute_reply": "2021-08-06T20:43:40.181550Z",
     "shell.execute_reply.started": "2021-08-06T20:26:26.865028Z"
    },
    "papermill": {
     "duration": 0.215735,
     "end_time": "2021-08-06T20:43:40.182383",
     "exception": false,
     "start_time": "2021-08-06T20:43:39.966648",
     "status": "completed"
    },
    "tags": []
   },
   "outputs": [
    {
     "data": {
      "text/html": [
       "<div>\n",
       "<style scoped>\n",
       "    .dataframe tbody tr th:only-of-type {\n",
       "        vertical-align: middle;\n",
       "    }\n",
       "\n",
       "    .dataframe tbody tr th {\n",
       "        vertical-align: top;\n",
       "    }\n",
       "\n",
       "    .dataframe thead th {\n",
       "        text-align: right;\n",
       "    }\n",
       "</style>\n",
       "<table border=\"1\" class=\"dataframe\">\n",
       "  <thead>\n",
       "    <tr style=\"text-align: right;\">\n",
       "      <th>Age</th>\n",
       "      <th>0.17</th>\n",
       "      <th>0.33</th>\n",
       "      <th>0.42</th>\n",
       "      <th>0.67</th>\n",
       "      <th>0.75</th>\n",
       "      <th>0.83</th>\n",
       "      <th>0.92</th>\n",
       "      <th>1.00</th>\n",
       "      <th>2.00</th>\n",
       "      <th>3.00</th>\n",
       "      <th>...</th>\n",
       "      <th>64.00</th>\n",
       "      <th>65.00</th>\n",
       "      <th>66.00</th>\n",
       "      <th>67.00</th>\n",
       "      <th>70.00</th>\n",
       "      <th>70.50</th>\n",
       "      <th>71.00</th>\n",
       "      <th>74.00</th>\n",
       "      <th>76.00</th>\n",
       "      <th>80.00</th>\n",
       "    </tr>\n",
       "    <tr>\n",
       "      <th>Pclass</th>\n",
       "      <th></th>\n",
       "      <th></th>\n",
       "      <th></th>\n",
       "      <th></th>\n",
       "      <th></th>\n",
       "      <th></th>\n",
       "      <th></th>\n",
       "      <th></th>\n",
       "      <th></th>\n",
       "      <th></th>\n",
       "      <th></th>\n",
       "      <th></th>\n",
       "      <th></th>\n",
       "      <th></th>\n",
       "      <th></th>\n",
       "      <th></th>\n",
       "      <th></th>\n",
       "      <th></th>\n",
       "      <th></th>\n",
       "      <th></th>\n",
       "      <th></th>\n",
       "    </tr>\n",
       "  </thead>\n",
       "  <tbody>\n",
       "    <tr>\n",
       "      <th>1</th>\n",
       "      <td>NaN</td>\n",
       "      <td>NaN</td>\n",
       "      <td>NaN</td>\n",
       "      <td>NaN</td>\n",
       "      <td>NaN</td>\n",
       "      <td>NaN</td>\n",
       "      <td>151.55</td>\n",
       "      <td>NaN</td>\n",
       "      <td>151.5500</td>\n",
       "      <td>NaN</td>\n",
       "      <td>...</td>\n",
       "      <td>26.0</td>\n",
       "      <td>26.55</td>\n",
       "      <td>NaN</td>\n",
       "      <td>221.7792</td>\n",
       "      <td>71.0</td>\n",
       "      <td>NaN</td>\n",
       "      <td>34.6542</td>\n",
       "      <td>NaN</td>\n",
       "      <td>78.85</td>\n",
       "      <td>30.0</td>\n",
       "    </tr>\n",
       "    <tr>\n",
       "      <th>2</th>\n",
       "      <td>NaN</td>\n",
       "      <td>NaN</td>\n",
       "      <td>NaN</td>\n",
       "      <td>14.5</td>\n",
       "      <td>NaN</td>\n",
       "      <td>18.75</td>\n",
       "      <td>27.75</td>\n",
       "      <td>37.0042</td>\n",
       "      <td>26.0000</td>\n",
       "      <td>18.750</td>\n",
       "      <td>...</td>\n",
       "      <td>NaN</td>\n",
       "      <td>NaN</td>\n",
       "      <td>10.5</td>\n",
       "      <td>NaN</td>\n",
       "      <td>10.5</td>\n",
       "      <td>NaN</td>\n",
       "      <td>NaN</td>\n",
       "      <td>NaN</td>\n",
       "      <td>NaN</td>\n",
       "      <td>NaN</td>\n",
       "    </tr>\n",
       "    <tr>\n",
       "      <th>3</th>\n",
       "      <td>20.575</td>\n",
       "      <td>14.4</td>\n",
       "      <td>8.5167</td>\n",
       "      <td>NaN</td>\n",
       "      <td>19.2583</td>\n",
       "      <td>9.35</td>\n",
       "      <td>NaN</td>\n",
       "      <td>11.1333</td>\n",
       "      <td>10.4625</td>\n",
       "      <td>13.775</td>\n",
       "      <td>...</td>\n",
       "      <td>NaN</td>\n",
       "      <td>7.75</td>\n",
       "      <td>NaN</td>\n",
       "      <td>NaN</td>\n",
       "      <td>NaN</td>\n",
       "      <td>7.75</td>\n",
       "      <td>NaN</td>\n",
       "      <td>7.775</td>\n",
       "      <td>NaN</td>\n",
       "      <td>NaN</td>\n",
       "    </tr>\n",
       "  </tbody>\n",
       "</table>\n",
       "<p>3 rows × 97 columns</p>\n",
       "</div>"
      ],
      "text/plain": [
       "Age      0.17   0.33    0.42   0.67     0.75   0.83    0.92     1.00   \\\n",
       "Pclass                                                                  \n",
       "1          NaN    NaN     NaN    NaN      NaN    NaN  151.55      NaN   \n",
       "2          NaN    NaN     NaN   14.5      NaN  18.75   27.75  37.0042   \n",
       "3       20.575   14.4  8.5167    NaN  19.2583   9.35     NaN  11.1333   \n",
       "\n",
       "Age        2.00    3.00   ...  64.00  65.00  66.00     67.00  70.00  70.50  \\\n",
       "Pclass                    ...                                                \n",
       "1       151.5500     NaN  ...   26.0  26.55    NaN  221.7792   71.0    NaN   \n",
       "2        26.0000  18.750  ...    NaN    NaN   10.5       NaN   10.5    NaN   \n",
       "3        10.4625  13.775  ...    NaN   7.75    NaN       NaN    NaN   7.75   \n",
       "\n",
       "Age       71.00  74.00  76.00  80.00  \n",
       "Pclass                                \n",
       "1       34.6542    NaN  78.85   30.0  \n",
       "2           NaN    NaN    NaN    NaN  \n",
       "3           NaN  7.775    NaN    NaN  \n",
       "\n",
       "[3 rows x 97 columns]"
      ]
     },
     "execution_count": 45,
     "metadata": {},
     "output_type": "execute_result"
    }
   ],
   "source": [
    "data.pivot_table(values=\"Fare\", index = \"Pclass\",columns=\"Age\", aggfunc=(lambda x: mode(x).mode[0]))"
   ]
  },
  {
   "cell_type": "code",
   "execution_count": 46,
   "id": "2fc2c145",
   "metadata": {
    "execution": {
     "iopub.execute_input": "2021-08-06T20:43:40.454132Z",
     "iopub.status.busy": "2021-08-06T20:43:40.453461Z",
     "iopub.status.idle": "2021-08-06T20:43:40.457717Z",
     "shell.execute_reply": "2021-08-06T20:43:40.458290Z",
     "shell.execute_reply.started": "2021-08-06T20:26:26.945842Z"
    },
    "papermill": {
     "duration": 0.14167,
     "end_time": "2021-08-06T20:43:40.458467",
     "exception": false,
     "start_time": "2021-08-06T20:43:40.316797",
     "status": "completed"
    },
    "tags": []
   },
   "outputs": [],
   "source": [
    "data[\"Fare\"].replace({np.nan:7.75},inplace=True)"
   ]
  },
  {
   "cell_type": "code",
   "execution_count": 47,
   "id": "5bf09a3b",
   "metadata": {
    "execution": {
     "iopub.execute_input": "2021-08-06T20:43:40.742706Z",
     "iopub.status.busy": "2021-08-06T20:43:40.741802Z",
     "iopub.status.idle": "2021-08-06T20:43:40.746249Z",
     "shell.execute_reply": "2021-08-06T20:43:40.745615Z",
     "shell.execute_reply.started": "2021-08-06T20:26:26.95353Z"
    },
    "papermill": {
     "duration": 0.15588,
     "end_time": "2021-08-06T20:43:40.746384",
     "exception": false,
     "start_time": "2021-08-06T20:43:40.590504",
     "status": "completed"
    },
    "tags": []
   },
   "outputs": [
    {
     "data": {
      "text/html": [
       "<div>\n",
       "<style scoped>\n",
       "    .dataframe tbody tr th:only-of-type {\n",
       "        vertical-align: middle;\n",
       "    }\n",
       "\n",
       "    .dataframe tbody tr th {\n",
       "        vertical-align: top;\n",
       "    }\n",
       "\n",
       "    .dataframe thead th {\n",
       "        text-align: right;\n",
       "    }\n",
       "</style>\n",
       "<table border=\"1\" class=\"dataframe\">\n",
       "  <thead>\n",
       "    <tr style=\"text-align: right;\">\n",
       "      <th></th>\n",
       "      <th>PassengerId</th>\n",
       "      <th>Survived</th>\n",
       "      <th>Pclass</th>\n",
       "      <th>Name</th>\n",
       "      <th>Sex</th>\n",
       "      <th>Age</th>\n",
       "      <th>SibSp</th>\n",
       "      <th>Parch</th>\n",
       "      <th>Ticket</th>\n",
       "      <th>Fare</th>\n",
       "      <th>Cabin</th>\n",
       "      <th>Embarked</th>\n",
       "      <th>data</th>\n",
       "    </tr>\n",
       "  </thead>\n",
       "  <tbody>\n",
       "    <tr>\n",
       "      <th>152</th>\n",
       "      <td>1044</td>\n",
       "      <td>NaN</td>\n",
       "      <td>3</td>\n",
       "      <td>Storey, Mr. Thomas</td>\n",
       "      <td>male</td>\n",
       "      <td>60.5</td>\n",
       "      <td>0</td>\n",
       "      <td>0</td>\n",
       "      <td>3701</td>\n",
       "      <td>7.75</td>\n",
       "      <td>NaN</td>\n",
       "      <td>S</td>\n",
       "      <td>test</td>\n",
       "    </tr>\n",
       "  </tbody>\n",
       "</table>\n",
       "</div>"
      ],
      "text/plain": [
       "     PassengerId  Survived  Pclass                Name   Sex   Age  SibSp  \\\n",
       "152         1044       NaN       3  Storey, Mr. Thomas  male  60.5      0   \n",
       "\n",
       "     Parch Ticket  Fare Cabin Embarked  data  \n",
       "152      0   3701  7.75   NaN        S  test  "
      ]
     },
     "execution_count": 47,
     "metadata": {},
     "output_type": "execute_result"
    }
   ],
   "source": [
    "data[data[\"Ticket\"]==\"3701\"]"
   ]
  },
  {
   "cell_type": "markdown",
   "id": "2eef736e",
   "metadata": {
    "execution": {
     "iopub.execute_input": "2021-08-06T18:07:19.44118Z",
     "iopub.status.busy": "2021-08-06T18:07:19.440787Z",
     "iopub.status.idle": "2021-08-06T18:07:19.44523Z",
     "shell.execute_reply": "2021-08-06T18:07:19.444057Z",
     "shell.execute_reply.started": "2021-08-06T18:07:19.441151Z"
    },
    "papermill": {
     "duration": 0.135521,
     "end_time": "2021-08-06T20:43:41.014318",
     "exception": false,
     "start_time": "2021-08-06T20:43:40.878797",
     "status": "completed"
    },
    "tags": []
   },
   "source": [
    "•\tAge – 263 null : Mean of Age and group by fare and Pclass, check pach, sib is available for null age. First replace null into 0"
   ]
  },
  {
   "cell_type": "markdown",
   "id": "e3753f1f",
   "metadata": {
    "papermill": {
     "duration": 0.135704,
     "end_time": "2021-08-06T20:43:41.287822",
     "exception": false,
     "start_time": "2021-08-06T20:43:41.152118",
     "status": "completed"
    },
    "tags": []
   },
   "source": []
  },
  {
   "cell_type": "code",
   "execution_count": 48,
   "id": "6ce7ca78",
   "metadata": {
    "execution": {
     "iopub.execute_input": "2021-08-06T20:43:41.582943Z",
     "iopub.status.busy": "2021-08-06T20:43:41.582162Z",
     "iopub.status.idle": "2021-08-06T20:43:41.587172Z",
     "shell.execute_reply": "2021-08-06T20:43:41.586593Z",
     "shell.execute_reply.started": "2021-08-06T20:26:26.983725Z"
    },
    "papermill": {
     "duration": 0.167675,
     "end_time": "2021-08-06T20:43:41.587332",
     "exception": false,
     "start_time": "2021-08-06T20:43:41.419657",
     "status": "completed"
    },
    "tags": []
   },
   "outputs": [
    {
     "data": {
      "text/html": [
       "<div>\n",
       "<style scoped>\n",
       "    .dataframe tbody tr th:only-of-type {\n",
       "        vertical-align: middle;\n",
       "    }\n",
       "\n",
       "    .dataframe tbody tr th {\n",
       "        vertical-align: top;\n",
       "    }\n",
       "\n",
       "    .dataframe thead th {\n",
       "        text-align: right;\n",
       "    }\n",
       "</style>\n",
       "<table border=\"1\" class=\"dataframe\">\n",
       "  <thead>\n",
       "    <tr style=\"text-align: right;\">\n",
       "      <th></th>\n",
       "      <th>PassengerId</th>\n",
       "      <th>Survived</th>\n",
       "      <th>Pclass</th>\n",
       "      <th>Name</th>\n",
       "      <th>Sex</th>\n",
       "      <th>Age</th>\n",
       "      <th>SibSp</th>\n",
       "      <th>Parch</th>\n",
       "      <th>Ticket</th>\n",
       "      <th>Fare</th>\n",
       "      <th>Cabin</th>\n",
       "      <th>Embarked</th>\n",
       "      <th>data</th>\n",
       "    </tr>\n",
       "  </thead>\n",
       "  <tbody>\n",
       "    <tr>\n",
       "      <th>5</th>\n",
       "      <td>6</td>\n",
       "      <td>0.0</td>\n",
       "      <td>3</td>\n",
       "      <td>Moran, Mr. James</td>\n",
       "      <td>male</td>\n",
       "      <td>NaN</td>\n",
       "      <td>0</td>\n",
       "      <td>0</td>\n",
       "      <td>330877</td>\n",
       "      <td>8.4583</td>\n",
       "      <td>NaN</td>\n",
       "      <td>Q</td>\n",
       "      <td>train</td>\n",
       "    </tr>\n",
       "    <tr>\n",
       "      <th>17</th>\n",
       "      <td>18</td>\n",
       "      <td>1.0</td>\n",
       "      <td>2</td>\n",
       "      <td>Williams, Mr. Charles Eugene</td>\n",
       "      <td>male</td>\n",
       "      <td>NaN</td>\n",
       "      <td>0</td>\n",
       "      <td>0</td>\n",
       "      <td>244373</td>\n",
       "      <td>13.0000</td>\n",
       "      <td>NaN</td>\n",
       "      <td>S</td>\n",
       "      <td>train</td>\n",
       "    </tr>\n",
       "    <tr>\n",
       "      <th>19</th>\n",
       "      <td>20</td>\n",
       "      <td>1.0</td>\n",
       "      <td>3</td>\n",
       "      <td>Masselmani, Mrs. Fatima</td>\n",
       "      <td>female</td>\n",
       "      <td>NaN</td>\n",
       "      <td>0</td>\n",
       "      <td>0</td>\n",
       "      <td>2649</td>\n",
       "      <td>7.2250</td>\n",
       "      <td>NaN</td>\n",
       "      <td>C</td>\n",
       "      <td>train</td>\n",
       "    </tr>\n",
       "    <tr>\n",
       "      <th>26</th>\n",
       "      <td>27</td>\n",
       "      <td>0.0</td>\n",
       "      <td>3</td>\n",
       "      <td>Emir, Mr. Farred Chehab</td>\n",
       "      <td>male</td>\n",
       "      <td>NaN</td>\n",
       "      <td>0</td>\n",
       "      <td>0</td>\n",
       "      <td>2631</td>\n",
       "      <td>7.2250</td>\n",
       "      <td>NaN</td>\n",
       "      <td>C</td>\n",
       "      <td>train</td>\n",
       "    </tr>\n",
       "    <tr>\n",
       "      <th>28</th>\n",
       "      <td>29</td>\n",
       "      <td>1.0</td>\n",
       "      <td>3</td>\n",
       "      <td>O'Dwyer, Miss. Ellen \"Nellie\"</td>\n",
       "      <td>female</td>\n",
       "      <td>NaN</td>\n",
       "      <td>0</td>\n",
       "      <td>0</td>\n",
       "      <td>330959</td>\n",
       "      <td>7.8792</td>\n",
       "      <td>NaN</td>\n",
       "      <td>Q</td>\n",
       "      <td>train</td>\n",
       "    </tr>\n",
       "    <tr>\n",
       "      <th>...</th>\n",
       "      <td>...</td>\n",
       "      <td>...</td>\n",
       "      <td>...</td>\n",
       "      <td>...</td>\n",
       "      <td>...</td>\n",
       "      <td>...</td>\n",
       "      <td>...</td>\n",
       "      <td>...</td>\n",
       "      <td>...</td>\n",
       "      <td>...</td>\n",
       "      <td>...</td>\n",
       "      <td>...</td>\n",
       "      <td>...</td>\n",
       "    </tr>\n",
       "    <tr>\n",
       "      <th>408</th>\n",
       "      <td>1300</td>\n",
       "      <td>NaN</td>\n",
       "      <td>3</td>\n",
       "      <td>Riordan, Miss. Johanna Hannah\"\"</td>\n",
       "      <td>female</td>\n",
       "      <td>NaN</td>\n",
       "      <td>0</td>\n",
       "      <td>0</td>\n",
       "      <td>334915</td>\n",
       "      <td>7.7208</td>\n",
       "      <td>NaN</td>\n",
       "      <td>Q</td>\n",
       "      <td>test</td>\n",
       "    </tr>\n",
       "    <tr>\n",
       "      <th>410</th>\n",
       "      <td>1302</td>\n",
       "      <td>NaN</td>\n",
       "      <td>3</td>\n",
       "      <td>Naughton, Miss. Hannah</td>\n",
       "      <td>female</td>\n",
       "      <td>NaN</td>\n",
       "      <td>0</td>\n",
       "      <td>0</td>\n",
       "      <td>365237</td>\n",
       "      <td>7.7500</td>\n",
       "      <td>NaN</td>\n",
       "      <td>Q</td>\n",
       "      <td>test</td>\n",
       "    </tr>\n",
       "    <tr>\n",
       "      <th>413</th>\n",
       "      <td>1305</td>\n",
       "      <td>NaN</td>\n",
       "      <td>3</td>\n",
       "      <td>Spector, Mr. Woolf</td>\n",
       "      <td>male</td>\n",
       "      <td>NaN</td>\n",
       "      <td>0</td>\n",
       "      <td>0</td>\n",
       "      <td>A.5. 3236</td>\n",
       "      <td>8.0500</td>\n",
       "      <td>NaN</td>\n",
       "      <td>S</td>\n",
       "      <td>test</td>\n",
       "    </tr>\n",
       "    <tr>\n",
       "      <th>416</th>\n",
       "      <td>1308</td>\n",
       "      <td>NaN</td>\n",
       "      <td>3</td>\n",
       "      <td>Ware, Mr. Frederick</td>\n",
       "      <td>male</td>\n",
       "      <td>NaN</td>\n",
       "      <td>0</td>\n",
       "      <td>0</td>\n",
       "      <td>359309</td>\n",
       "      <td>8.0500</td>\n",
       "      <td>NaN</td>\n",
       "      <td>S</td>\n",
       "      <td>test</td>\n",
       "    </tr>\n",
       "    <tr>\n",
       "      <th>417</th>\n",
       "      <td>1309</td>\n",
       "      <td>NaN</td>\n",
       "      <td>3</td>\n",
       "      <td>Peter, Master. Michael J</td>\n",
       "      <td>male</td>\n",
       "      <td>NaN</td>\n",
       "      <td>1</td>\n",
       "      <td>1</td>\n",
       "      <td>2668</td>\n",
       "      <td>22.3583</td>\n",
       "      <td>NaN</td>\n",
       "      <td>C</td>\n",
       "      <td>test</td>\n",
       "    </tr>\n",
       "  </tbody>\n",
       "</table>\n",
       "<p>263 rows × 13 columns</p>\n",
       "</div>"
      ],
      "text/plain": [
       "     PassengerId  Survived  Pclass                             Name     Sex  \\\n",
       "5              6       0.0       3                 Moran, Mr. James    male   \n",
       "17            18       1.0       2     Williams, Mr. Charles Eugene    male   \n",
       "19            20       1.0       3          Masselmani, Mrs. Fatima  female   \n",
       "26            27       0.0       3          Emir, Mr. Farred Chehab    male   \n",
       "28            29       1.0       3    O'Dwyer, Miss. Ellen \"Nellie\"  female   \n",
       "..           ...       ...     ...                              ...     ...   \n",
       "408         1300       NaN       3  Riordan, Miss. Johanna Hannah\"\"  female   \n",
       "410         1302       NaN       3           Naughton, Miss. Hannah  female   \n",
       "413         1305       NaN       3               Spector, Mr. Woolf    male   \n",
       "416         1308       NaN       3              Ware, Mr. Frederick    male   \n",
       "417         1309       NaN       3         Peter, Master. Michael J    male   \n",
       "\n",
       "     Age  SibSp  Parch     Ticket     Fare Cabin Embarked   data  \n",
       "5    NaN      0      0     330877   8.4583   NaN        Q  train  \n",
       "17   NaN      0      0     244373  13.0000   NaN        S  train  \n",
       "19   NaN      0      0       2649   7.2250   NaN        C  train  \n",
       "26   NaN      0      0       2631   7.2250   NaN        C  train  \n",
       "28   NaN      0      0     330959   7.8792   NaN        Q  train  \n",
       "..   ...    ...    ...        ...      ...   ...      ...    ...  \n",
       "408  NaN      0      0     334915   7.7208   NaN        Q   test  \n",
       "410  NaN      0      0     365237   7.7500   NaN        Q   test  \n",
       "413  NaN      0      0  A.5. 3236   8.0500   NaN        S   test  \n",
       "416  NaN      0      0     359309   8.0500   NaN        S   test  \n",
       "417  NaN      1      1       2668  22.3583   NaN        C   test  \n",
       "\n",
       "[263 rows x 13 columns]"
      ]
     },
     "execution_count": 48,
     "metadata": {},
     "output_type": "execute_result"
    }
   ],
   "source": [
    "data[data[\"Age\"].isna()]"
   ]
  },
  {
   "cell_type": "code",
   "execution_count": 49,
   "id": "6b7cdeb8",
   "metadata": {
    "execution": {
     "iopub.execute_input": "2021-08-06T20:43:41.872012Z",
     "iopub.status.busy": "2021-08-06T20:43:41.871307Z",
     "iopub.status.idle": "2021-08-06T20:43:41.875899Z",
     "shell.execute_reply": "2021-08-06T20:43:41.875342Z",
     "shell.execute_reply.started": "2021-08-06T20:26:27.026561Z"
    },
    "papermill": {
     "duration": 0.14993,
     "end_time": "2021-08-06T20:43:41.876055",
     "exception": false,
     "start_time": "2021-08-06T20:43:41.726125",
     "status": "completed"
    },
    "tags": []
   },
   "outputs": [
    {
     "data": {
      "text/plain": [
       "False    30.632861\n",
       "True     27.794224\n",
       "Name: Age, dtype: float64"
      ]
     },
     "execution_count": 49,
     "metadata": {},
     "output_type": "execute_result"
    }
   ],
   "source": [
    "data.groupby((data['Fare']<=8.4583) & (data[\"Pclass\"] ==3)).Age.mean().sort_values(ascending=False)"
   ]
  },
  {
   "cell_type": "code",
   "execution_count": 50,
   "id": "10160a34",
   "metadata": {
    "execution": {
     "iopub.execute_input": "2021-08-06T20:43:42.169743Z",
     "iopub.status.busy": "2021-08-06T20:43:42.168687Z",
     "iopub.status.idle": "2021-08-06T20:43:42.173220Z",
     "shell.execute_reply": "2021-08-06T20:43:42.172626Z",
     "shell.execute_reply.started": "2021-08-06T20:26:27.047354Z"
    },
    "papermill": {
     "duration": 0.161323,
     "end_time": "2021-08-06T20:43:42.173361",
     "exception": false,
     "start_time": "2021-08-06T20:43:42.012038",
     "status": "completed"
    },
    "tags": []
   },
   "outputs": [
    {
     "data": {
      "text/html": [
       "<div>\n",
       "<style scoped>\n",
       "    .dataframe tbody tr th:only-of-type {\n",
       "        vertical-align: middle;\n",
       "    }\n",
       "\n",
       "    .dataframe tbody tr th {\n",
       "        vertical-align: top;\n",
       "    }\n",
       "\n",
       "    .dataframe thead th {\n",
       "        text-align: right;\n",
       "    }\n",
       "</style>\n",
       "<table border=\"1\" class=\"dataframe\">\n",
       "  <thead>\n",
       "    <tr style=\"text-align: right;\">\n",
       "      <th></th>\n",
       "      <th>PassengerId</th>\n",
       "      <th>Survived</th>\n",
       "      <th>Pclass</th>\n",
       "      <th>Name</th>\n",
       "      <th>Sex</th>\n",
       "      <th>Age</th>\n",
       "      <th>SibSp</th>\n",
       "      <th>Parch</th>\n",
       "      <th>Ticket</th>\n",
       "      <th>Fare</th>\n",
       "      <th>Cabin</th>\n",
       "      <th>Embarked</th>\n",
       "      <th>data</th>\n",
       "    </tr>\n",
       "  </thead>\n",
       "  <tbody>\n",
       "    <tr>\n",
       "      <th>5</th>\n",
       "      <td>6</td>\n",
       "      <td>0.0</td>\n",
       "      <td>3</td>\n",
       "      <td>Moran, Mr. James</td>\n",
       "      <td>male</td>\n",
       "      <td>NaN</td>\n",
       "      <td>0</td>\n",
       "      <td>0</td>\n",
       "      <td>330877</td>\n",
       "      <td>8.4583</td>\n",
       "      <td>NaN</td>\n",
       "      <td>Q</td>\n",
       "      <td>train</td>\n",
       "    </tr>\n",
       "  </tbody>\n",
       "</table>\n",
       "</div>"
      ],
      "text/plain": [
       "   PassengerId  Survived  Pclass              Name   Sex  Age  SibSp  Parch  \\\n",
       "5            6       0.0       3  Moran, Mr. James  male  NaN      0      0   \n",
       "\n",
       "   Ticket    Fare Cabin Embarked   data  \n",
       "5  330877  8.4583   NaN        Q  train  "
      ]
     },
     "execution_count": 50,
     "metadata": {},
     "output_type": "execute_result"
    }
   ],
   "source": [
    "   data[(data['Fare']==8.4583) & (data[\"Pclass\"] ==3)]"
   ]
  },
  {
   "cell_type": "code",
   "execution_count": 51,
   "id": "945073e8",
   "metadata": {
    "execution": {
     "iopub.execute_input": "2021-08-06T20:43:42.450125Z",
     "iopub.status.busy": "2021-08-06T20:43:42.449351Z",
     "iopub.status.idle": "2021-08-06T20:43:42.452795Z",
     "shell.execute_reply": "2021-08-06T20:43:42.452180Z",
     "shell.execute_reply.started": "2021-08-06T20:26:27.073663Z"
    },
    "papermill": {
     "duration": 0.144979,
     "end_time": "2021-08-06T20:43:42.452944",
     "exception": false,
     "start_time": "2021-08-06T20:43:42.307965",
     "status": "completed"
    },
    "tags": []
   },
   "outputs": [
    {
     "data": {
      "text/plain": [
       "263"
      ]
     },
     "execution_count": 51,
     "metadata": {},
     "output_type": "execute_result"
    }
   ],
   "source": [
    "data[\"Age\"].isna().sum()\n"
   ]
  },
  {
   "cell_type": "code",
   "execution_count": 52,
   "id": "53ef31d5",
   "metadata": {
    "execution": {
     "iopub.execute_input": "2021-08-06T20:43:42.728362Z",
     "iopub.status.busy": "2021-08-06T20:43:42.727645Z",
     "iopub.status.idle": "2021-08-06T20:43:42.735616Z",
     "shell.execute_reply": "2021-08-06T20:43:42.736165Z",
     "shell.execute_reply.started": "2021-08-06T20:26:27.089479Z"
    },
    "papermill": {
     "duration": 0.14691,
     "end_time": "2021-08-06T20:43:42.736359",
     "exception": false,
     "start_time": "2021-08-06T20:43:42.589449",
     "status": "completed"
    },
    "tags": []
   },
   "outputs": [],
   "source": [
    "data[\"Age\"]=data.groupby(\"Sex\").Age.transform(lambda x: x.fillna(x.mean()))"
   ]
  },
  {
   "cell_type": "code",
   "execution_count": 53,
   "id": "84c36a4a",
   "metadata": {
    "execution": {
     "iopub.execute_input": "2021-08-06T20:43:43.011297Z",
     "iopub.status.busy": "2021-08-06T20:43:43.010522Z",
     "iopub.status.idle": "2021-08-06T20:43:43.028619Z",
     "shell.execute_reply": "2021-08-06T20:43:43.029193Z",
     "shell.execute_reply.started": "2021-08-06T20:26:27.106411Z"
    },
    "papermill": {
     "duration": 0.156539,
     "end_time": "2021-08-06T20:43:43.029383",
     "exception": false,
     "start_time": "2021-08-06T20:43:42.872844",
     "status": "completed"
    },
    "tags": []
   },
   "outputs": [
    {
     "data": {
      "text/html": [
       "<div>\n",
       "<style scoped>\n",
       "    .dataframe tbody tr th:only-of-type {\n",
       "        vertical-align: middle;\n",
       "    }\n",
       "\n",
       "    .dataframe tbody tr th {\n",
       "        vertical-align: top;\n",
       "    }\n",
       "\n",
       "    .dataframe thead th {\n",
       "        text-align: right;\n",
       "    }\n",
       "</style>\n",
       "<table border=\"1\" class=\"dataframe\">\n",
       "  <thead>\n",
       "    <tr style=\"text-align: right;\">\n",
       "      <th></th>\n",
       "      <th>PassengerId</th>\n",
       "      <th>Survived</th>\n",
       "      <th>Pclass</th>\n",
       "      <th>Name</th>\n",
       "      <th>Sex</th>\n",
       "      <th>Age</th>\n",
       "      <th>SibSp</th>\n",
       "      <th>Parch</th>\n",
       "      <th>Ticket</th>\n",
       "      <th>Fare</th>\n",
       "      <th>Cabin</th>\n",
       "      <th>Embarked</th>\n",
       "      <th>data</th>\n",
       "    </tr>\n",
       "  </thead>\n",
       "  <tbody>\n",
       "    <tr>\n",
       "      <th>5</th>\n",
       "      <td>6</td>\n",
       "      <td>0.0</td>\n",
       "      <td>3</td>\n",
       "      <td>Moran, Mr. James</td>\n",
       "      <td>male</td>\n",
       "      <td>30.585228</td>\n",
       "      <td>0</td>\n",
       "      <td>0</td>\n",
       "      <td>330877</td>\n",
       "      <td>8.4583</td>\n",
       "      <td>NaN</td>\n",
       "      <td>Q</td>\n",
       "      <td>train</td>\n",
       "    </tr>\n",
       "  </tbody>\n",
       "</table>\n",
       "</div>"
      ],
      "text/plain": [
       "   PassengerId  Survived  Pclass              Name   Sex        Age  SibSp  \\\n",
       "5            6       0.0       3  Moran, Mr. James  male  30.585228      0   \n",
       "\n",
       "   Parch  Ticket    Fare Cabin Embarked   data  \n",
       "5      0  330877  8.4583   NaN        Q  train  "
      ]
     },
     "execution_count": 53,
     "metadata": {},
     "output_type": "execute_result"
    }
   ],
   "source": [
    "  data[(data['Fare']==8.4583) & (data[\"Pclass\"] ==3)]"
   ]
  },
  {
   "cell_type": "code",
   "execution_count": 54,
   "id": "73e8aa31",
   "metadata": {
    "execution": {
     "iopub.execute_input": "2021-08-06T20:43:43.305599Z",
     "iopub.status.busy": "2021-08-06T20:43:43.304928Z",
     "iopub.status.idle": "2021-08-06T20:43:43.318177Z",
     "shell.execute_reply": "2021-08-06T20:43:43.317575Z",
     "shell.execute_reply.started": "2021-08-06T20:26:27.136377Z"
    },
    "papermill": {
     "duration": 0.152889,
     "end_time": "2021-08-06T20:43:43.318334",
     "exception": false,
     "start_time": "2021-08-06T20:43:43.165445",
     "status": "completed"
    },
    "tags": []
   },
   "outputs": [
    {
     "data": {
      "text/html": [
       "<div>\n",
       "<style scoped>\n",
       "    .dataframe tbody tr th:only-of-type {\n",
       "        vertical-align: middle;\n",
       "    }\n",
       "\n",
       "    .dataframe tbody tr th {\n",
       "        vertical-align: top;\n",
       "    }\n",
       "\n",
       "    .dataframe thead th {\n",
       "        text-align: right;\n",
       "    }\n",
       "</style>\n",
       "<table border=\"1\" class=\"dataframe\">\n",
       "  <thead>\n",
       "    <tr style=\"text-align: right;\">\n",
       "      <th></th>\n",
       "      <th>PassengerId</th>\n",
       "      <th>Survived</th>\n",
       "      <th>Pclass</th>\n",
       "      <th>Name</th>\n",
       "      <th>Sex</th>\n",
       "      <th>Age</th>\n",
       "      <th>SibSp</th>\n",
       "      <th>Parch</th>\n",
       "      <th>Ticket</th>\n",
       "      <th>Fare</th>\n",
       "      <th>Cabin</th>\n",
       "      <th>Embarked</th>\n",
       "      <th>data</th>\n",
       "    </tr>\n",
       "  </thead>\n",
       "  <tbody>\n",
       "  </tbody>\n",
       "</table>\n",
       "</div>"
      ],
      "text/plain": [
       "Empty DataFrame\n",
       "Columns: [PassengerId, Survived, Pclass, Name, Sex, Age, SibSp, Parch, Ticket, Fare, Cabin, Embarked, data]\n",
       "Index: []"
      ]
     },
     "execution_count": 54,
     "metadata": {},
     "output_type": "execute_result"
    }
   ],
   "source": [
    "  data[(data['Age']==0) ]"
   ]
  },
  {
   "cell_type": "code",
   "execution_count": 55,
   "id": "bf8f6c60",
   "metadata": {
    "execution": {
     "iopub.execute_input": "2021-08-06T20:43:43.600604Z",
     "iopub.status.busy": "2021-08-06T20:43:43.599709Z",
     "iopub.status.idle": "2021-08-06T20:43:43.604281Z",
     "shell.execute_reply": "2021-08-06T20:43:43.603705Z",
     "shell.execute_reply.started": "2021-08-06T20:26:27.149374Z"
    },
    "papermill": {
     "duration": 0.151028,
     "end_time": "2021-08-06T20:43:43.604433",
     "exception": false,
     "start_time": "2021-08-06T20:43:43.453405",
     "status": "completed"
    },
    "tags": []
   },
   "outputs": [
    {
     "data": {
      "text/html": [
       "<div>\n",
       "<style scoped>\n",
       "    .dataframe tbody tr th:only-of-type {\n",
       "        vertical-align: middle;\n",
       "    }\n",
       "\n",
       "    .dataframe tbody tr th {\n",
       "        vertical-align: top;\n",
       "    }\n",
       "\n",
       "    .dataframe thead th {\n",
       "        text-align: right;\n",
       "    }\n",
       "</style>\n",
       "<table border=\"1\" class=\"dataframe\">\n",
       "  <thead>\n",
       "    <tr style=\"text-align: right;\">\n",
       "      <th></th>\n",
       "      <th>PassengerId</th>\n",
       "      <th>Survived</th>\n",
       "      <th>Pclass</th>\n",
       "      <th>Name</th>\n",
       "      <th>Sex</th>\n",
       "      <th>Age</th>\n",
       "      <th>SibSp</th>\n",
       "      <th>Parch</th>\n",
       "      <th>Ticket</th>\n",
       "      <th>Fare</th>\n",
       "      <th>Cabin</th>\n",
       "      <th>Embarked</th>\n",
       "      <th>data</th>\n",
       "    </tr>\n",
       "  </thead>\n",
       "  <tbody>\n",
       "  </tbody>\n",
       "</table>\n",
       "</div>"
      ],
      "text/plain": [
       "Empty DataFrame\n",
       "Columns: [PassengerId, Survived, Pclass, Name, Sex, Age, SibSp, Parch, Ticket, Fare, Cabin, Embarked, data]\n",
       "Index: []"
      ]
     },
     "execution_count": 55,
     "metadata": {},
     "output_type": "execute_result"
    }
   ],
   "source": [
    "data[(data['Age'].isna()) ]"
   ]
  },
  {
   "cell_type": "markdown",
   "id": "9fa7d0bd",
   "metadata": {
    "papermill": {
     "duration": 0.142078,
     "end_time": "2021-08-06T20:43:43.883529",
     "exception": false,
     "start_time": "2021-08-06T20:43:43.741451",
     "status": "completed"
    },
    "tags": []
   },
   "source": [
    "#•\tEmbarked -2 null – check sibling / child are available , also find with ticket number. We can remove this data. As no sib/child available and no other passenger travel with same ticket #. This is train data  we can drop them"
   ]
  },
  {
   "cell_type": "code",
   "execution_count": 56,
   "id": "df30ad22",
   "metadata": {
    "execution": {
     "iopub.execute_input": "2021-08-06T20:43:44.178159Z",
     "iopub.status.busy": "2021-08-06T20:43:44.171472Z",
     "iopub.status.idle": "2021-08-06T20:43:44.183013Z",
     "shell.execute_reply": "2021-08-06T20:43:44.182378Z",
     "shell.execute_reply.started": "2021-08-06T20:26:27.173742Z"
    },
    "papermill": {
     "duration": 0.160938,
     "end_time": "2021-08-06T20:43:44.183150",
     "exception": false,
     "start_time": "2021-08-06T20:43:44.022212",
     "status": "completed"
    },
    "tags": []
   },
   "outputs": [
    {
     "data": {
      "text/html": [
       "<div>\n",
       "<style scoped>\n",
       "    .dataframe tbody tr th:only-of-type {\n",
       "        vertical-align: middle;\n",
       "    }\n",
       "\n",
       "    .dataframe tbody tr th {\n",
       "        vertical-align: top;\n",
       "    }\n",
       "\n",
       "    .dataframe thead th {\n",
       "        text-align: right;\n",
       "    }\n",
       "</style>\n",
       "<table border=\"1\" class=\"dataframe\">\n",
       "  <thead>\n",
       "    <tr style=\"text-align: right;\">\n",
       "      <th></th>\n",
       "      <th>PassengerId</th>\n",
       "      <th>Survived</th>\n",
       "      <th>Pclass</th>\n",
       "      <th>Name</th>\n",
       "      <th>Sex</th>\n",
       "      <th>Age</th>\n",
       "      <th>SibSp</th>\n",
       "      <th>Parch</th>\n",
       "      <th>Ticket</th>\n",
       "      <th>Fare</th>\n",
       "      <th>Cabin</th>\n",
       "      <th>Embarked</th>\n",
       "      <th>data</th>\n",
       "    </tr>\n",
       "  </thead>\n",
       "  <tbody>\n",
       "    <tr>\n",
       "      <th>61</th>\n",
       "      <td>62</td>\n",
       "      <td>1.0</td>\n",
       "      <td>1</td>\n",
       "      <td>Icard, Miss. Amelie</td>\n",
       "      <td>female</td>\n",
       "      <td>38.0</td>\n",
       "      <td>0</td>\n",
       "      <td>0</td>\n",
       "      <td>113572</td>\n",
       "      <td>80.0</td>\n",
       "      <td>B28</td>\n",
       "      <td>NaN</td>\n",
       "      <td>train</td>\n",
       "    </tr>\n",
       "    <tr>\n",
       "      <th>829</th>\n",
       "      <td>830</td>\n",
       "      <td>1.0</td>\n",
       "      <td>1</td>\n",
       "      <td>Stone, Mrs. George Nelson (Martha Evelyn)</td>\n",
       "      <td>female</td>\n",
       "      <td>62.0</td>\n",
       "      <td>0</td>\n",
       "      <td>0</td>\n",
       "      <td>113572</td>\n",
       "      <td>80.0</td>\n",
       "      <td>B28</td>\n",
       "      <td>NaN</td>\n",
       "      <td>train</td>\n",
       "    </tr>\n",
       "  </tbody>\n",
       "</table>\n",
       "</div>"
      ],
      "text/plain": [
       "     PassengerId  Survived  Pclass                                       Name  \\\n",
       "61            62       1.0       1                        Icard, Miss. Amelie   \n",
       "829          830       1.0       1  Stone, Mrs. George Nelson (Martha Evelyn)   \n",
       "\n",
       "        Sex   Age  SibSp  Parch  Ticket  Fare Cabin Embarked   data  \n",
       "61   female  38.0      0      0  113572  80.0   B28      NaN  train  \n",
       "829  female  62.0      0      0  113572  80.0   B28      NaN  train  "
      ]
     },
     "execution_count": 56,
     "metadata": {},
     "output_type": "execute_result"
    }
   ],
   "source": [
    "data[data[\"Embarked\"].isna()]\n"
   ]
  },
  {
   "cell_type": "code",
   "execution_count": 57,
   "id": "f750bb01",
   "metadata": {
    "execution": {
     "iopub.execute_input": "2021-08-06T20:43:44.472973Z",
     "iopub.status.busy": "2021-08-06T20:43:44.472299Z",
     "iopub.status.idle": "2021-08-06T20:43:44.478708Z",
     "shell.execute_reply": "2021-08-06T20:43:44.478044Z",
     "shell.execute_reply.started": "2021-08-06T20:26:27.20113Z"
    },
    "papermill": {
     "duration": 0.160831,
     "end_time": "2021-08-06T20:43:44.478892",
     "exception": false,
     "start_time": "2021-08-06T20:43:44.318061",
     "status": "completed"
    },
    "tags": []
   },
   "outputs": [
    {
     "data": {
      "text/html": [
       "<div>\n",
       "<style scoped>\n",
       "    .dataframe tbody tr th:only-of-type {\n",
       "        vertical-align: middle;\n",
       "    }\n",
       "\n",
       "    .dataframe tbody tr th {\n",
       "        vertical-align: top;\n",
       "    }\n",
       "\n",
       "    .dataframe thead th {\n",
       "        text-align: right;\n",
       "    }\n",
       "</style>\n",
       "<table border=\"1\" class=\"dataframe\">\n",
       "  <thead>\n",
       "    <tr style=\"text-align: right;\">\n",
       "      <th></th>\n",
       "      <th>PassengerId</th>\n",
       "      <th>Survived</th>\n",
       "      <th>Pclass</th>\n",
       "      <th>Name</th>\n",
       "      <th>Sex</th>\n",
       "      <th>Age</th>\n",
       "      <th>SibSp</th>\n",
       "      <th>Parch</th>\n",
       "      <th>Ticket</th>\n",
       "      <th>Fare</th>\n",
       "      <th>Cabin</th>\n",
       "      <th>Embarked</th>\n",
       "      <th>data</th>\n",
       "    </tr>\n",
       "  </thead>\n",
       "  <tbody>\n",
       "    <tr>\n",
       "      <th>61</th>\n",
       "      <td>62</td>\n",
       "      <td>1.0</td>\n",
       "      <td>1</td>\n",
       "      <td>Icard, Miss. Amelie</td>\n",
       "      <td>female</td>\n",
       "      <td>38.0</td>\n",
       "      <td>0</td>\n",
       "      <td>0</td>\n",
       "      <td>113572</td>\n",
       "      <td>80.0</td>\n",
       "      <td>B28</td>\n",
       "      <td>NaN</td>\n",
       "      <td>train</td>\n",
       "    </tr>\n",
       "    <tr>\n",
       "      <th>829</th>\n",
       "      <td>830</td>\n",
       "      <td>1.0</td>\n",
       "      <td>1</td>\n",
       "      <td>Stone, Mrs. George Nelson (Martha Evelyn)</td>\n",
       "      <td>female</td>\n",
       "      <td>62.0</td>\n",
       "      <td>0</td>\n",
       "      <td>0</td>\n",
       "      <td>113572</td>\n",
       "      <td>80.0</td>\n",
       "      <td>B28</td>\n",
       "      <td>NaN</td>\n",
       "      <td>train</td>\n",
       "    </tr>\n",
       "  </tbody>\n",
       "</table>\n",
       "</div>"
      ],
      "text/plain": [
       "     PassengerId  Survived  Pclass                                       Name  \\\n",
       "61            62       1.0       1                        Icard, Miss. Amelie   \n",
       "829          830       1.0       1  Stone, Mrs. George Nelson (Martha Evelyn)   \n",
       "\n",
       "        Sex   Age  SibSp  Parch  Ticket  Fare Cabin Embarked   data  \n",
       "61   female  38.0      0      0  113572  80.0   B28      NaN  train  \n",
       "829  female  62.0      0      0  113572  80.0   B28      NaN  train  "
      ]
     },
     "execution_count": 57,
     "metadata": {},
     "output_type": "execute_result"
    }
   ],
   "source": [
    "data[data[\"Ticket\"]=='113572']"
   ]
  },
  {
   "cell_type": "code",
   "execution_count": 58,
   "id": "eef982cb",
   "metadata": {
    "execution": {
     "iopub.execute_input": "2021-08-06T20:43:44.759775Z",
     "iopub.status.busy": "2021-08-06T20:43:44.759102Z",
     "iopub.status.idle": "2021-08-06T20:43:44.762741Z",
     "shell.execute_reply": "2021-08-06T20:43:44.762109Z",
     "shell.execute_reply.started": "2021-08-06T20:26:27.229247Z"
    },
    "papermill": {
     "duration": 0.147236,
     "end_time": "2021-08-06T20:43:44.762889",
     "exception": false,
     "start_time": "2021-08-06T20:43:44.615653",
     "status": "completed"
    },
    "tags": []
   },
   "outputs": [
    {
     "data": {
      "text/plain": [
       "Embarked\n",
       "C    62.336267\n",
       "Q    12.409012\n",
       "S    27.397304\n",
       "Name: Fare, dtype: float64"
      ]
     },
     "execution_count": 58,
     "metadata": {},
     "output_type": "execute_result"
    }
   ],
   "source": [
    "data.groupby(\"Embarked\").Fare.mean()"
   ]
  },
  {
   "cell_type": "code",
   "execution_count": 59,
   "id": "52256365",
   "metadata": {
    "execution": {
     "iopub.execute_input": "2021-08-06T20:43:45.043043Z",
     "iopub.status.busy": "2021-08-06T20:43:45.042338Z",
     "iopub.status.idle": "2021-08-06T20:43:45.047966Z",
     "shell.execute_reply": "2021-08-06T20:43:45.047228Z",
     "shell.execute_reply.started": "2021-08-06T20:26:27.248458Z"
    },
    "papermill": {
     "duration": 0.149058,
     "end_time": "2021-08-06T20:43:45.048123",
     "exception": false,
     "start_time": "2021-08-06T20:43:44.899065",
     "status": "completed"
    },
    "tags": []
   },
   "outputs": [],
   "source": [
    "data.dropna(subset=['Embarked'],inplace=True)"
   ]
  },
  {
   "cell_type": "code",
   "execution_count": 60,
   "id": "47e81b8c",
   "metadata": {
    "execution": {
     "iopub.execute_input": "2021-08-06T20:43:45.330146Z",
     "iopub.status.busy": "2021-08-06T20:43:45.329476Z",
     "iopub.status.idle": "2021-08-06T20:43:45.357163Z",
     "shell.execute_reply": "2021-08-06T20:43:45.357621Z",
     "shell.execute_reply.started": "2021-08-06T20:26:27.264963Z"
    },
    "papermill": {
     "duration": 0.170949,
     "end_time": "2021-08-06T20:43:45.357824",
     "exception": false,
     "start_time": "2021-08-06T20:43:45.186875",
     "status": "completed"
    },
    "tags": []
   },
   "outputs": [
    {
     "data": {
      "text/html": [
       "<div>\n",
       "<style scoped>\n",
       "    .dataframe tbody tr th:only-of-type {\n",
       "        vertical-align: middle;\n",
       "    }\n",
       "\n",
       "    .dataframe tbody tr th {\n",
       "        vertical-align: top;\n",
       "    }\n",
       "\n",
       "    .dataframe thead th {\n",
       "        text-align: right;\n",
       "    }\n",
       "</style>\n",
       "<table border=\"1\" class=\"dataframe\">\n",
       "  <thead>\n",
       "    <tr style=\"text-align: right;\">\n",
       "      <th></th>\n",
       "      <th>PassengerId</th>\n",
       "      <th>Survived</th>\n",
       "      <th>Pclass</th>\n",
       "      <th>Name</th>\n",
       "      <th>Sex</th>\n",
       "      <th>Age</th>\n",
       "      <th>SibSp</th>\n",
       "      <th>Parch</th>\n",
       "      <th>Ticket</th>\n",
       "      <th>Fare</th>\n",
       "      <th>Cabin</th>\n",
       "      <th>Embarked</th>\n",
       "      <th>data</th>\n",
       "    </tr>\n",
       "  </thead>\n",
       "  <tbody>\n",
       "    <tr>\n",
       "      <th>0</th>\n",
       "      <td>1</td>\n",
       "      <td>0.0</td>\n",
       "      <td>3</td>\n",
       "      <td>Braund, Mr. Owen Harris</td>\n",
       "      <td>male</td>\n",
       "      <td>22.000000</td>\n",
       "      <td>1</td>\n",
       "      <td>0</td>\n",
       "      <td>A/5 21171</td>\n",
       "      <td>7.2500</td>\n",
       "      <td>NaN</td>\n",
       "      <td>S</td>\n",
       "      <td>train</td>\n",
       "    </tr>\n",
       "    <tr>\n",
       "      <th>1</th>\n",
       "      <td>2</td>\n",
       "      <td>1.0</td>\n",
       "      <td>1</td>\n",
       "      <td>Cumings, Mrs. John Bradley (Florence Briggs Th...</td>\n",
       "      <td>female</td>\n",
       "      <td>38.000000</td>\n",
       "      <td>1</td>\n",
       "      <td>0</td>\n",
       "      <td>PC 17599</td>\n",
       "      <td>71.2833</td>\n",
       "      <td>C85</td>\n",
       "      <td>C</td>\n",
       "      <td>train</td>\n",
       "    </tr>\n",
       "    <tr>\n",
       "      <th>2</th>\n",
       "      <td>3</td>\n",
       "      <td>1.0</td>\n",
       "      <td>3</td>\n",
       "      <td>Heikkinen, Miss. Laina</td>\n",
       "      <td>female</td>\n",
       "      <td>26.000000</td>\n",
       "      <td>0</td>\n",
       "      <td>0</td>\n",
       "      <td>STON/O2. 3101282</td>\n",
       "      <td>7.9250</td>\n",
       "      <td>NaN</td>\n",
       "      <td>S</td>\n",
       "      <td>train</td>\n",
       "    </tr>\n",
       "    <tr>\n",
       "      <th>3</th>\n",
       "      <td>4</td>\n",
       "      <td>1.0</td>\n",
       "      <td>1</td>\n",
       "      <td>Futrelle, Mrs. Jacques Heath (Lily May Peel)</td>\n",
       "      <td>female</td>\n",
       "      <td>35.000000</td>\n",
       "      <td>1</td>\n",
       "      <td>0</td>\n",
       "      <td>113803</td>\n",
       "      <td>53.1000</td>\n",
       "      <td>C123</td>\n",
       "      <td>S</td>\n",
       "      <td>train</td>\n",
       "    </tr>\n",
       "    <tr>\n",
       "      <th>4</th>\n",
       "      <td>5</td>\n",
       "      <td>0.0</td>\n",
       "      <td>3</td>\n",
       "      <td>Allen, Mr. William Henry</td>\n",
       "      <td>male</td>\n",
       "      <td>35.000000</td>\n",
       "      <td>0</td>\n",
       "      <td>0</td>\n",
       "      <td>373450</td>\n",
       "      <td>8.0500</td>\n",
       "      <td>NaN</td>\n",
       "      <td>S</td>\n",
       "      <td>train</td>\n",
       "    </tr>\n",
       "    <tr>\n",
       "      <th>...</th>\n",
       "      <td>...</td>\n",
       "      <td>...</td>\n",
       "      <td>...</td>\n",
       "      <td>...</td>\n",
       "      <td>...</td>\n",
       "      <td>...</td>\n",
       "      <td>...</td>\n",
       "      <td>...</td>\n",
       "      <td>...</td>\n",
       "      <td>...</td>\n",
       "      <td>...</td>\n",
       "      <td>...</td>\n",
       "      <td>...</td>\n",
       "    </tr>\n",
       "    <tr>\n",
       "      <th>413</th>\n",
       "      <td>1305</td>\n",
       "      <td>NaN</td>\n",
       "      <td>3</td>\n",
       "      <td>Spector, Mr. Woolf</td>\n",
       "      <td>male</td>\n",
       "      <td>30.585228</td>\n",
       "      <td>0</td>\n",
       "      <td>0</td>\n",
       "      <td>A.5. 3236</td>\n",
       "      <td>8.0500</td>\n",
       "      <td>NaN</td>\n",
       "      <td>S</td>\n",
       "      <td>test</td>\n",
       "    </tr>\n",
       "    <tr>\n",
       "      <th>414</th>\n",
       "      <td>1306</td>\n",
       "      <td>NaN</td>\n",
       "      <td>1</td>\n",
       "      <td>Oliva y Ocana, Dona. Fermina</td>\n",
       "      <td>female</td>\n",
       "      <td>39.000000</td>\n",
       "      <td>0</td>\n",
       "      <td>0</td>\n",
       "      <td>PC 17758</td>\n",
       "      <td>108.9000</td>\n",
       "      <td>C105</td>\n",
       "      <td>C</td>\n",
       "      <td>test</td>\n",
       "    </tr>\n",
       "    <tr>\n",
       "      <th>415</th>\n",
       "      <td>1307</td>\n",
       "      <td>NaN</td>\n",
       "      <td>3</td>\n",
       "      <td>Saether, Mr. Simon Sivertsen</td>\n",
       "      <td>male</td>\n",
       "      <td>38.500000</td>\n",
       "      <td>0</td>\n",
       "      <td>0</td>\n",
       "      <td>SOTON/O.Q. 3101262</td>\n",
       "      <td>7.2500</td>\n",
       "      <td>NaN</td>\n",
       "      <td>S</td>\n",
       "      <td>test</td>\n",
       "    </tr>\n",
       "    <tr>\n",
       "      <th>416</th>\n",
       "      <td>1308</td>\n",
       "      <td>NaN</td>\n",
       "      <td>3</td>\n",
       "      <td>Ware, Mr. Frederick</td>\n",
       "      <td>male</td>\n",
       "      <td>30.585228</td>\n",
       "      <td>0</td>\n",
       "      <td>0</td>\n",
       "      <td>359309</td>\n",
       "      <td>8.0500</td>\n",
       "      <td>NaN</td>\n",
       "      <td>S</td>\n",
       "      <td>test</td>\n",
       "    </tr>\n",
       "    <tr>\n",
       "      <th>417</th>\n",
       "      <td>1309</td>\n",
       "      <td>NaN</td>\n",
       "      <td>3</td>\n",
       "      <td>Peter, Master. Michael J</td>\n",
       "      <td>male</td>\n",
       "      <td>30.585228</td>\n",
       "      <td>1</td>\n",
       "      <td>1</td>\n",
       "      <td>2668</td>\n",
       "      <td>22.3583</td>\n",
       "      <td>NaN</td>\n",
       "      <td>C</td>\n",
       "      <td>test</td>\n",
       "    </tr>\n",
       "  </tbody>\n",
       "</table>\n",
       "<p>1307 rows × 13 columns</p>\n",
       "</div>"
      ],
      "text/plain": [
       "     PassengerId  Survived  Pclass  \\\n",
       "0              1       0.0       3   \n",
       "1              2       1.0       1   \n",
       "2              3       1.0       3   \n",
       "3              4       1.0       1   \n",
       "4              5       0.0       3   \n",
       "..           ...       ...     ...   \n",
       "413         1305       NaN       3   \n",
       "414         1306       NaN       1   \n",
       "415         1307       NaN       3   \n",
       "416         1308       NaN       3   \n",
       "417         1309       NaN       3   \n",
       "\n",
       "                                                  Name     Sex        Age  \\\n",
       "0                              Braund, Mr. Owen Harris    male  22.000000   \n",
       "1    Cumings, Mrs. John Bradley (Florence Briggs Th...  female  38.000000   \n",
       "2                               Heikkinen, Miss. Laina  female  26.000000   \n",
       "3         Futrelle, Mrs. Jacques Heath (Lily May Peel)  female  35.000000   \n",
       "4                             Allen, Mr. William Henry    male  35.000000   \n",
       "..                                                 ...     ...        ...   \n",
       "413                                 Spector, Mr. Woolf    male  30.585228   \n",
       "414                       Oliva y Ocana, Dona. Fermina  female  39.000000   \n",
       "415                       Saether, Mr. Simon Sivertsen    male  38.500000   \n",
       "416                                Ware, Mr. Frederick    male  30.585228   \n",
       "417                           Peter, Master. Michael J    male  30.585228   \n",
       "\n",
       "     SibSp  Parch              Ticket      Fare Cabin Embarked   data  \n",
       "0        1      0           A/5 21171    7.2500   NaN        S  train  \n",
       "1        1      0            PC 17599   71.2833   C85        C  train  \n",
       "2        0      0    STON/O2. 3101282    7.9250   NaN        S  train  \n",
       "3        1      0              113803   53.1000  C123        S  train  \n",
       "4        0      0              373450    8.0500   NaN        S  train  \n",
       "..     ...    ...                 ...       ...   ...      ...    ...  \n",
       "413      0      0           A.5. 3236    8.0500   NaN        S   test  \n",
       "414      0      0            PC 17758  108.9000  C105        C   test  \n",
       "415      0      0  SOTON/O.Q. 3101262    7.2500   NaN        S   test  \n",
       "416      0      0              359309    8.0500   NaN        S   test  \n",
       "417      1      1                2668   22.3583   NaN        C   test  \n",
       "\n",
       "[1307 rows x 13 columns]"
      ]
     },
     "execution_count": 60,
     "metadata": {},
     "output_type": "execute_result"
    }
   ],
   "source": [
    "data"
   ]
  },
  {
   "cell_type": "markdown",
   "id": "d0d0f9be",
   "metadata": {
    "papermill": {
     "duration": 0.141376,
     "end_time": "2021-08-06T20:43:45.636906",
     "exception": false,
     "start_time": "2021-08-06T20:43:45.495530",
     "status": "completed"
    },
    "tags": []
   },
   "source": [
    "#Cabin -1014 null : Group by age,sib/child ,fare and plcass , add mode of that --- Replace to Unknown\n",
    "__________________________________________________________________________________________________________"
   ]
  },
  {
   "cell_type": "code",
   "execution_count": 61,
   "id": "6d8649c0",
   "metadata": {
    "execution": {
     "iopub.execute_input": "2021-08-06T20:43:45.937090Z",
     "iopub.status.busy": "2021-08-06T20:43:45.936421Z",
     "iopub.status.idle": "2021-08-06T20:43:45.964394Z",
     "shell.execute_reply": "2021-08-06T20:43:45.964877Z",
     "shell.execute_reply.started": "2021-08-06T20:26:27.302116Z"
    },
    "papermill": {
     "duration": 0.16772,
     "end_time": "2021-08-06T20:43:45.965062",
     "exception": false,
     "start_time": "2021-08-06T20:43:45.797342",
     "status": "completed"
    },
    "tags": []
   },
   "outputs": [
    {
     "data": {
      "text/html": [
       "<div>\n",
       "<style scoped>\n",
       "    .dataframe tbody tr th:only-of-type {\n",
       "        vertical-align: middle;\n",
       "    }\n",
       "\n",
       "    .dataframe tbody tr th {\n",
       "        vertical-align: top;\n",
       "    }\n",
       "\n",
       "    .dataframe thead th {\n",
       "        text-align: right;\n",
       "    }\n",
       "</style>\n",
       "<table border=\"1\" class=\"dataframe\">\n",
       "  <thead>\n",
       "    <tr style=\"text-align: right;\">\n",
       "      <th></th>\n",
       "      <th>PassengerId</th>\n",
       "      <th>Survived</th>\n",
       "      <th>Pclass</th>\n",
       "      <th>Name</th>\n",
       "      <th>Sex</th>\n",
       "      <th>Age</th>\n",
       "      <th>SibSp</th>\n",
       "      <th>Parch</th>\n",
       "      <th>Ticket</th>\n",
       "      <th>Fare</th>\n",
       "      <th>Cabin</th>\n",
       "      <th>Embarked</th>\n",
       "      <th>data</th>\n",
       "    </tr>\n",
       "  </thead>\n",
       "  <tbody>\n",
       "    <tr>\n",
       "      <th>0</th>\n",
       "      <td>1</td>\n",
       "      <td>0.0</td>\n",
       "      <td>3</td>\n",
       "      <td>Braund, Mr. Owen Harris</td>\n",
       "      <td>male</td>\n",
       "      <td>22.000000</td>\n",
       "      <td>1</td>\n",
       "      <td>0</td>\n",
       "      <td>A/5 21171</td>\n",
       "      <td>7.2500</td>\n",
       "      <td>NaN</td>\n",
       "      <td>S</td>\n",
       "      <td>train</td>\n",
       "    </tr>\n",
       "    <tr>\n",
       "      <th>2</th>\n",
       "      <td>3</td>\n",
       "      <td>1.0</td>\n",
       "      <td>3</td>\n",
       "      <td>Heikkinen, Miss. Laina</td>\n",
       "      <td>female</td>\n",
       "      <td>26.000000</td>\n",
       "      <td>0</td>\n",
       "      <td>0</td>\n",
       "      <td>STON/O2. 3101282</td>\n",
       "      <td>7.9250</td>\n",
       "      <td>NaN</td>\n",
       "      <td>S</td>\n",
       "      <td>train</td>\n",
       "    </tr>\n",
       "    <tr>\n",
       "      <th>4</th>\n",
       "      <td>5</td>\n",
       "      <td>0.0</td>\n",
       "      <td>3</td>\n",
       "      <td>Allen, Mr. William Henry</td>\n",
       "      <td>male</td>\n",
       "      <td>35.000000</td>\n",
       "      <td>0</td>\n",
       "      <td>0</td>\n",
       "      <td>373450</td>\n",
       "      <td>8.0500</td>\n",
       "      <td>NaN</td>\n",
       "      <td>S</td>\n",
       "      <td>train</td>\n",
       "    </tr>\n",
       "    <tr>\n",
       "      <th>5</th>\n",
       "      <td>6</td>\n",
       "      <td>0.0</td>\n",
       "      <td>3</td>\n",
       "      <td>Moran, Mr. James</td>\n",
       "      <td>male</td>\n",
       "      <td>30.585228</td>\n",
       "      <td>0</td>\n",
       "      <td>0</td>\n",
       "      <td>330877</td>\n",
       "      <td>8.4583</td>\n",
       "      <td>NaN</td>\n",
       "      <td>Q</td>\n",
       "      <td>train</td>\n",
       "    </tr>\n",
       "    <tr>\n",
       "      <th>7</th>\n",
       "      <td>8</td>\n",
       "      <td>0.0</td>\n",
       "      <td>3</td>\n",
       "      <td>Palsson, Master. Gosta Leonard</td>\n",
       "      <td>male</td>\n",
       "      <td>2.000000</td>\n",
       "      <td>3</td>\n",
       "      <td>1</td>\n",
       "      <td>349909</td>\n",
       "      <td>21.0750</td>\n",
       "      <td>NaN</td>\n",
       "      <td>S</td>\n",
       "      <td>train</td>\n",
       "    </tr>\n",
       "    <tr>\n",
       "      <th>...</th>\n",
       "      <td>...</td>\n",
       "      <td>...</td>\n",
       "      <td>...</td>\n",
       "      <td>...</td>\n",
       "      <td>...</td>\n",
       "      <td>...</td>\n",
       "      <td>...</td>\n",
       "      <td>...</td>\n",
       "      <td>...</td>\n",
       "      <td>...</td>\n",
       "      <td>...</td>\n",
       "      <td>...</td>\n",
       "      <td>...</td>\n",
       "    </tr>\n",
       "    <tr>\n",
       "      <th>412</th>\n",
       "      <td>1304</td>\n",
       "      <td>NaN</td>\n",
       "      <td>3</td>\n",
       "      <td>Henriksson, Miss. Jenny Lovisa</td>\n",
       "      <td>female</td>\n",
       "      <td>28.000000</td>\n",
       "      <td>0</td>\n",
       "      <td>0</td>\n",
       "      <td>347086</td>\n",
       "      <td>7.7750</td>\n",
       "      <td>NaN</td>\n",
       "      <td>S</td>\n",
       "      <td>test</td>\n",
       "    </tr>\n",
       "    <tr>\n",
       "      <th>413</th>\n",
       "      <td>1305</td>\n",
       "      <td>NaN</td>\n",
       "      <td>3</td>\n",
       "      <td>Spector, Mr. Woolf</td>\n",
       "      <td>male</td>\n",
       "      <td>30.585228</td>\n",
       "      <td>0</td>\n",
       "      <td>0</td>\n",
       "      <td>A.5. 3236</td>\n",
       "      <td>8.0500</td>\n",
       "      <td>NaN</td>\n",
       "      <td>S</td>\n",
       "      <td>test</td>\n",
       "    </tr>\n",
       "    <tr>\n",
       "      <th>415</th>\n",
       "      <td>1307</td>\n",
       "      <td>NaN</td>\n",
       "      <td>3</td>\n",
       "      <td>Saether, Mr. Simon Sivertsen</td>\n",
       "      <td>male</td>\n",
       "      <td>38.500000</td>\n",
       "      <td>0</td>\n",
       "      <td>0</td>\n",
       "      <td>SOTON/O.Q. 3101262</td>\n",
       "      <td>7.2500</td>\n",
       "      <td>NaN</td>\n",
       "      <td>S</td>\n",
       "      <td>test</td>\n",
       "    </tr>\n",
       "    <tr>\n",
       "      <th>416</th>\n",
       "      <td>1308</td>\n",
       "      <td>NaN</td>\n",
       "      <td>3</td>\n",
       "      <td>Ware, Mr. Frederick</td>\n",
       "      <td>male</td>\n",
       "      <td>30.585228</td>\n",
       "      <td>0</td>\n",
       "      <td>0</td>\n",
       "      <td>359309</td>\n",
       "      <td>8.0500</td>\n",
       "      <td>NaN</td>\n",
       "      <td>S</td>\n",
       "      <td>test</td>\n",
       "    </tr>\n",
       "    <tr>\n",
       "      <th>417</th>\n",
       "      <td>1309</td>\n",
       "      <td>NaN</td>\n",
       "      <td>3</td>\n",
       "      <td>Peter, Master. Michael J</td>\n",
       "      <td>male</td>\n",
       "      <td>30.585228</td>\n",
       "      <td>1</td>\n",
       "      <td>1</td>\n",
       "      <td>2668</td>\n",
       "      <td>22.3583</td>\n",
       "      <td>NaN</td>\n",
       "      <td>C</td>\n",
       "      <td>test</td>\n",
       "    </tr>\n",
       "  </tbody>\n",
       "</table>\n",
       "<p>1014 rows × 13 columns</p>\n",
       "</div>"
      ],
      "text/plain": [
       "     PassengerId  Survived  Pclass                            Name     Sex  \\\n",
       "0              1       0.0       3         Braund, Mr. Owen Harris    male   \n",
       "2              3       1.0       3          Heikkinen, Miss. Laina  female   \n",
       "4              5       0.0       3        Allen, Mr. William Henry    male   \n",
       "5              6       0.0       3                Moran, Mr. James    male   \n",
       "7              8       0.0       3  Palsson, Master. Gosta Leonard    male   \n",
       "..           ...       ...     ...                             ...     ...   \n",
       "412         1304       NaN       3  Henriksson, Miss. Jenny Lovisa  female   \n",
       "413         1305       NaN       3              Spector, Mr. Woolf    male   \n",
       "415         1307       NaN       3    Saether, Mr. Simon Sivertsen    male   \n",
       "416         1308       NaN       3             Ware, Mr. Frederick    male   \n",
       "417         1309       NaN       3        Peter, Master. Michael J    male   \n",
       "\n",
       "           Age  SibSp  Parch              Ticket     Fare Cabin Embarked  \\\n",
       "0    22.000000      1      0           A/5 21171   7.2500   NaN        S   \n",
       "2    26.000000      0      0    STON/O2. 3101282   7.9250   NaN        S   \n",
       "4    35.000000      0      0              373450   8.0500   NaN        S   \n",
       "5    30.585228      0      0              330877   8.4583   NaN        Q   \n",
       "7     2.000000      3      1              349909  21.0750   NaN        S   \n",
       "..         ...    ...    ...                 ...      ...   ...      ...   \n",
       "412  28.000000      0      0              347086   7.7750   NaN        S   \n",
       "413  30.585228      0      0           A.5. 3236   8.0500   NaN        S   \n",
       "415  38.500000      0      0  SOTON/O.Q. 3101262   7.2500   NaN        S   \n",
       "416  30.585228      0      0              359309   8.0500   NaN        S   \n",
       "417  30.585228      1      1                2668  22.3583   NaN        C   \n",
       "\n",
       "      data  \n",
       "0    train  \n",
       "2    train  \n",
       "4    train  \n",
       "5    train  \n",
       "7    train  \n",
       "..     ...  \n",
       "412   test  \n",
       "413   test  \n",
       "415   test  \n",
       "416   test  \n",
       "417   test  \n",
       "\n",
       "[1014 rows x 13 columns]"
      ]
     },
     "execution_count": 61,
     "metadata": {},
     "output_type": "execute_result"
    }
   ],
   "source": [
    "data[data[\"Cabin\"].isna()]"
   ]
  },
  {
   "cell_type": "code",
   "execution_count": 62,
   "id": "a0b86fc2",
   "metadata": {
    "execution": {
     "iopub.execute_input": "2021-08-06T20:43:46.245017Z",
     "iopub.status.busy": "2021-08-06T20:43:46.244303Z",
     "iopub.status.idle": "2021-08-06T20:43:46.251000Z",
     "shell.execute_reply": "2021-08-06T20:43:46.250455Z",
     "shell.execute_reply.started": "2021-08-06T20:26:27.339704Z"
    },
    "papermill": {
     "duration": 0.147339,
     "end_time": "2021-08-06T20:43:46.251158",
     "exception": false,
     "start_time": "2021-08-06T20:43:46.103819",
     "status": "completed"
    },
    "tags": []
   },
   "outputs": [
    {
     "data": {
      "text/plain": [
       "185"
      ]
     },
     "execution_count": 62,
     "metadata": {},
     "output_type": "execute_result"
    }
   ],
   "source": [
    "data[\"Cabin\"].nunique()"
   ]
  },
  {
   "cell_type": "code",
   "execution_count": 63,
   "id": "2596d24a",
   "metadata": {
    "execution": {
     "iopub.execute_input": "2021-08-06T20:43:46.533524Z",
     "iopub.status.busy": "2021-08-06T20:43:46.532875Z",
     "iopub.status.idle": "2021-08-06T20:43:46.651740Z",
     "shell.execute_reply": "2021-08-06T20:43:46.652314Z",
     "shell.execute_reply.started": "2021-08-06T20:26:27.35043Z"
    },
    "papermill": {
     "duration": 0.263193,
     "end_time": "2021-08-06T20:43:46.652506",
     "exception": false,
     "start_time": "2021-08-06T20:43:46.389313",
     "status": "completed"
    },
    "tags": []
   },
   "outputs": [
    {
     "data": {
      "text/html": [
       "<div>\n",
       "<style scoped>\n",
       "    .dataframe tbody tr th:only-of-type {\n",
       "        vertical-align: middle;\n",
       "    }\n",
       "\n",
       "    .dataframe tbody tr th {\n",
       "        vertical-align: top;\n",
       "    }\n",
       "\n",
       "    .dataframe thead th {\n",
       "        text-align: right;\n",
       "    }\n",
       "</style>\n",
       "<table border=\"1\" class=\"dataframe\">\n",
       "  <thead>\n",
       "    <tr style=\"text-align: right;\">\n",
       "      <th></th>\n",
       "      <th>Cabin</th>\n",
       "    </tr>\n",
       "    <tr>\n",
       "      <th>Ticket</th>\n",
       "      <th></th>\n",
       "    </tr>\n",
       "  </thead>\n",
       "  <tbody>\n",
       "    <tr>\n",
       "      <th>110152</th>\n",
       "      <td>B77</td>\n",
       "    </tr>\n",
       "    <tr>\n",
       "      <th>110413</th>\n",
       "      <td>E67</td>\n",
       "    </tr>\n",
       "    <tr>\n",
       "      <th>110465</th>\n",
       "      <td>A14</td>\n",
       "    </tr>\n",
       "    <tr>\n",
       "      <th>110469</th>\n",
       "      <td>C106</td>\n",
       "    </tr>\n",
       "    <tr>\n",
       "      <th>110489</th>\n",
       "      <td>D22</td>\n",
       "    </tr>\n",
       "    <tr>\n",
       "      <th>...</th>\n",
       "      <td>...</td>\n",
       "    </tr>\n",
       "    <tr>\n",
       "      <th>W./C. 6608</th>\n",
       "      <td>0</td>\n",
       "    </tr>\n",
       "    <tr>\n",
       "      <th>W./C. 6609</th>\n",
       "      <td>0</td>\n",
       "    </tr>\n",
       "    <tr>\n",
       "      <th>W.E.P. 5734</th>\n",
       "      <td>E31</td>\n",
       "    </tr>\n",
       "    <tr>\n",
       "      <th>W/C 14208</th>\n",
       "      <td>0</td>\n",
       "    </tr>\n",
       "    <tr>\n",
       "      <th>WE/P 5735</th>\n",
       "      <td>B22</td>\n",
       "    </tr>\n",
       "  </tbody>\n",
       "</table>\n",
       "<p>928 rows × 1 columns</p>\n",
       "</div>"
      ],
      "text/plain": [
       "            Cabin\n",
       "Ticket           \n",
       "110152        B77\n",
       "110413        E67\n",
       "110465        A14\n",
       "110469       C106\n",
       "110489        D22\n",
       "...           ...\n",
       "W./C. 6608      0\n",
       "W./C. 6609      0\n",
       "W.E.P. 5734   E31\n",
       "W/C 14208       0\n",
       "WE/P 5735     B22\n",
       "\n",
       "[928 rows x 1 columns]"
      ]
     },
     "execution_count": 63,
     "metadata": {},
     "output_type": "execute_result"
    }
   ],
   "source": [
    "data.pivot_table(values=\"Cabin\", index = \"Ticket\", aggfunc=(lambda x: mode(x).mode[0]))"
   ]
  },
  {
   "cell_type": "code",
   "execution_count": 64,
   "id": "6a9b5cf3",
   "metadata": {
    "execution": {
     "iopub.execute_input": "2021-08-06T20:43:46.934687Z",
     "iopub.status.busy": "2021-08-06T20:43:46.934040Z",
     "iopub.status.idle": "2021-08-06T20:43:46.940038Z",
     "shell.execute_reply": "2021-08-06T20:43:46.939435Z",
     "shell.execute_reply.started": "2021-08-06T20:26:27.487625Z"
    },
    "papermill": {
     "duration": 0.148134,
     "end_time": "2021-08-06T20:43:46.940196",
     "exception": false,
     "start_time": "2021-08-06T20:43:46.792062",
     "status": "completed"
    },
    "tags": []
   },
   "outputs": [],
   "source": [
    "data[\"Cabin\"].fillna(\"Unknown\",inplace=True)"
   ]
  },
  {
   "cell_type": "code",
   "execution_count": 65,
   "id": "0454a200",
   "metadata": {
    "execution": {
     "iopub.execute_input": "2021-08-06T20:43:47.231102Z",
     "iopub.status.busy": "2021-08-06T20:43:47.230367Z",
     "iopub.status.idle": "2021-08-06T20:43:47.233855Z",
     "shell.execute_reply": "2021-08-06T20:43:47.234333Z",
     "shell.execute_reply.started": "2021-08-06T20:26:27.494713Z"
    },
    "papermill": {
     "duration": 0.155952,
     "end_time": "2021-08-06T20:43:47.234511",
     "exception": false,
     "start_time": "2021-08-06T20:43:47.078559",
     "status": "completed"
    },
    "tags": []
   },
   "outputs": [
    {
     "data": {
      "text/html": [
       "<div>\n",
       "<style scoped>\n",
       "    .dataframe tbody tr th:only-of-type {\n",
       "        vertical-align: middle;\n",
       "    }\n",
       "\n",
       "    .dataframe tbody tr th {\n",
       "        vertical-align: top;\n",
       "    }\n",
       "\n",
       "    .dataframe thead th {\n",
       "        text-align: right;\n",
       "    }\n",
       "</style>\n",
       "<table border=\"1\" class=\"dataframe\">\n",
       "  <thead>\n",
       "    <tr style=\"text-align: right;\">\n",
       "      <th></th>\n",
       "      <th>PassengerId</th>\n",
       "      <th>Survived</th>\n",
       "      <th>Pclass</th>\n",
       "      <th>Name</th>\n",
       "      <th>Sex</th>\n",
       "      <th>Age</th>\n",
       "      <th>SibSp</th>\n",
       "      <th>Parch</th>\n",
       "      <th>Ticket</th>\n",
       "      <th>Fare</th>\n",
       "      <th>Cabin</th>\n",
       "      <th>Embarked</th>\n",
       "      <th>data</th>\n",
       "    </tr>\n",
       "  </thead>\n",
       "  <tbody>\n",
       "  </tbody>\n",
       "</table>\n",
       "</div>"
      ],
      "text/plain": [
       "Empty DataFrame\n",
       "Columns: [PassengerId, Survived, Pclass, Name, Sex, Age, SibSp, Parch, Ticket, Fare, Cabin, Embarked, data]\n",
       "Index: []"
      ]
     },
     "execution_count": 65,
     "metadata": {},
     "output_type": "execute_result"
    }
   ],
   "source": [
    "data[data[\"Cabin\"].isna()]"
   ]
  },
  {
   "cell_type": "markdown",
   "id": "dc8e1fb2",
   "metadata": {
    "papermill": {
     "duration": 0.140113,
     "end_time": "2021-08-06T20:43:47.513595",
     "exception": false,
     "start_time": "2021-08-06T20:43:47.373482",
     "status": "completed"
    },
    "tags": []
   },
   "source": [
    "# Grouping\n",
    "--------------------"
   ]
  },
  {
   "cell_type": "code",
   "execution_count": 66,
   "id": "d887b863",
   "metadata": {
    "execution": {
     "iopub.execute_input": "2021-08-06T20:43:47.800546Z",
     "iopub.status.busy": "2021-08-06T20:43:47.799879Z",
     "iopub.status.idle": "2021-08-06T20:43:47.802537Z",
     "shell.execute_reply": "2021-08-06T20:43:47.803046Z",
     "shell.execute_reply.started": "2021-08-06T20:26:27.516968Z"
    },
    "papermill": {
     "duration": 0.150095,
     "end_time": "2021-08-06T20:43:47.803217",
     "exception": false,
     "start_time": "2021-08-06T20:43:47.653122",
     "status": "completed"
    },
    "tags": []
   },
   "outputs": [
    {
     "data": {
      "text/plain": [
       "Unknown            1014\n",
       "C23 C25 C27           6\n",
       "G6                    5\n",
       "B57 B59 B63 B66       5\n",
       "F2                    4\n",
       "                   ... \n",
       "A24                   1\n",
       "E17                   1\n",
       "C28                   1\n",
       "B37                   1\n",
       "C118                  1\n",
       "Name: Cabin, Length: 186, dtype: int64"
      ]
     },
     "execution_count": 66,
     "metadata": {},
     "output_type": "execute_result"
    }
   ],
   "source": [
    "data[\"Cabin\"].value_counts()"
   ]
  },
  {
   "cell_type": "code",
   "execution_count": 67,
   "id": "19fde2be",
   "metadata": {
    "execution": {
     "iopub.execute_input": "2021-08-06T20:43:48.092209Z",
     "iopub.status.busy": "2021-08-06T20:43:48.091470Z",
     "iopub.status.idle": "2021-08-06T20:43:48.094502Z",
     "shell.execute_reply": "2021-08-06T20:43:48.093991Z",
     "shell.execute_reply.started": "2021-08-06T20:26:27.53514Z"
    },
    "papermill": {
     "duration": 0.149158,
     "end_time": "2021-08-06T20:43:48.094652",
     "exception": false,
     "start_time": "2021-08-06T20:43:47.945494",
     "status": "completed"
    },
    "tags": []
   },
   "outputs": [],
   "source": [
    "data[\"Cabin_group\"] = data[\"Cabin\"].apply(lambda x : x[0:1])"
   ]
  },
  {
   "cell_type": "code",
   "execution_count": 68,
   "id": "063c2763",
   "metadata": {
    "execution": {
     "iopub.execute_input": "2021-08-06T20:43:48.407791Z",
     "iopub.status.busy": "2021-08-06T20:43:48.385553Z",
     "iopub.status.idle": "2021-08-06T20:43:48.411256Z",
     "shell.execute_reply": "2021-08-06T20:43:48.411762Z",
     "shell.execute_reply.started": "2021-08-06T20:26:27.549001Z"
    },
    "papermill": {
     "duration": 0.176166,
     "end_time": "2021-08-06T20:43:48.411945",
     "exception": false,
     "start_time": "2021-08-06T20:43:48.235779",
     "status": "completed"
    },
    "tags": []
   },
   "outputs": [
    {
     "data": {
      "text/html": [
       "<div>\n",
       "<style scoped>\n",
       "    .dataframe tbody tr th:only-of-type {\n",
       "        vertical-align: middle;\n",
       "    }\n",
       "\n",
       "    .dataframe tbody tr th {\n",
       "        vertical-align: top;\n",
       "    }\n",
       "\n",
       "    .dataframe thead th {\n",
       "        text-align: right;\n",
       "    }\n",
       "</style>\n",
       "<table border=\"1\" class=\"dataframe\">\n",
       "  <thead>\n",
       "    <tr style=\"text-align: right;\">\n",
       "      <th></th>\n",
       "      <th>PassengerId</th>\n",
       "      <th>Survived</th>\n",
       "      <th>Pclass</th>\n",
       "      <th>Name</th>\n",
       "      <th>Sex</th>\n",
       "      <th>Age</th>\n",
       "      <th>SibSp</th>\n",
       "      <th>Parch</th>\n",
       "      <th>Ticket</th>\n",
       "      <th>Fare</th>\n",
       "      <th>Cabin</th>\n",
       "      <th>Embarked</th>\n",
       "      <th>data</th>\n",
       "      <th>Cabin_group</th>\n",
       "    </tr>\n",
       "  </thead>\n",
       "  <tbody>\n",
       "    <tr>\n",
       "      <th>0</th>\n",
       "      <td>1</td>\n",
       "      <td>0.0</td>\n",
       "      <td>3</td>\n",
       "      <td>Braund, Mr. Owen Harris</td>\n",
       "      <td>male</td>\n",
       "      <td>22.000000</td>\n",
       "      <td>1</td>\n",
       "      <td>0</td>\n",
       "      <td>A/5 21171</td>\n",
       "      <td>7.2500</td>\n",
       "      <td>Unknown</td>\n",
       "      <td>S</td>\n",
       "      <td>train</td>\n",
       "      <td>U</td>\n",
       "    </tr>\n",
       "    <tr>\n",
       "      <th>1</th>\n",
       "      <td>2</td>\n",
       "      <td>1.0</td>\n",
       "      <td>1</td>\n",
       "      <td>Cumings, Mrs. John Bradley (Florence Briggs Th...</td>\n",
       "      <td>female</td>\n",
       "      <td>38.000000</td>\n",
       "      <td>1</td>\n",
       "      <td>0</td>\n",
       "      <td>PC 17599</td>\n",
       "      <td>71.2833</td>\n",
       "      <td>C85</td>\n",
       "      <td>C</td>\n",
       "      <td>train</td>\n",
       "      <td>C</td>\n",
       "    </tr>\n",
       "    <tr>\n",
       "      <th>2</th>\n",
       "      <td>3</td>\n",
       "      <td>1.0</td>\n",
       "      <td>3</td>\n",
       "      <td>Heikkinen, Miss. Laina</td>\n",
       "      <td>female</td>\n",
       "      <td>26.000000</td>\n",
       "      <td>0</td>\n",
       "      <td>0</td>\n",
       "      <td>STON/O2. 3101282</td>\n",
       "      <td>7.9250</td>\n",
       "      <td>Unknown</td>\n",
       "      <td>S</td>\n",
       "      <td>train</td>\n",
       "      <td>U</td>\n",
       "    </tr>\n",
       "    <tr>\n",
       "      <th>3</th>\n",
       "      <td>4</td>\n",
       "      <td>1.0</td>\n",
       "      <td>1</td>\n",
       "      <td>Futrelle, Mrs. Jacques Heath (Lily May Peel)</td>\n",
       "      <td>female</td>\n",
       "      <td>35.000000</td>\n",
       "      <td>1</td>\n",
       "      <td>0</td>\n",
       "      <td>113803</td>\n",
       "      <td>53.1000</td>\n",
       "      <td>C123</td>\n",
       "      <td>S</td>\n",
       "      <td>train</td>\n",
       "      <td>C</td>\n",
       "    </tr>\n",
       "    <tr>\n",
       "      <th>4</th>\n",
       "      <td>5</td>\n",
       "      <td>0.0</td>\n",
       "      <td>3</td>\n",
       "      <td>Allen, Mr. William Henry</td>\n",
       "      <td>male</td>\n",
       "      <td>35.000000</td>\n",
       "      <td>0</td>\n",
       "      <td>0</td>\n",
       "      <td>373450</td>\n",
       "      <td>8.0500</td>\n",
       "      <td>Unknown</td>\n",
       "      <td>S</td>\n",
       "      <td>train</td>\n",
       "      <td>U</td>\n",
       "    </tr>\n",
       "    <tr>\n",
       "      <th>...</th>\n",
       "      <td>...</td>\n",
       "      <td>...</td>\n",
       "      <td>...</td>\n",
       "      <td>...</td>\n",
       "      <td>...</td>\n",
       "      <td>...</td>\n",
       "      <td>...</td>\n",
       "      <td>...</td>\n",
       "      <td>...</td>\n",
       "      <td>...</td>\n",
       "      <td>...</td>\n",
       "      <td>...</td>\n",
       "      <td>...</td>\n",
       "      <td>...</td>\n",
       "    </tr>\n",
       "    <tr>\n",
       "      <th>413</th>\n",
       "      <td>1305</td>\n",
       "      <td>NaN</td>\n",
       "      <td>3</td>\n",
       "      <td>Spector, Mr. Woolf</td>\n",
       "      <td>male</td>\n",
       "      <td>30.585228</td>\n",
       "      <td>0</td>\n",
       "      <td>0</td>\n",
       "      <td>A.5. 3236</td>\n",
       "      <td>8.0500</td>\n",
       "      <td>Unknown</td>\n",
       "      <td>S</td>\n",
       "      <td>test</td>\n",
       "      <td>U</td>\n",
       "    </tr>\n",
       "    <tr>\n",
       "      <th>414</th>\n",
       "      <td>1306</td>\n",
       "      <td>NaN</td>\n",
       "      <td>1</td>\n",
       "      <td>Oliva y Ocana, Dona. Fermina</td>\n",
       "      <td>female</td>\n",
       "      <td>39.000000</td>\n",
       "      <td>0</td>\n",
       "      <td>0</td>\n",
       "      <td>PC 17758</td>\n",
       "      <td>108.9000</td>\n",
       "      <td>C105</td>\n",
       "      <td>C</td>\n",
       "      <td>test</td>\n",
       "      <td>C</td>\n",
       "    </tr>\n",
       "    <tr>\n",
       "      <th>415</th>\n",
       "      <td>1307</td>\n",
       "      <td>NaN</td>\n",
       "      <td>3</td>\n",
       "      <td>Saether, Mr. Simon Sivertsen</td>\n",
       "      <td>male</td>\n",
       "      <td>38.500000</td>\n",
       "      <td>0</td>\n",
       "      <td>0</td>\n",
       "      <td>SOTON/O.Q. 3101262</td>\n",
       "      <td>7.2500</td>\n",
       "      <td>Unknown</td>\n",
       "      <td>S</td>\n",
       "      <td>test</td>\n",
       "      <td>U</td>\n",
       "    </tr>\n",
       "    <tr>\n",
       "      <th>416</th>\n",
       "      <td>1308</td>\n",
       "      <td>NaN</td>\n",
       "      <td>3</td>\n",
       "      <td>Ware, Mr. Frederick</td>\n",
       "      <td>male</td>\n",
       "      <td>30.585228</td>\n",
       "      <td>0</td>\n",
       "      <td>0</td>\n",
       "      <td>359309</td>\n",
       "      <td>8.0500</td>\n",
       "      <td>Unknown</td>\n",
       "      <td>S</td>\n",
       "      <td>test</td>\n",
       "      <td>U</td>\n",
       "    </tr>\n",
       "    <tr>\n",
       "      <th>417</th>\n",
       "      <td>1309</td>\n",
       "      <td>NaN</td>\n",
       "      <td>3</td>\n",
       "      <td>Peter, Master. Michael J</td>\n",
       "      <td>male</td>\n",
       "      <td>30.585228</td>\n",
       "      <td>1</td>\n",
       "      <td>1</td>\n",
       "      <td>2668</td>\n",
       "      <td>22.3583</td>\n",
       "      <td>Unknown</td>\n",
       "      <td>C</td>\n",
       "      <td>test</td>\n",
       "      <td>U</td>\n",
       "    </tr>\n",
       "  </tbody>\n",
       "</table>\n",
       "<p>1307 rows × 14 columns</p>\n",
       "</div>"
      ],
      "text/plain": [
       "     PassengerId  Survived  Pclass  \\\n",
       "0              1       0.0       3   \n",
       "1              2       1.0       1   \n",
       "2              3       1.0       3   \n",
       "3              4       1.0       1   \n",
       "4              5       0.0       3   \n",
       "..           ...       ...     ...   \n",
       "413         1305       NaN       3   \n",
       "414         1306       NaN       1   \n",
       "415         1307       NaN       3   \n",
       "416         1308       NaN       3   \n",
       "417         1309       NaN       3   \n",
       "\n",
       "                                                  Name     Sex        Age  \\\n",
       "0                              Braund, Mr. Owen Harris    male  22.000000   \n",
       "1    Cumings, Mrs. John Bradley (Florence Briggs Th...  female  38.000000   \n",
       "2                               Heikkinen, Miss. Laina  female  26.000000   \n",
       "3         Futrelle, Mrs. Jacques Heath (Lily May Peel)  female  35.000000   \n",
       "4                             Allen, Mr. William Henry    male  35.000000   \n",
       "..                                                 ...     ...        ...   \n",
       "413                                 Spector, Mr. Woolf    male  30.585228   \n",
       "414                       Oliva y Ocana, Dona. Fermina  female  39.000000   \n",
       "415                       Saether, Mr. Simon Sivertsen    male  38.500000   \n",
       "416                                Ware, Mr. Frederick    male  30.585228   \n",
       "417                           Peter, Master. Michael J    male  30.585228   \n",
       "\n",
       "     SibSp  Parch              Ticket      Fare    Cabin Embarked   data  \\\n",
       "0        1      0           A/5 21171    7.2500  Unknown        S  train   \n",
       "1        1      0            PC 17599   71.2833      C85        C  train   \n",
       "2        0      0    STON/O2. 3101282    7.9250  Unknown        S  train   \n",
       "3        1      0              113803   53.1000     C123        S  train   \n",
       "4        0      0              373450    8.0500  Unknown        S  train   \n",
       "..     ...    ...                 ...       ...      ...      ...    ...   \n",
       "413      0      0           A.5. 3236    8.0500  Unknown        S   test   \n",
       "414      0      0            PC 17758  108.9000     C105        C   test   \n",
       "415      0      0  SOTON/O.Q. 3101262    7.2500  Unknown        S   test   \n",
       "416      0      0              359309    8.0500  Unknown        S   test   \n",
       "417      1      1                2668   22.3583  Unknown        C   test   \n",
       "\n",
       "    Cabin_group  \n",
       "0             U  \n",
       "1             C  \n",
       "2             U  \n",
       "3             C  \n",
       "4             U  \n",
       "..          ...  \n",
       "413           U  \n",
       "414           C  \n",
       "415           U  \n",
       "416           U  \n",
       "417           U  \n",
       "\n",
       "[1307 rows x 14 columns]"
      ]
     },
     "execution_count": 68,
     "metadata": {},
     "output_type": "execute_result"
    }
   ],
   "source": [
    "data"
   ]
  },
  {
   "cell_type": "code",
   "execution_count": 69,
   "id": "88ef73f4",
   "metadata": {
    "execution": {
     "iopub.execute_input": "2021-08-06T20:43:48.695026Z",
     "iopub.status.busy": "2021-08-06T20:43:48.694231Z",
     "iopub.status.idle": "2021-08-06T20:43:48.702174Z",
     "shell.execute_reply": "2021-08-06T20:43:48.702672Z",
     "shell.execute_reply.started": "2021-08-06T20:26:27.585674Z"
    },
    "papermill": {
     "duration": 0.150555,
     "end_time": "2021-08-06T20:43:48.702901",
     "exception": false,
     "start_time": "2021-08-06T20:43:48.552346",
     "status": "completed"
    },
    "tags": []
   },
   "outputs": [
    {
     "data": {
      "text/plain": [
       "U    1014\n",
       "C      94\n",
       "B      63\n",
       "D      46\n",
       "E      41\n",
       "A      22\n",
       "F      21\n",
       "G       5\n",
       "T       1\n",
       "Name: Cabin_group, dtype: int64"
      ]
     },
     "execution_count": 69,
     "metadata": {},
     "output_type": "execute_result"
    }
   ],
   "source": [
    "data[\"Cabin_group\"].value_counts()"
   ]
  },
  {
   "cell_type": "code",
   "execution_count": 70,
   "id": "9535b4be",
   "metadata": {
    "execution": {
     "iopub.execute_input": "2021-08-06T20:43:48.987450Z",
     "iopub.status.busy": "2021-08-06T20:43:48.986773Z",
     "iopub.status.idle": "2021-08-06T20:43:48.993216Z",
     "shell.execute_reply": "2021-08-06T20:43:48.993800Z",
     "shell.execute_reply.started": "2021-08-06T20:26:27.601593Z"
    },
    "papermill": {
     "duration": 0.149952,
     "end_time": "2021-08-06T20:43:48.993981",
     "exception": false,
     "start_time": "2021-08-06T20:43:48.844029",
     "status": "completed"
    },
    "tags": []
   },
   "outputs": [],
   "source": [
    "data[\"Sex\"]=data[\"Sex\"].replace({'male':1,'female':0})"
   ]
  },
  {
   "cell_type": "code",
   "execution_count": 71,
   "id": "b6ed1dfb",
   "metadata": {
    "execution": {
     "iopub.execute_input": "2021-08-06T20:43:49.284861Z",
     "iopub.status.busy": "2021-08-06T20:43:49.284115Z",
     "iopub.status.idle": "2021-08-06T20:43:49.287763Z",
     "shell.execute_reply": "2021-08-06T20:43:49.287107Z",
     "shell.execute_reply.started": "2021-08-06T20:26:27.617907Z"
    },
    "papermill": {
     "duration": 0.152132,
     "end_time": "2021-08-06T20:43:49.287916",
     "exception": false,
     "start_time": "2021-08-06T20:43:49.135784",
     "status": "completed"
    },
    "tags": []
   },
   "outputs": [
    {
     "data": {
      "text/plain": [
       "S    914\n",
       "C    270\n",
       "Q    123\n",
       "Name: Embarked, dtype: int64"
      ]
     },
     "execution_count": 71,
     "metadata": {},
     "output_type": "execute_result"
    }
   ],
   "source": [
    "data[\"Embarked\"].value_counts()     "
   ]
  },
  {
   "cell_type": "code",
   "execution_count": 72,
   "id": "5ef8b14b",
   "metadata": {
    "execution": {
     "iopub.execute_input": "2021-08-06T20:43:49.578457Z",
     "iopub.status.busy": "2021-08-06T20:43:49.577756Z",
     "iopub.status.idle": "2021-08-06T20:43:49.580778Z",
     "shell.execute_reply": "2021-08-06T20:43:49.580258Z",
     "shell.execute_reply.started": "2021-08-06T20:26:27.641024Z"
    },
    "papermill": {
     "duration": 0.151685,
     "end_time": "2021-08-06T20:43:49.580921",
     "exception": false,
     "start_time": "2021-08-06T20:43:49.429236",
     "status": "completed"
    },
    "tags": []
   },
   "outputs": [],
   "source": [
    "data[\"Embarked\"]=data[\"Embarked\"].replace({'S':1,'C':2,'Q':3})"
   ]
  },
  {
   "cell_type": "code",
   "execution_count": 73,
   "id": "860f419d",
   "metadata": {
    "execution": {
     "iopub.execute_input": "2021-08-06T20:43:49.879112Z",
     "iopub.status.busy": "2021-08-06T20:43:49.878366Z",
     "iopub.status.idle": "2021-08-06T20:43:49.882646Z",
     "shell.execute_reply": "2021-08-06T20:43:49.881974Z",
     "shell.execute_reply.started": "2021-08-06T20:26:27.651135Z"
    },
    "papermill": {
     "duration": 0.161509,
     "end_time": "2021-08-06T20:43:49.882881",
     "exception": false,
     "start_time": "2021-08-06T20:43:49.721372",
     "status": "completed"
    },
    "tags": []
   },
   "outputs": [
    {
     "name": "stdout",
     "output_type": "stream",
     "text": [
      "<class 'pandas.core.frame.DataFrame'>\n",
      "Int64Index: 1307 entries, 0 to 417\n",
      "Data columns (total 14 columns):\n",
      " #   Column       Non-Null Count  Dtype  \n",
      "---  ------       --------------  -----  \n",
      " 0   PassengerId  1307 non-null   int64  \n",
      " 1   Survived     889 non-null    float64\n",
      " 2   Pclass       1307 non-null   int64  \n",
      " 3   Name         1307 non-null   object \n",
      " 4   Sex          1307 non-null   int64  \n",
      " 5   Age          1307 non-null   float64\n",
      " 6   SibSp        1307 non-null   int64  \n",
      " 7   Parch        1307 non-null   int64  \n",
      " 8   Ticket       1307 non-null   object \n",
      " 9   Fare         1307 non-null   float64\n",
      " 10  Cabin        1307 non-null   object \n",
      " 11  Embarked     1307 non-null   int64  \n",
      " 12  data         1307 non-null   object \n",
      " 13  Cabin_group  1307 non-null   object \n",
      "dtypes: float64(3), int64(6), object(5)\n",
      "memory usage: 185.5+ KB\n"
     ]
    }
   ],
   "source": [
    "data.info()"
   ]
  },
  {
   "cell_type": "code",
   "execution_count": 74,
   "id": "4af3c1c8",
   "metadata": {
    "execution": {
     "iopub.execute_input": "2021-08-06T20:43:50.181648Z",
     "iopub.status.busy": "2021-08-06T20:43:50.176358Z",
     "iopub.status.idle": "2021-08-06T20:43:50.209054Z",
     "shell.execute_reply": "2021-08-06T20:43:50.209547Z",
     "shell.execute_reply.started": "2021-08-06T20:26:27.679241Z"
    },
    "papermill": {
     "duration": 0.182327,
     "end_time": "2021-08-06T20:43:50.209744",
     "exception": false,
     "start_time": "2021-08-06T20:43:50.027417",
     "status": "completed"
    },
    "tags": []
   },
   "outputs": [
    {
     "name": "stdout",
     "output_type": "stream",
     "text": [
      "1       1\n",
      "861     1\n",
      "879     1\n",
      "878     1\n",
      "877     1\n",
      "       ..\n",
      "436     1\n",
      "435     1\n",
      "434     1\n",
      "433     1\n",
      "1309    1\n",
      "Name: PassengerId, Length: 1307, dtype: int64\n",
      "0.0    549\n",
      "1.0    340\n",
      "Name: Survived, dtype: int64\n",
      "3    709\n",
      "1    321\n",
      "2    277\n",
      "Name: Pclass, dtype: int64\n",
      "Kelly, Mr. James                         2\n",
      "Connolly, Miss. Kate                     2\n",
      "Toomey, Miss. Ellen                      1\n",
      "Partner, Mr. Austen                      1\n",
      "Wiklund, Mr. Karl Johan                  1\n",
      "                                        ..\n",
      "Assaf Khalil, Mrs. Mariana (Miriam\")\"    1\n",
      "Compton, Mr. Alexander Taylor Jr         1\n",
      "Osen, Mr. Olaf Elon                      1\n",
      "Rice, Mrs. William (Margaret Norton)     1\n",
      "Zabour, Miss. Thamine                    1\n",
      "Name: Name, Length: 1305, dtype: int64\n",
      "1    843\n",
      "0    464\n",
      "Name: Sex, dtype: int64\n",
      "30.585228    185\n",
      "28.687088     78\n",
      "24.000000     47\n",
      "22.000000     43\n",
      "21.000000     41\n",
      "            ... \n",
      "20.500000      1\n",
      "11.500000      1\n",
      "76.000000      1\n",
      "0.330000       1\n",
      "60.500000      1\n",
      "Name: Age, Length: 100, dtype: int64\n",
      "0    889\n",
      "1    319\n",
      "2     42\n",
      "4     22\n",
      "3     20\n",
      "8      9\n",
      "5      6\n",
      "Name: SibSp, dtype: int64\n",
      "0    1000\n",
      "1     170\n",
      "2     113\n",
      "3       8\n",
      "4       6\n",
      "5       6\n",
      "6       2\n",
      "9       2\n",
      "Name: Parch, dtype: int64\n",
      "CA. 2343         11\n",
      "1601              8\n",
      "CA 2144           8\n",
      "3101295           7\n",
      "S.O.C. 14879      7\n",
      "                 ..\n",
      "345778            1\n",
      "349234            1\n",
      "110564            1\n",
      "13213             1\n",
      "S.O./P.P. 751     1\n",
      "Name: Ticket, Length: 928, dtype: int64\n",
      "8.0500     60\n",
      "13.0000    59\n",
      "7.7500     56\n",
      "26.0000    50\n",
      "7.8958     49\n",
      "           ..\n",
      "12.2750     1\n",
      "9.4833      1\n",
      "15.0333     1\n",
      "8.4042      1\n",
      "32.3208     1\n",
      "Name: Fare, Length: 280, dtype: int64\n",
      "Unknown            1014\n",
      "C23 C25 C27           6\n",
      "G6                    5\n",
      "B57 B59 B63 B66       5\n",
      "F2                    4\n",
      "                   ... \n",
      "A24                   1\n",
      "E17                   1\n",
      "C28                   1\n",
      "B37                   1\n",
      "C118                  1\n",
      "Name: Cabin, Length: 186, dtype: int64\n",
      "1    914\n",
      "2    270\n",
      "3    123\n",
      "Name: Embarked, dtype: int64\n",
      "train    889\n",
      "test     418\n",
      "Name: data, dtype: int64\n",
      "U    1014\n",
      "C      94\n",
      "B      63\n",
      "D      46\n",
      "E      41\n",
      "A      22\n",
      "F      21\n",
      "G       5\n",
      "T       1\n",
      "Name: Cabin_group, dtype: int64\n"
     ]
    },
    {
     "data": {
      "text/plain": [
       "PassengerId    None\n",
       "Survived       None\n",
       "Pclass         None\n",
       "Name           None\n",
       "Sex            None\n",
       "Age            None\n",
       "SibSp          None\n",
       "Parch          None\n",
       "Ticket         None\n",
       "Fare           None\n",
       "Cabin          None\n",
       "Embarked       None\n",
       "data           None\n",
       "Cabin_group    None\n",
       "dtype: object"
      ]
     },
     "execution_count": 74,
     "metadata": {},
     "output_type": "execute_result"
    }
   ],
   "source": [
    "data.apply(lambda x: print(x.value_counts()))"
   ]
  },
  {
   "cell_type": "markdown",
   "id": "51767aa0",
   "metadata": {
    "papermill": {
     "duration": 0.14156,
     "end_time": "2021-08-06T20:43:50.492918",
     "exception": false,
     "start_time": "2021-08-06T20:43:50.351358",
     "status": "completed"
    },
    "tags": []
   },
   "source": [
    "#Not required"
   ]
  },
  {
   "cell_type": "code",
   "execution_count": 75,
   "id": "7259c0ba",
   "metadata": {
    "execution": {
     "iopub.execute_input": "2021-08-06T20:43:50.787241Z",
     "iopub.status.busy": "2021-08-06T20:43:50.786176Z",
     "iopub.status.idle": "2021-08-06T20:43:50.792960Z",
     "shell.execute_reply": "2021-08-06T20:43:50.792397Z",
     "shell.execute_reply.started": "2021-08-06T20:26:27.71873Z"
    },
    "papermill": {
     "duration": 0.153678,
     "end_time": "2021-08-06T20:43:50.793124",
     "exception": false,
     "start_time": "2021-08-06T20:43:50.639446",
     "status": "completed"
    },
    "tags": []
   },
   "outputs": [],
   "source": [
    "data = data.reset_index().drop(columns=\"index\")"
   ]
  },
  {
   "cell_type": "code",
   "execution_count": 76,
   "id": "3057227c",
   "metadata": {
    "execution": {
     "iopub.execute_input": "2021-08-06T20:43:51.111789Z",
     "iopub.status.busy": "2021-08-06T20:43:51.100038Z",
     "iopub.status.idle": "2021-08-06T20:43:51.842334Z",
     "shell.execute_reply": "2021-08-06T20:43:51.841785Z",
     "shell.execute_reply.started": "2021-08-06T20:26:27.729921Z"
    },
    "papermill": {
     "duration": 0.905708,
     "end_time": "2021-08-06T20:43:51.842475",
     "exception": false,
     "start_time": "2021-08-06T20:43:50.936767",
     "status": "completed"
    },
    "tags": []
   },
   "outputs": [
    {
     "data": {
      "text/plain": [
       "<AxesSubplot:>"
      ]
     },
     "execution_count": 76,
     "metadata": {},
     "output_type": "execute_result"
    },
    {
     "data": {
      "image/png": "[encoded data removed]",
      "text/plain": [
       "<Figure size 432x288 with 2 Axes>"
      ]
     },
     "metadata": {
      "needs_background": "light"
     },
     "output_type": "display_data"
    }
   ],
   "source": [
    "sns.heatmap(data.corr(),annot=True)"
   ]
  },
  {
   "cell_type": "markdown",
   "id": "4d272c8a",
   "metadata": {
    "papermill": {
     "duration": 0.146018,
     "end_time": "2021-08-06T20:43:52.133009",
     "exception": false,
     "start_time": "2021-08-06T20:43:51.986991",
     "status": "completed"
    },
    "tags": []
   },
   "source": [
    "#Data Preparation\n",
    "------------------------"
   ]
  },
  {
   "cell_type": "code",
   "execution_count": 77,
   "id": "19f8b2c0",
   "metadata": {
    "execution": {
     "iopub.execute_input": "2021-08-06T20:43:52.444430Z",
     "iopub.status.busy": "2021-08-06T20:43:52.438173Z",
     "iopub.status.idle": "2021-08-06T20:43:52.463753Z",
     "shell.execute_reply": "2021-08-06T20:43:52.463200Z",
     "shell.execute_reply.started": "2021-08-06T20:26:28.515625Z"
    },
    "papermill": {
     "duration": 0.181921,
     "end_time": "2021-08-06T20:43:52.463910",
     "exception": false,
     "start_time": "2021-08-06T20:43:52.281989",
     "status": "completed"
    },
    "tags": []
   },
   "outputs": [
    {
     "data": {
      "text/html": [
       "<div>\n",
       "<style scoped>\n",
       "    .dataframe tbody tr th:only-of-type {\n",
       "        vertical-align: middle;\n",
       "    }\n",
       "\n",
       "    .dataframe tbody tr th {\n",
       "        vertical-align: top;\n",
       "    }\n",
       "\n",
       "    .dataframe thead th {\n",
       "        text-align: right;\n",
       "    }\n",
       "</style>\n",
       "<table border=\"1\" class=\"dataframe\">\n",
       "  <thead>\n",
       "    <tr style=\"text-align: right;\">\n",
       "      <th></th>\n",
       "      <th>PassengerId</th>\n",
       "      <th>Survived</th>\n",
       "      <th>Pclass</th>\n",
       "      <th>Name</th>\n",
       "      <th>Sex</th>\n",
       "      <th>Age</th>\n",
       "      <th>SibSp</th>\n",
       "      <th>Parch</th>\n",
       "      <th>Ticket</th>\n",
       "      <th>Fare</th>\n",
       "      <th>Cabin</th>\n",
       "      <th>Embarked</th>\n",
       "      <th>data</th>\n",
       "      <th>Cabin_group</th>\n",
       "    </tr>\n",
       "  </thead>\n",
       "  <tbody>\n",
       "    <tr>\n",
       "      <th>0</th>\n",
       "      <td>1</td>\n",
       "      <td>0.0</td>\n",
       "      <td>3</td>\n",
       "      <td>Braund, Mr. Owen Harris</td>\n",
       "      <td>1</td>\n",
       "      <td>22.000000</td>\n",
       "      <td>1</td>\n",
       "      <td>0</td>\n",
       "      <td>A/5 21171</td>\n",
       "      <td>7.2500</td>\n",
       "      <td>Unknown</td>\n",
       "      <td>1</td>\n",
       "      <td>train</td>\n",
       "      <td>U</td>\n",
       "    </tr>\n",
       "    <tr>\n",
       "      <th>1</th>\n",
       "      <td>2</td>\n",
       "      <td>1.0</td>\n",
       "      <td>1</td>\n",
       "      <td>Cumings, Mrs. John Bradley (Florence Briggs Th...</td>\n",
       "      <td>0</td>\n",
       "      <td>38.000000</td>\n",
       "      <td>1</td>\n",
       "      <td>0</td>\n",
       "      <td>PC 17599</td>\n",
       "      <td>71.2833</td>\n",
       "      <td>C85</td>\n",
       "      <td>2</td>\n",
       "      <td>train</td>\n",
       "      <td>C</td>\n",
       "    </tr>\n",
       "    <tr>\n",
       "      <th>2</th>\n",
       "      <td>3</td>\n",
       "      <td>1.0</td>\n",
       "      <td>3</td>\n",
       "      <td>Heikkinen, Miss. Laina</td>\n",
       "      <td>0</td>\n",
       "      <td>26.000000</td>\n",
       "      <td>0</td>\n",
       "      <td>0</td>\n",
       "      <td>STON/O2. 3101282</td>\n",
       "      <td>7.9250</td>\n",
       "      <td>Unknown</td>\n",
       "      <td>1</td>\n",
       "      <td>train</td>\n",
       "      <td>U</td>\n",
       "    </tr>\n",
       "    <tr>\n",
       "      <th>3</th>\n",
       "      <td>4</td>\n",
       "      <td>1.0</td>\n",
       "      <td>1</td>\n",
       "      <td>Futrelle, Mrs. Jacques Heath (Lily May Peel)</td>\n",
       "      <td>0</td>\n",
       "      <td>35.000000</td>\n",
       "      <td>1</td>\n",
       "      <td>0</td>\n",
       "      <td>113803</td>\n",
       "      <td>53.1000</td>\n",
       "      <td>C123</td>\n",
       "      <td>1</td>\n",
       "      <td>train</td>\n",
       "      <td>C</td>\n",
       "    </tr>\n",
       "    <tr>\n",
       "      <th>4</th>\n",
       "      <td>5</td>\n",
       "      <td>0.0</td>\n",
       "      <td>3</td>\n",
       "      <td>Allen, Mr. William Henry</td>\n",
       "      <td>1</td>\n",
       "      <td>35.000000</td>\n",
       "      <td>0</td>\n",
       "      <td>0</td>\n",
       "      <td>373450</td>\n",
       "      <td>8.0500</td>\n",
       "      <td>Unknown</td>\n",
       "      <td>1</td>\n",
       "      <td>train</td>\n",
       "      <td>U</td>\n",
       "    </tr>\n",
       "    <tr>\n",
       "      <th>...</th>\n",
       "      <td>...</td>\n",
       "      <td>...</td>\n",
       "      <td>...</td>\n",
       "      <td>...</td>\n",
       "      <td>...</td>\n",
       "      <td>...</td>\n",
       "      <td>...</td>\n",
       "      <td>...</td>\n",
       "      <td>...</td>\n",
       "      <td>...</td>\n",
       "      <td>...</td>\n",
       "      <td>...</td>\n",
       "      <td>...</td>\n",
       "      <td>...</td>\n",
       "    </tr>\n",
       "    <tr>\n",
       "      <th>1302</th>\n",
       "      <td>1305</td>\n",
       "      <td>NaN</td>\n",
       "      <td>3</td>\n",
       "      <td>Spector, Mr. Woolf</td>\n",
       "      <td>1</td>\n",
       "      <td>30.585228</td>\n",
       "      <td>0</td>\n",
       "      <td>0</td>\n",
       "      <td>A.5. 3236</td>\n",
       "      <td>8.0500</td>\n",
       "      <td>Unknown</td>\n",
       "      <td>1</td>\n",
       "      <td>test</td>\n",
       "      <td>U</td>\n",
       "    </tr>\n",
       "    <tr>\n",
       "      <th>1303</th>\n",
       "      <td>1306</td>\n",
       "      <td>NaN</td>\n",
       "      <td>1</td>\n",
       "      <td>Oliva y Ocana, Dona. Fermina</td>\n",
       "      <td>0</td>\n",
       "      <td>39.000000</td>\n",
       "      <td>0</td>\n",
       "      <td>0</td>\n",
       "      <td>PC 17758</td>\n",
       "      <td>108.9000</td>\n",
       "      <td>C105</td>\n",
       "      <td>2</td>\n",
       "      <td>test</td>\n",
       "      <td>C</td>\n",
       "    </tr>\n",
       "    <tr>\n",
       "      <th>1304</th>\n",
       "      <td>1307</td>\n",
       "      <td>NaN</td>\n",
       "      <td>3</td>\n",
       "      <td>Saether, Mr. Simon Sivertsen</td>\n",
       "      <td>1</td>\n",
       "      <td>38.500000</td>\n",
       "      <td>0</td>\n",
       "      <td>0</td>\n",
       "      <td>SOTON/O.Q. 3101262</td>\n",
       "      <td>7.2500</td>\n",
       "      <td>Unknown</td>\n",
       "      <td>1</td>\n",
       "      <td>test</td>\n",
       "      <td>U</td>\n",
       "    </tr>\n",
       "    <tr>\n",
       "      <th>1305</th>\n",
       "      <td>1308</td>\n",
       "      <td>NaN</td>\n",
       "      <td>3</td>\n",
       "      <td>Ware, Mr. Frederick</td>\n",
       "      <td>1</td>\n",
       "      <td>30.585228</td>\n",
       "      <td>0</td>\n",
       "      <td>0</td>\n",
       "      <td>359309</td>\n",
       "      <td>8.0500</td>\n",
       "      <td>Unknown</td>\n",
       "      <td>1</td>\n",
       "      <td>test</td>\n",
       "      <td>U</td>\n",
       "    </tr>\n",
       "    <tr>\n",
       "      <th>1306</th>\n",
       "      <td>1309</td>\n",
       "      <td>NaN</td>\n",
       "      <td>3</td>\n",
       "      <td>Peter, Master. Michael J</td>\n",
       "      <td>1</td>\n",
       "      <td>30.585228</td>\n",
       "      <td>1</td>\n",
       "      <td>1</td>\n",
       "      <td>2668</td>\n",
       "      <td>22.3583</td>\n",
       "      <td>Unknown</td>\n",
       "      <td>2</td>\n",
       "      <td>test</td>\n",
       "      <td>U</td>\n",
       "    </tr>\n",
       "  </tbody>\n",
       "</table>\n",
       "<p>1307 rows × 14 columns</p>\n",
       "</div>"
      ],
      "text/plain": [
       "      PassengerId  Survived  Pclass  \\\n",
       "0               1       0.0       3   \n",
       "1               2       1.0       1   \n",
       "2               3       1.0       3   \n",
       "3               4       1.0       1   \n",
       "4               5       0.0       3   \n",
       "...           ...       ...     ...   \n",
       "1302         1305       NaN       3   \n",
       "1303         1306       NaN       1   \n",
       "1304         1307       NaN       3   \n",
       "1305         1308       NaN       3   \n",
       "1306         1309       NaN       3   \n",
       "\n",
       "                                                   Name  Sex        Age  \\\n",
       "0                               Braund, Mr. Owen Harris    1  22.000000   \n",
       "1     Cumings, Mrs. John Bradley (Florence Briggs Th...    0  38.000000   \n",
       "2                                Heikkinen, Miss. Laina    0  26.000000   \n",
       "3          Futrelle, Mrs. Jacques Heath (Lily May Peel)    0  35.000000   \n",
       "4                              Allen, Mr. William Henry    1  35.000000   \n",
       "...                                                 ...  ...        ...   \n",
       "1302                                 Spector, Mr. Woolf    1  30.585228   \n",
       "1303                       Oliva y Ocana, Dona. Fermina    0  39.000000   \n",
       "1304                       Saether, Mr. Simon Sivertsen    1  38.500000   \n",
       "1305                                Ware, Mr. Frederick    1  30.585228   \n",
       "1306                           Peter, Master. Michael J    1  30.585228   \n",
       "\n",
       "      SibSp  Parch              Ticket      Fare    Cabin  Embarked   data  \\\n",
       "0         1      0           A/5 21171    7.2500  Unknown         1  train   \n",
       "1         1      0            PC 17599   71.2833      C85         2  train   \n",
       "2         0      0    STON/O2. 3101282    7.9250  Unknown         1  train   \n",
       "3         1      0              113803   53.1000     C123         1  train   \n",
       "4         0      0              373450    8.0500  Unknown         1  train   \n",
       "...     ...    ...                 ...       ...      ...       ...    ...   \n",
       "1302      0      0           A.5. 3236    8.0500  Unknown         1   test   \n",
       "1303      0      0            PC 17758  108.9000     C105         2   test   \n",
       "1304      0      0  SOTON/O.Q. 3101262    7.2500  Unknown         1   test   \n",
       "1305      0      0              359309    8.0500  Unknown         1   test   \n",
       "1306      1      1                2668   22.3583  Unknown         2   test   \n",
       "\n",
       "     Cabin_group  \n",
       "0              U  \n",
       "1              C  \n",
       "2              U  \n",
       "3              C  \n",
       "4              U  \n",
       "...          ...  \n",
       "1302           U  \n",
       "1303           C  \n",
       "1304           U  \n",
       "1305           U  \n",
       "1306           U  \n",
       "\n",
       "[1307 rows x 14 columns]"
      ]
     },
     "execution_count": 77,
     "metadata": {},
     "output_type": "execute_result"
    }
   ],
   "source": [
    "data"
   ]
  },
  {
   "cell_type": "code",
   "execution_count": 78,
   "id": "4fade32f",
   "metadata": {
    "execution": {
     "iopub.execute_input": "2021-08-06T20:43:52.760680Z",
     "iopub.status.busy": "2021-08-06T20:43:52.760027Z",
     "iopub.status.idle": "2021-08-06T20:43:52.763522Z",
     "shell.execute_reply": "2021-08-06T20:43:52.762925Z",
     "shell.execute_reply.started": "2021-08-06T20:26:28.554844Z"
    },
    "papermill": {
     "duration": 0.154119,
     "end_time": "2021-08-06T20:43:52.763660",
     "exception": false,
     "start_time": "2021-08-06T20:43:52.609541",
     "status": "completed"
    },
    "tags": []
   },
   "outputs": [
    {
     "data": {
      "text/plain": [
       "Index(['PassengerId', 'Survived', 'Pclass', 'Name', 'Sex', 'Age', 'SibSp',\n",
       "       'Parch', 'Ticket', 'Fare', 'Cabin', 'Embarked', 'data', 'Cabin_group'],\n",
       "      dtype='object')"
      ]
     },
     "execution_count": 78,
     "metadata": {},
     "output_type": "execute_result"
    }
   ],
   "source": [
    "\n",
    "data.columns"
   ]
  },
  {
   "cell_type": "code",
   "execution_count": 79,
   "id": "2cc34a0a",
   "metadata": {
    "execution": {
     "iopub.execute_input": "2021-08-06T20:43:53.075954Z",
     "iopub.status.busy": "2021-08-06T20:43:53.075258Z",
     "iopub.status.idle": "2021-08-06T20:43:53.080125Z",
     "shell.execute_reply": "2021-08-06T20:43:53.079483Z",
     "shell.execute_reply.started": "2021-08-06T20:26:28.56537Z"
    },
    "papermill": {
     "duration": 0.167677,
     "end_time": "2021-08-06T20:43:53.080268",
     "exception": false,
     "start_time": "2021-08-06T20:43:52.912591",
     "status": "completed"
    },
    "tags": []
   },
   "outputs": [
    {
     "name": "stdout",
     "output_type": "stream",
     "text": [
      "<class 'pandas.core.frame.DataFrame'>\n",
      "RangeIndex: 1307 entries, 0 to 1306\n",
      "Data columns (total 14 columns):\n",
      " #   Column       Non-Null Count  Dtype  \n",
      "---  ------       --------------  -----  \n",
      " 0   PassengerId  1307 non-null   int64  \n",
      " 1   Survived     889 non-null    float64\n",
      " 2   Pclass       1307 non-null   int64  \n",
      " 3   Name         1307 non-null   object \n",
      " 4   Sex          1307 non-null   int64  \n",
      " 5   Age          1307 non-null   float64\n",
      " 6   SibSp        1307 non-null   int64  \n",
      " 7   Parch        1307 non-null   int64  \n",
      " 8   Ticket       1307 non-null   object \n",
      " 9   Fare         1307 non-null   float64\n",
      " 10  Cabin        1307 non-null   object \n",
      " 11  Embarked     1307 non-null   int64  \n",
      " 12  data         1307 non-null   object \n",
      " 13  Cabin_group  1307 non-null   object \n",
      "dtypes: float64(3), int64(6), object(5)\n",
      "memory usage: 143.1+ KB\n"
     ]
    }
   ],
   "source": [
    "data.info()"
   ]
  },
  {
   "cell_type": "code",
   "execution_count": 80,
   "id": "38fdf9f4",
   "metadata": {
    "execution": {
     "iopub.execute_input": "2021-08-06T20:43:53.383377Z",
     "iopub.status.busy": "2021-08-06T20:43:53.382350Z",
     "iopub.status.idle": "2021-08-06T20:43:53.385695Z",
     "shell.execute_reply": "2021-08-06T20:43:53.385202Z",
     "shell.execute_reply.started": "2021-08-06T20:26:28.591115Z"
    },
    "papermill": {
     "duration": 0.158297,
     "end_time": "2021-08-06T20:43:53.385857",
     "exception": false,
     "start_time": "2021-08-06T20:43:53.227560",
     "status": "completed"
    },
    "tags": []
   },
   "outputs": [],
   "source": [
    "numeric_data_columns=data.select_dtypes(include=np.number).drop(columns=[\"Survived\"]).columns"
   ]
  },
  {
   "cell_type": "code",
   "execution_count": 81,
   "id": "f5cf1801",
   "metadata": {
    "execution": {
     "iopub.execute_input": "2021-08-06T20:43:53.685377Z",
     "iopub.status.busy": "2021-08-06T20:43:53.684660Z",
     "iopub.status.idle": "2021-08-06T20:43:53.688617Z",
     "shell.execute_reply": "2021-08-06T20:43:53.689115Z",
     "shell.execute_reply.started": "2021-08-06T20:26:28.606098Z"
    },
    "papermill": {
     "duration": 0.155514,
     "end_time": "2021-08-06T20:43:53.689293",
     "exception": false,
     "start_time": "2021-08-06T20:43:53.533779",
     "status": "completed"
    },
    "tags": []
   },
   "outputs": [
    {
     "data": {
      "text/plain": [
       "Index(['PassengerId', 'Pclass', 'Sex', 'Age', 'SibSp', 'Parch', 'Fare',\n",
       "       'Embarked'],\n",
       "      dtype='object')"
      ]
     },
     "execution_count": 81,
     "metadata": {},
     "output_type": "execute_result"
    }
   ],
   "source": [
    "numeric_data_columns"
   ]
  },
  {
   "cell_type": "code",
   "execution_count": 82,
   "id": "ffd3e486",
   "metadata": {
    "execution": {
     "iopub.execute_input": "2021-08-06T20:43:53.991812Z",
     "iopub.status.busy": "2021-08-06T20:43:53.990822Z",
     "iopub.status.idle": "2021-08-06T20:43:53.994202Z",
     "shell.execute_reply": "2021-08-06T20:43:53.993565Z",
     "shell.execute_reply.started": "2021-08-06T20:26:28.624081Z"
    },
    "papermill": {
     "duration": 0.157543,
     "end_time": "2021-08-06T20:43:53.994349",
     "exception": false,
     "start_time": "2021-08-06T20:43:53.836806",
     "status": "completed"
    },
    "tags": []
   },
   "outputs": [],
   "source": [
    "category_data_columns=data.select_dtypes(exclude=np.number).drop(columns=[\"data\",\"Name\",\"Cabin\"]).columns"
   ]
  },
  {
   "cell_type": "code",
   "execution_count": 83,
   "id": "35534e34",
   "metadata": {
    "execution": {
     "iopub.execute_input": "2021-08-06T20:43:54.299193Z",
     "iopub.status.busy": "2021-08-06T20:43:54.298309Z",
     "iopub.status.idle": "2021-08-06T20:43:54.302179Z",
     "shell.execute_reply": "2021-08-06T20:43:54.302668Z",
     "shell.execute_reply.started": "2021-08-06T20:26:28.639198Z"
    },
    "papermill": {
     "duration": 0.158534,
     "end_time": "2021-08-06T20:43:54.302865",
     "exception": false,
     "start_time": "2021-08-06T20:43:54.144331",
     "status": "completed"
    },
    "tags": []
   },
   "outputs": [
    {
     "data": {
      "text/plain": [
       "Index(['Ticket', 'Cabin_group'], dtype='object')"
      ]
     },
     "execution_count": 83,
     "metadata": {},
     "output_type": "execute_result"
    }
   ],
   "source": [
    "category_data_columns"
   ]
  },
  {
   "cell_type": "code",
   "execution_count": 84,
   "id": "1933f1fc",
   "metadata": {
    "execution": {
     "iopub.execute_input": "2021-08-06T20:43:54.633762Z",
     "iopub.status.busy": "2021-08-06T20:43:54.632551Z",
     "iopub.status.idle": "2021-08-06T20:43:54.638205Z",
     "shell.execute_reply": "2021-08-06T20:43:54.638790Z",
     "shell.execute_reply.started": "2021-08-06T20:26:28.650972Z"
    },
    "papermill": {
     "duration": 0.186029,
     "end_time": "2021-08-06T20:43:54.638982",
     "exception": false,
     "start_time": "2021-08-06T20:43:54.452953",
     "status": "completed"
    },
    "tags": []
   },
   "outputs": [],
   "source": [
    "preprocess_category_data_columns = pd.get_dummies(data[category_data_columns])"
   ]
  },
  {
   "cell_type": "code",
   "execution_count": 85,
   "id": "875975ce",
   "metadata": {
    "execution": {
     "iopub.execute_input": "2021-08-06T20:43:54.959152Z",
     "iopub.status.busy": "2021-08-06T20:43:54.958149Z",
     "iopub.status.idle": "2021-08-06T20:43:54.962345Z",
     "shell.execute_reply": "2021-08-06T20:43:54.962961Z",
     "shell.execute_reply.started": "2021-08-06T20:26:28.680143Z"
    },
    "papermill": {
     "duration": 0.158078,
     "end_time": "2021-08-06T20:43:54.963136",
     "exception": false,
     "start_time": "2021-08-06T20:43:54.805058",
     "status": "completed"
    },
    "tags": []
   },
   "outputs": [],
   "source": [
    "scaler = StandardScaler()\n"
   ]
  },
  {
   "cell_type": "code",
   "execution_count": 86,
   "id": "b22e1d1d",
   "metadata": {
    "execution": {
     "iopub.execute_input": "2021-08-06T20:43:55.316023Z",
     "iopub.status.busy": "2021-08-06T20:43:55.315026Z",
     "iopub.status.idle": "2021-08-06T20:43:55.325039Z",
     "shell.execute_reply": "2021-08-06T20:43:55.325550Z",
     "shell.execute_reply.started": "2021-08-06T20:26:28.687922Z"
    },
    "papermill": {
     "duration": 0.21109,
     "end_time": "2021-08-06T20:43:55.325720",
     "exception": false,
     "start_time": "2021-08-06T20:43:55.114630",
     "status": "completed"
    },
    "tags": []
   },
   "outputs": [],
   "source": [
    "preprocess_numeric_data_columns = pd.DataFrame(scaler.fit_transform(data[numeric_data_columns]), columns=numeric_data_columns)"
   ]
  },
  {
   "cell_type": "code",
   "execution_count": 87,
   "id": "04ddf03b",
   "metadata": {
    "execution": {
     "iopub.execute_input": "2021-08-06T20:43:55.624257Z",
     "iopub.status.busy": "2021-08-06T20:43:55.623261Z",
     "iopub.status.idle": "2021-08-06T20:43:55.626986Z",
     "shell.execute_reply": "2021-08-06T20:43:55.627441Z",
     "shell.execute_reply.started": "2021-08-06T20:26:28.707241Z"
    },
    "papermill": {
     "duration": 0.155389,
     "end_time": "2021-08-06T20:43:55.627634",
     "exception": false,
     "start_time": "2021-08-06T20:43:55.472245",
     "status": "completed"
    },
    "tags": []
   },
   "outputs": [],
   "source": [
    "#final_preprocessed = pd.concat([preprocess_category_data_columns, data[numeric_data_columns], data[[\"data\",\"Survived\",\"PassengerId\"]]], axis = 1)"
   ]
  },
  {
   "cell_type": "code",
   "execution_count": 88,
   "id": "e65b7b9b",
   "metadata": {
    "execution": {
     "iopub.execute_input": "2021-08-06T20:43:55.927320Z",
     "iopub.status.busy": "2021-08-06T20:43:55.926310Z",
     "iopub.status.idle": "2021-08-06T20:43:55.929785Z",
     "shell.execute_reply": "2021-08-06T20:43:55.930412Z",
     "shell.execute_reply.started": "2021-08-06T20:26:28.716955Z"
    },
    "papermill": {
     "duration": 0.155502,
     "end_time": "2021-08-06T20:43:55.930580",
     "exception": false,
     "start_time": "2021-08-06T20:43:55.775078",
     "status": "completed"
    },
    "tags": []
   },
   "outputs": [],
   "source": [
    "#final_preprocessed = pd.concat([preprocess_category_data_columns,preprocess_numeric_data_columns, data[[\"data\",\"Survived\"]]], axis = 1)"
   ]
  },
  {
   "cell_type": "code",
   "execution_count": 89,
   "id": "f0443fc1",
   "metadata": {
    "execution": {
     "iopub.execute_input": "2021-08-06T20:43:56.232291Z",
     "iopub.status.busy": "2021-08-06T20:43:56.231506Z",
     "iopub.status.idle": "2021-08-06T20:43:56.234673Z",
     "shell.execute_reply": "2021-08-06T20:43:56.234174Z",
     "shell.execute_reply.started": "2021-08-06T20:26:28.73311Z"
    },
    "papermill": {
     "duration": 0.157538,
     "end_time": "2021-08-06T20:43:56.234844",
     "exception": false,
     "start_time": "2021-08-06T20:43:56.077306",
     "status": "completed"
    },
    "tags": []
   },
   "outputs": [],
   "source": [
    "final_preprocessed = pd.concat([preprocess_numeric_data_columns, data[[\"data\",\"Survived\"]]], axis = 1)"
   ]
  },
  {
   "cell_type": "code",
   "execution_count": 90,
   "id": "e7aa4339",
   "metadata": {
    "execution": {
     "iopub.execute_input": "2021-08-06T20:43:56.555898Z",
     "iopub.status.busy": "2021-08-06T20:43:56.554964Z",
     "iopub.status.idle": "2021-08-06T20:43:56.559581Z",
     "shell.execute_reply": "2021-08-06T20:43:56.558948Z",
     "shell.execute_reply.started": "2021-08-06T20:26:28.750304Z"
    },
    "papermill": {
     "duration": 0.176884,
     "end_time": "2021-08-06T20:43:56.559744",
     "exception": false,
     "start_time": "2021-08-06T20:43:56.382860",
     "status": "completed"
    },
    "tags": []
   },
   "outputs": [
    {
     "data": {
      "text/html": [
       "<div>\n",
       "<style scoped>\n",
       "    .dataframe tbody tr th:only-of-type {\n",
       "        vertical-align: middle;\n",
       "    }\n",
       "\n",
       "    .dataframe tbody tr th {\n",
       "        vertical-align: top;\n",
       "    }\n",
       "\n",
       "    .dataframe thead th {\n",
       "        text-align: right;\n",
       "    }\n",
       "</style>\n",
       "<table border=\"1\" class=\"dataframe\">\n",
       "  <thead>\n",
       "    <tr style=\"text-align: right;\">\n",
       "      <th></th>\n",
       "      <th>PassengerId</th>\n",
       "      <th>Pclass</th>\n",
       "      <th>Sex</th>\n",
       "      <th>Age</th>\n",
       "      <th>SibSp</th>\n",
       "      <th>Parch</th>\n",
       "      <th>Fare</th>\n",
       "      <th>Embarked</th>\n",
       "      <th>data</th>\n",
       "      <th>Survived</th>\n",
       "    </tr>\n",
       "  </thead>\n",
       "  <tbody>\n",
       "    <tr>\n",
       "      <th>0</th>\n",
       "      <td>-1.732024</td>\n",
       "      <td>0.840447</td>\n",
       "      <td>0.741900</td>\n",
       "      <td>-0.612582</td>\n",
       "      <td>0.480272</td>\n",
       "      <td>-0.445407</td>\n",
       "      <td>-0.501718</td>\n",
       "      <td>-0.604066</td>\n",
       "      <td>train</td>\n",
       "      <td>0.0</td>\n",
       "    </tr>\n",
       "    <tr>\n",
       "      <th>1</th>\n",
       "      <td>-1.729377</td>\n",
       "      <td>-1.550118</td>\n",
       "      <td>-1.347891</td>\n",
       "      <td>0.631437</td>\n",
       "      <td>0.480272</td>\n",
       "      <td>-0.445407</td>\n",
       "      <td>0.736091</td>\n",
       "      <td>0.926000</td>\n",
       "      <td>train</td>\n",
       "      <td>1.0</td>\n",
       "    </tr>\n",
       "    <tr>\n",
       "      <th>2</th>\n",
       "      <td>-1.726730</td>\n",
       "      <td>0.840447</td>\n",
       "      <td>-1.347891</td>\n",
       "      <td>-0.301578</td>\n",
       "      <td>-0.479537</td>\n",
       "      <td>-0.445407</td>\n",
       "      <td>-0.488670</td>\n",
       "      <td>-0.604066</td>\n",
       "      <td>train</td>\n",
       "      <td>1.0</td>\n",
       "    </tr>\n",
       "    <tr>\n",
       "      <th>3</th>\n",
       "      <td>-1.724083</td>\n",
       "      <td>-1.550118</td>\n",
       "      <td>-1.347891</td>\n",
       "      <td>0.398183</td>\n",
       "      <td>0.480272</td>\n",
       "      <td>-0.445407</td>\n",
       "      <td>0.384595</td>\n",
       "      <td>-0.604066</td>\n",
       "      <td>train</td>\n",
       "      <td>1.0</td>\n",
       "    </tr>\n",
       "    <tr>\n",
       "      <th>4</th>\n",
       "      <td>-1.721436</td>\n",
       "      <td>0.840447</td>\n",
       "      <td>0.741900</td>\n",
       "      <td>0.398183</td>\n",
       "      <td>-0.479537</td>\n",
       "      <td>-0.445407</td>\n",
       "      <td>-0.486254</td>\n",
       "      <td>-0.604066</td>\n",
       "      <td>train</td>\n",
       "      <td>0.0</td>\n",
       "    </tr>\n",
       "    <tr>\n",
       "      <th>...</th>\n",
       "      <td>...</td>\n",
       "      <td>...</td>\n",
       "      <td>...</td>\n",
       "      <td>...</td>\n",
       "      <td>...</td>\n",
       "      <td>...</td>\n",
       "      <td>...</td>\n",
       "      <td>...</td>\n",
       "      <td>...</td>\n",
       "      <td>...</td>\n",
       "    </tr>\n",
       "    <tr>\n",
       "      <th>1302</th>\n",
       "      <td>1.719742</td>\n",
       "      <td>0.840447</td>\n",
       "      <td>0.741900</td>\n",
       "      <td>0.054929</td>\n",
       "      <td>-0.479537</td>\n",
       "      <td>-0.445407</td>\n",
       "      <td>-0.486254</td>\n",
       "      <td>-0.604066</td>\n",
       "      <td>test</td>\n",
       "      <td>NaN</td>\n",
       "    </tr>\n",
       "    <tr>\n",
       "      <th>1303</th>\n",
       "      <td>1.722390</td>\n",
       "      <td>-1.550118</td>\n",
       "      <td>-1.347891</td>\n",
       "      <td>0.709188</td>\n",
       "      <td>-0.479537</td>\n",
       "      <td>-0.445407</td>\n",
       "      <td>1.463248</td>\n",
       "      <td>0.926000</td>\n",
       "      <td>test</td>\n",
       "      <td>NaN</td>\n",
       "    </tr>\n",
       "    <tr>\n",
       "      <th>1304</th>\n",
       "      <td>1.725037</td>\n",
       "      <td>0.840447</td>\n",
       "      <td>0.741900</td>\n",
       "      <td>0.670312</td>\n",
       "      <td>-0.479537</td>\n",
       "      <td>-0.445407</td>\n",
       "      <td>-0.501718</td>\n",
       "      <td>-0.604066</td>\n",
       "      <td>test</td>\n",
       "      <td>NaN</td>\n",
       "    </tr>\n",
       "    <tr>\n",
       "      <th>1305</th>\n",
       "      <td>1.727684</td>\n",
       "      <td>0.840447</td>\n",
       "      <td>0.741900</td>\n",
       "      <td>0.054929</td>\n",
       "      <td>-0.479537</td>\n",
       "      <td>-0.445407</td>\n",
       "      <td>-0.486254</td>\n",
       "      <td>-0.604066</td>\n",
       "      <td>test</td>\n",
       "      <td>NaN</td>\n",
       "    </tr>\n",
       "    <tr>\n",
       "      <th>1306</th>\n",
       "      <td>1.730331</td>\n",
       "      <td>0.840447</td>\n",
       "      <td>0.741900</td>\n",
       "      <td>0.054929</td>\n",
       "      <td>0.480272</td>\n",
       "      <td>0.709647</td>\n",
       "      <td>-0.209664</td>\n",
       "      <td>0.926000</td>\n",
       "      <td>test</td>\n",
       "      <td>NaN</td>\n",
       "    </tr>\n",
       "  </tbody>\n",
       "</table>\n",
       "<p>1307 rows × 10 columns</p>\n",
       "</div>"
      ],
      "text/plain": [
       "      PassengerId    Pclass       Sex       Age     SibSp     Parch      Fare  \\\n",
       "0       -1.732024  0.840447  0.741900 -0.612582  0.480272 -0.445407 -0.501718   \n",
       "1       -1.729377 -1.550118 -1.347891  0.631437  0.480272 -0.445407  0.736091   \n",
       "2       -1.726730  0.840447 -1.347891 -0.301578 -0.479537 -0.445407 -0.488670   \n",
       "3       -1.724083 -1.550118 -1.347891  0.398183  0.480272 -0.445407  0.384595   \n",
       "4       -1.721436  0.840447  0.741900  0.398183 -0.479537 -0.445407 -0.486254   \n",
       "...           ...       ...       ...       ...       ...       ...       ...   \n",
       "1302     1.719742  0.840447  0.741900  0.054929 -0.479537 -0.445407 -0.486254   \n",
       "1303     1.722390 -1.550118 -1.347891  0.709188 -0.479537 -0.445407  1.463248   \n",
       "1304     1.725037  0.840447  0.741900  0.670312 -0.479537 -0.445407 -0.501718   \n",
       "1305     1.727684  0.840447  0.741900  0.054929 -0.479537 -0.445407 -0.486254   \n",
       "1306     1.730331  0.840447  0.741900  0.054929  0.480272  0.709647 -0.209664   \n",
       "\n",
       "      Embarked   data  Survived  \n",
       "0    -0.604066  train       0.0  \n",
       "1     0.926000  train       1.0  \n",
       "2    -0.604066  train       1.0  \n",
       "3    -0.604066  train       1.0  \n",
       "4    -0.604066  train       0.0  \n",
       "...        ...    ...       ...  \n",
       "1302 -0.604066   test       NaN  \n",
       "1303  0.926000   test       NaN  \n",
       "1304 -0.604066   test       NaN  \n",
       "1305 -0.604066   test       NaN  \n",
       "1306  0.926000   test       NaN  \n",
       "\n",
       "[1307 rows x 10 columns]"
      ]
     },
     "execution_count": 90,
     "metadata": {},
     "output_type": "execute_result"
    }
   ],
   "source": [
    "final_preprocessed"
   ]
  },
  {
   "cell_type": "code",
   "execution_count": 91,
   "id": "53ccc3d2",
   "metadata": {
    "execution": {
     "iopub.execute_input": "2021-08-06T20:43:56.892435Z",
     "iopub.status.busy": "2021-08-06T20:43:56.891743Z",
     "iopub.status.idle": "2021-08-06T20:43:56.897034Z",
     "shell.execute_reply": "2021-08-06T20:43:56.896476Z",
     "shell.execute_reply.started": "2021-08-06T20:26:28.787457Z"
    },
    "papermill": {
     "duration": 0.163814,
     "end_time": "2021-08-06T20:43:56.897186",
     "exception": false,
     "start_time": "2021-08-06T20:43:56.733372",
     "status": "completed"
    },
    "tags": []
   },
   "outputs": [],
   "source": [
    "final_preprocessed= final_preprocessed.reset_index().drop(columns=\"index\")"
   ]
  },
  {
   "cell_type": "code",
   "execution_count": 92,
   "id": "56fd1a5a",
   "metadata": {
    "execution": {
     "iopub.execute_input": "2021-08-06T20:43:57.206704Z",
     "iopub.status.busy": "2021-08-06T20:43:57.205658Z",
     "iopub.status.idle": "2021-08-06T20:43:57.209304Z",
     "shell.execute_reply": "2021-08-06T20:43:57.208770Z",
     "shell.execute_reply.started": "2021-08-06T20:26:28.80123Z"
    },
    "papermill": {
     "duration": 0.161849,
     "end_time": "2021-08-06T20:43:57.209456",
     "exception": false,
     "start_time": "2021-08-06T20:43:57.047607",
     "status": "completed"
    },
    "tags": []
   },
   "outputs": [],
   "source": [
    "train_preprocessed = final_preprocessed[final_preprocessed[\"data\"]==\"train\"]"
   ]
  },
  {
   "cell_type": "code",
   "execution_count": 93,
   "id": "2b9f2f44",
   "metadata": {
    "execution": {
     "iopub.execute_input": "2021-08-06T20:43:57.515319Z",
     "iopub.status.busy": "2021-08-06T20:43:57.514321Z",
     "iopub.status.idle": "2021-08-06T20:43:57.517428Z",
     "shell.execute_reply": "2021-08-06T20:43:57.516799Z",
     "shell.execute_reply.started": "2021-08-06T20:26:28.815882Z"
    },
    "papermill": {
     "duration": 0.15646,
     "end_time": "2021-08-06T20:43:57.517566",
     "exception": false,
     "start_time": "2021-08-06T20:43:57.361106",
     "status": "completed"
    },
    "tags": []
   },
   "outputs": [],
   "source": [
    "test_preprocessed = final_preprocessed[final_preprocessed[\"data\"]==\"test\"]"
   ]
  },
  {
   "cell_type": "code",
   "execution_count": 94,
   "id": "3c84ba0f",
   "metadata": {
    "execution": {
     "iopub.execute_input": "2021-08-06T20:43:57.823061Z",
     "iopub.status.busy": "2021-08-06T20:43:57.822354Z",
     "iopub.status.idle": "2021-08-06T20:43:57.825798Z",
     "shell.execute_reply": "2021-08-06T20:43:57.825256Z",
     "shell.execute_reply.started": "2021-08-06T20:26:28.828927Z"
    },
    "papermill": {
     "duration": 0.158621,
     "end_time": "2021-08-06T20:43:57.825962",
     "exception": false,
     "start_time": "2021-08-06T20:43:57.667341",
     "status": "completed"
    },
    "tags": []
   },
   "outputs": [],
   "source": [
    "train_preprocessed = train_preprocessed.drop(columns = [\"data\"])"
   ]
  },
  {
   "cell_type": "code",
   "execution_count": 95,
   "id": "c6e4597f",
   "metadata": {
    "execution": {
     "iopub.execute_input": "2021-08-06T20:43:58.133118Z",
     "iopub.status.busy": "2021-08-06T20:43:58.132216Z",
     "iopub.status.idle": "2021-08-06T20:43:58.137114Z",
     "shell.execute_reply": "2021-08-06T20:43:58.136451Z",
     "shell.execute_reply.started": "2021-08-06T20:26:28.843926Z"
    },
    "papermill": {
     "duration": 0.160801,
     "end_time": "2021-08-06T20:43:58.137255",
     "exception": false,
     "start_time": "2021-08-06T20:43:57.976454",
     "status": "completed"
    },
    "tags": []
   },
   "outputs": [
    {
     "data": {
      "text/plain": [
       "Index(['PassengerId', 'Pclass', 'Sex', 'Age', 'SibSp', 'Parch', 'Fare',\n",
       "       'Embarked', 'Survived'],\n",
       "      dtype='object')"
      ]
     },
     "execution_count": 95,
     "metadata": {},
     "output_type": "execute_result"
    }
   ],
   "source": [
    "train_preprocessed.columns\n"
   ]
  },
  {
   "cell_type": "code",
   "execution_count": 96,
   "id": "fabcfed4",
   "metadata": {
    "execution": {
     "iopub.execute_input": "2021-08-06T20:43:58.442797Z",
     "iopub.status.busy": "2021-08-06T20:43:58.442103Z",
     "iopub.status.idle": "2021-08-06T20:43:58.445402Z",
     "shell.execute_reply": "2021-08-06T20:43:58.444898Z",
     "shell.execute_reply.started": "2021-08-06T20:26:28.861002Z"
    },
    "papermill": {
     "duration": 0.156596,
     "end_time": "2021-08-06T20:43:58.445545",
     "exception": false,
     "start_time": "2021-08-06T20:43:58.288949",
     "status": "completed"
    },
    "tags": []
   },
   "outputs": [],
   "source": [
    "test_preprocessed = test_preprocessed.drop(columns = [\"data\",\"Survived\"])"
   ]
  },
  {
   "cell_type": "code",
   "execution_count": 97,
   "id": "4cf2cccb",
   "metadata": {
    "execution": {
     "iopub.execute_input": "2021-08-06T20:43:58.754241Z",
     "iopub.status.busy": "2021-08-06T20:43:58.753522Z",
     "iopub.status.idle": "2021-08-06T20:43:58.756606Z",
     "shell.execute_reply": "2021-08-06T20:43:58.755953Z",
     "shell.execute_reply.started": "2021-08-06T20:26:28.873865Z"
    },
    "papermill": {
     "duration": 0.159082,
     "end_time": "2021-08-06T20:43:58.756764",
     "exception": false,
     "start_time": "2021-08-06T20:43:58.597682",
     "status": "completed"
    },
    "tags": []
   },
   "outputs": [],
   "source": [
    "test_preprocessed= test_preprocessed.reset_index().drop(columns=\"index\")"
   ]
  },
  {
   "cell_type": "code",
   "execution_count": 98,
   "id": "a2245a92",
   "metadata": {
    "execution": {
     "iopub.execute_input": "2021-08-06T20:43:59.061539Z",
     "iopub.status.busy": "2021-08-06T20:43:59.060879Z",
     "iopub.status.idle": "2021-08-06T20:43:59.063624Z",
     "shell.execute_reply": "2021-08-06T20:43:59.062981Z",
     "shell.execute_reply.started": "2021-08-06T20:26:28.888402Z"
    },
    "papermill": {
     "duration": 0.158341,
     "end_time": "2021-08-06T20:43:59.063845",
     "exception": false,
     "start_time": "2021-08-06T20:43:58.905504",
     "status": "completed"
    },
    "tags": []
   },
   "outputs": [],
   "source": [
    "train_preprocessed = train_preprocessed.reset_index().drop(columns=\"index\")"
   ]
  },
  {
   "cell_type": "code",
   "execution_count": 99,
   "id": "d37af360",
   "metadata": {
    "execution": {
     "iopub.execute_input": "2021-08-06T20:43:59.368676Z",
     "iopub.status.busy": "2021-08-06T20:43:59.367552Z",
     "iopub.status.idle": "2021-08-06T20:43:59.391300Z",
     "shell.execute_reply": "2021-08-06T20:43:59.390619Z",
     "shell.execute_reply.started": "2021-08-06T20:26:28.901529Z"
    },
    "papermill": {
     "duration": 0.17608,
     "end_time": "2021-08-06T20:43:59.391458",
     "exception": false,
     "start_time": "2021-08-06T20:43:59.215378",
     "status": "completed"
    },
    "tags": []
   },
   "outputs": [],
   "source": [
    "train_preprocessed.to_csv(\"train_preprocessed.csv\",index = False)\n"
   ]
  },
  {
   "cell_type": "code",
   "execution_count": 100,
   "id": "6eb06a1e",
   "metadata": {
    "execution": {
     "iopub.execute_input": "2021-08-06T20:43:59.697497Z",
     "iopub.status.busy": "2021-08-06T20:43:59.691317Z",
     "iopub.status.idle": "2021-08-06T20:43:59.703661Z",
     "shell.execute_reply": "2021-08-06T20:43:59.702942Z",
     "shell.execute_reply.started": "2021-08-06T20:26:28.934472Z"
    },
    "papermill": {
     "duration": 0.164848,
     "end_time": "2021-08-06T20:43:59.703829",
     "exception": false,
     "start_time": "2021-08-06T20:43:59.538981",
     "status": "completed"
    },
    "tags": []
   },
   "outputs": [],
   "source": [
    "test_preprocessed.to_csv(\"test_preprocessed.csv\",index = False)"
   ]
  },
  {
   "cell_type": "code",
   "execution_count": 101,
   "id": "26af822f",
   "metadata": {
    "execution": {
     "iopub.execute_input": "2021-08-06T20:44:00.018472Z",
     "iopub.status.busy": "2021-08-06T20:44:00.017494Z",
     "iopub.status.idle": "2021-08-06T20:44:00.021975Z",
     "shell.execute_reply": "2021-08-06T20:44:00.021346Z",
     "shell.execute_reply.started": "2021-08-06T20:26:28.950437Z"
    },
    "papermill": {
     "duration": 0.1698,
     "end_time": "2021-08-06T20:44:00.022117",
     "exception": false,
     "start_time": "2021-08-06T20:43:59.852317",
     "status": "completed"
    },
    "tags": []
   },
   "outputs": [
    {
     "data": {
      "text/html": [
       "<div>\n",
       "<style scoped>\n",
       "    .dataframe tbody tr th:only-of-type {\n",
       "        vertical-align: middle;\n",
       "    }\n",
       "\n",
       "    .dataframe tbody tr th {\n",
       "        vertical-align: top;\n",
       "    }\n",
       "\n",
       "    .dataframe thead th {\n",
       "        text-align: right;\n",
       "    }\n",
       "</style>\n",
       "<table border=\"1\" class=\"dataframe\">\n",
       "  <thead>\n",
       "    <tr style=\"text-align: right;\">\n",
       "      <th></th>\n",
       "      <th>PassengerId</th>\n",
       "      <th>Pclass</th>\n",
       "      <th>Sex</th>\n",
       "      <th>Age</th>\n",
       "      <th>SibSp</th>\n",
       "      <th>Parch</th>\n",
       "      <th>Fare</th>\n",
       "      <th>Embarked</th>\n",
       "      <th>Survived</th>\n",
       "    </tr>\n",
       "  </thead>\n",
       "  <tbody>\n",
       "    <tr>\n",
       "      <th>0</th>\n",
       "      <td>-1.732024</td>\n",
       "      <td>0.840447</td>\n",
       "      <td>0.741900</td>\n",
       "      <td>-0.612582</td>\n",
       "      <td>0.480272</td>\n",
       "      <td>-0.445407</td>\n",
       "      <td>-0.501718</td>\n",
       "      <td>-0.604066</td>\n",
       "      <td>0.0</td>\n",
       "    </tr>\n",
       "    <tr>\n",
       "      <th>1</th>\n",
       "      <td>-1.729377</td>\n",
       "      <td>-1.550118</td>\n",
       "      <td>-1.347891</td>\n",
       "      <td>0.631437</td>\n",
       "      <td>0.480272</td>\n",
       "      <td>-0.445407</td>\n",
       "      <td>0.736091</td>\n",
       "      <td>0.926000</td>\n",
       "      <td>1.0</td>\n",
       "    </tr>\n",
       "    <tr>\n",
       "      <th>2</th>\n",
       "      <td>-1.726730</td>\n",
       "      <td>0.840447</td>\n",
       "      <td>-1.347891</td>\n",
       "      <td>-0.301578</td>\n",
       "      <td>-0.479537</td>\n",
       "      <td>-0.445407</td>\n",
       "      <td>-0.488670</td>\n",
       "      <td>-0.604066</td>\n",
       "      <td>1.0</td>\n",
       "    </tr>\n",
       "    <tr>\n",
       "      <th>3</th>\n",
       "      <td>-1.724083</td>\n",
       "      <td>-1.550118</td>\n",
       "      <td>-1.347891</td>\n",
       "      <td>0.398183</td>\n",
       "      <td>0.480272</td>\n",
       "      <td>-0.445407</td>\n",
       "      <td>0.384595</td>\n",
       "      <td>-0.604066</td>\n",
       "      <td>1.0</td>\n",
       "    </tr>\n",
       "    <tr>\n",
       "      <th>4</th>\n",
       "      <td>-1.721436</td>\n",
       "      <td>0.840447</td>\n",
       "      <td>0.741900</td>\n",
       "      <td>0.398183</td>\n",
       "      <td>-0.479537</td>\n",
       "      <td>-0.445407</td>\n",
       "      <td>-0.486254</td>\n",
       "      <td>-0.604066</td>\n",
       "      <td>0.0</td>\n",
       "    </tr>\n",
       "    <tr>\n",
       "      <th>5</th>\n",
       "      <td>-1.718789</td>\n",
       "      <td>0.840447</td>\n",
       "      <td>0.741900</td>\n",
       "      <td>0.054929</td>\n",
       "      <td>-0.479537</td>\n",
       "      <td>-0.445407</td>\n",
       "      <td>-0.478361</td>\n",
       "      <td>2.456065</td>\n",
       "      <td>0.0</td>\n",
       "    </tr>\n",
       "    <tr>\n",
       "      <th>6</th>\n",
       "      <td>-1.716141</td>\n",
       "      <td>-1.550118</td>\n",
       "      <td>0.741900</td>\n",
       "      <td>1.875456</td>\n",
       "      <td>-0.479537</td>\n",
       "      <td>-0.445407</td>\n",
       "      <td>0.360673</td>\n",
       "      <td>-0.604066</td>\n",
       "      <td>0.0</td>\n",
       "    </tr>\n",
       "  </tbody>\n",
       "</table>\n",
       "</div>"
      ],
      "text/plain": [
       "   PassengerId    Pclass       Sex       Age     SibSp     Parch      Fare  \\\n",
       "0    -1.732024  0.840447  0.741900 -0.612582  0.480272 -0.445407 -0.501718   \n",
       "1    -1.729377 -1.550118 -1.347891  0.631437  0.480272 -0.445407  0.736091   \n",
       "2    -1.726730  0.840447 -1.347891 -0.301578 -0.479537 -0.445407 -0.488670   \n",
       "3    -1.724083 -1.550118 -1.347891  0.398183  0.480272 -0.445407  0.384595   \n",
       "4    -1.721436  0.840447  0.741900  0.398183 -0.479537 -0.445407 -0.486254   \n",
       "5    -1.718789  0.840447  0.741900  0.054929 -0.479537 -0.445407 -0.478361   \n",
       "6    -1.716141 -1.550118  0.741900  1.875456 -0.479537 -0.445407  0.360673   \n",
       "\n",
       "   Embarked  Survived  \n",
       "0 -0.604066       0.0  \n",
       "1  0.926000       1.0  \n",
       "2 -0.604066       1.0  \n",
       "3 -0.604066       1.0  \n",
       "4 -0.604066       0.0  \n",
       "5  2.456065       0.0  \n",
       "6 -0.604066       0.0  "
      ]
     },
     "execution_count": 101,
     "metadata": {},
     "output_type": "execute_result"
    }
   ],
   "source": [
    "train_preprocessed.head(7)"
   ]
  },
  {
   "cell_type": "code",
   "execution_count": 102,
   "id": "e56083d7",
   "metadata": {
    "execution": {
     "iopub.execute_input": "2021-08-06T20:44:00.337330Z",
     "iopub.status.busy": "2021-08-06T20:44:00.336651Z",
     "iopub.status.idle": "2021-08-06T20:44:00.341018Z",
     "shell.execute_reply": "2021-08-06T20:44:00.340348Z",
     "shell.execute_reply.started": "2021-08-06T20:26:28.971464Z"
    },
    "papermill": {
     "duration": 0.16926,
     "end_time": "2021-08-06T20:44:00.341165",
     "exception": false,
     "start_time": "2021-08-06T20:44:00.171905",
     "status": "completed"
    },
    "tags": []
   },
   "outputs": [
    {
     "data": {
      "text/html": [
       "<div>\n",
       "<style scoped>\n",
       "    .dataframe tbody tr th:only-of-type {\n",
       "        vertical-align: middle;\n",
       "    }\n",
       "\n",
       "    .dataframe tbody tr th {\n",
       "        vertical-align: top;\n",
       "    }\n",
       "\n",
       "    .dataframe thead th {\n",
       "        text-align: right;\n",
       "    }\n",
       "</style>\n",
       "<table border=\"1\" class=\"dataframe\">\n",
       "  <thead>\n",
       "    <tr style=\"text-align: right;\">\n",
       "      <th></th>\n",
       "      <th>PassengerId</th>\n",
       "      <th>Pclass</th>\n",
       "      <th>Sex</th>\n",
       "      <th>Age</th>\n",
       "      <th>SibSp</th>\n",
       "      <th>Parch</th>\n",
       "      <th>Fare</th>\n",
       "      <th>Embarked</th>\n",
       "    </tr>\n",
       "  </thead>\n",
       "  <tbody>\n",
       "    <tr>\n",
       "      <th>0</th>\n",
       "      <td>0.626507</td>\n",
       "      <td>0.840447</td>\n",
       "      <td>0.741900</td>\n",
       "      <td>0.359307</td>\n",
       "      <td>-0.479537</td>\n",
       "      <td>-0.445407</td>\n",
       "      <td>-0.490522</td>\n",
       "      <td>2.456065</td>\n",
       "    </tr>\n",
       "    <tr>\n",
       "      <th>1</th>\n",
       "      <td>0.629154</td>\n",
       "      <td>0.840447</td>\n",
       "      <td>-1.347891</td>\n",
       "      <td>1.331197</td>\n",
       "      <td>0.480272</td>\n",
       "      <td>-0.445407</td>\n",
       "      <td>-0.506551</td>\n",
       "      <td>-0.604066</td>\n",
       "    </tr>\n",
       "    <tr>\n",
       "      <th>2</th>\n",
       "      <td>0.631801</td>\n",
       "      <td>-0.354835</td>\n",
       "      <td>0.741900</td>\n",
       "      <td>2.497465</td>\n",
       "      <td>-0.479537</td>\n",
       "      <td>-0.445407</td>\n",
       "      <td>-0.454600</td>\n",
       "      <td>2.456065</td>\n",
       "    </tr>\n",
       "    <tr>\n",
       "      <th>3</th>\n",
       "      <td>0.634448</td>\n",
       "      <td>0.840447</td>\n",
       "      <td>0.741900</td>\n",
       "      <td>-0.223826</td>\n",
       "      <td>-0.479537</td>\n",
       "      <td>-0.445407</td>\n",
       "      <td>-0.474414</td>\n",
       "      <td>-0.604066</td>\n",
       "    </tr>\n",
       "    <tr>\n",
       "      <th>4</th>\n",
       "      <td>0.637095</td>\n",
       "      <td>0.840447</td>\n",
       "      <td>-1.347891</td>\n",
       "      <td>-0.612582</td>\n",
       "      <td>0.480272</td>\n",
       "      <td>0.709647</td>\n",
       "      <td>-0.404340</td>\n",
       "      <td>-0.604066</td>\n",
       "    </tr>\n",
       "    <tr>\n",
       "      <th>5</th>\n",
       "      <td>0.639742</td>\n",
       "      <td>0.840447</td>\n",
       "      <td>0.741900</td>\n",
       "      <td>-1.234592</td>\n",
       "      <td>-0.479537</td>\n",
       "      <td>-0.445407</td>\n",
       "      <td>-0.463540</td>\n",
       "      <td>-0.604066</td>\n",
       "    </tr>\n",
       "    <tr>\n",
       "      <th>6</th>\n",
       "      <td>0.642389</td>\n",
       "      <td>0.840447</td>\n",
       "      <td>-1.347891</td>\n",
       "      <td>0.009427</td>\n",
       "      <td>-0.479537</td>\n",
       "      <td>-0.445407</td>\n",
       "      <td>-0.494388</td>\n",
       "      <td>2.456065</td>\n",
       "    </tr>\n",
       "  </tbody>\n",
       "</table>\n",
       "</div>"
      ],
      "text/plain": [
       "   PassengerId    Pclass       Sex       Age     SibSp     Parch      Fare  \\\n",
       "0     0.626507  0.840447  0.741900  0.359307 -0.479537 -0.445407 -0.490522   \n",
       "1     0.629154  0.840447 -1.347891  1.331197  0.480272 -0.445407 -0.506551   \n",
       "2     0.631801 -0.354835  0.741900  2.497465 -0.479537 -0.445407 -0.454600   \n",
       "3     0.634448  0.840447  0.741900 -0.223826 -0.479537 -0.445407 -0.474414   \n",
       "4     0.637095  0.840447 -1.347891 -0.612582  0.480272  0.709647 -0.404340   \n",
       "5     0.639742  0.840447  0.741900 -1.234592 -0.479537 -0.445407 -0.463540   \n",
       "6     0.642389  0.840447 -1.347891  0.009427 -0.479537 -0.445407 -0.494388   \n",
       "\n",
       "   Embarked  \n",
       "0  2.456065  \n",
       "1 -0.604066  \n",
       "2  2.456065  \n",
       "3 -0.604066  \n",
       "4 -0.604066  \n",
       "5 -0.604066  \n",
       "6  2.456065  "
      ]
     },
     "execution_count": 102,
     "metadata": {},
     "output_type": "execute_result"
    }
   ],
   "source": [
    "test_preprocessed .head(7)"
   ]
  },
  {
   "cell_type": "code",
   "execution_count": 103,
   "id": "053b1f45",
   "metadata": {
    "execution": {
     "iopub.execute_input": "2021-08-06T20:44:00.650609Z",
     "iopub.status.busy": "2021-08-06T20:44:00.649946Z",
     "iopub.status.idle": "2021-08-06T20:44:00.652821Z",
     "shell.execute_reply": "2021-08-06T20:44:00.653320Z",
     "shell.execute_reply.started": "2021-08-06T20:26:28.993942Z"
    },
    "papermill": {
     "duration": 0.161159,
     "end_time": "2021-08-06T20:44:00.653494",
     "exception": false,
     "start_time": "2021-08-06T20:44:00.492335",
     "status": "completed"
    },
    "tags": []
   },
   "outputs": [
    {
     "data": {
      "text/plain": [
       "(889, 9)"
      ]
     },
     "execution_count": 103,
     "metadata": {},
     "output_type": "execute_result"
    }
   ],
   "source": [
    "train_preprocessed.shape"
   ]
  },
  {
   "cell_type": "code",
   "execution_count": 104,
   "id": "622061df",
   "metadata": {
    "execution": {
     "iopub.execute_input": "2021-08-06T20:44:00.958636Z",
     "iopub.status.busy": "2021-08-06T20:44:00.957968Z",
     "iopub.status.idle": "2021-08-06T20:44:00.965503Z",
     "shell.execute_reply": "2021-08-06T20:44:00.966030Z",
     "shell.execute_reply.started": "2021-08-06T20:26:29.009535Z"
    },
    "papermill": {
     "duration": 0.161285,
     "end_time": "2021-08-06T20:44:00.966208",
     "exception": false,
     "start_time": "2021-08-06T20:44:00.804923",
     "status": "completed"
    },
    "tags": []
   },
   "outputs": [
    {
     "data": {
      "text/plain": [
       "PassengerId    0\n",
       "Pclass         0\n",
       "Sex            0\n",
       "Age            0\n",
       "SibSp          0\n",
       "Parch          0\n",
       "Fare           0\n",
       "Embarked       0\n",
       "Survived       0\n",
       "dtype: int64"
      ]
     },
     "execution_count": 104,
     "metadata": {},
     "output_type": "execute_result"
    }
   ],
   "source": [
    "train_preprocessed.isna().sum()"
   ]
  },
  {
   "cell_type": "code",
   "execution_count": 105,
   "id": "1f59b116",
   "metadata": {
    "execution": {
     "iopub.execute_input": "2021-08-06T20:44:01.275951Z",
     "iopub.status.busy": "2021-08-06T20:44:01.275262Z",
     "iopub.status.idle": "2021-08-06T20:44:01.280755Z",
     "shell.execute_reply": "2021-08-06T20:44:01.280230Z",
     "shell.execute_reply.started": "2021-08-06T20:26:29.026073Z"
    },
    "papermill": {
     "duration": 0.160655,
     "end_time": "2021-08-06T20:44:01.280909",
     "exception": false,
     "start_time": "2021-08-06T20:44:01.120254",
     "status": "completed"
    },
    "tags": []
   },
   "outputs": [
    {
     "data": {
      "text/plain": [
       "(418, 8)"
      ]
     },
     "execution_count": 105,
     "metadata": {},
     "output_type": "execute_result"
    }
   ],
   "source": [
    "test_preprocessed.shape"
   ]
  },
  {
   "cell_type": "markdown",
   "id": "a01dbb59",
   "metadata": {
    "papermill": {
     "duration": 0.150888,
     "end_time": "2021-08-06T20:44:01.584522",
     "exception": false,
     "start_time": "2021-08-06T20:44:01.433634",
     "status": "completed"
    },
    "tags": []
   },
   "source": [
    "#MODEL\n",
    "--------------------"
   ]
  },
  {
   "cell_type": "code",
   "execution_count": 106,
   "id": "0bb16790",
   "metadata": {
    "execution": {
     "iopub.execute_input": "2021-08-06T20:44:01.891427Z",
     "iopub.status.busy": "2021-08-06T20:44:01.890349Z",
     "iopub.status.idle": "2021-08-06T20:44:01.899328Z",
     "shell.execute_reply": "2021-08-06T20:44:01.898332Z",
     "shell.execute_reply.started": "2021-08-06T20:26:29.034443Z"
    },
    "papermill": {
     "duration": 0.16529,
     "end_time": "2021-08-06T20:44:01.899524",
     "exception": false,
     "start_time": "2021-08-06T20:44:01.734234",
     "status": "completed"
    },
    "tags": []
   },
   "outputs": [
    {
     "data": {
      "text/html": [
       "<div>\n",
       "<style scoped>\n",
       "    .dataframe tbody tr th:only-of-type {\n",
       "        vertical-align: middle;\n",
       "    }\n",
       "\n",
       "    .dataframe tbody tr th {\n",
       "        vertical-align: top;\n",
       "    }\n",
       "\n",
       "    .dataframe thead th {\n",
       "        text-align: right;\n",
       "    }\n",
       "</style>\n",
       "<table border=\"1\" class=\"dataframe\">\n",
       "  <thead>\n",
       "    <tr style=\"text-align: right;\">\n",
       "      <th></th>\n",
       "      <th>PassengerId</th>\n",
       "      <th>Survived</th>\n",
       "    </tr>\n",
       "  </thead>\n",
       "  <tbody>\n",
       "    <tr>\n",
       "      <th>0</th>\n",
       "      <td>892</td>\n",
       "      <td>0</td>\n",
       "    </tr>\n",
       "    <tr>\n",
       "      <th>1</th>\n",
       "      <td>893</td>\n",
       "      <td>1</td>\n",
       "    </tr>\n",
       "    <tr>\n",
       "      <th>2</th>\n",
       "      <td>894</td>\n",
       "      <td>0</td>\n",
       "    </tr>\n",
       "    <tr>\n",
       "      <th>3</th>\n",
       "      <td>895</td>\n",
       "      <td>0</td>\n",
       "    </tr>\n",
       "    <tr>\n",
       "      <th>4</th>\n",
       "      <td>896</td>\n",
       "      <td>1</td>\n",
       "    </tr>\n",
       "    <tr>\n",
       "      <th>...</th>\n",
       "      <td>...</td>\n",
       "      <td>...</td>\n",
       "    </tr>\n",
       "    <tr>\n",
       "      <th>413</th>\n",
       "      <td>1305</td>\n",
       "      <td>0</td>\n",
       "    </tr>\n",
       "    <tr>\n",
       "      <th>414</th>\n",
       "      <td>1306</td>\n",
       "      <td>1</td>\n",
       "    </tr>\n",
       "    <tr>\n",
       "      <th>415</th>\n",
       "      <td>1307</td>\n",
       "      <td>0</td>\n",
       "    </tr>\n",
       "    <tr>\n",
       "      <th>416</th>\n",
       "      <td>1308</td>\n",
       "      <td>0</td>\n",
       "    </tr>\n",
       "    <tr>\n",
       "      <th>417</th>\n",
       "      <td>1309</td>\n",
       "      <td>0</td>\n",
       "    </tr>\n",
       "  </tbody>\n",
       "</table>\n",
       "<p>418 rows × 2 columns</p>\n",
       "</div>"
      ],
      "text/plain": [
       "     PassengerId  Survived\n",
       "0            892         0\n",
       "1            893         1\n",
       "2            894         0\n",
       "3            895         0\n",
       "4            896         1\n",
       "..           ...       ...\n",
       "413         1305         0\n",
       "414         1306         1\n",
       "415         1307         0\n",
       "416         1308         0\n",
       "417         1309         0\n",
       "\n",
       "[418 rows x 2 columns]"
      ]
     },
     "execution_count": 106,
     "metadata": {},
     "output_type": "execute_result"
    }
   ],
   "source": [
    "sample_submission"
   ]
  },
  {
   "cell_type": "code",
   "execution_count": 107,
   "id": "ccb0ddf0",
   "metadata": {
    "execution": {
     "iopub.execute_input": "2021-08-06T20:44:02.206387Z",
     "iopub.status.busy": "2021-08-06T20:44:02.205707Z",
     "iopub.status.idle": "2021-08-06T20:44:02.215793Z",
     "shell.execute_reply": "2021-08-06T20:44:02.214904Z",
     "shell.execute_reply.started": "2021-08-06T20:26:29.05543Z"
    },
    "papermill": {
     "duration": 0.165254,
     "end_time": "2021-08-06T20:44:02.215941",
     "exception": false,
     "start_time": "2021-08-06T20:44:02.050687",
     "status": "completed"
    },
    "tags": []
   },
   "outputs": [],
   "source": [
    "train1 = pd.read_csv(\"train_preprocessed.csv\")"
   ]
  },
  {
   "cell_type": "code",
   "execution_count": 108,
   "id": "46dfcd6d",
   "metadata": {
    "execution": {
     "iopub.execute_input": "2021-08-06T20:44:02.528317Z",
     "iopub.status.busy": "2021-08-06T20:44:02.527204Z",
     "iopub.status.idle": "2021-08-06T20:44:02.534469Z",
     "shell.execute_reply": "2021-08-06T20:44:02.533788Z",
     "shell.execute_reply.started": "2021-08-06T20:26:29.070813Z"
    },
    "papermill": {
     "duration": 0.163255,
     "end_time": "2021-08-06T20:44:02.534618",
     "exception": false,
     "start_time": "2021-08-06T20:44:02.371363",
     "status": "completed"
    },
    "tags": []
   },
   "outputs": [],
   "source": [
    "test1 = pd.read_csv(\"test_preprocessed.csv\")"
   ]
  },
  {
   "cell_type": "code",
   "execution_count": 109,
   "id": "644e2e9a",
   "metadata": {
    "execution": {
     "iopub.execute_input": "2021-08-06T20:44:02.844892Z",
     "iopub.status.busy": "2021-08-06T20:44:02.843945Z",
     "iopub.status.idle": "2021-08-06T20:44:02.848141Z",
     "shell.execute_reply": "2021-08-06T20:44:02.847454Z",
     "shell.execute_reply.started": "2021-08-06T20:26:29.085138Z"
    },
    "papermill": {
     "duration": 0.162631,
     "end_time": "2021-08-06T20:44:02.848282",
     "exception": false,
     "start_time": "2021-08-06T20:44:02.685651",
     "status": "completed"
    },
    "tags": []
   },
   "outputs": [
    {
     "data": {
      "text/plain": [
       "Index(['PassengerId', 'Pclass', 'Sex', 'Age', 'SibSp', 'Parch', 'Fare',\n",
       "       'Embarked', 'Survived'],\n",
       "      dtype='object')"
      ]
     },
     "execution_count": 109,
     "metadata": {},
     "output_type": "execute_result"
    }
   ],
   "source": [
    "train1.columns"
   ]
  },
  {
   "cell_type": "code",
   "execution_count": 110,
   "id": "277ff2e6",
   "metadata": {
    "execution": {
     "iopub.execute_input": "2021-08-06T20:44:03.166624Z",
     "iopub.status.busy": "2021-08-06T20:44:03.165955Z",
     "iopub.status.idle": "2021-08-06T20:44:03.172545Z",
     "shell.execute_reply": "2021-08-06T20:44:03.173081Z",
     "shell.execute_reply.started": "2021-08-06T20:26:29.09581Z"
    },
    "papermill": {
     "duration": 0.173364,
     "end_time": "2021-08-06T20:44:03.173296",
     "exception": false,
     "start_time": "2021-08-06T20:44:02.999932",
     "status": "completed"
    },
    "tags": []
   },
   "outputs": [
    {
     "name": "stdout",
     "output_type": "stream",
     "text": [
      "<class 'pandas.core.frame.DataFrame'>\n",
      "RangeIndex: 889 entries, 0 to 888\n",
      "Data columns (total 9 columns):\n",
      " #   Column       Non-Null Count  Dtype  \n",
      "---  ------       --------------  -----  \n",
      " 0   PassengerId  889 non-null    float64\n",
      " 1   Pclass       889 non-null    float64\n",
      " 2   Sex          889 non-null    float64\n",
      " 3   Age          889 non-null    float64\n",
      " 4   SibSp        889 non-null    float64\n",
      " 5   Parch        889 non-null    float64\n",
      " 6   Fare         889 non-null    float64\n",
      " 7   Embarked     889 non-null    float64\n",
      " 8   Survived     889 non-null    float64\n",
      "dtypes: float64(9)\n",
      "memory usage: 62.6 KB\n"
     ]
    }
   ],
   "source": [
    "train1.info()"
   ]
  },
  {
   "cell_type": "code",
   "execution_count": 111,
   "id": "489977d8",
   "metadata": {
    "execution": {
     "iopub.execute_input": "2021-08-06T20:44:03.488062Z",
     "iopub.status.busy": "2021-08-06T20:44:03.487091Z",
     "iopub.status.idle": "2021-08-06T20:44:03.490316Z",
     "shell.execute_reply": "2021-08-06T20:44:03.489761Z",
     "shell.execute_reply.started": "2021-08-06T20:26:29.118318Z"
    },
    "papermill": {
     "duration": 0.162144,
     "end_time": "2021-08-06T20:44:03.490459",
     "exception": false,
     "start_time": "2021-08-06T20:44:03.328315",
     "status": "completed"
    },
    "tags": []
   },
   "outputs": [],
   "source": [
    "X = train_preprocessed.drop(columns=[\"PassengerId\",\"Survived\"])"
   ]
  },
  {
   "cell_type": "code",
   "execution_count": 112,
   "id": "2cfece53",
   "metadata": {
    "execution": {
     "iopub.execute_input": "2021-08-06T20:44:03.798941Z",
     "iopub.status.busy": "2021-08-06T20:44:03.798215Z",
     "iopub.status.idle": "2021-08-06T20:44:03.801606Z",
     "shell.execute_reply": "2021-08-06T20:44:03.801092Z",
     "shell.execute_reply.started": "2021-08-06T20:26:29.126113Z"
    },
    "papermill": {
     "duration": 0.158963,
     "end_time": "2021-08-06T20:44:03.801776",
     "exception": false,
     "start_time": "2021-08-06T20:44:03.642813",
     "status": "completed"
    },
    "tags": []
   },
   "outputs": [],
   "source": [
    "y = train_preprocessed[\"Survived\"]"
   ]
  },
  {
   "cell_type": "code",
   "execution_count": 113,
   "id": "ffa85845",
   "metadata": {
    "execution": {
     "iopub.execute_input": "2021-08-06T20:44:04.115985Z",
     "iopub.status.busy": "2021-08-06T20:44:04.115164Z",
     "iopub.status.idle": "2021-08-06T20:44:04.117979Z",
     "shell.execute_reply": "2021-08-06T20:44:04.117446Z",
     "shell.execute_reply.started": "2021-08-06T20:27:17.512498Z"
    },
    "papermill": {
     "duration": 0.162885,
     "end_time": "2021-08-06T20:44:04.118118",
     "exception": false,
     "start_time": "2021-08-06T20:44:03.955233",
     "status": "completed"
    },
    "tags": []
   },
   "outputs": [],
   "source": [
    "logistic_model = LogisticRegression()"
   ]
  },
  {
   "cell_type": "code",
   "execution_count": 114,
   "id": "292b7c52",
   "metadata": {
    "execution": {
     "iopub.execute_input": "2021-08-06T20:44:04.428480Z",
     "iopub.status.busy": "2021-08-06T20:44:04.427813Z",
     "iopub.status.idle": "2021-08-06T20:44:04.575265Z",
     "shell.execute_reply": "2021-08-06T20:44:04.574746Z",
     "shell.execute_reply.started": "2021-08-06T20:27:19.637826Z"
    },
    "papermill": {
     "duration": 0.305909,
     "end_time": "2021-08-06T20:44:04.575412",
     "exception": false,
     "start_time": "2021-08-06T20:44:04.269503",
     "status": "completed"
    },
    "tags": []
   },
   "outputs": [
    {
     "data": {
      "text/plain": [
       "LogisticRegression()"
      ]
     },
     "execution_count": 114,
     "metadata": {},
     "output_type": "execute_result"
    }
   ],
   "source": [
    "logistic_model.fit(X,y)"
   ]
  },
  {
   "cell_type": "code",
   "execution_count": 115,
   "id": "69a8a7d2",
   "metadata": {
    "execution": {
     "iopub.execute_input": "2021-08-06T20:44:04.885946Z",
     "iopub.status.busy": "2021-08-06T20:44:04.884935Z",
     "iopub.status.idle": "2021-08-06T20:44:04.888974Z",
     "shell.execute_reply": "2021-08-06T20:44:04.889419Z",
     "shell.execute_reply.started": "2021-08-06T20:27:29.664722Z"
    },
    "papermill": {
     "duration": 0.162156,
     "end_time": "2021-08-06T20:44:04.889592",
     "exception": false,
     "start_time": "2021-08-06T20:44:04.727436",
     "status": "completed"
    },
    "tags": []
   },
   "outputs": [
    {
     "data": {
      "text/plain": [
       "array([[-0.9243666 , -1.27480635, -0.51353691, -0.33962843, -0.07361905,\n",
       "         0.11552164,  0.16695236]])"
      ]
     },
     "execution_count": 115,
     "metadata": {},
     "output_type": "execute_result"
    }
   ],
   "source": [
    "logistic_model.coef_"
   ]
  },
  {
   "cell_type": "code",
   "execution_count": 116,
   "id": "6854e4db",
   "metadata": {
    "execution": {
     "iopub.execute_input": "2021-08-06T20:44:05.208321Z",
     "iopub.status.busy": "2021-08-06T20:44:05.207403Z",
     "iopub.status.idle": "2021-08-06T20:44:05.215155Z",
     "shell.execute_reply": "2021-08-06T20:44:05.214073Z",
     "shell.execute_reply.started": "2021-08-06T20:27:42.006525Z"
    },
    "papermill": {
     "duration": 0.169635,
     "end_time": "2021-08-06T20:44:05.215313",
     "exception": false,
     "start_time": "2021-08-06T20:44:05.045678",
     "status": "completed"
    },
    "tags": []
   },
   "outputs": [
    {
     "data": {
      "text/plain": [
       "0.8053993250843644"
      ]
     },
     "execution_count": 116,
     "metadata": {},
     "output_type": "execute_result"
    }
   ],
   "source": [
    "accuracy_score(y, logistic_model.predict(X))"
   ]
  },
  {
   "cell_type": "code",
   "execution_count": 117,
   "id": "b498e6b2",
   "metadata": {
    "execution": {
     "iopub.execute_input": "2021-08-06T20:44:05.527547Z",
     "iopub.status.busy": "2021-08-06T20:44:05.526825Z",
     "iopub.status.idle": "2021-08-06T20:44:05.533059Z",
     "shell.execute_reply": "2021-08-06T20:44:05.533593Z",
     "shell.execute_reply.started": "2021-08-06T20:28:26.972734Z"
    },
    "papermill": {
     "duration": 0.165163,
     "end_time": "2021-08-06T20:44:05.533787",
     "exception": false,
     "start_time": "2021-08-06T20:44:05.368624",
     "status": "completed"
    },
    "tags": []
   },
   "outputs": [
    {
     "data": {
      "text/plain": [
       "array([[476,  73],\n",
       "       [100, 240]])"
      ]
     },
     "execution_count": 117,
     "metadata": {},
     "output_type": "execute_result"
    }
   ],
   "source": [
    "confusion_matrix(y, logistic_model.predict(X))"
   ]
  },
  {
   "cell_type": "code",
   "execution_count": 118,
   "id": "628b5f1b",
   "metadata": {
    "execution": {
     "iopub.execute_input": "2021-08-06T20:44:05.841293Z",
     "iopub.status.busy": "2021-08-06T20:44:05.840564Z",
     "iopub.status.idle": "2021-08-06T20:44:05.845138Z",
     "shell.execute_reply": "2021-08-06T20:44:05.845714Z",
     "shell.execute_reply.started": "2021-08-06T20:30:04.248124Z"
    },
    "papermill": {
     "duration": 0.160093,
     "end_time": "2021-08-06T20:44:05.845908",
     "exception": false,
     "start_time": "2021-08-06T20:44:05.685815",
     "status": "completed"
    },
    "tags": []
   },
   "outputs": [],
   "source": [
    "test_X = test_preprocessed.drop(columns=\"PassengerId\")"
   ]
  },
  {
   "cell_type": "code",
   "execution_count": 119,
   "id": "bc1319de",
   "metadata": {
    "execution": {
     "iopub.execute_input": "2021-08-06T20:44:06.160549Z",
     "iopub.status.busy": "2021-08-06T20:44:06.159884Z",
     "iopub.status.idle": "2021-08-06T20:44:06.165643Z",
     "shell.execute_reply": "2021-08-06T20:44:06.166225Z",
     "shell.execute_reply.started": "2021-08-06T20:32:21.150353Z"
    },
    "papermill": {
     "duration": 0.166185,
     "end_time": "2021-08-06T20:44:06.166407",
     "exception": false,
     "start_time": "2021-08-06T20:44:06.000222",
     "status": "completed"
    },
    "tags": []
   },
   "outputs": [],
   "source": [
    "test_y_pred=logistic_model.predict(test_X).astype(int)"
   ]
  },
  {
   "cell_type": "code",
   "execution_count": 120,
   "id": "350818e2",
   "metadata": {
    "execution": {
     "iopub.execute_input": "2021-08-06T20:44:06.473093Z",
     "iopub.status.busy": "2021-08-06T20:44:06.472402Z",
     "iopub.status.idle": "2021-08-06T20:44:06.478319Z",
     "shell.execute_reply": "2021-08-06T20:44:06.478933Z",
     "shell.execute_reply.started": "2021-08-06T20:32:23.006808Z"
    },
    "papermill": {
     "duration": 0.16067,
     "end_time": "2021-08-06T20:44:06.479106",
     "exception": false,
     "start_time": "2021-08-06T20:44:06.318436",
     "status": "completed"
    },
    "tags": []
   },
   "outputs": [
    {
     "data": {
      "text/plain": [
       "array([0, 0, 0, 0, 1, 0, 1, 0, 1, 0, 0, 0, 1, 0, 1, 1, 0, 0, 1, 1, 0, 0,\n",
       "       1, 1, 1, 0, 1, 0, 0, 0, 0, 0, 0, 0, 0, 0, 1, 1, 0, 0, 0, 0, 0, 1,\n",
       "       1, 0, 0, 0, 1, 0, 0, 0, 1, 1, 0, 0, 0, 0, 0, 1, 0, 0, 0, 1, 1, 1,\n",
       "       1, 0, 1, 1, 1, 0, 1, 1, 1, 1, 0, 1, 0, 1, 0, 0, 0, 0, 0, 0, 1, 1,\n",
       "       1, 0, 1, 0, 1, 0, 1, 0, 1, 0, 1, 0, 1, 0, 0, 0, 1, 0, 0, 0, 0, 0,\n",
       "       0, 1, 1, 1, 1, 0, 0, 1, 1, 1, 1, 0, 1, 0, 0, 1, 0, 1, 0, 0, 0, 0,\n",
       "       1, 0, 0, 0, 0, 0, 1, 0, 0, 1, 0, 0, 0, 0, 0, 0, 0, 0, 1, 0, 0, 0,\n",
       "       0, 0, 1, 1, 0, 1, 1, 0, 1, 0, 0, 1, 0, 0, 1, 1, 0, 0, 0, 0, 0, 1,\n",
       "       1, 0, 1, 1, 0, 0, 1, 0, 1, 0, 1, 0, 0, 0, 0, 0, 0, 0, 0, 0, 1, 1,\n",
       "       0, 1, 1, 0, 0, 1, 0, 1, 1, 0, 1, 0, 0, 0, 0, 0, 0, 0, 1, 0, 1, 0,\n",
       "       1, 0, 1, 0, 1, 1, 0, 1, 0, 0, 0, 1, 0, 0, 0, 0, 0, 0, 1, 1, 1, 1,\n",
       "       0, 0, 0, 0, 1, 0, 1, 1, 1, 0, 1, 0, 0, 0, 0, 0, 1, 0, 0, 0, 1, 1,\n",
       "       0, 0, 0, 0, 1, 0, 0, 0, 1, 1, 0, 1, 0, 0, 0, 0, 1, 0, 1, 1, 1, 0,\n",
       "       0, 0, 0, 0, 0, 1, 0, 0, 0, 0, 1, 0, 0, 0, 0, 0, 0, 0, 1, 1, 0, 0,\n",
       "       0, 0, 0, 0, 0, 1, 1, 1, 0, 0, 0, 0, 0, 0, 0, 0, 1, 0, 1, 0, 0, 0,\n",
       "       1, 0, 0, 1, 0, 0, 0, 0, 0, 0, 0, 0, 0, 1, 0, 1, 0, 1, 0, 1, 1, 0,\n",
       "       0, 0, 1, 0, 1, 0, 0, 1, 0, 1, 1, 0, 1, 0, 0, 1, 1, 0, 0, 1, 0, 0,\n",
       "       1, 1, 1, 0, 0, 0, 0, 0, 1, 1, 0, 1, 0, 0, 0, 0, 1, 1, 0, 0, 0, 1,\n",
       "       0, 1, 0, 0, 1, 0, 1, 1, 0, 0, 0, 0, 1, 1, 1, 1, 1, 0, 1, 0, 0, 0])"
      ]
     },
     "execution_count": 120,
     "metadata": {},
     "output_type": "execute_result"
    }
   ],
   "source": [
    "test_y_pred"
   ]
  },
  {
   "cell_type": "code",
   "execution_count": 121,
   "id": "a258d5b4",
   "metadata": {
    "execution": {
     "iopub.execute_input": "2021-08-06T20:44:06.788262Z",
     "iopub.status.busy": "2021-08-06T20:44:06.787623Z",
     "iopub.status.idle": "2021-08-06T20:44:06.797709Z",
     "shell.execute_reply": "2021-08-06T20:44:06.798333Z",
     "shell.execute_reply.started": "2021-08-06T20:31:50.368609Z"
    },
    "papermill": {
     "duration": 0.165141,
     "end_time": "2021-08-06T20:44:06.798509",
     "exception": false,
     "start_time": "2021-08-06T20:44:06.633368",
     "status": "completed"
    },
    "tags": []
   },
   "outputs": [
    {
     "data": {
      "text/html": [
       "<div>\n",
       "<style scoped>\n",
       "    .dataframe tbody tr th:only-of-type {\n",
       "        vertical-align: middle;\n",
       "    }\n",
       "\n",
       "    .dataframe tbody tr th {\n",
       "        vertical-align: top;\n",
       "    }\n",
       "\n",
       "    .dataframe thead th {\n",
       "        text-align: right;\n",
       "    }\n",
       "</style>\n",
       "<table border=\"1\" class=\"dataframe\">\n",
       "  <thead>\n",
       "    <tr style=\"text-align: right;\">\n",
       "      <th></th>\n",
       "      <th>PassengerId</th>\n",
       "      <th>Survived</th>\n",
       "    </tr>\n",
       "  </thead>\n",
       "  <tbody>\n",
       "    <tr>\n",
       "      <th>0</th>\n",
       "      <td>892</td>\n",
       "      <td>0</td>\n",
       "    </tr>\n",
       "    <tr>\n",
       "      <th>1</th>\n",
       "      <td>893</td>\n",
       "      <td>1</td>\n",
       "    </tr>\n",
       "    <tr>\n",
       "      <th>2</th>\n",
       "      <td>894</td>\n",
       "      <td>0</td>\n",
       "    </tr>\n",
       "    <tr>\n",
       "      <th>3</th>\n",
       "      <td>895</td>\n",
       "      <td>0</td>\n",
       "    </tr>\n",
       "    <tr>\n",
       "      <th>4</th>\n",
       "      <td>896</td>\n",
       "      <td>1</td>\n",
       "    </tr>\n",
       "    <tr>\n",
       "      <th>...</th>\n",
       "      <td>...</td>\n",
       "      <td>...</td>\n",
       "    </tr>\n",
       "    <tr>\n",
       "      <th>413</th>\n",
       "      <td>1305</td>\n",
       "      <td>0</td>\n",
       "    </tr>\n",
       "    <tr>\n",
       "      <th>414</th>\n",
       "      <td>1306</td>\n",
       "      <td>1</td>\n",
       "    </tr>\n",
       "    <tr>\n",
       "      <th>415</th>\n",
       "      <td>1307</td>\n",
       "      <td>0</td>\n",
       "    </tr>\n",
       "    <tr>\n",
       "      <th>416</th>\n",
       "      <td>1308</td>\n",
       "      <td>0</td>\n",
       "    </tr>\n",
       "    <tr>\n",
       "      <th>417</th>\n",
       "      <td>1309</td>\n",
       "      <td>0</td>\n",
       "    </tr>\n",
       "  </tbody>\n",
       "</table>\n",
       "<p>418 rows × 2 columns</p>\n",
       "</div>"
      ],
      "text/plain": [
       "     PassengerId  Survived\n",
       "0            892         0\n",
       "1            893         1\n",
       "2            894         0\n",
       "3            895         0\n",
       "4            896         1\n",
       "..           ...       ...\n",
       "413         1305         0\n",
       "414         1306         1\n",
       "415         1307         0\n",
       "416         1308         0\n",
       "417         1309         0\n",
       "\n",
       "[418 rows x 2 columns]"
      ]
     },
     "execution_count": 121,
     "metadata": {},
     "output_type": "execute_result"
    }
   ],
   "source": [
    "sample_submission"
   ]
  },
  {
   "cell_type": "code",
   "execution_count": 122,
   "id": "424cfe23",
   "metadata": {
    "execution": {
     "iopub.execute_input": "2021-08-06T20:44:07.111960Z",
     "iopub.status.busy": "2021-08-06T20:44:07.111266Z",
     "iopub.status.idle": "2021-08-06T20:44:07.121267Z",
     "shell.execute_reply": "2021-08-06T20:44:07.120739Z",
     "shell.execute_reply.started": "2021-08-06T20:32:44.250628Z"
    },
    "papermill": {
     "duration": 0.168422,
     "end_time": "2021-08-06T20:44:07.121423",
     "exception": false,
     "start_time": "2021-08-06T20:44:06.953001",
     "status": "completed"
    },
    "tags": []
   },
   "outputs": [
    {
     "data": {
      "text/html": [
       "<div>\n",
       "<style scoped>\n",
       "    .dataframe tbody tr th:only-of-type {\n",
       "        vertical-align: middle;\n",
       "    }\n",
       "\n",
       "    .dataframe tbody tr th {\n",
       "        vertical-align: top;\n",
       "    }\n",
       "\n",
       "    .dataframe thead th {\n",
       "        text-align: right;\n",
       "    }\n",
       "</style>\n",
       "<table border=\"1\" class=\"dataframe\">\n",
       "  <thead>\n",
       "    <tr style=\"text-align: right;\">\n",
       "      <th></th>\n",
       "      <th>PassengerId</th>\n",
       "      <th>Survived</th>\n",
       "    </tr>\n",
       "  </thead>\n",
       "  <tbody>\n",
       "    <tr>\n",
       "      <th>0</th>\n",
       "      <td>892</td>\n",
       "      <td>0</td>\n",
       "    </tr>\n",
       "    <tr>\n",
       "      <th>1</th>\n",
       "      <td>893</td>\n",
       "      <td>1</td>\n",
       "    </tr>\n",
       "    <tr>\n",
       "      <th>2</th>\n",
       "      <td>894</td>\n",
       "      <td>0</td>\n",
       "    </tr>\n",
       "    <tr>\n",
       "      <th>3</th>\n",
       "      <td>895</td>\n",
       "      <td>0</td>\n",
       "    </tr>\n",
       "    <tr>\n",
       "      <th>4</th>\n",
       "      <td>896</td>\n",
       "      <td>1</td>\n",
       "    </tr>\n",
       "    <tr>\n",
       "      <th>5</th>\n",
       "      <td>897</td>\n",
       "      <td>0</td>\n",
       "    </tr>\n",
       "  </tbody>\n",
       "</table>\n",
       "</div>"
      ],
      "text/plain": [
       "   PassengerId  Survived\n",
       "0          892         0\n",
       "1          893         1\n",
       "2          894         0\n",
       "3          895         0\n",
       "4          896         1\n",
       "5          897         0"
      ]
     },
     "execution_count": 122,
     "metadata": {},
     "output_type": "execute_result"
    }
   ],
   "source": [
    "sample_submission.head(6)"
   ]
  },
  {
   "cell_type": "code",
   "execution_count": 123,
   "id": "c50501cc",
   "metadata": {
    "execution": {
     "iopub.execute_input": "2021-08-06T20:44:07.439005Z",
     "iopub.status.busy": "2021-08-06T20:44:07.438288Z",
     "iopub.status.idle": "2021-08-06T20:44:07.440710Z",
     "shell.execute_reply": "2021-08-06T20:44:07.440217Z",
     "shell.execute_reply.started": "2021-08-06T20:33:36.139911Z"
    },
    "papermill": {
     "duration": 0.162329,
     "end_time": "2021-08-06T20:44:07.440885",
     "exception": false,
     "start_time": "2021-08-06T20:44:07.278556",
     "status": "completed"
    },
    "tags": []
   },
   "outputs": [],
   "source": [
    "sample_submission[\"Survived\"]=test_y_pred"
   ]
  },
  {
   "cell_type": "code",
   "execution_count": 124,
   "id": "10d6677f",
   "metadata": {
    "execution": {
     "iopub.execute_input": "2021-08-06T20:44:07.786858Z",
     "iopub.status.busy": "2021-08-06T20:44:07.786157Z",
     "iopub.status.idle": "2021-08-06T20:44:07.788818Z",
     "shell.execute_reply": "2021-08-06T20:44:07.789290Z",
     "shell.execute_reply.started": "2021-08-06T20:33:41.971595Z"
    },
    "papermill": {
     "duration": 0.193991,
     "end_time": "2021-08-06T20:44:07.789465",
     "exception": false,
     "start_time": "2021-08-06T20:44:07.595474",
     "status": "completed"
    },
    "tags": []
   },
   "outputs": [
    {
     "data": {
      "text/html": [
       "<div>\n",
       "<style scoped>\n",
       "    .dataframe tbody tr th:only-of-type {\n",
       "        vertical-align: middle;\n",
       "    }\n",
       "\n",
       "    .dataframe tbody tr th {\n",
       "        vertical-align: top;\n",
       "    }\n",
       "\n",
       "    .dataframe thead th {\n",
       "        text-align: right;\n",
       "    }\n",
       "</style>\n",
       "<table border=\"1\" class=\"dataframe\">\n",
       "  <thead>\n",
       "    <tr style=\"text-align: right;\">\n",
       "      <th></th>\n",
       "      <th>PassengerId</th>\n",
       "      <th>Survived</th>\n",
       "    </tr>\n",
       "  </thead>\n",
       "  <tbody>\n",
       "    <tr>\n",
       "      <th>0</th>\n",
       "      <td>892</td>\n",
       "      <td>0</td>\n",
       "    </tr>\n",
       "    <tr>\n",
       "      <th>1</th>\n",
       "      <td>893</td>\n",
       "      <td>0</td>\n",
       "    </tr>\n",
       "    <tr>\n",
       "      <th>2</th>\n",
       "      <td>894</td>\n",
       "      <td>0</td>\n",
       "    </tr>\n",
       "    <tr>\n",
       "      <th>3</th>\n",
       "      <td>895</td>\n",
       "      <td>0</td>\n",
       "    </tr>\n",
       "    <tr>\n",
       "      <th>4</th>\n",
       "      <td>896</td>\n",
       "      <td>1</td>\n",
       "    </tr>\n",
       "    <tr>\n",
       "      <th>5</th>\n",
       "      <td>897</td>\n",
       "      <td>0</td>\n",
       "    </tr>\n",
       "  </tbody>\n",
       "</table>\n",
       "</div>"
      ],
      "text/plain": [
       "   PassengerId  Survived\n",
       "0          892         0\n",
       "1          893         0\n",
       "2          894         0\n",
       "3          895         0\n",
       "4          896         1\n",
       "5          897         0"
      ]
     },
     "execution_count": 124,
     "metadata": {},
     "output_type": "execute_result"
    }
   ],
   "source": [
    "sample_submission.head(6)"
   ]
  },
  {
   "cell_type": "code",
   "execution_count": 125,
   "id": "2a5e92a8",
   "metadata": {
    "execution": {
     "iopub.execute_input": "2021-08-06T20:44:08.108301Z",
     "iopub.status.busy": "2021-08-06T20:44:08.107580Z",
     "iopub.status.idle": "2021-08-06T20:44:08.114401Z",
     "shell.execute_reply": "2021-08-06T20:44:08.113691Z",
     "shell.execute_reply.started": "2021-08-06T20:34:38.51648Z"
    },
    "papermill": {
     "duration": 0.169042,
     "end_time": "2021-08-06T20:44:08.114544",
     "exception": false,
     "start_time": "2021-08-06T20:44:07.945502",
     "status": "completed"
    },
    "tags": []
   },
   "outputs": [],
   "source": [
    "sample_submission.to_csv(\"sample_submission_V1.csv\",index = False)"
   ]
  },
  {
   "cell_type": "code",
   "execution_count": null,
   "id": "b60a8f6a",
   "metadata": {
    "papermill": {
     "duration": 0.155431,
     "end_time": "2021-08-06T20:44:08.425237",
     "exception": false,
     "start_time": "2021-08-06T20:44:08.269806",
     "status": "completed"
    },
    "tags": []
   },
   "outputs": [],
   "source": [
    "\n"
   ]
  },
  {
   "cell_type": "code",
   "execution_count": null,
   "id": "63209ce0",
   "metadata": {
    "papermill": {
     "duration": 0.153962,
     "end_time": "2021-08-06T20:44:08.733039",
     "exception": false,
     "start_time": "2021-08-06T20:44:08.579077",
     "status": "completed"
    },
    "tags": []
   },
   "outputs": [],
   "source": []
  }
 ],
 "metadata": {
  "kernelspec": {
   "display_name": "Python 3",
   "language": "python",
   "name": "python3"
  },
  "language_info": {
   "codemirror_mode": {
    "name": "ipython",
    "version": 3
   },
   "file_extension": ".py",
   "mimetype": "text/x-python",
   "name": "python",
   "nbconvert_exporter": "python",
   "pygments_lexer": "ipython3",
   "version": "3.7.10"
  },
  "papermill": {
   "default_parameters": {},
   "duration": 66.018938,
   "end_time": "2021-08-06T20:44:09.800969",
   "environment_variables": {},
   "exception": null,
   "input_path": "__notebook__.ipynb",
   "output_path": "__notebook__.ipynb",
   "parameters": {},
   "start_time": "2021-08-06T20:43:03.782031",
   "version": "2.3.3"
  }
 },
 "nbformat": 4,
 "nbformat_minor": 5
}
