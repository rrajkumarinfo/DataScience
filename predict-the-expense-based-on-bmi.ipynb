{
 "cells": [
  {
   "cell_type": "code",
   "execution_count": 1,
   "id": "5a7a3652",
   "metadata": {
    "_cell_guid": "b1076dfc-b9ad-4769-8c92-a6c4dae69d19",
    "_uuid": "8f2839f25d086af736a60e9eeb907d3b93b6e0e5",
    "execution": {
     "iopub.execute_input": "2021-07-17T18:01:43.903790Z",
     "iopub.status.busy": "2021-07-17T18:01:43.903097Z",
     "iopub.status.idle": "2021-07-17T18:01:43.912962Z",
     "shell.execute_reply": "2021-07-17T18:01:43.913526Z",
     "shell.execute_reply.started": "2021-07-17T17:36:56.377336Z"
    },
    "papermill": {
     "duration": 0.047968,
     "end_time": "2021-07-17T18:01:43.913872",
     "exception": false,
     "start_time": "2021-07-17T18:01:43.865904",
     "status": "completed"
    },
    "tags": []
   },
   "outputs": [
    {
     "name": "stdout",
     "output_type": "stream",
     "text": [
      "/kaggle/input/insurance-premium-prediction/insurance.csv\n"
     ]
    }
   ],
   "source": [
    "# This Python 3 environment comes with many helpful analytics libraries installed\n",
    "# It is defined by the kaggle/python Docker image: https://github.com/kaggle/docker-python\n",
    "# For example, here's several helpful packages to load\n",
    "\n",
    "import numpy as np # linear algebra\n",
    "import pandas as pd # data processing, CSV file I/O (e.g. pd.read_csv)\n",
    "\n",
    "# Input data files are available in the read-only \"../input/\" directory\n",
    "# For example, running this (by clicking run or pressing Shift+Enter) will list all files under the input directory\n",
    "\n",
    "import os\n",
    "for dirname, _, filenames in os.walk('/kaggle/input'):\n",
    "    for filename in filenames:\n",
    "        print(os.path.join(dirname, filename))\n",
    "\n",
    "# You can write up to 20GB to the current directory (/kaggle/working/) that gets preserved as output when you create a version using \"Save & Run All\" \n",
    "# You can also write temporary files to /kaggle/temp/, but they won't be saved outside of the current session"
   ]
  },
  {
   "cell_type": "code",
   "execution_count": 2,
   "id": "cbae4e18",
   "metadata": {
    "execution": {
     "iopub.execute_input": "2021-07-17T18:01:43.965201Z",
     "iopub.status.busy": "2021-07-17T18:01:43.964202Z",
     "iopub.status.idle": "2021-07-17T18:01:44.133122Z",
     "shell.execute_reply": "2021-07-17T18:01:44.132194Z",
     "shell.execute_reply.started": "2021-07-17T17:36:56.387829Z"
    },
    "papermill": {
     "duration": 0.195631,
     "end_time": "2021-07-17T18:01:44.133354",
     "exception": false,
     "start_time": "2021-07-17T18:01:43.937723",
     "status": "completed"
    },
    "tags": []
   },
   "outputs": [],
   "source": [
    "data=pd.read_csv(\"/kaggle/input/insurance-premium-prediction/insurance.csv\")"
   ]
  },
  {
   "cell_type": "code",
   "execution_count": 3,
   "id": "57d4a74e",
   "metadata": {
    "execution": {
     "iopub.execute_input": "2021-07-17T18:01:44.206013Z",
     "iopub.status.busy": "2021-07-17T18:01:44.205002Z",
     "iopub.status.idle": "2021-07-17T18:01:44.229033Z",
     "shell.execute_reply": "2021-07-17T18:01:44.229549Z",
     "shell.execute_reply.started": "2021-07-17T17:36:56.410377Z"
    },
    "papermill": {
     "duration": 0.066344,
     "end_time": "2021-07-17T18:01:44.229767",
     "exception": false,
     "start_time": "2021-07-17T18:01:44.163423",
     "status": "completed"
    },
    "tags": []
   },
   "outputs": [
    {
     "data": {
      "text/html": [
       "<div>\n",
       "<style scoped>\n",
       "    .dataframe tbody tr th:only-of-type {\n",
       "        vertical-align: middle;\n",
       "    }\n",
       "\n",
       "    .dataframe tbody tr th {\n",
       "        vertical-align: top;\n",
       "    }\n",
       "\n",
       "    .dataframe thead th {\n",
       "        text-align: right;\n",
       "    }\n",
       "</style>\n",
       "<table border=\"1\" class=\"dataframe\">\n",
       "  <thead>\n",
       "    <tr style=\"text-align: right;\">\n",
       "      <th></th>\n",
       "      <th>age</th>\n",
       "      <th>sex</th>\n",
       "      <th>bmi</th>\n",
       "      <th>children</th>\n",
       "      <th>smoker</th>\n",
       "      <th>region</th>\n",
       "      <th>expenses</th>\n",
       "    </tr>\n",
       "  </thead>\n",
       "  <tbody>\n",
       "    <tr>\n",
       "      <th>0</th>\n",
       "      <td>19</td>\n",
       "      <td>female</td>\n",
       "      <td>27.9</td>\n",
       "      <td>0</td>\n",
       "      <td>yes</td>\n",
       "      <td>southwest</td>\n",
       "      <td>16884.92</td>\n",
       "    </tr>\n",
       "    <tr>\n",
       "      <th>1</th>\n",
       "      <td>18</td>\n",
       "      <td>male</td>\n",
       "      <td>33.8</td>\n",
       "      <td>1</td>\n",
       "      <td>no</td>\n",
       "      <td>southeast</td>\n",
       "      <td>1725.55</td>\n",
       "    </tr>\n",
       "    <tr>\n",
       "      <th>2</th>\n",
       "      <td>28</td>\n",
       "      <td>male</td>\n",
       "      <td>33.0</td>\n",
       "      <td>3</td>\n",
       "      <td>no</td>\n",
       "      <td>southeast</td>\n",
       "      <td>4449.46</td>\n",
       "    </tr>\n",
       "    <tr>\n",
       "      <th>3</th>\n",
       "      <td>33</td>\n",
       "      <td>male</td>\n",
       "      <td>22.7</td>\n",
       "      <td>0</td>\n",
       "      <td>no</td>\n",
       "      <td>northwest</td>\n",
       "      <td>21984.47</td>\n",
       "    </tr>\n",
       "    <tr>\n",
       "      <th>4</th>\n",
       "      <td>32</td>\n",
       "      <td>male</td>\n",
       "      <td>28.9</td>\n",
       "      <td>0</td>\n",
       "      <td>no</td>\n",
       "      <td>northwest</td>\n",
       "      <td>3866.86</td>\n",
       "    </tr>\n",
       "    <tr>\n",
       "      <th>...</th>\n",
       "      <td>...</td>\n",
       "      <td>...</td>\n",
       "      <td>...</td>\n",
       "      <td>...</td>\n",
       "      <td>...</td>\n",
       "      <td>...</td>\n",
       "      <td>...</td>\n",
       "    </tr>\n",
       "    <tr>\n",
       "      <th>1333</th>\n",
       "      <td>50</td>\n",
       "      <td>male</td>\n",
       "      <td>31.0</td>\n",
       "      <td>3</td>\n",
       "      <td>no</td>\n",
       "      <td>northwest</td>\n",
       "      <td>10600.55</td>\n",
       "    </tr>\n",
       "    <tr>\n",
       "      <th>1334</th>\n",
       "      <td>18</td>\n",
       "      <td>female</td>\n",
       "      <td>31.9</td>\n",
       "      <td>0</td>\n",
       "      <td>no</td>\n",
       "      <td>northeast</td>\n",
       "      <td>2205.98</td>\n",
       "    </tr>\n",
       "    <tr>\n",
       "      <th>1335</th>\n",
       "      <td>18</td>\n",
       "      <td>female</td>\n",
       "      <td>36.9</td>\n",
       "      <td>0</td>\n",
       "      <td>no</td>\n",
       "      <td>southeast</td>\n",
       "      <td>1629.83</td>\n",
       "    </tr>\n",
       "    <tr>\n",
       "      <th>1336</th>\n",
       "      <td>21</td>\n",
       "      <td>female</td>\n",
       "      <td>25.8</td>\n",
       "      <td>0</td>\n",
       "      <td>no</td>\n",
       "      <td>southwest</td>\n",
       "      <td>2007.95</td>\n",
       "    </tr>\n",
       "    <tr>\n",
       "      <th>1337</th>\n",
       "      <td>61</td>\n",
       "      <td>female</td>\n",
       "      <td>29.1</td>\n",
       "      <td>0</td>\n",
       "      <td>yes</td>\n",
       "      <td>northwest</td>\n",
       "      <td>29141.36</td>\n",
       "    </tr>\n",
       "  </tbody>\n",
       "</table>\n",
       "<p>1338 rows × 7 columns</p>\n",
       "</div>"
      ],
      "text/plain": [
       "      age     sex   bmi  children smoker     region  expenses\n",
       "0      19  female  27.9         0    yes  southwest  16884.92\n",
       "1      18    male  33.8         1     no  southeast   1725.55\n",
       "2      28    male  33.0         3     no  southeast   4449.46\n",
       "3      33    male  22.7         0     no  northwest  21984.47\n",
       "4      32    male  28.9         0     no  northwest   3866.86\n",
       "...   ...     ...   ...       ...    ...        ...       ...\n",
       "1333   50    male  31.0         3     no  northwest  10600.55\n",
       "1334   18  female  31.9         0     no  northeast   2205.98\n",
       "1335   18  female  36.9         0     no  southeast   1629.83\n",
       "1336   21  female  25.8         0     no  southwest   2007.95\n",
       "1337   61  female  29.1         0    yes  northwest  29141.36\n",
       "\n",
       "[1338 rows x 7 columns]"
      ]
     },
     "execution_count": 3,
     "metadata": {},
     "output_type": "execute_result"
    }
   ],
   "source": [
    "data"
   ]
  },
  {
   "cell_type": "code",
   "execution_count": 4,
   "id": "aae50288",
   "metadata": {
    "execution": {
     "iopub.execute_input": "2021-07-17T18:01:44.280766Z",
     "iopub.status.busy": "2021-07-17T18:01:44.280075Z",
     "iopub.status.idle": "2021-07-17T18:01:44.301657Z",
     "shell.execute_reply": "2021-07-17T18:01:44.302163Z",
     "shell.execute_reply.started": "2021-07-17T17:36:56.438610Z"
    },
    "papermill": {
     "duration": 0.048562,
     "end_time": "2021-07-17T18:01:44.302364",
     "exception": false,
     "start_time": "2021-07-17T18:01:44.253802",
     "status": "completed"
    },
    "tags": []
   },
   "outputs": [
    {
     "name": "stdout",
     "output_type": "stream",
     "text": [
      "<class 'pandas.core.frame.DataFrame'>\n",
      "RangeIndex: 1338 entries, 0 to 1337\n",
      "Data columns (total 7 columns):\n",
      " #   Column    Non-Null Count  Dtype  \n",
      "---  ------    --------------  -----  \n",
      " 0   age       1338 non-null   int64  \n",
      " 1   sex       1338 non-null   object \n",
      " 2   bmi       1338 non-null   float64\n",
      " 3   children  1338 non-null   int64  \n",
      " 4   smoker    1338 non-null   object \n",
      " 5   region    1338 non-null   object \n",
      " 6   expenses  1338 non-null   float64\n",
      "dtypes: float64(2), int64(2), object(3)\n",
      "memory usage: 73.3+ KB\n"
     ]
    }
   ],
   "source": [
    "data.info()"
   ]
  },
  {
   "cell_type": "code",
   "execution_count": 5,
   "id": "dbbc71cd",
   "metadata": {
    "execution": {
     "iopub.execute_input": "2021-07-17T18:01:44.360780Z",
     "iopub.status.busy": "2021-07-17T18:01:44.360065Z",
     "iopub.status.idle": "2021-07-17T18:01:44.384329Z",
     "shell.execute_reply": "2021-07-17T18:01:44.383795Z",
     "shell.execute_reply.started": "2021-07-17T17:36:56.456646Z"
    },
    "papermill": {
     "duration": 0.057801,
     "end_time": "2021-07-17T18:01:44.384497",
     "exception": false,
     "start_time": "2021-07-17T18:01:44.326696",
     "status": "completed"
    },
    "tags": []
   },
   "outputs": [
    {
     "data": {
      "text/html": [
       "<div>\n",
       "<style scoped>\n",
       "    .dataframe tbody tr th:only-of-type {\n",
       "        vertical-align: middle;\n",
       "    }\n",
       "\n",
       "    .dataframe tbody tr th {\n",
       "        vertical-align: top;\n",
       "    }\n",
       "\n",
       "    .dataframe thead th {\n",
       "        text-align: right;\n",
       "    }\n",
       "</style>\n",
       "<table border=\"1\" class=\"dataframe\">\n",
       "  <thead>\n",
       "    <tr style=\"text-align: right;\">\n",
       "      <th></th>\n",
       "      <th>count</th>\n",
       "      <th>mean</th>\n",
       "      <th>std</th>\n",
       "      <th>min</th>\n",
       "      <th>25%</th>\n",
       "      <th>50%</th>\n",
       "      <th>75%</th>\n",
       "      <th>max</th>\n",
       "    </tr>\n",
       "  </thead>\n",
       "  <tbody>\n",
       "    <tr>\n",
       "      <th>age</th>\n",
       "      <td>1338.0</td>\n",
       "      <td>39.207025</td>\n",
       "      <td>14.049960</td>\n",
       "      <td>18.00</td>\n",
       "      <td>27.0000</td>\n",
       "      <td>39.00</td>\n",
       "      <td>51.000</td>\n",
       "      <td>64.00</td>\n",
       "    </tr>\n",
       "    <tr>\n",
       "      <th>bmi</th>\n",
       "      <td>1338.0</td>\n",
       "      <td>30.665471</td>\n",
       "      <td>6.098382</td>\n",
       "      <td>16.00</td>\n",
       "      <td>26.3000</td>\n",
       "      <td>30.40</td>\n",
       "      <td>34.700</td>\n",
       "      <td>53.10</td>\n",
       "    </tr>\n",
       "    <tr>\n",
       "      <th>children</th>\n",
       "      <td>1338.0</td>\n",
       "      <td>1.094918</td>\n",
       "      <td>1.205493</td>\n",
       "      <td>0.00</td>\n",
       "      <td>0.0000</td>\n",
       "      <td>1.00</td>\n",
       "      <td>2.000</td>\n",
       "      <td>5.00</td>\n",
       "    </tr>\n",
       "    <tr>\n",
       "      <th>expenses</th>\n",
       "      <td>1338.0</td>\n",
       "      <td>13270.422414</td>\n",
       "      <td>12110.011240</td>\n",
       "      <td>1121.87</td>\n",
       "      <td>4740.2875</td>\n",
       "      <td>9382.03</td>\n",
       "      <td>16639.915</td>\n",
       "      <td>63770.43</td>\n",
       "    </tr>\n",
       "  </tbody>\n",
       "</table>\n",
       "</div>"
      ],
      "text/plain": [
       "           count          mean           std      min        25%      50%  \\\n",
       "age       1338.0     39.207025     14.049960    18.00    27.0000    39.00   \n",
       "bmi       1338.0     30.665471      6.098382    16.00    26.3000    30.40   \n",
       "children  1338.0      1.094918      1.205493     0.00     0.0000     1.00   \n",
       "expenses  1338.0  13270.422414  12110.011240  1121.87  4740.2875  9382.03   \n",
       "\n",
       "                75%       max  \n",
       "age          51.000     64.00  \n",
       "bmi          34.700     53.10  \n",
       "children      2.000      5.00  \n",
       "expenses  16639.915  63770.43  "
      ]
     },
     "execution_count": 5,
     "metadata": {},
     "output_type": "execute_result"
    }
   ],
   "source": [
    "data.describe().T"
   ]
  },
  {
   "cell_type": "code",
   "execution_count": 6,
   "id": "7701b127",
   "metadata": {
    "execution": {
     "iopub.execute_input": "2021-07-17T18:01:44.443340Z",
     "iopub.status.busy": "2021-07-17T18:01:44.442657Z",
     "iopub.status.idle": "2021-07-17T18:01:44.446992Z",
     "shell.execute_reply": "2021-07-17T18:01:44.446392Z",
     "shell.execute_reply.started": "2021-07-17T17:36:56.489029Z"
    },
    "papermill": {
     "duration": 0.037841,
     "end_time": "2021-07-17T18:01:44.447137",
     "exception": false,
     "start_time": "2021-07-17T18:01:44.409296",
     "status": "completed"
    },
    "tags": []
   },
   "outputs": [
    {
     "data": {
      "text/plain": [
       "age         0\n",
       "sex         0\n",
       "bmi         0\n",
       "children    0\n",
       "smoker      0\n",
       "region      0\n",
       "expenses    0\n",
       "dtype: int64"
      ]
     },
     "execution_count": 6,
     "metadata": {},
     "output_type": "execute_result"
    }
   ],
   "source": [
    "data.isna().sum()"
   ]
  },
  {
   "cell_type": "code",
   "execution_count": 7,
   "id": "85483021",
   "metadata": {
    "execution": {
     "iopub.execute_input": "2021-07-17T18:01:44.503801Z",
     "iopub.status.busy": "2021-07-17T18:01:44.503129Z",
     "iopub.status.idle": "2021-07-17T18:01:44.510956Z",
     "shell.execute_reply": "2021-07-17T18:01:44.510289Z",
     "shell.execute_reply.started": "2021-07-17T17:36:56.499488Z"
    },
    "papermill": {
     "duration": 0.039095,
     "end_time": "2021-07-17T18:01:44.511118",
     "exception": false,
     "start_time": "2021-07-17T18:01:44.472023",
     "status": "completed"
    },
    "tags": []
   },
   "outputs": [
    {
     "data": {
      "text/plain": [
       "1"
      ]
     },
     "execution_count": 7,
     "metadata": {},
     "output_type": "execute_result"
    }
   ],
   "source": [
    "data.duplicated().sum()"
   ]
  },
  {
   "cell_type": "code",
   "execution_count": 8,
   "id": "fcd9edc9",
   "metadata": {
    "execution": {
     "iopub.execute_input": "2021-07-17T18:01:44.567758Z",
     "iopub.status.busy": "2021-07-17T18:01:44.567084Z",
     "iopub.status.idle": "2021-07-17T18:01:44.581418Z",
     "shell.execute_reply": "2021-07-17T18:01:44.581884Z",
     "shell.execute_reply.started": "2021-07-17T17:36:56.512634Z"
    },
    "papermill": {
     "duration": 0.045662,
     "end_time": "2021-07-17T18:01:44.582075",
     "exception": false,
     "start_time": "2021-07-17T18:01:44.536413",
     "status": "completed"
    },
    "tags": []
   },
   "outputs": [
    {
     "data": {
      "text/html": [
       "<div>\n",
       "<style scoped>\n",
       "    .dataframe tbody tr th:only-of-type {\n",
       "        vertical-align: middle;\n",
       "    }\n",
       "\n",
       "    .dataframe tbody tr th {\n",
       "        vertical-align: top;\n",
       "    }\n",
       "\n",
       "    .dataframe thead th {\n",
       "        text-align: right;\n",
       "    }\n",
       "</style>\n",
       "<table border=\"1\" class=\"dataframe\">\n",
       "  <thead>\n",
       "    <tr style=\"text-align: right;\">\n",
       "      <th></th>\n",
       "      <th>age</th>\n",
       "      <th>sex</th>\n",
       "      <th>bmi</th>\n",
       "      <th>children</th>\n",
       "      <th>smoker</th>\n",
       "      <th>region</th>\n",
       "      <th>expenses</th>\n",
       "    </tr>\n",
       "  </thead>\n",
       "  <tbody>\n",
       "    <tr>\n",
       "      <th>581</th>\n",
       "      <td>19</td>\n",
       "      <td>male</td>\n",
       "      <td>30.6</td>\n",
       "      <td>0</td>\n",
       "      <td>no</td>\n",
       "      <td>northwest</td>\n",
       "      <td>1639.56</td>\n",
       "    </tr>\n",
       "  </tbody>\n",
       "</table>\n",
       "</div>"
      ],
      "text/plain": [
       "     age   sex   bmi  children smoker     region  expenses\n",
       "581   19  male  30.6         0     no  northwest   1639.56"
      ]
     },
     "execution_count": 8,
     "metadata": {},
     "output_type": "execute_result"
    }
   ],
   "source": [
    "data[data.duplicated()]"
   ]
  },
  {
   "cell_type": "code",
   "execution_count": 9,
   "id": "c4fd5775",
   "metadata": {
    "execution": {
     "iopub.execute_input": "2021-07-17T18:01:44.641178Z",
     "iopub.status.busy": "2021-07-17T18:01:44.640070Z",
     "iopub.status.idle": "2021-07-17T18:01:44.646249Z",
     "shell.execute_reply": "2021-07-17T18:01:44.645698Z",
     "shell.execute_reply.started": "2021-07-17T17:36:56.533069Z"
    },
    "papermill": {
     "duration": 0.03756,
     "end_time": "2021-07-17T18:01:44.646395",
     "exception": false,
     "start_time": "2021-07-17T18:01:44.608835",
     "status": "completed"
    },
    "tags": []
   },
   "outputs": [],
   "source": [
    "\n",
    "data=data.drop_duplicates()"
   ]
  },
  {
   "cell_type": "code",
   "execution_count": 10,
   "id": "75e2ce80",
   "metadata": {
    "execution": {
     "iopub.execute_input": "2021-07-17T18:01:44.701147Z",
     "iopub.status.busy": "2021-07-17T18:01:44.700522Z",
     "iopub.status.idle": "2021-07-17T18:01:44.713319Z",
     "shell.execute_reply": "2021-07-17T18:01:44.713823Z",
     "shell.execute_reply.started": "2021-07-17T17:36:56.563630Z"
    },
    "papermill": {
     "duration": 0.041785,
     "end_time": "2021-07-17T18:01:44.714015",
     "exception": false,
     "start_time": "2021-07-17T18:01:44.672230",
     "status": "completed"
    },
    "tags": []
   },
   "outputs": [
    {
     "data": {
      "text/html": [
       "<div>\n",
       "<style scoped>\n",
       "    .dataframe tbody tr th:only-of-type {\n",
       "        vertical-align: middle;\n",
       "    }\n",
       "\n",
       "    .dataframe tbody tr th {\n",
       "        vertical-align: top;\n",
       "    }\n",
       "\n",
       "    .dataframe thead th {\n",
       "        text-align: right;\n",
       "    }\n",
       "</style>\n",
       "<table border=\"1\" class=\"dataframe\">\n",
       "  <thead>\n",
       "    <tr style=\"text-align: right;\">\n",
       "      <th></th>\n",
       "      <th>age</th>\n",
       "      <th>sex</th>\n",
       "      <th>bmi</th>\n",
       "      <th>children</th>\n",
       "      <th>smoker</th>\n",
       "      <th>region</th>\n",
       "      <th>expenses</th>\n",
       "    </tr>\n",
       "  </thead>\n",
       "  <tbody>\n",
       "  </tbody>\n",
       "</table>\n",
       "</div>"
      ],
      "text/plain": [
       "Empty DataFrame\n",
       "Columns: [age, sex, bmi, children, smoker, region, expenses]\n",
       "Index: []"
      ]
     },
     "execution_count": 10,
     "metadata": {},
     "output_type": "execute_result"
    }
   ],
   "source": [
    "data[data.duplicated()]"
   ]
  },
  {
   "cell_type": "code",
   "execution_count": 11,
   "id": "fdf2285b",
   "metadata": {
    "execution": {
     "iopub.execute_input": "2021-07-17T18:01:44.770191Z",
     "iopub.status.busy": "2021-07-17T18:01:44.769565Z",
     "iopub.status.idle": "2021-07-17T18:01:44.779257Z",
     "shell.execute_reply": "2021-07-17T18:01:44.778709Z",
     "shell.execute_reply.started": "2021-07-17T17:36:56.582170Z"
    },
    "papermill": {
     "duration": 0.039341,
     "end_time": "2021-07-17T18:01:44.779400",
     "exception": false,
     "start_time": "2021-07-17T18:01:44.740059",
     "status": "completed"
    },
    "tags": []
   },
   "outputs": [
    {
     "data": {
      "text/plain": [
       "age         0\n",
       "sex         0\n",
       "bmi         0\n",
       "children    0\n",
       "smoker      0\n",
       "region      0\n",
       "expenses    0\n",
       "dtype: int64"
      ]
     },
     "execution_count": 11,
     "metadata": {},
     "output_type": "execute_result"
    }
   ],
   "source": [
    "data.isnull().sum()"
   ]
  },
  {
   "cell_type": "code",
   "execution_count": 12,
   "id": "6f64cef7",
   "metadata": {
    "execution": {
     "iopub.execute_input": "2021-07-17T18:01:44.856213Z",
     "iopub.status.busy": "2021-07-17T18:01:44.855514Z",
     "iopub.status.idle": "2021-07-17T18:01:44.858455Z",
     "shell.execute_reply": "2021-07-17T18:01:44.859039Z",
     "shell.execute_reply.started": "2021-07-17T17:36:56.594703Z"
    },
    "papermill": {
     "duration": 0.052612,
     "end_time": "2021-07-17T18:01:44.859238",
     "exception": false,
     "start_time": "2021-07-17T18:01:44.806626",
     "status": "completed"
    },
    "tags": []
   },
   "outputs": [
    {
     "data": {
      "text/html": [
       "<div>\n",
       "<style scoped>\n",
       "    .dataframe tbody tr th:only-of-type {\n",
       "        vertical-align: middle;\n",
       "    }\n",
       "\n",
       "    .dataframe tbody tr th {\n",
       "        vertical-align: top;\n",
       "    }\n",
       "\n",
       "    .dataframe thead th {\n",
       "        text-align: right;\n",
       "    }\n",
       "</style>\n",
       "<table border=\"1\" class=\"dataframe\">\n",
       "  <thead>\n",
       "    <tr style=\"text-align: right;\">\n",
       "      <th></th>\n",
       "      <th>age</th>\n",
       "      <th>sex</th>\n",
       "      <th>bmi</th>\n",
       "      <th>children</th>\n",
       "      <th>smoker</th>\n",
       "      <th>region</th>\n",
       "      <th>expenses</th>\n",
       "    </tr>\n",
       "  </thead>\n",
       "  <tbody>\n",
       "    <tr>\n",
       "      <th>0</th>\n",
       "      <td>19</td>\n",
       "      <td>female</td>\n",
       "      <td>27.9</td>\n",
       "      <td>0</td>\n",
       "      <td>yes</td>\n",
       "      <td>southwest</td>\n",
       "      <td>16884.92</td>\n",
       "    </tr>\n",
       "    <tr>\n",
       "      <th>1</th>\n",
       "      <td>18</td>\n",
       "      <td>male</td>\n",
       "      <td>33.8</td>\n",
       "      <td>1</td>\n",
       "      <td>no</td>\n",
       "      <td>southeast</td>\n",
       "      <td>1725.55</td>\n",
       "    </tr>\n",
       "    <tr>\n",
       "      <th>2</th>\n",
       "      <td>28</td>\n",
       "      <td>male</td>\n",
       "      <td>33.0</td>\n",
       "      <td>3</td>\n",
       "      <td>no</td>\n",
       "      <td>southeast</td>\n",
       "      <td>4449.46</td>\n",
       "    </tr>\n",
       "    <tr>\n",
       "      <th>3</th>\n",
       "      <td>33</td>\n",
       "      <td>male</td>\n",
       "      <td>22.7</td>\n",
       "      <td>0</td>\n",
       "      <td>no</td>\n",
       "      <td>northwest</td>\n",
       "      <td>21984.47</td>\n",
       "    </tr>\n",
       "    <tr>\n",
       "      <th>4</th>\n",
       "      <td>32</td>\n",
       "      <td>male</td>\n",
       "      <td>28.9</td>\n",
       "      <td>0</td>\n",
       "      <td>no</td>\n",
       "      <td>northwest</td>\n",
       "      <td>3866.86</td>\n",
       "    </tr>\n",
       "    <tr>\n",
       "      <th>...</th>\n",
       "      <td>...</td>\n",
       "      <td>...</td>\n",
       "      <td>...</td>\n",
       "      <td>...</td>\n",
       "      <td>...</td>\n",
       "      <td>...</td>\n",
       "      <td>...</td>\n",
       "    </tr>\n",
       "    <tr>\n",
       "      <th>1333</th>\n",
       "      <td>50</td>\n",
       "      <td>male</td>\n",
       "      <td>31.0</td>\n",
       "      <td>3</td>\n",
       "      <td>no</td>\n",
       "      <td>northwest</td>\n",
       "      <td>10600.55</td>\n",
       "    </tr>\n",
       "    <tr>\n",
       "      <th>1334</th>\n",
       "      <td>18</td>\n",
       "      <td>female</td>\n",
       "      <td>31.9</td>\n",
       "      <td>0</td>\n",
       "      <td>no</td>\n",
       "      <td>northeast</td>\n",
       "      <td>2205.98</td>\n",
       "    </tr>\n",
       "    <tr>\n",
       "      <th>1335</th>\n",
       "      <td>18</td>\n",
       "      <td>female</td>\n",
       "      <td>36.9</td>\n",
       "      <td>0</td>\n",
       "      <td>no</td>\n",
       "      <td>southeast</td>\n",
       "      <td>1629.83</td>\n",
       "    </tr>\n",
       "    <tr>\n",
       "      <th>1336</th>\n",
       "      <td>21</td>\n",
       "      <td>female</td>\n",
       "      <td>25.8</td>\n",
       "      <td>0</td>\n",
       "      <td>no</td>\n",
       "      <td>southwest</td>\n",
       "      <td>2007.95</td>\n",
       "    </tr>\n",
       "    <tr>\n",
       "      <th>1337</th>\n",
       "      <td>61</td>\n",
       "      <td>female</td>\n",
       "      <td>29.1</td>\n",
       "      <td>0</td>\n",
       "      <td>yes</td>\n",
       "      <td>northwest</td>\n",
       "      <td>29141.36</td>\n",
       "    </tr>\n",
       "  </tbody>\n",
       "</table>\n",
       "<p>1337 rows × 7 columns</p>\n",
       "</div>"
      ],
      "text/plain": [
       "      age     sex   bmi  children smoker     region  expenses\n",
       "0      19  female  27.9         0    yes  southwest  16884.92\n",
       "1      18    male  33.8         1     no  southeast   1725.55\n",
       "2      28    male  33.0         3     no  southeast   4449.46\n",
       "3      33    male  22.7         0     no  northwest  21984.47\n",
       "4      32    male  28.9         0     no  northwest   3866.86\n",
       "...   ...     ...   ...       ...    ...        ...       ...\n",
       "1333   50    male  31.0         3     no  northwest  10600.55\n",
       "1334   18  female  31.9         0     no  northeast   2205.98\n",
       "1335   18  female  36.9         0     no  southeast   1629.83\n",
       "1336   21  female  25.8         0     no  southwest   2007.95\n",
       "1337   61  female  29.1         0    yes  northwest  29141.36\n",
       "\n",
       "[1337 rows x 7 columns]"
      ]
     },
     "execution_count": 12,
     "metadata": {},
     "output_type": "execute_result"
    }
   ],
   "source": [
    "\n",
    "data"
   ]
  },
  {
   "cell_type": "code",
   "execution_count": 13,
   "id": "f7994ab0",
   "metadata": {
    "execution": {
     "iopub.execute_input": "2021-07-17T18:01:44.916684Z",
     "iopub.status.busy": "2021-07-17T18:01:44.915972Z",
     "iopub.status.idle": "2021-07-17T18:01:44.919925Z",
     "shell.execute_reply": "2021-07-17T18:01:44.920480Z",
     "shell.execute_reply.started": "2021-07-17T17:36:56.627040Z"
    },
    "papermill": {
     "duration": 0.034412,
     "end_time": "2021-07-17T18:01:44.920670",
     "exception": false,
     "start_time": "2021-07-17T18:01:44.886258",
     "status": "completed"
    },
    "tags": []
   },
   "outputs": [],
   "source": [
    "data.reset_index(drop=True,inplace=True)"
   ]
  },
  {
   "cell_type": "code",
   "execution_count": 14,
   "id": "a1b8d0d5",
   "metadata": {
    "execution": {
     "iopub.execute_input": "2021-07-17T18:01:44.979055Z",
     "iopub.status.busy": "2021-07-17T18:01:44.978357Z",
     "iopub.status.idle": "2021-07-17T18:01:44.999852Z",
     "shell.execute_reply": "2021-07-17T18:01:44.999305Z",
     "shell.execute_reply.started": "2021-07-17T17:36:56.634305Z"
    },
    "papermill": {
     "duration": 0.051989,
     "end_time": "2021-07-17T18:01:45.000006",
     "exception": false,
     "start_time": "2021-07-17T18:01:44.948017",
     "status": "completed"
    },
    "tags": []
   },
   "outputs": [
    {
     "data": {
      "text/html": [
       "<div>\n",
       "<style scoped>\n",
       "    .dataframe tbody tr th:only-of-type {\n",
       "        vertical-align: middle;\n",
       "    }\n",
       "\n",
       "    .dataframe tbody tr th {\n",
       "        vertical-align: top;\n",
       "    }\n",
       "\n",
       "    .dataframe thead th {\n",
       "        text-align: right;\n",
       "    }\n",
       "</style>\n",
       "<table border=\"1\" class=\"dataframe\">\n",
       "  <thead>\n",
       "    <tr style=\"text-align: right;\">\n",
       "      <th></th>\n",
       "      <th>age</th>\n",
       "      <th>sex</th>\n",
       "      <th>bmi</th>\n",
       "      <th>children</th>\n",
       "      <th>smoker</th>\n",
       "      <th>region</th>\n",
       "      <th>expenses</th>\n",
       "    </tr>\n",
       "  </thead>\n",
       "  <tbody>\n",
       "    <tr>\n",
       "      <th>0</th>\n",
       "      <td>19</td>\n",
       "      <td>female</td>\n",
       "      <td>27.9</td>\n",
       "      <td>0</td>\n",
       "      <td>yes</td>\n",
       "      <td>southwest</td>\n",
       "      <td>16884.92</td>\n",
       "    </tr>\n",
       "    <tr>\n",
       "      <th>1</th>\n",
       "      <td>18</td>\n",
       "      <td>male</td>\n",
       "      <td>33.8</td>\n",
       "      <td>1</td>\n",
       "      <td>no</td>\n",
       "      <td>southeast</td>\n",
       "      <td>1725.55</td>\n",
       "    </tr>\n",
       "    <tr>\n",
       "      <th>2</th>\n",
       "      <td>28</td>\n",
       "      <td>male</td>\n",
       "      <td>33.0</td>\n",
       "      <td>3</td>\n",
       "      <td>no</td>\n",
       "      <td>southeast</td>\n",
       "      <td>4449.46</td>\n",
       "    </tr>\n",
       "    <tr>\n",
       "      <th>3</th>\n",
       "      <td>33</td>\n",
       "      <td>male</td>\n",
       "      <td>22.7</td>\n",
       "      <td>0</td>\n",
       "      <td>no</td>\n",
       "      <td>northwest</td>\n",
       "      <td>21984.47</td>\n",
       "    </tr>\n",
       "    <tr>\n",
       "      <th>4</th>\n",
       "      <td>32</td>\n",
       "      <td>male</td>\n",
       "      <td>28.9</td>\n",
       "      <td>0</td>\n",
       "      <td>no</td>\n",
       "      <td>northwest</td>\n",
       "      <td>3866.86</td>\n",
       "    </tr>\n",
       "    <tr>\n",
       "      <th>...</th>\n",
       "      <td>...</td>\n",
       "      <td>...</td>\n",
       "      <td>...</td>\n",
       "      <td>...</td>\n",
       "      <td>...</td>\n",
       "      <td>...</td>\n",
       "      <td>...</td>\n",
       "    </tr>\n",
       "    <tr>\n",
       "      <th>1332</th>\n",
       "      <td>50</td>\n",
       "      <td>male</td>\n",
       "      <td>31.0</td>\n",
       "      <td>3</td>\n",
       "      <td>no</td>\n",
       "      <td>northwest</td>\n",
       "      <td>10600.55</td>\n",
       "    </tr>\n",
       "    <tr>\n",
       "      <th>1333</th>\n",
       "      <td>18</td>\n",
       "      <td>female</td>\n",
       "      <td>31.9</td>\n",
       "      <td>0</td>\n",
       "      <td>no</td>\n",
       "      <td>northeast</td>\n",
       "      <td>2205.98</td>\n",
       "    </tr>\n",
       "    <tr>\n",
       "      <th>1334</th>\n",
       "      <td>18</td>\n",
       "      <td>female</td>\n",
       "      <td>36.9</td>\n",
       "      <td>0</td>\n",
       "      <td>no</td>\n",
       "      <td>southeast</td>\n",
       "      <td>1629.83</td>\n",
       "    </tr>\n",
       "    <tr>\n",
       "      <th>1335</th>\n",
       "      <td>21</td>\n",
       "      <td>female</td>\n",
       "      <td>25.8</td>\n",
       "      <td>0</td>\n",
       "      <td>no</td>\n",
       "      <td>southwest</td>\n",
       "      <td>2007.95</td>\n",
       "    </tr>\n",
       "    <tr>\n",
       "      <th>1336</th>\n",
       "      <td>61</td>\n",
       "      <td>female</td>\n",
       "      <td>29.1</td>\n",
       "      <td>0</td>\n",
       "      <td>yes</td>\n",
       "      <td>northwest</td>\n",
       "      <td>29141.36</td>\n",
       "    </tr>\n",
       "  </tbody>\n",
       "</table>\n",
       "<p>1337 rows × 7 columns</p>\n",
       "</div>"
      ],
      "text/plain": [
       "      age     sex   bmi  children smoker     region  expenses\n",
       "0      19  female  27.9         0    yes  southwest  16884.92\n",
       "1      18    male  33.8         1     no  southeast   1725.55\n",
       "2      28    male  33.0         3     no  southeast   4449.46\n",
       "3      33    male  22.7         0     no  northwest  21984.47\n",
       "4      32    male  28.9         0     no  northwest   3866.86\n",
       "...   ...     ...   ...       ...    ...        ...       ...\n",
       "1332   50    male  31.0         3     no  northwest  10600.55\n",
       "1333   18  female  31.9         0     no  northeast   2205.98\n",
       "1334   18  female  36.9         0     no  southeast   1629.83\n",
       "1335   21  female  25.8         0     no  southwest   2007.95\n",
       "1336   61  female  29.1         0    yes  northwest  29141.36\n",
       "\n",
       "[1337 rows x 7 columns]"
      ]
     },
     "execution_count": 14,
     "metadata": {},
     "output_type": "execute_result"
    }
   ],
   "source": [
    "data"
   ]
  },
  {
   "cell_type": "code",
   "execution_count": 15,
   "id": "9392691d",
   "metadata": {
    "execution": {
     "iopub.execute_input": "2021-07-17T18:01:45.061610Z",
     "iopub.status.busy": "2021-07-17T18:01:45.061005Z",
     "iopub.status.idle": "2021-07-17T18:01:45.063579Z",
     "shell.execute_reply": "2021-07-17T18:01:45.064132Z",
     "shell.execute_reply.started": "2021-07-17T17:36:56.663752Z"
    },
    "papermill": {
     "duration": 0.036204,
     "end_time": "2021-07-17T18:01:45.064311",
     "exception": false,
     "start_time": "2021-07-17T18:01:45.028107",
     "status": "completed"
    },
    "tags": []
   },
   "outputs": [
    {
     "data": {
      "text/plain": [
       "Index(['age', 'sex', 'bmi', 'children', 'smoker', 'region', 'expenses'], dtype='object')"
      ]
     },
     "execution_count": 15,
     "metadata": {},
     "output_type": "execute_result"
    }
   ],
   "source": [
    "data.columns"
   ]
  },
  {
   "cell_type": "code",
   "execution_count": 16,
   "id": "60e65e1d",
   "metadata": {
    "execution": {
     "iopub.execute_input": "2021-07-17T18:01:45.123167Z",
     "iopub.status.busy": "2021-07-17T18:01:45.122562Z",
     "iopub.status.idle": "2021-07-17T18:01:45.127596Z",
     "shell.execute_reply": "2021-07-17T18:01:45.128175Z",
     "shell.execute_reply.started": "2021-07-17T17:36:56.679084Z"
    },
    "papermill": {
     "duration": 0.03633,
     "end_time": "2021-07-17T18:01:45.128342",
     "exception": false,
     "start_time": "2021-07-17T18:01:45.092012",
     "status": "completed"
    },
    "tags": []
   },
   "outputs": [],
   "source": [
    "x=data[['bmi']]\n",
    "y=data['expenses']\n"
   ]
  },
  {
   "cell_type": "code",
   "execution_count": 17,
   "id": "5ddec961",
   "metadata": {
    "execution": {
     "iopub.execute_input": "2021-07-17T18:01:45.188136Z",
     "iopub.status.busy": "2021-07-17T18:01:45.187494Z",
     "iopub.status.idle": "2021-07-17T18:01:45.199896Z",
     "shell.execute_reply": "2021-07-17T18:01:45.199362Z",
     "shell.execute_reply.started": "2021-07-17T17:36:56.694405Z"
    },
    "papermill": {
     "duration": 0.043413,
     "end_time": "2021-07-17T18:01:45.200048",
     "exception": false,
     "start_time": "2021-07-17T18:01:45.156635",
     "status": "completed"
    },
    "tags": []
   },
   "outputs": [
    {
     "data": {
      "text/html": [
       "<div>\n",
       "<style scoped>\n",
       "    .dataframe tbody tr th:only-of-type {\n",
       "        vertical-align: middle;\n",
       "    }\n",
       "\n",
       "    .dataframe tbody tr th {\n",
       "        vertical-align: top;\n",
       "    }\n",
       "\n",
       "    .dataframe thead th {\n",
       "        text-align: right;\n",
       "    }\n",
       "</style>\n",
       "<table border=\"1\" class=\"dataframe\">\n",
       "  <thead>\n",
       "    <tr style=\"text-align: right;\">\n",
       "      <th></th>\n",
       "      <th>bmi</th>\n",
       "    </tr>\n",
       "  </thead>\n",
       "  <tbody>\n",
       "    <tr>\n",
       "      <th>0</th>\n",
       "      <td>27.9</td>\n",
       "    </tr>\n",
       "    <tr>\n",
       "      <th>1</th>\n",
       "      <td>33.8</td>\n",
       "    </tr>\n",
       "    <tr>\n",
       "      <th>2</th>\n",
       "      <td>33.0</td>\n",
       "    </tr>\n",
       "    <tr>\n",
       "      <th>3</th>\n",
       "      <td>22.7</td>\n",
       "    </tr>\n",
       "    <tr>\n",
       "      <th>4</th>\n",
       "      <td>28.9</td>\n",
       "    </tr>\n",
       "    <tr>\n",
       "      <th>...</th>\n",
       "      <td>...</td>\n",
       "    </tr>\n",
       "    <tr>\n",
       "      <th>1332</th>\n",
       "      <td>31.0</td>\n",
       "    </tr>\n",
       "    <tr>\n",
       "      <th>1333</th>\n",
       "      <td>31.9</td>\n",
       "    </tr>\n",
       "    <tr>\n",
       "      <th>1334</th>\n",
       "      <td>36.9</td>\n",
       "    </tr>\n",
       "    <tr>\n",
       "      <th>1335</th>\n",
       "      <td>25.8</td>\n",
       "    </tr>\n",
       "    <tr>\n",
       "      <th>1336</th>\n",
       "      <td>29.1</td>\n",
       "    </tr>\n",
       "  </tbody>\n",
       "</table>\n",
       "<p>1337 rows × 1 columns</p>\n",
       "</div>"
      ],
      "text/plain": [
       "       bmi\n",
       "0     27.9\n",
       "1     33.8\n",
       "2     33.0\n",
       "3     22.7\n",
       "4     28.9\n",
       "...    ...\n",
       "1332  31.0\n",
       "1333  31.9\n",
       "1334  36.9\n",
       "1335  25.8\n",
       "1336  29.1\n",
       "\n",
       "[1337 rows x 1 columns]"
      ]
     },
     "execution_count": 17,
     "metadata": {},
     "output_type": "execute_result"
    }
   ],
   "source": [
    "x"
   ]
  },
  {
   "cell_type": "code",
   "execution_count": 18,
   "id": "9a97be22",
   "metadata": {
    "execution": {
     "iopub.execute_input": "2021-07-17T18:01:45.266125Z",
     "iopub.status.busy": "2021-07-17T18:01:45.265371Z",
     "iopub.status.idle": "2021-07-17T18:01:45.268001Z",
     "shell.execute_reply": "2021-07-17T18:01:45.268497Z",
     "shell.execute_reply.started": "2021-07-17T17:36:56.721601Z"
    },
    "papermill": {
     "duration": 0.039328,
     "end_time": "2021-07-17T18:01:45.268682",
     "exception": false,
     "start_time": "2021-07-17T18:01:45.229354",
     "status": "completed"
    },
    "tags": []
   },
   "outputs": [
    {
     "data": {
      "text/plain": [
       "0       16884.92\n",
       "1        1725.55\n",
       "2        4449.46\n",
       "3       21984.47\n",
       "4        3866.86\n",
       "          ...   \n",
       "1332    10600.55\n",
       "1333     2205.98\n",
       "1334     1629.83\n",
       "1335     2007.95\n",
       "1336    29141.36\n",
       "Name: expenses, Length: 1337, dtype: float64"
      ]
     },
     "execution_count": 18,
     "metadata": {},
     "output_type": "execute_result"
    }
   ],
   "source": [
    "y"
   ]
  },
  {
   "cell_type": "code",
   "execution_count": 19,
   "id": "9d06eb1a",
   "metadata": {
    "execution": {
     "iopub.execute_input": "2021-07-17T18:01:45.331082Z",
     "iopub.status.busy": "2021-07-17T18:01:45.330428Z",
     "iopub.status.idle": "2021-07-17T18:01:46.553203Z",
     "shell.execute_reply": "2021-07-17T18:01:46.552122Z",
     "shell.execute_reply.started": "2021-07-17T17:36:56.733120Z"
    },
    "papermill": {
     "duration": 1.255882,
     "end_time": "2021-07-17T18:01:46.553385",
     "exception": false,
     "start_time": "2021-07-17T18:01:45.297503",
     "status": "completed"
    },
    "tags": []
   },
   "outputs": [],
   "source": [
    "import matplotlib.pyplot as plt\n",
    "import seaborn as sns\n",
    "from sklearn.linear_model import LinearRegression\n",
    "from sklearn.metrics import mean_squared_error, mean_absolute_error, r2_score\n",
    "from sklearn.model_selection import train_test_split, KFold, cross_val_score\n",
    "\n"
   ]
  },
  {
   "cell_type": "code",
   "execution_count": 20,
   "id": "8f019914",
   "metadata": {
    "execution": {
     "iopub.execute_input": "2021-07-17T18:01:46.620275Z",
     "iopub.status.busy": "2021-07-17T18:01:46.619592Z",
     "iopub.status.idle": "2021-07-17T18:01:46.621558Z",
     "shell.execute_reply": "2021-07-17T18:01:46.622107Z",
     "shell.execute_reply.started": "2021-07-17T17:36:56.743782Z"
    },
    "papermill": {
     "duration": 0.039659,
     "end_time": "2021-07-17T18:01:46.622304",
     "exception": false,
     "start_time": "2021-07-17T18:01:46.582645",
     "status": "completed"
    },
    "tags": []
   },
   "outputs": [],
   "source": [
    "def Liner_Best_Fit(x,y):\n",
    "    model=LinearRegression()\n",
    "    model.fit(x,y)\n",
    "    y_pred=model.predict(x)\n",
    "    print(\"MSE=\",mean_squared_error(y,y_pred))\n",
    "    print(\"RMSE=\", np.sqrt(mean_squared_error(y,y_pred)))\n",
    "    print(\"MAE=\",mean_absolute_error(y,y_pred))\n",
    "    print(\"MAPE=\", mean_absolute_percentage_error(y,y_pred))\n",
    "    print(\"R2=\",r2_score(y,y_pred))\n",
    "def mean_absolute_percentage_error(y, y_pred): \n",
    "    y, y_pred = np.array(y), np.array(y_pred)\n",
    "    return np.mean(np.abs((y - y_pred) / y)) * 100"
   ]
  },
  {
   "cell_type": "code",
   "execution_count": 21,
   "id": "1bebb550",
   "metadata": {
    "execution": {
     "iopub.execute_input": "2021-07-17T18:01:46.683832Z",
     "iopub.status.busy": "2021-07-17T18:01:46.683163Z",
     "iopub.status.idle": "2021-07-17T18:01:46.888925Z",
     "shell.execute_reply": "2021-07-17T18:01:46.889811Z",
     "shell.execute_reply.started": "2021-07-17T17:36:56.755992Z"
    },
    "papermill": {
     "duration": 0.238565,
     "end_time": "2021-07-17T18:01:46.890071",
     "exception": false,
     "start_time": "2021-07-17T18:01:46.651506",
     "status": "completed"
    },
    "tags": []
   },
   "outputs": [
    {
     "name": "stdout",
     "output_type": "stream",
     "text": [
      "MSE= 140768692.14691105\n",
      "RMSE= 11864.598271619274\n",
      "MAE= 9173.443654719127\n",
      "MAPE= 150.5938403093773\n",
      "R2= 0.03945670999381046\n"
     ]
    }
   ],
   "source": [
    "Liner_Best_Fit(x,y)"
   ]
  },
  {
   "cell_type": "code",
   "execution_count": 22,
   "id": "fe2e6fa2",
   "metadata": {
    "execution": {
     "iopub.execute_input": "2021-07-17T18:01:46.953360Z",
     "iopub.status.busy": "2021-07-17T18:01:46.952352Z",
     "iopub.status.idle": "2021-07-17T18:01:47.009246Z",
     "shell.execute_reply": "2021-07-17T18:01:47.009996Z",
     "shell.execute_reply.started": "2021-07-17T17:50:34.245648Z"
    },
    "papermill": {
     "duration": 0.090294,
     "end_time": "2021-07-17T18:01:47.010263",
     "exception": false,
     "start_time": "2021-07-17T18:01:46.919969",
     "status": "completed"
    },
    "tags": []
   },
   "outputs": [
    {
     "name": "stdout",
     "output_type": "stream",
     "text": [
      "NRMSE= 11850.064179654757\n"
     ]
    }
   ],
   "source": [
    "model=LinearRegression()\n",
    "print(\"NRMSE=\", np.mean(np.abs(cross_val_score(model, x, y, scoring = 'neg_root_mean_squared_error', cv = 10))))\n"
   ]
  },
  {
   "cell_type": "code",
   "execution_count": 23,
   "id": "8e3103ac",
   "metadata": {
    "execution": {
     "iopub.execute_input": "2021-07-17T18:01:47.075143Z",
     "iopub.status.busy": "2021-07-17T18:01:47.074130Z",
     "iopub.status.idle": "2021-07-17T18:01:47.081202Z",
     "shell.execute_reply": "2021-07-17T18:01:47.081783Z",
     "shell.execute_reply.started": "2021-07-17T17:36:56.847303Z"
    },
    "papermill": {
     "duration": 0.040941,
     "end_time": "2021-07-17T18:01:47.081982",
     "exception": false,
     "start_time": "2021-07-17T18:01:47.041041",
     "status": "completed"
    },
    "tags": []
   },
   "outputs": [],
   "source": [
    "x_train,x_test,y_train,y_test= train_test_split(x, y, test_size=0.3, random_state=42)"
   ]
  },
  {
   "cell_type": "code",
   "execution_count": 24,
   "id": "1ea5a87a",
   "metadata": {
    "execution": {
     "iopub.execute_input": "2021-07-17T18:01:47.147067Z",
     "iopub.status.busy": "2021-07-17T18:01:47.146096Z",
     "iopub.status.idle": "2021-07-17T18:01:47.162155Z",
     "shell.execute_reply": "2021-07-17T18:01:47.162658Z",
     "shell.execute_reply.started": "2021-07-17T17:36:56.856771Z"
    },
    "papermill": {
     "duration": 0.049447,
     "end_time": "2021-07-17T18:01:47.162876",
     "exception": false,
     "start_time": "2021-07-17T18:01:47.113429",
     "status": "completed"
    },
    "tags": []
   },
   "outputs": [
    {
     "name": "stdout",
     "output_type": "stream",
     "text": [
      "YTestRMSE= 12709.031502147302\n",
      "YTrainRMSE= 11502.029465468866\n",
      "R2Test= 0.05609138681140502\n"
     ]
    }
   ],
   "source": [
    "model.fit(x_train,y_train)\n",
    "y_trainPre=model.predict(x_train)\n",
    "y_testPre=model.predict(x_test)\n",
    "\n",
    "print(\"YTestRMSE=\",np.sqrt(mean_squared_error(y_test,y_testPre)))\n",
    "print(\"YTrainRMSE=\",np.sqrt(mean_squared_error(y_train,y_trainPre)))\n",
    "print(\"R2Test=\",r2_score(y_test,y_testPre))\n"
   ]
  },
  {
   "cell_type": "code",
   "execution_count": 25,
   "id": "4cdae30f",
   "metadata": {
    "execution": {
     "iopub.execute_input": "2021-07-17T18:01:47.229016Z",
     "iopub.status.busy": "2021-07-17T18:01:47.228293Z",
     "iopub.status.idle": "2021-07-17T18:01:47.230967Z",
     "shell.execute_reply": "2021-07-17T18:01:47.231436Z",
     "shell.execute_reply.started": "2021-07-17T17:36:56.877568Z"
    },
    "papermill": {
     "duration": 0.038852,
     "end_time": "2021-07-17T18:01:47.231639",
     "exception": false,
     "start_time": "2021-07-17T18:01:47.192787",
     "status": "completed"
    },
    "tags": []
   },
   "outputs": [
    {
     "data": {
      "text/plain": [
       "(935, 1)"
      ]
     },
     "execution_count": 25,
     "metadata": {},
     "output_type": "execute_result"
    }
   ],
   "source": [
    "x_train.shape"
   ]
  },
  {
   "cell_type": "code",
   "execution_count": 26,
   "id": "73f47671",
   "metadata": {
    "execution": {
     "iopub.execute_input": "2021-07-17T18:01:47.295922Z",
     "iopub.status.busy": "2021-07-17T18:01:47.295232Z",
     "iopub.status.idle": "2021-07-17T18:01:47.309303Z",
     "shell.execute_reply": "2021-07-17T18:01:47.310104Z",
     "shell.execute_reply.started": "2021-07-17T17:36:56.888140Z"
    },
    "papermill": {
     "duration": 0.048394,
     "end_time": "2021-07-17T18:01:47.310368",
     "exception": false,
     "start_time": "2021-07-17T18:01:47.261974",
     "status": "completed"
    },
    "tags": []
   },
   "outputs": [
    {
     "name": "stdout",
     "output_type": "stream",
     "text": [
      "MSE= 158241730.27612\n",
      "RMSE= 12579.416929099696\n",
      "MAE= 9758.9011521142\n",
      "MAPE= 155.84272426518356\n",
      "R2= 0.07524633820923066\n"
     ]
    }
   ],
   "source": [
    "Liner_Best_Fit(x_test,y_test)"
   ]
  },
  {
   "cell_type": "code",
   "execution_count": 27,
   "id": "ea1ffc9e",
   "metadata": {
    "execution": {
     "iopub.execute_input": "2021-07-17T18:01:47.385805Z",
     "iopub.status.busy": "2021-07-17T18:01:47.384701Z",
     "iopub.status.idle": "2021-07-17T18:01:47.390991Z",
     "shell.execute_reply": "2021-07-17T18:01:47.390439Z",
     "shell.execute_reply.started": "2021-07-17T17:36:56.909902Z"
    },
    "papermill": {
     "duration": 0.049286,
     "end_time": "2021-07-17T18:01:47.391151",
     "exception": false,
     "start_time": "2021-07-17T18:01:47.341865",
     "status": "completed"
    },
    "tags": []
   },
   "outputs": [
    {
     "name": "stdout",
     "output_type": "stream",
     "text": [
      "MSE= 132296681.82451399\n",
      "RMSE= 11502.029465468866\n",
      "MAE= 8913.193614891496\n",
      "MAPE= 148.0774633931095\n",
      "R2= 0.025730878758443154\n"
     ]
    }
   ],
   "source": [
    "Liner_Best_Fit(x_train,y_train)"
   ]
  },
  {
   "cell_type": "code",
   "execution_count": null,
   "id": "73c16f4c",
   "metadata": {
    "papermill": {
     "duration": 0.030417,
     "end_time": "2021-07-17T18:01:47.452860",
     "exception": false,
     "start_time": "2021-07-17T18:01:47.422443",
     "status": "completed"
    },
    "tags": []
   },
   "outputs": [],
   "source": []
  }
 ],
 "metadata": {
  "kernelspec": {
   "display_name": "Python 3",
   "language": "python",
   "name": "python3"
  },
  "language_info": {
   "codemirror_mode": {
    "name": "ipython",
    "version": 3
   },
   "file_extension": ".py",
   "mimetype": "text/x-python",
   "name": "python",
   "nbconvert_exporter": "python",
   "pygments_lexer": "ipython3",
   "version": "3.7.10"
  },
  "papermill": {
   "default_parameters": {},
   "duration": 13.885236,
   "end_time": "2021-07-17T18:01:49.311331",
   "environment_variables": {},
   "exception": null,
   "input_path": "__notebook__.ipynb",
   "output_path": "__notebook__.ipynb",
   "parameters": {},
   "start_time": "2021-07-17T18:01:35.426095",
   "version": "2.3.3"
  }
 },
 "nbformat": 4,
 "nbformat_minor": 5
}
